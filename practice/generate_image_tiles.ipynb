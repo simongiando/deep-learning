{
  "nbformat": 4,
  "nbformat_minor": 0,
  "metadata": {
    "colab": {
      "provenance": [],
      "authorship_tag": "ABX9TyPXBlMFkBn1vifE2f5baQaa",
      "include_colab_link": true
    },
    "kernelspec": {
      "name": "python3",
      "display_name": "Python 3"
    },
    "language_info": {
      "name": "python"
    }
  },
  "cells": [
    {
      "cell_type": "markdown",
      "metadata": {
        "id": "view-in-github",
        "colab_type": "text"
      },
      "source": [
        "<a href=\"https://colab.research.google.com/github/simongiando/deep-learning/blob/main/practice/generate_image_tiles.ipynb\" target=\"_parent\"><img src=\"https://colab.research.google.com/assets/colab-badge.svg\" alt=\"Open In Colab\"/></a>"
      ]
    },
    {
      "cell_type": "code",
      "execution_count": 2,
      "metadata": {
        "colab": {
          "base_uri": "https://localhost:8080/"
        },
        "id": "vZFl-7X_za8W",
        "outputId": "e1cb9b2f-6db2-4073-bb32-6a5e38590254"
      },
      "outputs": [
        {
          "output_type": "stream",
          "name": "stdout",
          "text": [
            "Collecting geotile\n",
            "  Downloading geotile-1.0.11-py3-none-any.whl (11 kB)\n",
            "Requirement already satisfied: gdal in /usr/local/lib/python3.10/dist-packages (from geotile) (3.4.3)\n",
            "Requirement already satisfied: numpy in /usr/local/lib/python3.10/dist-packages (from geotile) (1.23.5)\n",
            "Requirement already satisfied: geopandas in /usr/local/lib/python3.10/dist-packages (from geotile) (0.13.2)\n",
            "Collecting rasterio (from geotile)\n",
            "  Downloading rasterio-1.3.9-cp310-cp310-manylinux2014_x86_64.whl (20.6 MB)\n",
            "\u001b[2K     \u001b[90m━━━━━━━━━━━━━━━━━━━━━━━━━━━━━━━━━━━━━━━━\u001b[0m \u001b[32m20.6/20.6 MB\u001b[0m \u001b[31m24.2 MB/s\u001b[0m eta \u001b[36m0:00:00\u001b[0m\n",
            "\u001b[?25hRequirement already satisfied: fiona>=1.8.19 in /usr/local/lib/python3.10/dist-packages (from geopandas->geotile) (1.9.5)\n",
            "Requirement already satisfied: packaging in /usr/local/lib/python3.10/dist-packages (from geopandas->geotile) (23.2)\n",
            "Requirement already satisfied: pandas>=1.1.0 in /usr/local/lib/python3.10/dist-packages (from geopandas->geotile) (1.5.3)\n",
            "Requirement already satisfied: pyproj>=3.0.1 in /usr/local/lib/python3.10/dist-packages (from geopandas->geotile) (3.6.1)\n",
            "Requirement already satisfied: shapely>=1.7.1 in /usr/local/lib/python3.10/dist-packages (from geopandas->geotile) (2.0.2)\n",
            "Collecting affine (from rasterio->geotile)\n",
            "  Downloading affine-2.4.0-py3-none-any.whl (15 kB)\n",
            "Requirement already satisfied: attrs in /usr/local/lib/python3.10/dist-packages (from rasterio->geotile) (23.1.0)\n",
            "Requirement already satisfied: certifi in /usr/local/lib/python3.10/dist-packages (from rasterio->geotile) (2023.11.17)\n",
            "Requirement already satisfied: click>=4.0 in /usr/local/lib/python3.10/dist-packages (from rasterio->geotile) (8.1.7)\n",
            "Requirement already satisfied: cligj>=0.5 in /usr/local/lib/python3.10/dist-packages (from rasterio->geotile) (0.7.2)\n",
            "Collecting snuggs>=1.4.1 (from rasterio->geotile)\n",
            "  Downloading snuggs-1.4.7-py3-none-any.whl (5.4 kB)\n",
            "Requirement already satisfied: click-plugins in /usr/local/lib/python3.10/dist-packages (from rasterio->geotile) (1.1.1)\n",
            "Requirement already satisfied: setuptools in /usr/local/lib/python3.10/dist-packages (from rasterio->geotile) (67.7.2)\n",
            "Requirement already satisfied: six in /usr/local/lib/python3.10/dist-packages (from fiona>=1.8.19->geopandas->geotile) (1.16.0)\n",
            "Requirement already satisfied: python-dateutil>=2.8.1 in /usr/local/lib/python3.10/dist-packages (from pandas>=1.1.0->geopandas->geotile) (2.8.2)\n",
            "Requirement already satisfied: pytz>=2020.1 in /usr/local/lib/python3.10/dist-packages (from pandas>=1.1.0->geopandas->geotile) (2023.3.post1)\n",
            "Requirement already satisfied: pyparsing>=2.1.6 in /usr/local/lib/python3.10/dist-packages (from snuggs>=1.4.1->rasterio->geotile) (3.1.1)\n",
            "Installing collected packages: snuggs, affine, rasterio, geotile\n",
            "Successfully installed affine-2.4.0 geotile-1.0.11 rasterio-1.3.9 snuggs-1.4.7\n"
          ]
        }
      ],
      "source": [
        "!pip install geotile"
      ]
    },
    {
      "cell_type": "code",
      "source": [
        "from geotile import GeoTile"
      ],
      "metadata": {
        "id": "VVtAm_I941zV"
      },
      "execution_count": 3,
      "outputs": []
    },
    {
      "cell_type": "code",
      "source": [
        "from google.colab import drive\n",
        "drive.mount('/content/drive')"
      ],
      "metadata": {
        "id": "4TAX-0kz5d85",
        "colab": {
          "base_uri": "https://localhost:8080/"
        },
        "outputId": "dae59a32-274c-4f86-b63f-b7770d14312e"
      },
      "execution_count": 4,
      "outputs": [
        {
          "output_type": "stream",
          "name": "stdout",
          "text": [
            "Mounted at /content/drive\n"
          ]
        }
      ]
    },
    {
      "cell_type": "code",
      "source": [
        "# Import dataset\n",
        "import os\n",
        "os.chdir (r\"/content/drive/MyDrive/Deep Learning/Dataset/eo-part1\")"
      ],
      "metadata": {
        "id": "p2l8t8CvAchd"
      },
      "execution_count": 5,
      "outputs": []
    },
    {
      "cell_type": "code",
      "source": [
        "# Open the file\n",
        "gt = GeoTile(r\"input/sent2pokhara.tif\")"
      ],
      "metadata": {
        "id": "Lh6Fl0iwAhvG"
      },
      "execution_count": 7,
      "outputs": []
    },
    {
      "cell_type": "code",
      "source": [
        "# Check the height\n",
        "gt.height"
      ],
      "metadata": {
        "colab": {
          "base_uri": "https://localhost:8080/"
        },
        "id": "6n1PH2QWAv2m",
        "outputId": "9b318359-452b-4352-d740-1375bb851d01"
      },
      "execution_count": 8,
      "outputs": [
        {
          "output_type": "execute_result",
          "data": {
            "text/plain": [
              "2147"
            ]
          },
          "metadata": {},
          "execution_count": 8
        }
      ]
    },
    {
      "cell_type": "code",
      "source": [
        "# Check the width\n",
        "gt.width"
      ],
      "metadata": {
        "colab": {
          "base_uri": "https://localhost:8080/"
        },
        "id": "J4z0hoGTA0pZ",
        "outputId": "2dcabe3f-c140-4c47-e922-43cf5fc70465"
      },
      "execution_count": 10,
      "outputs": [
        {
          "output_type": "execute_result",
          "data": {
            "text/plain": [
              "3246"
            ]
          },
          "metadata": {},
          "execution_count": 10
        }
      ]
    },
    {
      "cell_type": "code",
      "source": [
        "# Check Meta\n",
        "gt.meta"
      ],
      "metadata": {
        "colab": {
          "base_uri": "https://localhost:8080/"
        },
        "id": "_xeTo1HZA2h2",
        "outputId": "50317c17-fc39-4fea-cfce-8aaeae3377c4"
      },
      "execution_count": 11,
      "outputs": [
        {
          "output_type": "execute_result",
          "data": {
            "text/plain": [
              "{'driver': 'GTiff',\n",
              " 'dtype': 'float32',\n",
              " 'nodata': None,\n",
              " 'width': 3246,\n",
              " 'height': 2147,\n",
              " 'count': 4,\n",
              " 'crs': CRS.from_epsg(4326),\n",
              " 'transform': Affine(8.983152841195215e-05, 0.0, 83.87794386645002,\n",
              "        0.0, -8.983152841195215e-05, 28.293517851685273)}"
            ]
          },
          "metadata": {},
          "execution_count": 11
        }
      ]
    },
    {
      "cell_type": "code",
      "source": [
        "# Generate tiles\n",
        "gt.generate_tiles (r'./output')"
      ],
      "metadata": {
        "id": "uwf7hZ_zBvlq"
      },
      "execution_count": 12,
      "outputs": []
    },
    {
      "cell_type": "code",
      "source": [
        "from geotile import mosaic\n",
        "mosaic('./output','./output.merged_image')"
      ],
      "metadata": {
        "id": "d5nEVE7qB6dL"
      },
      "execution_count": null,
      "outputs": []
    },
    {
      "cell_type": "code",
      "source": [
        "# Create mask\n",
        "gt = GeoTile ('./input/mask_final.tif')"
      ],
      "metadata": {
        "id": "GNuQczTgDEwB"
      },
      "execution_count": 14,
      "outputs": []
    },
    {
      "cell_type": "code",
      "source": [
        "gt.generate_tiles ('./output/mask')"
      ],
      "metadata": {
        "id": "AYeCg5R8DVm3"
      },
      "execution_count": 15,
      "outputs": []
    },
    {
      "cell_type": "code",
      "source": [
        "# Generate the mask tiles using your shapefile\n",
        "gt.mask('./input/water_aoi_boundary.shp','./ouput/mask.tif')"
      ],
      "metadata": {
        "id": "nZ2n7cjODdrJ"
      },
      "execution_count": null,
      "outputs": []
    },
    {
      "cell_type": "code",
      "source": [],
      "metadata": {
        "id": "PBLeEk4kD8xL"
      },
      "execution_count": null,
      "outputs": []
    }
  ]
}