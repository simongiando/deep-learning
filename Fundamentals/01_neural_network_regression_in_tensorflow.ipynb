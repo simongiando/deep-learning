{
  "nbformat": 4,
  "nbformat_minor": 0,
  "metadata": {
    "colab": {
      "provenance": [],
      "authorship_tag": "ABX9TyNkNzQNCW4b7Fa6v8i+yxp/",
      "include_colab_link": true
    },
    "kernelspec": {
      "name": "python3",
      "display_name": "Python 3"
    },
    "language_info": {
      "name": "python"
    }
  },
  "cells": [
    {
      "cell_type": "markdown",
      "metadata": {
        "id": "view-in-github",
        "colab_type": "text"
      },
      "source": [
        "<a href=\"https://colab.research.google.com/github/simongiando/DeepLearning/blob/main/Fundamentals/01_neural_network_regression_in_tensorflow.ipynb\" target=\"_parent\"><img src=\"https://colab.research.google.com/assets/colab-badge.svg\" alt=\"Open In Colab\"/></a>"
      ]
    },
    {
      "cell_type": "markdown",
      "source": [
        "# 01. Neural Network Regression with TensorFlow\n",
        "\n",
        "There are many definitions for a [regression problem](https://en.wikipedia.org/wiki/Regression_analysis) but in our case, we're going to simplify it to be: predicting a number.\n",
        "\n",
        "For example, you might want to:\n",
        "- Predict the selling price of houses given information about them (such as number of rooms, size, number of bathrooms).\n",
        "- Predict the coordinates of a bounding box of an item in an image.\n",
        "- Predict the cost of medical insurance for an individual given their demographics (age, sex, gender, race).\n",
        "\n",
        "In this notebook, we're going to set the foundations for how you can take a sample of inputs (this is your data), build a neural network to discover patterns in those inputs and then make a prediction (in the form of a number) based on those inputs.\n",
        "\n",
        "## What we're going to cover\n",
        "\n",
        "Specifically, we're going to go through doing the following with TensorFlow:\n",
        "- Architecture of a regression model\n",
        "- Input shapes and output shapes\n",
        "  - `X`: features/data (inputs)\n",
        "  - `y`: labels (outputs)\n",
        "- Creating custom data to view and fit\n",
        "- Steps in modelling\n",
        "  - Creating a model\n",
        "  - Compiling a model\n",
        "    - Defining a loss function\n",
        "    - Setting up an optimizer\n",
        "    - Creating evaluation metrics\n",
        "  - Fitting a model (getting it to find patterns in our data)\n",
        "- Evaluating a model\n",
        "  - Visualizng the model (\"visualize, visualize, visualize\")\n",
        "  - Looking at training curves\n",
        "  - Compare predictions to ground truth (using our evaluation metrics)\n",
        "- Saving a model (so we can use it later)\n",
        "- Loading a model\n",
        "\n"
      ],
      "metadata": {
        "id": "3VDtxHuucNkF"
      }
    },
    {
      "cell_type": "markdown",
      "source": [
        "## Typical architecture of a regresison neural network\n",
        "\n",
        "The word *typical* is on purpose.\n",
        "\n",
        "Why?\n",
        "\n",
        "Because there are many different ways (actually, there's almost an infinite number of ways) to write neural networks.\n",
        "\n",
        "But the following is a generic setup for ingesting a collection of numbers, finding patterns in them and then outputing some kind of target number.\n",
        "\n",
        "Yes, the previous sentence is vague but we'll see this in action shortly.\n",
        "\n",
        "| **Hyperparameter** | **Typical value** |\n",
        "| --- | --- |\n",
        "| Input layer shape | Same shape as number of features (e.g. 3 for # bedrooms, # bathrooms, # car spaces in housing price prediction) |\n",
        "| Hidden layer(s) | Problem specific, minimum = 1, maximum = unlimited |\n",
        "| Neurons per hidden layer | Problem specific, generally 10 to 100 |\n",
        "| Output layer shape | Same shape as desired prediction shape (e.g. 1 for house price) |\n",
        "| Hidden activation | Usually [ReLU](https://www.kaggle.com/dansbecker/rectified-linear-units-relu-in-deep-learning) (rectified linear unit) |\n",
        "| Output activation | None, ReLU, logistic/tanh |\n",
        "| Loss function | [MSE](https://en.wikipedia.org/wiki/Mean_squared_error) (mean square error) or [MAE](https://en.wikipedia.org/wiki/Mean_absolute_error) (mean absolute error)/Huber (combination of MAE/MSE) if outliers |\n",
        "| Optimizer | [SGD](https://www.tensorflow.org/api_docs/python/tf/keras/optimizers/SGD) (stochastic gradient descent), [Adam](https://www.tensorflow.org/api_docs/python/tf/keras/optimizers/Adam) |\n",
        "\n",
        "***Table 1:*** *Typical architecture of a regression network.* ***Source:*** *Adapted from page 293 of [Hands-On Machine Learning with Scikit-Learn, Keras & TensorFlow Book by Aurélien Géron](https://www.oreilly.com/library/view/hands-on-machine-learning/9781492032632/)*\n",
        "\n",
        "Again, if you're new to neural networks and deep learning in general, much of the above table won't make sense. But don't worry, we'll be getting hands-on with all of it soon.\n",
        "\n",
        "> 🔑 **Note:** A **hyperparameter** in machine learning is something a data analyst or developer can set themselves, where as a **parameter** usually describes something a model learns on its own (a value not explicitly set by an analyst)."
      ],
      "metadata": {
        "id": "km7BvDOIdJT-"
      }
    },
    {
      "cell_type": "code",
      "execution_count": 1,
      "metadata": {
        "colab": {
          "base_uri": "https://localhost:8080/"
        },
        "id": "y172HoDCblXx",
        "outputId": "6c28b8ce-b19c-4a24-e801-7cd71d6be4d9"
      },
      "outputs": [
        {
          "output_type": "stream",
          "name": "stdout",
          "text": [
            "2.11.0\n"
          ]
        }
      ],
      "source": [
        "import tensorflow as tf\n",
        "print(tf.__version__) # check the version (should be 2.x+)"
      ]
    },
    {
      "cell_type": "markdown",
      "source": [
        "## Creating data to view and fit\n",
        "\n",
        "Since we're working on a **regression problem** (predicting a number) let's create some linear data (a straight line) to model."
      ],
      "metadata": {
        "id": "3DgPXOFatPA5"
      }
    },
    {
      "cell_type": "markdown",
      "source": [
        "## Creating some data to view and fit "
      ],
      "metadata": {
        "id": "oEnivIB1tUVi"
      }
    },
    {
      "cell_type": "code",
      "source": [
        "import numpy as np\n",
        "import matplotlib.pyplot as plt\n",
        "\n",
        "# Create Features\n",
        "X = np.array([2.0,3.2,7.4,2.3,8.9,9.4,10.4,11.2])\n",
        "\n",
        "# Create labels\n",
        "y = np.array([3.0, 6.0, 9.0, 12.0, 15.0, 18.0, 21.0, 24.0])\n",
        "\n",
        "# Visualize it\n",
        "plt.scatter(X,y)"
      ],
      "metadata": {
        "colab": {
          "base_uri": "https://localhost:8080/",
          "height": 452
        },
        "id": "LbREYMBvuh8j",
        "outputId": "96715dad-6cf2-4ef7-fd8c-f569931c0cdc"
      },
      "execution_count": 2,
      "outputs": [
        {
          "output_type": "execute_result",
          "data": {
            "text/plain": [
              "<matplotlib.collections.PathCollection at 0x7fe97bc826a0>"
            ]
          },
          "metadata": {},
          "execution_count": 2
        },
        {
          "output_type": "display_data",
          "data": {
            "text/plain": [
              "<Figure size 640x480 with 1 Axes>"
            ],
            "image/png": "[encoded data removed]"
          },
          "metadata": {}
        }
      ]
    },
    {
      "cell_type": "markdown",
      "source": [
        "Before we do any modelling, can you calculate the pattern between `X` and `y`?\n",
        "\n",
        "For example, say I asked you, based on this data what the `y` value would be if `X` was 17.0?\n",
        "\n",
        "Or how about if `X` was -10.0?\n",
        "\n",
        "This kind of pattern discovery is the essence of what we'll be building neural networks to do for us."
      ],
      "metadata": {
        "id": "iFHLM-TJvETp"
      }
    },
    {
      "cell_type": "markdown",
      "source": [
        "## Regression input shapes and output shapes\n",
        "\n",
        "One of the most important concepts when working with neural networks are the input and output shapes.\n",
        "\n",
        "The **input shape** is the shape of your data that goes into the model.\n",
        "\n",
        "The **output shape** is the shape of your data you want to come out of your model.\n",
        "\n",
        "These will differ depending on the problem you're working on.\n",
        "\n",
        "Neural networks accept numbers and output numbers. These numbers are typically represented as tensors (or arrays).\n",
        "\n",
        "Before, we created data using NumPy arrays, but we could do the same with tensors."
      ],
      "metadata": {
        "id": "hLzdc01DvFgA"
      }
    },
    {
      "cell_type": "markdown",
      "source": [
        "## Input and output shapes"
      ],
      "metadata": {
        "id": "RGx0SWQuvIk4"
      }
    },
    {
      "cell_type": "code",
      "source": [
        "# Create a demo tensor for our housing price prediction problem\n",
        "house_info = tf.constant(['bedroom',\"bedroom\",\"garage\"])\n",
        "house_price = tf.constant([939700])\n",
        "house_info,house_price"
      ],
      "metadata": {
        "colab": {
          "base_uri": "https://localhost:8080/"
        },
        "id": "XU-qZ4vbve3n",
        "outputId": "b173e4a0-dca7-4b0e-e66c-dde01c70c59d"
      },
      "execution_count": 3,
      "outputs": [
        {
          "output_type": "execute_result",
          "data": {
            "text/plain": [
              "(<tf.Tensor: shape=(3,), dtype=string, numpy=array([b'bedroom', b'bedroom', b'garage'], dtype=object)>,\n",
              " <tf.Tensor: shape=(1,), dtype=int32, numpy=array([939700], dtype=int32)>)"
            ]
          },
          "metadata": {},
          "execution_count": 3
        }
      ]
    },
    {
      "cell_type": "code",
      "source": [
        "X[0],y[0]"
      ],
      "metadata": {
        "colab": {
          "base_uri": "https://localhost:8080/"
        },
        "id": "vXSqN2IKwK4B",
        "outputId": "bee497bd-1385-472f-f24b-50a856fc3c1c"
      },
      "execution_count": 5,
      "outputs": [
        {
          "output_type": "execute_result",
          "data": {
            "text/plain": [
              "(2.0, 3.0)"
            ]
          },
          "metadata": {},
          "execution_count": 5
        }
      ]
    },
    {
      "cell_type": "code",
      "source": [
        "X[1],y[1]"
      ],
      "metadata": {
        "colab": {
          "base_uri": "https://localhost:8080/"
        },
        "id": "fip67c42wPml",
        "outputId": "e6308e29-0ff1-4a85-ab55-78ba35d26e7f"
      },
      "execution_count": 6,
      "outputs": [
        {
          "output_type": "execute_result",
          "data": {
            "text/plain": [
              "(3.2, 6.0)"
            ]
          },
          "metadata": {},
          "execution_count": 6
        }
      ]
    },
    {
      "cell_type": "code",
      "source": [
        "# Take a single example of X\n",
        "input_shape = X[0].shape\n",
        "\n",
        "# Take a single example of y\n",
        "output_shape = y[0].shape\n",
        "\n",
        "# these are both scalars (no shape)\n",
        "input_shape,output_shape"
      ],
      "metadata": {
        "colab": {
          "base_uri": "https://localhost:8080/"
        },
        "id": "qkbUmX9Kv-gv",
        "outputId": "1246b2c1-3cdf-4827-e38b-219eadaea153"
      },
      "execution_count": 9,
      "outputs": [
        {
          "output_type": "execute_result",
          "data": {
            "text/plain": [
              "((), ())"
            ]
          },
          "metadata": {},
          "execution_count": 9
        }
      ]
    },
    {
      "cell_type": "markdown",
      "source": [
        "From this it seems our inputs and outputs have no shape?\n",
        "\n",
        "How could that be?\n",
        "\n",
        "It's because no matter what kind of data we pass to our model, it's always going to take as input and return as ouput some kind of tensor.\n",
        "\n",
        "But in our case because of our dataset (only 2 small lists of numbers), we're looking at a special kind of tensor, more specifically a rank 0 tensor or a scalar."
      ],
      "metadata": {
        "id": "fgBwBnxtws8P"
      }
    },
    {
      "cell_type": "code",
      "source": [
        "# Let's take a look at the single examples invidually\n",
        "X[0], y[0]"
      ],
      "metadata": {
        "colab": {
          "base_uri": "https://localhost:8080/"
        },
        "id": "LadVsAjVwYRJ",
        "outputId": "3597b319-fe9a-4974-c3b2-a5d498614454"
      },
      "execution_count": 10,
      "outputs": [
        {
          "output_type": "execute_result",
          "data": {
            "text/plain": [
              "(2.0, 3.0)"
            ]
          },
          "metadata": {},
          "execution_count": 10
        }
      ]
    },
    {
      "cell_type": "code",
      "source": [
        "# Turn our Numpy arrays into tensors\n",
        "X = tf.constant(X)\n",
        "y = tf.constant(y)\n",
        "X,y"
      ],
      "metadata": {
        "colab": {
          "base_uri": "https://localhost:8080/"
        },
        "id": "GS3wGOUlxCrt",
        "outputId": "99a75a4d-80c7-4ff0-b28a-040572c9e3e9"
      },
      "execution_count": 11,
      "outputs": [
        {
          "output_type": "execute_result",
          "data": {
            "text/plain": [
              "(<tf.Tensor: shape=(8,), dtype=float64, numpy=array([ 2. ,  3.2,  7.4,  2.3,  8.9,  9.4, 10.4, 11.2])>,\n",
              " <tf.Tensor: shape=(8,), dtype=float64, numpy=array([ 3.,  6.,  9., 12., 15., 18., 21., 24.])>)"
            ]
          },
          "metadata": {},
          "execution_count": 11
        }
      ]
    },
    {
      "cell_type": "code",
      "source": [
        "input_shape = X[0].shape\n",
        "out_shape = y[0].shape\n",
        "input_shape,out_shape"
      ],
      "metadata": {
        "colab": {
          "base_uri": "https://localhost:8080/"
        },
        "id": "PM1iP9YCxP37",
        "outputId": "f6e6ff30-fc50-491e-f31e-2201cca28037"
      },
      "execution_count": 12,
      "outputs": [
        {
          "output_type": "execute_result",
          "data": {
            "text/plain": [
              "(TensorShape([]), TensorShape([]))"
            ]
          },
          "metadata": {},
          "execution_count": 12
        }
      ]
    },
    {
      "cell_type": "code",
      "source": [
        "plt.scatter(X,y)"
      ],
      "metadata": {
        "colab": {
          "base_uri": "https://localhost:8080/",
          "height": 452
        },
        "id": "7gGMUD0txXj_",
        "outputId": "428f63d5-b22b-4c1f-de2e-21a568b36f55"
      },
      "execution_count": 13,
      "outputs": [
        {
          "output_type": "execute_result",
          "data": {
            "text/plain": [
              "<matplotlib.collections.PathCollection at 0x7fe966370f70>"
            ]
          },
          "metadata": {},
          "execution_count": 13
        },
        {
          "output_type": "display_data",
          "data": {
            "text/plain": [
              "<Figure size 640x480 with 1 Axes>"
            ],
            "image/png": "[encoded data removed]"
          },
          "metadata": {}
        }
      ]
    },
    {
      "cell_type": "markdown",
      "source": [
        "In our case, we're trying to build a model to predict the pattern between `X[0]` equalling `-7.0` and `y[0]` equalling `3.0`.\n",
        "\n",
        "So now we get our answer, we're trying to use 1 `X` value to predict 1 `y` value.\n",
        "\n",
        "You might be thinking, \"this seems pretty complicated for just predicting a straight line...\".\n",
        "\n",
        "And you'd be right.\n",
        "\n",
        "But the concepts we're covering here, the concepts of input and output shapes to a model are fundamental. \n",
        "\n",
        "In fact, they're probably two of the things you'll spend the most time on when you work with neural networks: **making sure your input and outputs are in the correct shape**.\n",
        "\n",
        "If it doesn't make sense now, we'll see plenty more examples later on (soon you'll notice the input and output shapes can be almost anything you can imagine).\n",
        "\n",
        "![example of input and output shapes for a housing price prediction problem](https://raw.githubusercontent.com/mrdbourke/tensorflow-deep-learning/main/images/01-input-and-output-shapes-housing-prices.png)\n",
        "*If you were working on building a machine learning algorithm for predicting housing prices, your inputs may be number of bedrooms, number of bathrooms and number of garages, giving you an input shape of 3 (3 different features). And since you're trying to predict the price of the house, your output shape would be 1.*"
      ],
      "metadata": {
        "id": "ro1jhE7DwxHm"
      }
    },
    {
      "cell_type": "markdown",
      "source": [
        "## Steps in modelling with TensorFlow\n",
        "\n",
        "Now we know what data we have as well as the input and output shapes, let's see how we'd build a neural network to model it.\n",
        "\n",
        "In TensorFlow, there are typically 3 fundamental steps to creating and training a model.\n",
        "\n",
        "1. **Creating a model** - piece together the layers of a neural network yourself (using the [Functional](https://www.tensorflow.org/guide/keras/functional) or [Sequential API](https://www.tensorflow.org/api_docs/python/tf/keras/Sequential)) or import a previously built model (known as transfer learning).\n",
        "2. **Compiling a model** - defining how a models performance should be measured (loss/metrics) as well as defining how it should improve (optimizer). \n",
        "3. **Fitting a model** - letting the model try to find patterns in the data (how does `X` get to `y`). \n",
        "\n",
        "Let's see these in action using the [Keras Sequential API](https://www.tensorflow.org/api_docs/python/tf/keras/Sequential) to build a model for our regression data. And then we'll step through each.\n",
        "\n",
        "> **Note:** If you're using [TensorFlow 2.7.0](https://github.com/tensorflow/tensorflow/releases/tag/v2.7.0)+, the `fit()` function no longer upscales input data to go from `(batch_size, )` to `(batch_size, 1)`. To fix this, you'll need to expand the dimension of input data using `tf.expand_dims(input_data, axis=-1)`.\n",
        ">\n",
        "> In our case, this means instead of using `model.fit(X, y, epochs=5)`, use `model.fit(tf.expand_dims(X, axis=-1), y, epochs=5)`. "
      ],
      "metadata": {
        "id": "r86shjPdxgrX"
      }
    },
    {
      "cell_type": "code",
      "source": [
        "print(X.shape)"
      ],
      "metadata": {
        "colab": {
          "base_uri": "https://localhost:8080/"
        },
        "id": "mO2qxJia2NA1",
        "outputId": "66f9fe2b-a008-4498-bffa-27ec4410f971"
      },
      "execution_count": 17,
      "outputs": [
        {
          "output_type": "stream",
          "name": "stdout",
          "text": [
            "(8,)\n"
          ]
        }
      ]
    },
    {
      "cell_type": "code",
      "source": [
        "# Expanded dimension\n",
        "print(tf.expand_dims(X,axis=-1).shape)"
      ],
      "metadata": {
        "colab": {
          "base_uri": "https://localhost:8080/"
        },
        "id": "K_FxcEkO2P4U",
        "outputId": "b4f1aa0d-3c57-4e12-c57d-9119945a146b"
      },
      "execution_count": 18,
      "outputs": [
        {
          "output_type": "stream",
          "name": "stdout",
          "text": [
            "(8, 1)\n"
          ]
        }
      ]
    },
    {
      "cell_type": "code",
      "source": [
        "# Set random seed\n",
        "tf.random.set_seed(42)\n",
        "\n",
        "# Create a model using the Sequential API\n",
        "model = tf.keras.Sequential([\n",
        "  tf.keras.layers.Dense(1)\n",
        "])\n",
        "\n",
        "# Compile the model\n",
        "model.compile(loss=tf.keras.losses.mae, # mae is short for mean absolute error\n",
        "              optimizer=tf.keras.optimizers.SGD(), # SGD is short for stochastic gradient descent\n",
        "              metrics=[\"mae\"])\n",
        "\n",
        "# 3. Fit the model\n",
        "model.fit(tf.expand_dims(X, axis=-1), y, epochs=5) ## the X is expanded"
      ],
      "metadata": {
        "colab": {
          "base_uri": "https://localhost:8080/"
        },
        "id": "OByTd7gvwl2G",
        "outputId": "6d9672c1-fa70-48da-8418-896f24f00f9d"
      },
      "execution_count": 19,
      "outputs": [
        {
          "output_type": "stream",
          "name": "stdout",
          "text": [
            "Epoch 1/5\n",
            "1/1 [==============================] - 1s 575ms/step - loss: 16.2539 - mae: 16.2539\n",
            "Epoch 2/5\n",
            "1/1 [==============================] - 0s 14ms/step - loss: 15.7747 - mae: 15.7747\n",
            "Epoch 3/5\n",
            "1/1 [==============================] - 0s 19ms/step - loss: 15.2954 - mae: 15.2954\n",
            "Epoch 4/5\n",
            "1/1 [==============================] - 0s 13ms/step - loss: 14.8162 - mae: 14.8162\n",
            "Epoch 5/5\n",
            "1/1 [==============================] - 0s 13ms/step - loss: 14.3370 - mae: 14.3370\n"
          ]
        },
        {
          "output_type": "execute_result",
          "data": {
            "text/plain": [
              "<keras.callbacks.History at 0x7fe965edcaf0>"
            ]
          },
          "metadata": {},
          "execution_count": 19
        }
      ]
    },
    {
      "cell_type": "code",
      "source": [
        "# Check X and y\n",
        "X, y"
      ],
      "metadata": {
        "colab": {
          "base_uri": "https://localhost:8080/"
        },
        "id": "ChkyFqfs3ULo",
        "outputId": "cc964b9f-a8f0-43b5-8778-16614e3072bb"
      },
      "execution_count": 22,
      "outputs": [
        {
          "output_type": "execute_result",
          "data": {
            "text/plain": [
              "(<tf.Tensor: shape=(8,), dtype=float64, numpy=array([ 2. ,  3.2,  7.4,  2.3,  8.9,  9.4, 10.4, 11.2])>,\n",
              " <tf.Tensor: shape=(8,), dtype=float64, numpy=array([ 3.,  6.,  9., 12., 15., 18., 21., 24.])>)"
            ]
          },
          "metadata": {},
          "execution_count": 22
        }
      ]
    },
    {
      "cell_type": "code",
      "source": [
        "# Try and make a prediction using our model\n",
        "y_pred = model.predict([17.2])\n",
        "y_pred"
      ],
      "metadata": {
        "colab": {
          "base_uri": "https://localhost:8080/"
        },
        "id": "qSx-r_jI1gwA",
        "outputId": "95a2b622-ac66-4b88-ca10-8d57b3eecdec"
      },
      "execution_count": 21,
      "outputs": [
        {
          "output_type": "stream",
          "name": "stdout",
          "text": [
            "1/1 [==============================] - 0s 75ms/step\n"
          ]
        },
        {
          "output_type": "execute_result",
          "data": {
            "text/plain": [
              "array([[-0.9738806]], dtype=float32)"
            ]
          },
          "metadata": {},
          "execution_count": 21
        }
      ]
    },
    {
      "cell_type": "code",
      "source": [
        "y_pred +15"
      ],
      "metadata": {
        "colab": {
          "base_uri": "https://localhost:8080/"
        },
        "id": "rUQ3Uz8q265D",
        "outputId": "d57f4fcd-db2b-4db1-f242-d9d2bb247925"
      },
      "execution_count": 23,
      "outputs": [
        {
          "output_type": "execute_result",
          "data": {
            "text/plain": [
              "array([[14.026119]], dtype=float32)"
            ]
          },
          "metadata": {},
          "execution_count": 23
        }
      ]
    },
    {
      "cell_type": "markdown",
      "source": [
        "## Improving a model\n",
        "\n",
        "How do you think you'd improve upon our current model?\n",
        "\n",
        "If you guessed by tweaking some of the things we did above, you'd be correct.\n",
        "\n",
        "To improve our model, we alter almost every part of the 3 steps we went through before.\n",
        "\n",
        "1. **Creating a model** - here you might want to add more layers, increase the number of hidden units (also called neurons) within each layer, change the activation functions of each layer.\n",
        "2. **Compiling a model** - you might want to choose optimization function or perhaps change the **learning rate** of the optimization function.\n",
        "3. **Fitting a model** - perhaps you could fit a model for more **epochs** (leave it training for longer) or on more data (give the model more examples to learn from).\n",
        "\n",
        "![various options you can use to improve a neural network model](https://raw.githubusercontent.com/mrdbourke/tensorflow-deep-learning/main/images/02-improving-a-model-from-model-perspective.png)\n",
        "*There are many different ways to potentially improve a neural network. Some of the most common include: increasing the number of layers (making the network deeper), increasing the number of hidden units (making the network wider) and changing the learning rate. Because these values are all human-changeable, they're referred to as [hyperparameters](https://en.wikipedia.org/wiki/Hyperparameter_(machine_learning)) and the practice of trying to find the best hyperparameters is referred to as [hyperparameter tuning](https://en.wikipedia.org/wiki/Hyperparameter_optimization).*\n",
        "\n",
        "Woah. We just introduced a bunch of possible steps. The important thing to remember is how you alter each of these will depend on the problem you're working on.\n",
        "\n",
        "And the good thing is, over the next few problems, we'll get hands-on with all of them.\n",
        "\n",
        "For now, let's keep it simple, all we'll do is train our model for longer (everything else will stay the same)."
      ],
      "metadata": {
        "id": "bj9YYT-J39J3"
      }
    },
    {
      "cell_type": "code",
      "source": [
        "# Rebuild the model\n",
        "# 1. Create the model\n",
        "model = tf.keras.Sequential([\n",
        "  tf.keras.layers.Dense(1)\n",
        "])\n",
        "\n",
        "# 2. Compile the model\n",
        "model.compile(loss=tf.keras.losses.mae,\n",
        "              optimizer=tf.keras.optimizers.SGD(),\n",
        "              metrics=[\"mae\"])\n",
        "\n",
        "# 3. Fit the model \n",
        "model.fit(tf.expand_dims(X, axis=-1),y,epochs=100)"
      ],
      "metadata": {
        "colab": {
          "base_uri": "https://localhost:8080/"
        },
        "id": "A5piCA9H3YU1",
        "outputId": "0fe9afd8-ce9f-4ca5-df71-462fc1a212b4"
      },
      "execution_count": 28,
      "outputs": [
        {
          "output_type": "stream",
          "name": "stdout",
          "text": [
            "Epoch 1/100\n",
            "1/1 [==============================] - 2s 2s/step - loss: 3.8426 - mae: 3.8426\n",
            "Epoch 2/100\n",
            "1/1 [==============================] - 0s 29ms/step - loss: 3.6046 - mae: 3.6046\n",
            "Epoch 3/100\n",
            "1/1 [==============================] - 0s 20ms/step - loss: 3.3996 - mae: 3.3996\n",
            "Epoch 4/100\n",
            "1/1 [==============================] - 0s 13ms/step - loss: 3.1946 - mae: 3.1946\n",
            "Epoch 5/100\n",
            "1/1 [==============================] - 0s 14ms/step - loss: 2.9896 - mae: 2.9896\n",
            "Epoch 6/100\n",
            "1/1 [==============================] - 0s 18ms/step - loss: 2.8495 - mae: 2.8495\n",
            "Epoch 7/100\n",
            "1/1 [==============================] - 0s 13ms/step - loss: 2.7971 - mae: 2.7971\n",
            "Epoch 8/100\n",
            "1/1 [==============================] - 0s 45ms/step - loss: 2.7448 - mae: 2.7448\n",
            "Epoch 9/100\n",
            "1/1 [==============================] - 0s 23ms/step - loss: 2.6924 - mae: 2.6924\n",
            "Epoch 10/100\n",
            "1/1 [==============================] - 0s 31ms/step - loss: 2.6400 - mae: 2.6400\n",
            "Epoch 11/100\n",
            "1/1 [==============================] - 0s 31ms/step - loss: 2.5876 - mae: 2.5876\n",
            "Epoch 12/100\n",
            "1/1 [==============================] - 0s 26ms/step - loss: 2.5352 - mae: 2.5352\n",
            "Epoch 13/100\n",
            "1/1 [==============================] - 0s 20ms/step - loss: 2.4907 - mae: 2.4907\n",
            "Epoch 14/100\n",
            "1/1 [==============================] - 0s 25ms/step - loss: 2.4689 - mae: 2.4689\n",
            "Epoch 15/100\n",
            "1/1 [==============================] - 0s 19ms/step - loss: 2.4472 - mae: 2.4472\n",
            "Epoch 16/100\n",
            "1/1 [==============================] - 0s 32ms/step - loss: 2.4369 - mae: 2.4369\n",
            "Epoch 17/100\n",
            "1/1 [==============================] - 0s 29ms/step - loss: 2.4383 - mae: 2.4383\n",
            "Epoch 18/100\n",
            "1/1 [==============================] - 0s 38ms/step - loss: 2.4415 - mae: 2.4415\n",
            "Epoch 19/100\n",
            "1/1 [==============================] - 0s 39ms/step - loss: 2.4332 - mae: 2.4332\n",
            "Epoch 20/100\n",
            "1/1 [==============================] - 0s 34ms/step - loss: 2.4424 - mae: 2.4424\n",
            "Epoch 21/100\n",
            "1/1 [==============================] - 0s 28ms/step - loss: 2.4378 - mae: 2.4378\n",
            "Epoch 22/100\n",
            "1/1 [==============================] - 0s 29ms/step - loss: 2.4335 - mae: 2.4335\n",
            "Epoch 23/100\n",
            "1/1 [==============================] - 0s 20ms/step - loss: 2.4424 - mae: 2.4424\n",
            "Epoch 24/100\n",
            "1/1 [==============================] - 0s 28ms/step - loss: 2.4342 - mae: 2.4342\n",
            "Epoch 25/100\n",
            "1/1 [==============================] - 0s 31ms/step - loss: 2.4376 - mae: 2.4376\n",
            "Epoch 26/100\n",
            "1/1 [==============================] - 0s 24ms/step - loss: 2.4388 - mae: 2.4388\n",
            "Epoch 27/100\n",
            "1/1 [==============================] - 0s 38ms/step - loss: 2.4305 - mae: 2.4305\n",
            "Epoch 28/100\n",
            "1/1 [==============================] - 0s 35ms/step - loss: 2.4416 - mae: 2.4416\n",
            "Epoch 29/100\n",
            "1/1 [==============================] - 0s 31ms/step - loss: 2.4351 - mae: 2.4351\n",
            "Epoch 30/100\n",
            "1/1 [==============================] - 0s 24ms/step - loss: 2.4328 - mae: 2.4328\n",
            "Epoch 31/100\n",
            "1/1 [==============================] - 0s 31ms/step - loss: 2.4398 - mae: 2.4398\n",
            "Epoch 32/100\n",
            "1/1 [==============================] - 0s 30ms/step - loss: 2.4315 - mae: 2.4315\n",
            "Epoch 33/100\n",
            "1/1 [==============================] - 0s 18ms/step - loss: 2.4368 - mae: 2.4368\n",
            "Epoch 34/100\n",
            "1/1 [==============================] - 0s 39ms/step - loss: 2.4361 - mae: 2.4361\n",
            "Epoch 35/100\n",
            "1/1 [==============================] - 0s 17ms/step - loss: 2.4280 - mae: 2.4280\n",
            "Epoch 36/100\n",
            "1/1 [==============================] - 0s 17ms/step - loss: 2.4407 - mae: 2.4407\n",
            "Epoch 37/100\n",
            "1/1 [==============================] - 0s 24ms/step - loss: 2.4324 - mae: 2.4324\n",
            "Epoch 38/100\n",
            "1/1 [==============================] - 0s 23ms/step - loss: 2.4320 - mae: 2.4320\n",
            "Epoch 39/100\n",
            "1/1 [==============================] - 0s 18ms/step - loss: 2.4371 - mae: 2.4371\n",
            "Epoch 40/100\n",
            "1/1 [==============================] - 0s 20ms/step - loss: 2.4288 - mae: 2.4288\n",
            "Epoch 41/100\n",
            "1/1 [==============================] - 0s 19ms/step - loss: 2.4361 - mae: 2.4361\n",
            "Epoch 42/100\n",
            "1/1 [==============================] - 0s 16ms/step - loss: 2.4334 - mae: 2.4334\n",
            "Epoch 43/100\n",
            "1/1 [==============================] - 0s 16ms/step - loss: 2.4273 - mae: 2.4273\n",
            "Epoch 44/100\n",
            "1/1 [==============================] - 0s 15ms/step - loss: 2.4380 - mae: 2.4380\n",
            "Epoch 45/100\n",
            "1/1 [==============================] - 0s 21ms/step - loss: 2.4298 - mae: 2.4298\n",
            "Epoch 46/100\n",
            "1/1 [==============================] - 0s 28ms/step - loss: 2.4313 - mae: 2.4313\n",
            "Epoch 47/100\n",
            "1/1 [==============================] - 0s 20ms/step - loss: 2.4344 - mae: 2.4344\n",
            "Epoch 48/100\n",
            "1/1 [==============================] - 0s 19ms/step - loss: 2.4261 - mae: 2.4261\n",
            "Epoch 49/100\n",
            "1/1 [==============================] - 0s 22ms/step - loss: 2.4354 - mae: 2.4354\n",
            "Epoch 50/100\n",
            "1/1 [==============================] - 0s 20ms/step - loss: 2.4307 - mae: 2.4307\n",
            "Epoch 51/100\n",
            "1/1 [==============================] - 0s 21ms/step - loss: 2.4265 - mae: 2.4265\n",
            "Epoch 52/100\n",
            "1/1 [==============================] - 0s 23ms/step - loss: 2.4354 - mae: 2.4354\n",
            "Epoch 53/100\n",
            "1/1 [==============================] - 0s 14ms/step - loss: 2.4271 - mae: 2.4271\n",
            "Epoch 54/100\n",
            "1/1 [==============================] - 0s 22ms/step - loss: 2.4306 - mae: 2.4306\n",
            "Epoch 55/100\n",
            "1/1 [==============================] - 0s 18ms/step - loss: 2.4317 - mae: 2.4317\n",
            "Epoch 56/100\n",
            "1/1 [==============================] - 0s 30ms/step - loss: 2.4234 - mae: 2.4234\n",
            "Epoch 57/100\n",
            "1/1 [==============================] - 0s 24ms/step - loss: 2.4346 - mae: 2.4346\n",
            "Epoch 58/100\n",
            "1/1 [==============================] - 0s 13ms/step - loss: 2.4280 - mae: 2.4280\n",
            "Epoch 59/100\n",
            "1/1 [==============================] - 0s 12ms/step - loss: 2.4258 - mae: 2.4258\n",
            "Epoch 60/100\n",
            "1/1 [==============================] - 0s 11ms/step - loss: 2.4327 - mae: 2.4327\n",
            "Epoch 61/100\n",
            "1/1 [==============================] - 0s 17ms/step - loss: 2.4244 - mae: 2.4244\n",
            "Epoch 62/100\n",
            "1/1 [==============================] - 0s 15ms/step - loss: 2.4298 - mae: 2.4298\n",
            "Epoch 63/100\n",
            "1/1 [==============================] - 0s 13ms/step - loss: 2.4290 - mae: 2.4290\n",
            "Epoch 64/100\n",
            "1/1 [==============================] - 0s 15ms/step - loss: 2.4210 - mae: 2.4210\n",
            "Epoch 65/100\n",
            "1/1 [==============================] - 0s 14ms/step - loss: 2.4336 - mae: 2.4336\n",
            "Epoch 66/100\n",
            "1/1 [==============================] - 0s 14ms/step - loss: 2.4254 - mae: 2.4254\n",
            "Epoch 67/100\n",
            "1/1 [==============================] - 0s 13ms/step - loss: 2.4250 - mae: 2.4250\n",
            "Epoch 68/100\n",
            "1/1 [==============================] - 0s 14ms/step - loss: 2.4300 - mae: 2.4300\n",
            "Epoch 69/100\n",
            "1/1 [==============================] - 0s 13ms/step - loss: 2.4217 - mae: 2.4217\n",
            "Epoch 70/100\n",
            "1/1 [==============================] - 0s 9ms/step - loss: 2.4291 - mae: 2.4291\n",
            "Epoch 71/100\n",
            "1/1 [==============================] - 0s 12ms/step - loss: 2.4263 - mae: 2.4263\n",
            "Epoch 72/100\n",
            "1/1 [==============================] - 0s 15ms/step - loss: 2.4202 - mae: 2.4202\n",
            "Epoch 73/100\n",
            "1/1 [==============================] - 0s 15ms/step - loss: 2.4309 - mae: 2.4309\n",
            "Epoch 74/100\n",
            "1/1 [==============================] - 0s 16ms/step - loss: 2.4227 - mae: 2.4227\n",
            "Epoch 75/100\n",
            "1/1 [==============================] - 0s 12ms/step - loss: 2.4243 - mae: 2.4243\n",
            "Epoch 76/100\n",
            "1/1 [==============================] - 0s 11ms/step - loss: 2.4273 - mae: 2.4273\n",
            "Epoch 77/100\n",
            "1/1 [==============================] - 0s 11ms/step - loss: 2.4190 - mae: 2.4190\n",
            "Epoch 78/100\n",
            "1/1 [==============================] - 0s 11ms/step - loss: 2.4284 - mae: 2.4284\n",
            "Epoch 79/100\n",
            "1/1 [==============================] - 0s 12ms/step - loss: 2.4236 - mae: 2.4236\n",
            "Epoch 80/100\n",
            "1/1 [==============================] - 0s 11ms/step - loss: 2.4195 - mae: 2.4195\n",
            "Epoch 81/100\n",
            "1/1 [==============================] - 0s 11ms/step - loss: 2.4283 - mae: 2.4283\n",
            "Epoch 82/100\n",
            "1/1 [==============================] - 0s 10ms/step - loss: 2.4200 - mae: 2.4200\n",
            "Epoch 83/100\n",
            "1/1 [==============================] - 0s 10ms/step - loss: 2.4236 - mae: 2.4236\n",
            "Epoch 84/100\n",
            "1/1 [==============================] - 0s 13ms/step - loss: 2.4246 - mae: 2.4246\n",
            "Epoch 85/100\n",
            "1/1 [==============================] - 0s 13ms/step - loss: 2.4163 - mae: 2.4163\n",
            "Epoch 86/100\n",
            "1/1 [==============================] - 0s 12ms/step - loss: 2.4276 - mae: 2.4276\n",
            "Epoch 87/100\n",
            "1/1 [==============================] - 0s 11ms/step - loss: 2.4210 - mae: 2.4210\n",
            "Epoch 88/100\n",
            "1/1 [==============================] - 0s 12ms/step - loss: 2.4188 - mae: 2.4188\n",
            "Epoch 89/100\n",
            "1/1 [==============================] - 0s 11ms/step - loss: 2.4256 - mae: 2.4256\n",
            "Epoch 90/100\n",
            "1/1 [==============================] - 0s 11ms/step - loss: 2.4173 - mae: 2.4173\n",
            "Epoch 91/100\n",
            "1/1 [==============================] - 0s 11ms/step - loss: 2.4228 - mae: 2.4228\n",
            "Epoch 92/100\n",
            "1/1 [==============================] - 0s 11ms/step - loss: 2.4219 - mae: 2.4219\n",
            "Epoch 93/100\n",
            "1/1 [==============================] - 0s 12ms/step - loss: 2.4140 - mae: 2.4140\n",
            "Epoch 94/100\n",
            "1/1 [==============================] - 0s 11ms/step - loss: 2.4265 - mae: 2.4265\n",
            "Epoch 95/100\n",
            "1/1 [==============================] - 0s 11ms/step - loss: 2.4183 - mae: 2.4183\n",
            "Epoch 96/100\n",
            "1/1 [==============================] - 0s 13ms/step - loss: 2.4180 - mae: 2.4180\n",
            "Epoch 97/100\n",
            "1/1 [==============================] - 0s 11ms/step - loss: 2.4229 - mae: 2.4229\n",
            "Epoch 98/100\n",
            "1/1 [==============================] - 0s 17ms/step - loss: 2.4146 - mae: 2.4146\n",
            "Epoch 99/100\n",
            "1/1 [==============================] - 0s 12ms/step - loss: 2.4221 - mae: 2.4221\n",
            "Epoch 100/100\n",
            "1/1 [==============================] - 0s 13ms/step - loss: 2.4192 - mae: 2.4192\n"
          ]
        },
        {
          "output_type": "execute_result",
          "data": {
            "text/plain": [
              "<keras.callbacks.History at 0x7fe967b82b50>"
            ]
          },
          "metadata": {},
          "execution_count": 28
        }
      ]
    },
    {
      "cell_type": "markdown",
      "source": [
        "You might've noticed the loss value decrease from before (and keep decreasing as the number of epochs gets higher). \n",
        "\n",
        "What do you think this means for when we make a prediction with our model?\n",
        "\n",
        "How about we try predict on 17.0 again?"
      ],
      "metadata": {
        "id": "09YXS1M6bDLo"
      }
    },
    {
      "cell_type": "code",
      "source": [
        "# Remind ourselves of the data\n",
        "X,y"
      ],
      "metadata": {
        "colab": {
          "base_uri": "https://localhost:8080/"
        },
        "id": "6OIRB8WMaDlH",
        "outputId": "11382635-f421-47b5-ea94-0c58a1db3522"
      },
      "execution_count": 29,
      "outputs": [
        {
          "output_type": "execute_result",
          "data": {
            "text/plain": [
              "(<tf.Tensor: shape=(8,), dtype=float64, numpy=array([ 2. ,  3.2,  7.4,  2.3,  8.9,  9.4, 10.4, 11.2])>,\n",
              " <tf.Tensor: shape=(8,), dtype=float64, numpy=array([ 3.,  6.,  9., 12., 15., 18., 21., 24.])>)"
            ]
          },
          "metadata": {},
          "execution_count": 29
        }
      ]
    },
    {
      "cell_type": "code",
      "source": [
        "# Let's see if our model's prediction has imporved\n",
        "model.predict([15])"
      ],
      "metadata": {
        "colab": {
          "base_uri": "https://localhost:8080/"
        },
        "id": "7eiuFvjYbGqX",
        "outputId": "1a3bf10f-56f7-45ad-c36b-9f0705d95f17"
      },
      "execution_count": 30,
      "outputs": [
        {
          "output_type": "stream",
          "name": "stdout",
          "text": [
            "1/1 [==============================] - 0s 128ms/step\n"
          ]
        },
        {
          "output_type": "execute_result",
          "data": {
            "text/plain": [
              "array([[28.760931]], dtype=float32)"
            ]
          },
          "metadata": {},
          "execution_count": 30
        }
      ]
    },
    {
      "cell_type": "code",
      "source": [
        "# Test 1\n",
        "# 1. Create the model\n",
        "model = tf.keras.Sequential([\n",
        "    tf.keras.layers.Dense(100,activation=None),\n",
        "    tf.keras.layers.Dense(1)\n",
        "])\n",
        "\n",
        "# 2. Compile the model\n",
        "model.compile(loss=tf.keras.losses.mae,\n",
        "              optimizer=tf.keras.optimizers.Adam(learning_rate=0.0001),\n",
        "              metrics=[\"mae\"])\n",
        "\n",
        "# 3. Fit the model\n",
        "model.fit(tf.expand_dims(X,axis=-1),y,epochs=100)"
      ],
      "metadata": {
        "colab": {
          "base_uri": "https://localhost:8080/"
        },
        "id": "zrJBI5NhbUgX",
        "outputId": "df314e25-5b91-4c69-c99c-3220d6d5708c"
      },
      "execution_count": 34,
      "outputs": [
        {
          "output_type": "stream",
          "name": "stdout",
          "text": [
            "Epoch 1/100\n",
            "1/1 [==============================] - 1s 883ms/step - loss: 14.9690 - mae: 14.9690\n",
            "Epoch 2/100\n",
            "1/1 [==============================] - 0s 18ms/step - loss: 14.9506 - mae: 14.9506\n",
            "Epoch 3/100\n",
            "1/1 [==============================] - 0s 12ms/step - loss: 14.9322 - mae: 14.9322\n",
            "Epoch 4/100\n",
            "1/1 [==============================] - 0s 11ms/step - loss: 14.9138 - mae: 14.9138\n",
            "Epoch 5/100\n",
            "1/1 [==============================] - 0s 11ms/step - loss: 14.8954 - mae: 14.8954\n",
            "Epoch 6/100\n",
            "1/1 [==============================] - 0s 11ms/step - loss: 14.8770 - mae: 14.8770\n",
            "Epoch 7/100\n",
            "1/1 [==============================] - 0s 10ms/step - loss: 14.8586 - mae: 14.8586\n",
            "Epoch 8/100\n",
            "1/1 [==============================] - 0s 11ms/step - loss: 14.8402 - mae: 14.8402\n",
            "Epoch 9/100\n",
            "1/1 [==============================] - 0s 12ms/step - loss: 14.8218 - mae: 14.8218\n",
            "Epoch 10/100\n",
            "1/1 [==============================] - 0s 11ms/step - loss: 14.8034 - mae: 14.8034\n",
            "Epoch 11/100\n",
            "1/1 [==============================] - 0s 15ms/step - loss: 14.7850 - mae: 14.7850\n",
            "Epoch 12/100\n",
            "1/1 [==============================] - 0s 12ms/step - loss: 14.7666 - mae: 14.7666\n",
            "Epoch 13/100\n",
            "1/1 [==============================] - 0s 10ms/step - loss: 14.7482 - mae: 14.7482\n",
            "Epoch 14/100\n",
            "1/1 [==============================] - 0s 11ms/step - loss: 14.7298 - mae: 14.7298\n",
            "Epoch 15/100\n",
            "1/1 [==============================] - 0s 9ms/step - loss: 14.7115 - mae: 14.7115\n",
            "Epoch 16/100\n",
            "1/1 [==============================] - 0s 9ms/step - loss: 14.6931 - mae: 14.6931\n",
            "Epoch 17/100\n",
            "1/1 [==============================] - 0s 9ms/step - loss: 14.6747 - mae: 14.6747\n",
            "Epoch 18/100\n",
            "1/1 [==============================] - 0s 10ms/step - loss: 14.6563 - mae: 14.6563\n",
            "Epoch 19/100\n",
            "1/1 [==============================] - 0s 9ms/step - loss: 14.6380 - mae: 14.6380\n",
            "Epoch 20/100\n",
            "1/1 [==============================] - 0s 10ms/step - loss: 14.6196 - mae: 14.6196\n",
            "Epoch 21/100\n",
            "1/1 [==============================] - 0s 10ms/step - loss: 14.6012 - mae: 14.6012\n",
            "Epoch 22/100\n",
            "1/1 [==============================] - 0s 10ms/step - loss: 14.5829 - mae: 14.5829\n",
            "Epoch 23/100\n",
            "1/1 [==============================] - 0s 10ms/step - loss: 14.5645 - mae: 14.5645\n",
            "Epoch 24/100\n",
            "1/1 [==============================] - 0s 13ms/step - loss: 14.5461 - mae: 14.5461\n",
            "Epoch 25/100\n",
            "1/1 [==============================] - 0s 10ms/step - loss: 14.5278 - mae: 14.5278\n",
            "Epoch 26/100\n",
            "1/1 [==============================] - 0s 10ms/step - loss: 14.5094 - mae: 14.5094\n",
            "Epoch 27/100\n",
            "1/1 [==============================] - 0s 10ms/step - loss: 14.4910 - mae: 14.4910\n",
            "Epoch 28/100\n",
            "1/1 [==============================] - 0s 10ms/step - loss: 14.4727 - mae: 14.4727\n",
            "Epoch 29/100\n",
            "1/1 [==============================] - 0s 10ms/step - loss: 14.4543 - mae: 14.4543\n",
            "Epoch 30/100\n",
            "1/1 [==============================] - 0s 9ms/step - loss: 14.4360 - mae: 14.4360\n",
            "Epoch 31/100\n",
            "1/1 [==============================] - 0s 10ms/step - loss: 14.4176 - mae: 14.4176\n",
            "Epoch 32/100\n",
            "1/1 [==============================] - 0s 10ms/step - loss: 14.3993 - mae: 14.3993\n",
            "Epoch 33/100\n",
            "1/1 [==============================] - 0s 10ms/step - loss: 14.3809 - mae: 14.3809\n",
            "Epoch 34/100\n",
            "1/1 [==============================] - 0s 10ms/step - loss: 14.3626 - mae: 14.3626\n",
            "Epoch 35/100\n",
            "1/1 [==============================] - 0s 9ms/step - loss: 14.3442 - mae: 14.3442\n",
            "Epoch 36/100\n",
            "1/1 [==============================] - 0s 10ms/step - loss: 14.3259 - mae: 14.3259\n",
            "Epoch 37/100\n",
            "1/1 [==============================] - 0s 10ms/step - loss: 14.3075 - mae: 14.3075\n",
            "Epoch 38/100\n",
            "1/1 [==============================] - 0s 10ms/step - loss: 14.2892 - mae: 14.2892\n",
            "Epoch 39/100\n",
            "1/1 [==============================] - 0s 10ms/step - loss: 14.2709 - mae: 14.2709\n",
            "Epoch 40/100\n",
            "1/1 [==============================] - 0s 9ms/step - loss: 14.2525 - mae: 14.2525\n",
            "Epoch 41/100\n",
            "1/1 [==============================] - 0s 10ms/step - loss: 14.2342 - mae: 14.2342\n",
            "Epoch 42/100\n",
            "1/1 [==============================] - 0s 9ms/step - loss: 14.2158 - mae: 14.2158\n",
            "Epoch 43/100\n",
            "1/1 [==============================] - 0s 10ms/step - loss: 14.1975 - mae: 14.1975\n",
            "Epoch 44/100\n",
            "1/1 [==============================] - 0s 9ms/step - loss: 14.1792 - mae: 14.1792\n",
            "Epoch 45/100\n",
            "1/1 [==============================] - 0s 9ms/step - loss: 14.1608 - mae: 14.1608\n",
            "Epoch 46/100\n",
            "1/1 [==============================] - 0s 14ms/step - loss: 14.1425 - mae: 14.1425\n",
            "Epoch 47/100\n",
            "1/1 [==============================] - 0s 10ms/step - loss: 14.1241 - mae: 14.1241\n",
            "Epoch 48/100\n",
            "1/1 [==============================] - 0s 10ms/step - loss: 14.1058 - mae: 14.1058\n",
            "Epoch 49/100\n",
            "1/1 [==============================] - 0s 11ms/step - loss: 14.0875 - mae: 14.0875\n",
            "Epoch 50/100\n",
            "1/1 [==============================] - 0s 9ms/step - loss: 14.0691 - mae: 14.0691\n",
            "Epoch 51/100\n",
            "1/1 [==============================] - 0s 10ms/step - loss: 14.0508 - mae: 14.0508\n",
            "Epoch 52/100\n",
            "1/1 [==============================] - 0s 9ms/step - loss: 14.0324 - mae: 14.0324\n",
            "Epoch 53/100\n",
            "1/1 [==============================] - 0s 9ms/step - loss: 14.0141 - mae: 14.0141\n",
            "Epoch 54/100\n",
            "1/1 [==============================] - 0s 9ms/step - loss: 13.9958 - mae: 13.9958\n",
            "Epoch 55/100\n",
            "1/1 [==============================] - 0s 9ms/step - loss: 13.9774 - mae: 13.9774\n",
            "Epoch 56/100\n",
            "1/1 [==============================] - 0s 9ms/step - loss: 13.9591 - mae: 13.9591\n",
            "Epoch 57/100\n",
            "1/1 [==============================] - 0s 9ms/step - loss: 13.9408 - mae: 13.9408\n",
            "Epoch 58/100\n",
            "1/1 [==============================] - 0s 9ms/step - loss: 13.9224 - mae: 13.9224\n",
            "Epoch 59/100\n",
            "1/1 [==============================] - 0s 10ms/step - loss: 13.9041 - mae: 13.9041\n",
            "Epoch 60/100\n",
            "1/1 [==============================] - 0s 10ms/step - loss: 13.8857 - mae: 13.8857\n",
            "Epoch 61/100\n",
            "1/1 [==============================] - 0s 11ms/step - loss: 13.8674 - mae: 13.8674\n",
            "Epoch 62/100\n",
            "1/1 [==============================] - 0s 10ms/step - loss: 13.8491 - mae: 13.8491\n",
            "Epoch 63/100\n",
            "1/1 [==============================] - 0s 11ms/step - loss: 13.8307 - mae: 13.8307\n",
            "Epoch 64/100\n",
            "1/1 [==============================] - 0s 11ms/step - loss: 13.8124 - mae: 13.8124\n",
            "Epoch 65/100\n",
            "1/1 [==============================] - 0s 11ms/step - loss: 13.7940 - mae: 13.7940\n",
            "Epoch 66/100\n",
            "1/1 [==============================] - 0s 10ms/step - loss: 13.7757 - mae: 13.7757\n",
            "Epoch 67/100\n",
            "1/1 [==============================] - 0s 10ms/step - loss: 13.7574 - mae: 13.7574\n",
            "Epoch 68/100\n",
            "1/1 [==============================] - 0s 11ms/step - loss: 13.7390 - mae: 13.7390\n",
            "Epoch 69/100\n",
            "1/1 [==============================] - 0s 13ms/step - loss: 13.7207 - mae: 13.7207\n",
            "Epoch 70/100\n",
            "1/1 [==============================] - 0s 12ms/step - loss: 13.7023 - mae: 13.7023\n",
            "Epoch 71/100\n",
            "1/1 [==============================] - 0s 11ms/step - loss: 13.6840 - mae: 13.6840\n",
            "Epoch 72/100\n",
            "1/1 [==============================] - 0s 10ms/step - loss: 13.6656 - mae: 13.6656\n",
            "Epoch 73/100\n",
            "1/1 [==============================] - 0s 11ms/step - loss: 13.6473 - mae: 13.6473\n",
            "Epoch 74/100\n",
            "1/1 [==============================] - 0s 12ms/step - loss: 13.6289 - mae: 13.6289\n",
            "Epoch 75/100\n",
            "1/1 [==============================] - 0s 10ms/step - loss: 13.6106 - mae: 13.6106\n",
            "Epoch 76/100\n",
            "1/1 [==============================] - 0s 10ms/step - loss: 13.5922 - mae: 13.5922\n",
            "Epoch 77/100\n",
            "1/1 [==============================] - 0s 9ms/step - loss: 13.5738 - mae: 13.5738\n",
            "Epoch 78/100\n",
            "1/1 [==============================] - 0s 9ms/step - loss: 13.5555 - mae: 13.5555\n",
            "Epoch 79/100\n",
            "1/1 [==============================] - 0s 11ms/step - loss: 13.5371 - mae: 13.5371\n",
            "Epoch 80/100\n",
            "1/1 [==============================] - 0s 14ms/step - loss: 13.5188 - mae: 13.5188\n",
            "Epoch 81/100\n",
            "1/1 [==============================] - 0s 13ms/step - loss: 13.5004 - mae: 13.5004\n",
            "Epoch 82/100\n",
            "1/1 [==============================] - 0s 11ms/step - loss: 13.4820 - mae: 13.4820\n",
            "Epoch 83/100\n",
            "1/1 [==============================] - 0s 10ms/step - loss: 13.4637 - mae: 13.4637\n",
            "Epoch 84/100\n",
            "1/1 [==============================] - 0s 12ms/step - loss: 13.4453 - mae: 13.4453\n",
            "Epoch 85/100\n",
            "1/1 [==============================] - 0s 10ms/step - loss: 13.4269 - mae: 13.4269\n",
            "Epoch 86/100\n",
            "1/1 [==============================] - 0s 16ms/step - loss: 13.4086 - mae: 13.4086\n",
            "Epoch 87/100\n",
            "1/1 [==============================] - 0s 12ms/step - loss: 13.3902 - mae: 13.3902\n",
            "Epoch 88/100\n",
            "1/1 [==============================] - 0s 15ms/step - loss: 13.3718 - mae: 13.3718\n",
            "Epoch 89/100\n",
            "1/1 [==============================] - 0s 11ms/step - loss: 13.3534 - mae: 13.3534\n",
            "Epoch 90/100\n",
            "1/1 [==============================] - 0s 11ms/step - loss: 13.3350 - mae: 13.3350\n",
            "Epoch 91/100\n",
            "1/1 [==============================] - 0s 10ms/step - loss: 13.3167 - mae: 13.3167\n",
            "Epoch 92/100\n",
            "1/1 [==============================] - 0s 17ms/step - loss: 13.2983 - mae: 13.2983\n",
            "Epoch 93/100\n",
            "1/1 [==============================] - 0s 15ms/step - loss: 13.2799 - mae: 13.2799\n",
            "Epoch 94/100\n",
            "1/1 [==============================] - 0s 11ms/step - loss: 13.2615 - mae: 13.2615\n",
            "Epoch 95/100\n",
            "1/1 [==============================] - 0s 12ms/step - loss: 13.2431 - mae: 13.2431\n",
            "Epoch 96/100\n",
            "1/1 [==============================] - 0s 12ms/step - loss: 13.2247 - mae: 13.2247\n",
            "Epoch 97/100\n",
            "1/1 [==============================] - 0s 12ms/step - loss: 13.2063 - mae: 13.2063\n",
            "Epoch 98/100\n",
            "1/1 [==============================] - 0s 12ms/step - loss: 13.1879 - mae: 13.1879\n",
            "Epoch 99/100\n",
            "1/1 [==============================] - 0s 13ms/step - loss: 13.1695 - mae: 13.1695\n",
            "Epoch 100/100\n",
            "1/1 [==============================] - 0s 11ms/step - loss: 13.1511 - mae: 13.1511\n"
          ]
        },
        {
          "output_type": "execute_result",
          "data": {
            "text/plain": [
              "<keras.callbacks.History at 0x7fe967ea9220>"
            ]
          },
          "metadata": {},
          "execution_count": 34
        }
      ]
    },
    {
      "cell_type": "code",
      "source": [
        "# Test 2\n",
        "# 1. Create the model\n",
        "model = tf.keras.Sequential([\n",
        "    tf.keras.layers.Dense(50,activation=\"relu\"),\n",
        "    tf.keras.layers.Dense(1)\n",
        "])\n",
        "\n",
        "# 2. Compilse the model\n",
        "model.compile(loss=tf.keras.losses.mae,\n",
        "             optimizer = tf.keras.optimizers.Adam(learning_rate= 0.0001),\n",
        "             metrics=[\"mae\"])\n",
        "\n",
        "# 3. Fit the model\n",
        "model.fit(tf.expand_dims(X,axis=-1),y,epochs=100)"
      ],
      "metadata": {
        "colab": {
          "base_uri": "https://localhost:8080/"
        },
        "id": "66rF5G8TiI2j",
        "outputId": "285bff17-7372-4d39-8b37-7e8e14c0201b"
      },
      "execution_count": 37,
      "outputs": [
        {
          "output_type": "stream",
          "name": "stdout",
          "text": [
            "Epoch 1/100\n",
            "1/1 [==============================] - 1s 975ms/step - loss: 12.9455 - mae: 12.9455\n",
            "Epoch 2/100\n",
            "1/1 [==============================] - 0s 11ms/step - loss: 12.9402 - mae: 12.9402\n",
            "Epoch 3/100\n",
            "1/1 [==============================] - 0s 10ms/step - loss: 12.9350 - mae: 12.9350\n",
            "Epoch 4/100\n",
            "1/1 [==============================] - 0s 12ms/step - loss: 12.9297 - mae: 12.9297\n",
            "Epoch 5/100\n",
            "1/1 [==============================] - 0s 11ms/step - loss: 12.9244 - mae: 12.9244\n",
            "Epoch 6/100\n",
            "1/1 [==============================] - 0s 17ms/step - loss: 12.9192 - mae: 12.9192\n",
            "Epoch 7/100\n",
            "1/1 [==============================] - 0s 12ms/step - loss: 12.9139 - mae: 12.9139\n",
            "Epoch 8/100\n",
            "1/1 [==============================] - 0s 11ms/step - loss: 12.9087 - mae: 12.9087\n",
            "Epoch 9/100\n",
            "1/1 [==============================] - 0s 13ms/step - loss: 12.9034 - mae: 12.9034\n",
            "Epoch 10/100\n",
            "1/1 [==============================] - 0s 10ms/step - loss: 12.8981 - mae: 12.8981\n",
            "Epoch 11/100\n",
            "1/1 [==============================] - 0s 11ms/step - loss: 12.8929 - mae: 12.8929\n",
            "Epoch 12/100\n",
            "1/1 [==============================] - 0s 11ms/step - loss: 12.8876 - mae: 12.8876\n",
            "Epoch 13/100\n",
            "1/1 [==============================] - 0s 12ms/step - loss: 12.8823 - mae: 12.8823\n",
            "Epoch 14/100\n",
            "1/1 [==============================] - 0s 12ms/step - loss: 12.8771 - mae: 12.8771\n",
            "Epoch 15/100\n",
            "1/1 [==============================] - 0s 12ms/step - loss: 12.8718 - mae: 12.8718\n",
            "Epoch 16/100\n",
            "1/1 [==============================] - 0s 16ms/step - loss: 12.8665 - mae: 12.8665\n",
            "Epoch 17/100\n",
            "1/1 [==============================] - 0s 14ms/step - loss: 12.8613 - mae: 12.8613\n",
            "Epoch 18/100\n",
            "1/1 [==============================] - 0s 15ms/step - loss: 12.8560 - mae: 12.8560\n",
            "Epoch 19/100\n",
            "1/1 [==============================] - 0s 11ms/step - loss: 12.8507 - mae: 12.8507\n",
            "Epoch 20/100\n",
            "1/1 [==============================] - 0s 13ms/step - loss: 12.8455 - mae: 12.8455\n",
            "Epoch 21/100\n",
            "1/1 [==============================] - 0s 13ms/step - loss: 12.8402 - mae: 12.8402\n",
            "Epoch 22/100\n",
            "1/1 [==============================] - 0s 12ms/step - loss: 12.8349 - mae: 12.8349\n",
            "Epoch 23/100\n",
            "1/1 [==============================] - 0s 11ms/step - loss: 12.8297 - mae: 12.8297\n",
            "Epoch 24/100\n",
            "1/1 [==============================] - 0s 12ms/step - loss: 12.8244 - mae: 12.8244\n",
            "Epoch 25/100\n",
            "1/1 [==============================] - 0s 11ms/step - loss: 12.8191 - mae: 12.8191\n",
            "Epoch 26/100\n",
            "1/1 [==============================] - 0s 13ms/step - loss: 12.8139 - mae: 12.8139\n",
            "Epoch 27/100\n",
            "1/1 [==============================] - 0s 12ms/step - loss: 12.8086 - mae: 12.8086\n",
            "Epoch 28/100\n",
            "1/1 [==============================] - 0s 13ms/step - loss: 12.8033 - mae: 12.8033\n",
            "Epoch 29/100\n",
            "1/1 [==============================] - 0s 14ms/step - loss: 12.7981 - mae: 12.7981\n",
            "Epoch 30/100\n",
            "1/1 [==============================] - 0s 11ms/step - loss: 12.7928 - mae: 12.7928\n",
            "Epoch 31/100\n",
            "1/1 [==============================] - 0s 12ms/step - loss: 12.7875 - mae: 12.7875\n",
            "Epoch 32/100\n",
            "1/1 [==============================] - 0s 12ms/step - loss: 12.7823 - mae: 12.7823\n",
            "Epoch 33/100\n",
            "1/1 [==============================] - 0s 19ms/step - loss: 12.7770 - mae: 12.7770\n",
            "Epoch 34/100\n",
            "1/1 [==============================] - 0s 11ms/step - loss: 12.7717 - mae: 12.7717\n",
            "Epoch 35/100\n",
            "1/1 [==============================] - 0s 17ms/step - loss: 12.7665 - mae: 12.7665\n",
            "Epoch 36/100\n",
            "1/1 [==============================] - 0s 12ms/step - loss: 12.7612 - mae: 12.7612\n",
            "Epoch 37/100\n",
            "1/1 [==============================] - 0s 11ms/step - loss: 12.7559 - mae: 12.7559\n",
            "Epoch 38/100\n",
            "1/1 [==============================] - 0s 14ms/step - loss: 12.7507 - mae: 12.7507\n",
            "Epoch 39/100\n",
            "1/1 [==============================] - 0s 14ms/step - loss: 12.7454 - mae: 12.7454\n",
            "Epoch 40/100\n",
            "1/1 [==============================] - 0s 13ms/step - loss: 12.7401 - mae: 12.7401\n",
            "Epoch 41/100\n",
            "1/1 [==============================] - 0s 13ms/step - loss: 12.7349 - mae: 12.7349\n",
            "Epoch 42/100\n",
            "1/1 [==============================] - 0s 11ms/step - loss: 12.7296 - mae: 12.7296\n",
            "Epoch 43/100\n",
            "1/1 [==============================] - 0s 13ms/step - loss: 12.7243 - mae: 12.7243\n",
            "Epoch 44/100\n",
            "1/1 [==============================] - 0s 12ms/step - loss: 12.7191 - mae: 12.7191\n",
            "Epoch 45/100\n",
            "1/1 [==============================] - 0s 14ms/step - loss: 12.7138 - mae: 12.7138\n",
            "Epoch 46/100\n",
            "1/1 [==============================] - 0s 14ms/step - loss: 12.7085 - mae: 12.7085\n",
            "Epoch 47/100\n",
            "1/1 [==============================] - 0s 14ms/step - loss: 12.7033 - mae: 12.7033\n",
            "Epoch 48/100\n",
            "1/1 [==============================] - 0s 12ms/step - loss: 12.6980 - mae: 12.6980\n",
            "Epoch 49/100\n",
            "1/1 [==============================] - 0s 12ms/step - loss: 12.6927 - mae: 12.6927\n",
            "Epoch 50/100\n",
            "1/1 [==============================] - 0s 14ms/step - loss: 12.6875 - mae: 12.6875\n",
            "Epoch 51/100\n",
            "1/1 [==============================] - 0s 12ms/step - loss: 12.6822 - mae: 12.6822\n",
            "Epoch 52/100\n",
            "1/1 [==============================] - 0s 12ms/step - loss: 12.6769 - mae: 12.6769\n",
            "Epoch 53/100\n",
            "1/1 [==============================] - 0s 12ms/step - loss: 12.6716 - mae: 12.6716\n",
            "Epoch 54/100\n",
            "1/1 [==============================] - 0s 12ms/step - loss: 12.6664 - mae: 12.6664\n",
            "Epoch 55/100\n",
            "1/1 [==============================] - 0s 12ms/step - loss: 12.6611 - mae: 12.6611\n",
            "Epoch 56/100\n",
            "1/1 [==============================] - 0s 12ms/step - loss: 12.6558 - mae: 12.6558\n",
            "Epoch 57/100\n",
            "1/1 [==============================] - 0s 13ms/step - loss: 12.6506 - mae: 12.6506\n",
            "Epoch 58/100\n",
            "1/1 [==============================] - 0s 13ms/step - loss: 12.6453 - mae: 12.6453\n",
            "Epoch 59/100\n",
            "1/1 [==============================] - 0s 13ms/step - loss: 12.6400 - mae: 12.6400\n",
            "Epoch 60/100\n",
            "1/1 [==============================] - 0s 12ms/step - loss: 12.6348 - mae: 12.6348\n",
            "Epoch 61/100\n",
            "1/1 [==============================] - 0s 12ms/step - loss: 12.6295 - mae: 12.6295\n",
            "Epoch 62/100\n",
            "1/1 [==============================] - 0s 12ms/step - loss: 12.6242 - mae: 12.6242\n",
            "Epoch 63/100\n",
            "1/1 [==============================] - 0s 9ms/step - loss: 12.6189 - mae: 12.6189\n",
            "Epoch 64/100\n",
            "1/1 [==============================] - 0s 11ms/step - loss: 12.6137 - mae: 12.6137\n",
            "Epoch 65/100\n",
            "1/1 [==============================] - 0s 11ms/step - loss: 12.6084 - mae: 12.6084\n",
            "Epoch 66/100\n",
            "1/1 [==============================] - 0s 11ms/step - loss: 12.6031 - mae: 12.6031\n",
            "Epoch 67/100\n",
            "1/1 [==============================] - 0s 9ms/step - loss: 12.5978 - mae: 12.5978\n",
            "Epoch 68/100\n",
            "1/1 [==============================] - 0s 11ms/step - loss: 12.5926 - mae: 12.5926\n",
            "Epoch 69/100\n",
            "1/1 [==============================] - 0s 11ms/step - loss: 12.5873 - mae: 12.5873\n",
            "Epoch 70/100\n",
            "1/1 [==============================] - 0s 10ms/step - loss: 12.5820 - mae: 12.5820\n",
            "Epoch 71/100\n",
            "1/1 [==============================] - 0s 10ms/step - loss: 12.5768 - mae: 12.5768\n",
            "Epoch 72/100\n",
            "1/1 [==============================] - 0s 12ms/step - loss: 12.5715 - mae: 12.5715\n",
            "Epoch 73/100\n",
            "1/1 [==============================] - 0s 10ms/step - loss: 12.5662 - mae: 12.5662\n",
            "Epoch 74/100\n",
            "1/1 [==============================] - 0s 10ms/step - loss: 12.5609 - mae: 12.5609\n",
            "Epoch 75/100\n",
            "1/1 [==============================] - 0s 17ms/step - loss: 12.5557 - mae: 12.5557\n",
            "Epoch 76/100\n",
            "1/1 [==============================] - 0s 10ms/step - loss: 12.5504 - mae: 12.5504\n",
            "Epoch 77/100\n",
            "1/1 [==============================] - 0s 11ms/step - loss: 12.5451 - mae: 12.5451\n",
            "Epoch 78/100\n",
            "1/1 [==============================] - 0s 12ms/step - loss: 12.5398 - mae: 12.5398\n",
            "Epoch 79/100\n",
            "1/1 [==============================] - 0s 13ms/step - loss: 12.5345 - mae: 12.5345\n",
            "Epoch 80/100\n",
            "1/1 [==============================] - 0s 11ms/step - loss: 12.5293 - mae: 12.5293\n",
            "Epoch 81/100\n",
            "1/1 [==============================] - 0s 11ms/step - loss: 12.5240 - mae: 12.5240\n",
            "Epoch 82/100\n",
            "1/1 [==============================] - 0s 11ms/step - loss: 12.5187 - mae: 12.5187\n",
            "Epoch 83/100\n",
            "1/1 [==============================] - 0s 11ms/step - loss: 12.5134 - mae: 12.5134\n",
            "Epoch 84/100\n",
            "1/1 [==============================] - 0s 10ms/step - loss: 12.5082 - mae: 12.5082\n",
            "Epoch 85/100\n",
            "1/1 [==============================] - 0s 11ms/step - loss: 12.5029 - mae: 12.5029\n",
            "Epoch 86/100\n",
            "1/1 [==============================] - 0s 11ms/step - loss: 12.4976 - mae: 12.4976\n",
            "Epoch 87/100\n",
            "1/1 [==============================] - 0s 14ms/step - loss: 12.4923 - mae: 12.4923\n",
            "Epoch 88/100\n",
            "1/1 [==============================] - 0s 12ms/step - loss: 12.4870 - mae: 12.4870\n",
            "Epoch 89/100\n",
            "1/1 [==============================] - 0s 12ms/step - loss: 12.4818 - mae: 12.4818\n",
            "Epoch 90/100\n",
            "1/1 [==============================] - 0s 14ms/step - loss: 12.4765 - mae: 12.4765\n",
            "Epoch 91/100\n",
            "1/1 [==============================] - 0s 10ms/step - loss: 12.4712 - mae: 12.4712\n",
            "Epoch 92/100\n",
            "1/1 [==============================] - 0s 10ms/step - loss: 12.4659 - mae: 12.4659\n",
            "Epoch 93/100\n",
            "1/1 [==============================] - 0s 9ms/step - loss: 12.4606 - mae: 12.4606\n",
            "Epoch 94/100\n",
            "1/1 [==============================] - 0s 9ms/step - loss: 12.4553 - mae: 12.4553\n",
            "Epoch 95/100\n",
            "1/1 [==============================] - 0s 10ms/step - loss: 12.4501 - mae: 12.4501\n",
            "Epoch 96/100\n",
            "1/1 [==============================] - 0s 9ms/step - loss: 12.4448 - mae: 12.4448\n",
            "Epoch 97/100\n",
            "1/1 [==============================] - 0s 9ms/step - loss: 12.4395 - mae: 12.4395\n",
            "Epoch 98/100\n",
            "1/1 [==============================] - 0s 9ms/step - loss: 12.4342 - mae: 12.4342\n",
            "Epoch 99/100\n",
            "1/1 [==============================] - 0s 9ms/step - loss: 12.4289 - mae: 12.4289\n",
            "Epoch 100/100\n",
            "1/1 [==============================] - 0s 9ms/step - loss: 12.4236 - mae: 12.4236\n"
          ]
        },
        {
          "output_type": "execute_result",
          "data": {
            "text/plain": [
              "<keras.callbacks.History at 0x7fe96619e640>"
            ]
          },
          "metadata": {},
          "execution_count": 37
        }
      ]
    },
    {
      "cell_type": "code",
      "source": [
        "# Test 3\n",
        "# 1. Create the model\n",
        "model = tf.keras.Sequential([\n",
        "    tf.keras.layers.Dense(50,activation=None),\n",
        "    tf.keras.layers.Dense(1)\n",
        "])\n",
        "\n",
        "# 2. Compilse the model\n",
        "model.compile(loss=tf.keras.losses.mae,\n",
        "             optimizer = tf.keras.optimizers.Adam(learning_rate= 0.01),\n",
        "             metrics=[\"mae\"])\n",
        "\n",
        "# 3. Fit the model\n",
        "model.fit(tf.expand_dims(X,axis=-1),y,epochs=100)"
      ],
      "metadata": {
        "colab": {
          "base_uri": "https://localhost:8080/"
        },
        "id": "uUgiPbUejIFM",
        "outputId": "1ac695ba-8143-442c-8ca6-598ca9ae7993"
      },
      "execution_count": 40,
      "outputs": [
        {
          "output_type": "stream",
          "name": "stdout",
          "text": [
            "Epoch 1/100\n",
            "1/1 [==============================] - 1s 552ms/step - loss: 15.8666 - mae: 15.8666\n",
            "Epoch 2/100\n",
            "1/1 [==============================] - 0s 11ms/step - loss: 14.5858 - mae: 14.5858\n",
            "Epoch 3/100\n",
            "1/1 [==============================] - 0s 17ms/step - loss: 13.3137 - mae: 13.3137\n",
            "Epoch 4/100\n",
            "1/1 [==============================] - 0s 11ms/step - loss: 12.0483 - mae: 12.0483\n",
            "Epoch 5/100\n",
            "1/1 [==============================] - 0s 16ms/step - loss: 10.7873 - mae: 10.7873\n",
            "Epoch 6/100\n",
            "1/1 [==============================] - 0s 11ms/step - loss: 9.5285 - mae: 9.5285\n",
            "Epoch 7/100\n",
            "1/1 [==============================] - 0s 10ms/step - loss: 8.2688 - mae: 8.2688\n",
            "Epoch 8/100\n",
            "1/1 [==============================] - 0s 10ms/step - loss: 7.0037 - mae: 7.0037\n",
            "Epoch 9/100\n",
            "1/1 [==============================] - 0s 10ms/step - loss: 5.7276 - mae: 5.7276\n",
            "Epoch 10/100\n",
            "1/1 [==============================] - 0s 12ms/step - loss: 4.6820 - mae: 4.6820\n",
            "Epoch 11/100\n",
            "1/1 [==============================] - 0s 11ms/step - loss: 3.8539 - mae: 3.8539\n",
            "Epoch 12/100\n",
            "1/1 [==============================] - 0s 13ms/step - loss: 3.0272 - mae: 3.0272\n",
            "Epoch 13/100\n",
            "1/1 [==============================] - 0s 15ms/step - loss: 2.7226 - mae: 2.7226\n",
            "Epoch 14/100\n",
            "1/1 [==============================] - 0s 14ms/step - loss: 2.7138 - mae: 2.7138\n",
            "Epoch 15/100\n",
            "1/1 [==============================] - 0s 13ms/step - loss: 3.2262 - mae: 3.2262\n",
            "Epoch 16/100\n",
            "1/1 [==============================] - 0s 14ms/step - loss: 3.8312 - mae: 3.8312\n",
            "Epoch 17/100\n",
            "1/1 [==============================] - 0s 16ms/step - loss: 4.1298 - mae: 4.1298\n",
            "Epoch 18/100\n",
            "1/1 [==============================] - 0s 11ms/step - loss: 4.1785 - mae: 4.1785\n",
            "Epoch 19/100\n",
            "1/1 [==============================] - 0s 10ms/step - loss: 4.0245 - mae: 4.0245\n",
            "Epoch 20/100\n",
            "1/1 [==============================] - 0s 10ms/step - loss: 3.7075 - mae: 3.7075\n",
            "Epoch 21/100\n",
            "1/1 [==============================] - 0s 10ms/step - loss: 3.2605 - mae: 3.2605\n",
            "Epoch 22/100\n",
            "1/1 [==============================] - 0s 14ms/step - loss: 2.9196 - mae: 2.9196\n",
            "Epoch 23/100\n",
            "1/1 [==============================] - 0s 12ms/step - loss: 2.6798 - mae: 2.6798\n",
            "Epoch 24/100\n",
            "1/1 [==============================] - 0s 11ms/step - loss: 2.5980 - mae: 2.5980\n",
            "Epoch 25/100\n",
            "1/1 [==============================] - 0s 11ms/step - loss: 2.6931 - mae: 2.6931\n",
            "Epoch 26/100\n",
            "1/1 [==============================] - 0s 11ms/step - loss: 2.7709 - mae: 2.7709\n",
            "Epoch 27/100\n",
            "1/1 [==============================] - 0s 10ms/step - loss: 2.8334 - mae: 2.8334\n",
            "Epoch 28/100\n",
            "1/1 [==============================] - 0s 12ms/step - loss: 2.8824 - mae: 2.8824\n",
            "Epoch 29/100\n",
            "1/1 [==============================] - 0s 12ms/step - loss: 2.9600 - mae: 2.9600\n",
            "Epoch 30/100\n",
            "1/1 [==============================] - 0s 11ms/step - loss: 3.0031 - mae: 3.0031\n",
            "Epoch 31/100\n",
            "1/1 [==============================] - 0s 14ms/step - loss: 2.9692 - mae: 2.9692\n",
            "Epoch 32/100\n",
            "1/1 [==============================] - 0s 10ms/step - loss: 2.8933 - mae: 2.8933\n",
            "Epoch 33/100\n",
            "1/1 [==============================] - 0s 11ms/step - loss: 2.8430 - mae: 2.8430\n",
            "Epoch 34/100\n",
            "1/1 [==============================] - 0s 13ms/step - loss: 2.7980 - mae: 2.7980\n",
            "Epoch 35/100\n",
            "1/1 [==============================] - 0s 12ms/step - loss: 2.7496 - mae: 2.7496\n",
            "Epoch 36/100\n",
            "1/1 [==============================] - 0s 11ms/step - loss: 2.6978 - mae: 2.6978\n",
            "Epoch 37/100\n",
            "1/1 [==============================] - 0s 11ms/step - loss: 2.6427 - mae: 2.6427\n",
            "Epoch 38/100\n",
            "1/1 [==============================] - 0s 11ms/step - loss: 2.5846 - mae: 2.5846\n",
            "Epoch 39/100\n",
            "1/1 [==============================] - 0s 13ms/step - loss: 2.5887 - mae: 2.5887\n",
            "Epoch 40/100\n",
            "1/1 [==============================] - 0s 12ms/step - loss: 2.6194 - mae: 2.6194\n",
            "Epoch 41/100\n",
            "1/1 [==============================] - 0s 11ms/step - loss: 2.6429 - mae: 2.6429\n",
            "Epoch 42/100\n",
            "1/1 [==============================] - 0s 10ms/step - loss: 2.6598 - mae: 2.6598\n",
            "Epoch 43/100\n",
            "1/1 [==============================] - 0s 11ms/step - loss: 2.7037 - mae: 2.7037\n",
            "Epoch 44/100\n",
            "1/1 [==============================] - 0s 11ms/step - loss: 2.6927 - mae: 2.6927\n",
            "Epoch 45/100\n",
            "1/1 [==============================] - 0s 11ms/step - loss: 2.6444 - mae: 2.6444\n",
            "Epoch 46/100\n",
            "1/1 [==============================] - 0s 11ms/step - loss: 2.6212 - mae: 2.6212\n",
            "Epoch 47/100\n",
            "1/1 [==============================] - 0s 11ms/step - loss: 2.5958 - mae: 2.5958\n",
            "Epoch 48/100\n",
            "1/1 [==============================] - 0s 11ms/step - loss: 2.5682 - mae: 2.5682\n",
            "Epoch 49/100\n",
            "1/1 [==============================] - 0s 11ms/step - loss: 2.5388 - mae: 2.5388\n",
            "Epoch 50/100\n",
            "1/1 [==============================] - 0s 11ms/step - loss: 2.5454 - mae: 2.5454\n",
            "Epoch 51/100\n",
            "1/1 [==============================] - 0s 11ms/step - loss: 2.5681 - mae: 2.5681\n",
            "Epoch 52/100\n",
            "1/1 [==============================] - 0s 14ms/step - loss: 2.5799 - mae: 2.5799\n",
            "Epoch 53/100\n",
            "1/1 [==============================] - 0s 11ms/step - loss: 2.5815 - mae: 2.5815\n",
            "Epoch 54/100\n",
            "1/1 [==============================] - 0s 10ms/step - loss: 2.5741 - mae: 2.5741\n",
            "Epoch 55/100\n",
            "1/1 [==============================] - 0s 10ms/step - loss: 2.5583 - mae: 2.5583\n",
            "Epoch 56/100\n",
            "1/1 [==============================] - 0s 10ms/step - loss: 2.5347 - mae: 2.5347\n",
            "Epoch 57/100\n",
            "1/1 [==============================] - 0s 11ms/step - loss: 2.5039 - mae: 2.5039\n",
            "Epoch 58/100\n",
            "1/1 [==============================] - 0s 10ms/step - loss: 2.5039 - mae: 2.5039\n",
            "Epoch 59/100\n",
            "1/1 [==============================] - 0s 10ms/step - loss: 2.5155 - mae: 2.5155\n",
            "Epoch 60/100\n",
            "1/1 [==============================] - 0s 10ms/step - loss: 2.5212 - mae: 2.5212\n",
            "Epoch 61/100\n",
            "1/1 [==============================] - 0s 10ms/step - loss: 2.5214 - mae: 2.5214\n",
            "Epoch 62/100\n",
            "1/1 [==============================] - 0s 10ms/step - loss: 2.5166 - mae: 2.5166\n",
            "Epoch 63/100\n",
            "1/1 [==============================] - 0s 10ms/step - loss: 2.5073 - mae: 2.5073\n",
            "Epoch 64/100\n",
            "1/1 [==============================] - 0s 11ms/step - loss: 2.4937 - mae: 2.4937\n",
            "Epoch 65/100\n",
            "1/1 [==============================] - 0s 11ms/step - loss: 2.4765 - mae: 2.4765\n",
            "Epoch 66/100\n",
            "1/1 [==============================] - 0s 12ms/step - loss: 2.4558 - mae: 2.4558\n",
            "Epoch 67/100\n",
            "1/1 [==============================] - 0s 12ms/step - loss: 2.4622 - mae: 2.4622\n",
            "Epoch 68/100\n",
            "1/1 [==============================] - 0s 11ms/step - loss: 2.4719 - mae: 2.4719\n",
            "Epoch 69/100\n",
            "1/1 [==============================] - 0s 12ms/step - loss: 2.4703 - mae: 2.4703\n",
            "Epoch 70/100\n",
            "1/1 [==============================] - 0s 12ms/step - loss: 2.4584 - mae: 2.4584\n",
            "Epoch 71/100\n",
            "1/1 [==============================] - 0s 14ms/step - loss: 2.4369 - mae: 2.4369\n",
            "Epoch 72/100\n",
            "1/1 [==============================] - 0s 12ms/step - loss: 2.4245 - mae: 2.4245\n",
            "Epoch 73/100\n",
            "1/1 [==============================] - 0s 13ms/step - loss: 2.4294 - mae: 2.4294\n",
            "Epoch 74/100\n",
            "1/1 [==============================] - 0s 13ms/step - loss: 2.4285 - mae: 2.4285\n",
            "Epoch 75/100\n",
            "1/1 [==============================] - 0s 12ms/step - loss: 2.4223 - mae: 2.4223\n",
            "Epoch 76/100\n",
            "1/1 [==============================] - 0s 12ms/step - loss: 2.4112 - mae: 2.4112\n",
            "Epoch 77/100\n",
            "1/1 [==============================] - 0s 12ms/step - loss: 2.3960 - mae: 2.3960\n",
            "Epoch 78/100\n",
            "1/1 [==============================] - 0s 13ms/step - loss: 2.4006 - mae: 2.4006\n",
            "Epoch 79/100\n",
            "1/1 [==============================] - 0s 14ms/step - loss: 2.3961 - mae: 2.3961\n",
            "Epoch 80/100\n",
            "1/1 [==============================] - 0s 12ms/step - loss: 2.3965 - mae: 2.3965\n",
            "Epoch 81/100\n",
            "1/1 [==============================] - 0s 13ms/step - loss: 2.3969 - mae: 2.3969\n",
            "Epoch 82/100\n",
            "1/1 [==============================] - 0s 12ms/step - loss: 2.3972 - mae: 2.3972\n",
            "Epoch 83/100\n",
            "1/1 [==============================] - 0s 12ms/step - loss: 2.3975 - mae: 2.3975\n",
            "Epoch 84/100\n",
            "1/1 [==============================] - 0s 12ms/step - loss: 2.3976 - mae: 2.3976\n",
            "Epoch 85/100\n",
            "1/1 [==============================] - 0s 12ms/step - loss: 2.3978 - mae: 2.3978\n",
            "Epoch 86/100\n",
            "1/1 [==============================] - 0s 11ms/step - loss: 2.3979 - mae: 2.3979\n",
            "Epoch 87/100\n",
            "1/1 [==============================] - 0s 15ms/step - loss: 2.3979 - mae: 2.3979\n",
            "Epoch 88/100\n",
            "1/1 [==============================] - 0s 11ms/step - loss: 2.3980 - mae: 2.3980\n",
            "Epoch 89/100\n",
            "1/1 [==============================] - 0s 11ms/step - loss: 2.3979 - mae: 2.3979\n",
            "Epoch 90/100\n",
            "1/1 [==============================] - 0s 14ms/step - loss: 2.3979 - mae: 2.3979\n",
            "Epoch 91/100\n",
            "1/1 [==============================] - 0s 12ms/step - loss: 2.3978 - mae: 2.3978\n",
            "Epoch 92/100\n",
            "1/1 [==============================] - 0s 11ms/step - loss: 2.3977 - mae: 2.3977\n",
            "Epoch 93/100\n",
            "1/1 [==============================] - 0s 12ms/step - loss: 2.3990 - mae: 2.3990\n",
            "Epoch 94/100\n",
            "1/1 [==============================] - 0s 12ms/step - loss: 2.3985 - mae: 2.3985\n",
            "Epoch 95/100\n",
            "1/1 [==============================] - 0s 10ms/step - loss: 2.3992 - mae: 2.3992\n",
            "Epoch 96/100\n",
            "1/1 [==============================] - 0s 10ms/step - loss: 2.3999 - mae: 2.3999\n",
            "Epoch 97/100\n",
            "1/1 [==============================] - 0s 12ms/step - loss: 2.4004 - mae: 2.4004\n",
            "Epoch 98/100\n",
            "1/1 [==============================] - 0s 11ms/step - loss: 2.4009 - mae: 2.4009\n",
            "Epoch 99/100\n",
            "1/1 [==============================] - 0s 11ms/step - loss: 2.4013 - mae: 2.4013\n",
            "Epoch 100/100\n",
            "1/1 [==============================] - 0s 11ms/step - loss: 2.4016 - mae: 2.4016\n"
          ]
        },
        {
          "output_type": "execute_result",
          "data": {
            "text/plain": [
              "<keras.callbacks.History at 0x7fe967efc730>"
            ]
          },
          "metadata": {},
          "execution_count": 40
        }
      ]
    },
    {
      "cell_type": "markdown",
      "source": [
        "## Evaluating a model \n",
        "\n",
        "A typical workflow you'll go through when building neural networks is:\n",
        "\n",
        "```\n",
        "Build a model -> evaluate it -> build (tweak) a model -> evaulate it -> build (tweak) a model -> evaluate it...\n",
        "```\n",
        "\n",
        "The tweaking comes from maybe not building a model from scratch but adjusting an existing one.\n",
        "\n",
        "### Visualize, visualize, visualize\n",
        "\n",
        "When it comes to evaluation, you'll want to remember the words: \"visualize, visualize, visualize.\" \n",
        "\n",
        "This is because you're probably better looking at something (doing) than you are thinking about something.\n",
        "\n",
        "It's a good idea to visualize:\n",
        "* **The data** - what data are you working with? What does it look like?\n",
        "* **The model itself** - what does the architecture look like? What are the different shapes?\n",
        "* **The training of a model** - how does a model perform while it learns?\n",
        "* **The predictions of a model** - how do the predictions of a model line up against the ground truth (the original labels)?\n",
        "\n",
        "Let's start by visualizing the model.\n",
        "\n",
        "But first, we'll create a little bit of a bigger dataset and a new model we can use (it'll be the same as before, but the more practice the better).\n"
      ],
      "metadata": {
        "id": "FEvAJDxMjjKv"
      }
    },
    {
      "cell_type": "code",
      "source": [
        "# Make a bigger dataset\n",
        "X = tf.range(-100,100,4)\n",
        "X"
      ],
      "metadata": {
        "colab": {
          "base_uri": "https://localhost:8080/"
        },
        "id": "cIcwRdBYjTbB",
        "outputId": "44e4f28b-8b2b-43d6-e3dc-c03ab64ee7b6"
      },
      "execution_count": 41,
      "outputs": [
        {
          "output_type": "execute_result",
          "data": {
            "text/plain": [
              "<tf.Tensor: shape=(50,), dtype=int32, numpy=\n",
              "array([-100,  -96,  -92,  -88,  -84,  -80,  -76,  -72,  -68,  -64,  -60,\n",
              "        -56,  -52,  -48,  -44,  -40,  -36,  -32,  -28,  -24,  -20,  -16,\n",
              "        -12,   -8,   -4,    0,    4,    8,   12,   16,   20,   24,   28,\n",
              "         32,   36,   40,   44,   48,   52,   56,   60,   64,   68,   72,\n",
              "         76,   80,   84,   88,   92,   96], dtype=int32)>"
            ]
          },
          "metadata": {},
          "execution_count": 41
        }
      ]
    },
    {
      "cell_type": "code",
      "source": [
        "# Make labels for the dataset\n",
        "y = X + 10\n",
        "y"
      ],
      "metadata": {
        "colab": {
          "base_uri": "https://localhost:8080/"
        },
        "id": "pIzXiZHrlU75",
        "outputId": "14c69f43-5286-4feb-ff4c-1c3464383d6a"
      },
      "execution_count": 42,
      "outputs": [
        {
          "output_type": "execute_result",
          "data": {
            "text/plain": [
              "<tf.Tensor: shape=(50,), dtype=int32, numpy=\n",
              "array([-90, -86, -82, -78, -74, -70, -66, -62, -58, -54, -50, -46, -42,\n",
              "       -38, -34, -30, -26, -22, -18, -14, -10,  -6,  -2,   2,   6,  10,\n",
              "        14,  18,  22,  26,  30,  34,  38,  42,  46,  50,  54,  58,  62,\n",
              "        66,  70,  74,  78,  82,  86,  90,  94,  98, 102, 106], dtype=int32)>"
            ]
          },
          "metadata": {},
          "execution_count": 42
        }
      ]
    },
    {
      "cell_type": "code",
      "source": [
        "# Visualize the data\n",
        "import matplotlib.pyplot as plt\n",
        "\n",
        "plt.scatter(X,y)"
      ],
      "metadata": {
        "colab": {
          "base_uri": "https://localhost:8080/",
          "height": 447
        },
        "id": "gMfsDA2gllfg",
        "outputId": "70ac39be-bd1d-4432-c999-106e2629ee36"
      },
      "execution_count": 44,
      "outputs": [
        {
          "output_type": "execute_result",
          "data": {
            "text/plain": [
              "<matplotlib.collections.PathCollection at 0x7fe967be8520>"
            ]
          },
          "metadata": {},
          "execution_count": 44
        },
        {
          "output_type": "display_data",
          "data": {
            "text/plain": [
              "<Figure size 640x480 with 1 Axes>"
            ],
            "image/png": "[encoded data removed]"
          },
          "metadata": {}
        }
      ]
    },
    {
      "cell_type": "markdown",
      "source": [
        "## Split data into training/test set\n",
        "\n",
        "One of the other most common and important steps in a machine learning project is creating a training and test set (and when required, a validation set).\n",
        "\n",
        "Each set serves a specific purpose:\n",
        "* **Training set** - the model learns from this data, which is typically 70-80% of the total data available (like the course materials you study during the semester).\n",
        "* **Validation set** - the model gets tuned on this data, which is typically 10-15% of the total data available (like the practice exam you take before the final exam).\n",
        "* **Test set** - the model gets evaluated on this data to test what it has learned, it's typically 10-15% of the total data available (like the final exam you take at the end of the semester).\n",
        "\n",
        "For now, we'll just use a training and test set, this means we'll have a dataset for our model to learn on as well as be evaluated on.\n",
        "\n",
        "We can create them by splitting our `X` and `y` arrays.\n",
        "\n",
        "> 🔑 **Note:** When dealing with real-world data, this step is typically done right at the start of a project (the test set should always be kept separate from all other data). We want our model to learn on training data and then evaluate it on test data to get an indication of how well it **generalizes** to unseen examples."
      ],
      "metadata": {
        "id": "k5oGnKpamH2t"
      }
    },
    {
      "cell_type": "code",
      "source": [
        "# Split into 3 sets\n",
        "len(X)"
      ],
      "metadata": {
        "colab": {
          "base_uri": "https://localhost:8080/"
        },
        "id": "jYBIpgRTluZY",
        "outputId": "bb62758a-2dd2-4a30-8f73-88a728d6d8df"
      },
      "execution_count": 45,
      "outputs": [
        {
          "output_type": "execute_result",
          "data": {
            "text/plain": [
              "50"
            ]
          },
          "metadata": {},
          "execution_count": 45
        }
      ]
    },
    {
      "cell_type": "code",
      "source": [
        "# Split the data into train and test sets\n",
        "X_train = X[:40] # First 40 are training samples (80%)\n",
        "y_train = y[:40]\n",
        "\n",
        "X_test = X[40:] # Last 10 are testing samples (20%)\n",
        "y_test = y[40:]\n",
        "\n",
        "len(X_train),len(X_test), len(y_train),len(y_test)"
      ],
      "metadata": {
        "colab": {
          "base_uri": "https://localhost:8080/"
        },
        "id": "yN2mz7QrnQLv",
        "outputId": "ede7e09a-cf6a-4726-a63e-b9c92a2e003e"
      },
      "execution_count": 48,
      "outputs": [
        {
          "output_type": "execute_result",
          "data": {
            "text/plain": [
              "(40, 10, 40, 10)"
            ]
          },
          "metadata": {},
          "execution_count": 48
        }
      ]
    },
    {
      "cell_type": "code",
      "source": [
        "# Visualizing the data\n",
        "plt.figure(figsize=(10,7))\n",
        "\n",
        "# plot the training data\n",
        "plt.scatter(X_train,y_train,c='b',label='Training Data')\n",
        "\n",
        "# Plot the testing data\n",
        "plt.scatter(X_test,y_test,c='g',label='Testing Data')\n",
        "\n",
        "# Show the legend\n",
        "plt.legend()"
      ],
      "metadata": {
        "colab": {
          "base_uri": "https://localhost:8080/",
          "height": 616
        },
        "id": "7WF-CCq3oCP4",
        "outputId": "a8de8a95-45f5-466e-c12b-ee0ae00842c6"
      },
      "execution_count": 50,
      "outputs": [
        {
          "output_type": "execute_result",
          "data": {
            "text/plain": [
              "<matplotlib.legend.Legend at 0x7fe9623a70d0>"
            ]
          },
          "metadata": {},
          "execution_count": 50
        },
        {
          "output_type": "display_data",
          "data": {
            "text/plain": [
              "<Figure size 1000x700 with 1 Axes>"
            ],
            "image/png": "[encoded data removed]"
          },
          "metadata": {}
        }
      ]
    },
    {
      "cell_type": "markdown",
      "source": [
        "With this graph in mind, what we'll be trying to do is build a model which learns the pattern in the blue dots (`X_train`) to draw the green dots (`X_test`).\n",
        "\n",
        "Time to build a model. We'll make the exact same one from before (the one we trained for longer)."
      ],
      "metadata": {
        "id": "W85Ce7mOpPYV"
      }
    },
    {
      "cell_type": "code",
      "source": [
        "# Let's have a look at how to build a neural network for our data\n",
        "# 1. Create a model\n",
        "model = tf.keras.Sequential([\n",
        "    tf.keras.layers.Dense(1)\n",
        "])\n",
        "\n",
        "# 2. Compile the model\n",
        "model.compile(loss=tf.keras.losses.mae,\n",
        "              optimizer=tf.keras.optimizers.SGD(),\n",
        "              metrics=['mae'])\n",
        "\n",
        "# # 3. Fit the model\n",
        "# model.fit(X_train,y_train,epochs=100)"
      ],
      "metadata": {
        "id": "EYrcG5ugouWf"
      },
      "execution_count": 52,
      "outputs": []
    },
    {
      "cell_type": "code",
      "source": [
        "model.summary()"
      ],
      "metadata": {
        "colab": {
          "base_uri": "https://localhost:8080/",
          "height": 321
        },
        "id": "rZpMmbEgqbl3",
        "outputId": "a3ab57cd-2753-47f5-98c8-e739c5cecb39"
      },
      "execution_count": 53,
      "outputs": [
        {
          "output_type": "error",
          "ename": "ValueError",
          "evalue": "ignored",
          "traceback": [
            "\u001b[0;31m---------------------------------------------------------------------------\u001b[0m",
            "\u001b[0;31mValueError\u001b[0m                                Traceback (most recent call last)",
            "\u001b[0;32m<ipython-input-53-5f15418b3570>\u001b[0m in \u001b[0;36m<cell line: 1>\u001b[0;34m()\u001b[0m\n\u001b[0;32m----> 1\u001b[0;31m \u001b[0mmodel\u001b[0m\u001b[0;34m.\u001b[0m\u001b[0msummary\u001b[0m\u001b[0;34m(\u001b[0m\u001b[0;34m)\u001b[0m\u001b[0;34m\u001b[0m\u001b[0;34m\u001b[0m\u001b[0m\n\u001b[0m",
            "\u001b[0;32m/usr/local/lib/python3.9/dist-packages/keras/engine/training.py\u001b[0m in \u001b[0;36msummary\u001b[0;34m(self, line_length, positions, print_fn, expand_nested, show_trainable, layer_range)\u001b[0m\n\u001b[1;32m   3290\u001b[0m         \"\"\"\n\u001b[1;32m   3291\u001b[0m         \u001b[0;32mif\u001b[0m \u001b[0;32mnot\u001b[0m \u001b[0mself\u001b[0m\u001b[0;34m.\u001b[0m\u001b[0mbuilt\u001b[0m\u001b[0;34m:\u001b[0m\u001b[0;34m\u001b[0m\u001b[0;34m\u001b[0m\u001b[0m\n\u001b[0;32m-> 3292\u001b[0;31m             raise ValueError(\n\u001b[0m\u001b[1;32m   3293\u001b[0m                 \u001b[0;34m\"This model has not yet been built. \"\u001b[0m\u001b[0;34m\u001b[0m\u001b[0;34m\u001b[0m\u001b[0m\n\u001b[1;32m   3294\u001b[0m                 \u001b[0;34m\"Build the model first by calling `build()` or by calling \"\u001b[0m\u001b[0;34m\u001b[0m\u001b[0;34m\u001b[0m\u001b[0m\n",
            "\u001b[0;31mValueError\u001b[0m: This model has not yet been built. Build the model first by calling `build()` or by calling the model on a batch of data."
          ]
        }
      ]
    },
    {
      "cell_type": "code",
      "source": [
        "# Let's create amodel which builds automatically by defining the input_shape in the first layer\n",
        "tf.random.set_seed(42)\n",
        "\n",
        "# 1. Create a model \n",
        "model = tf.keras.Sequential([\n",
        "    tf.keras.layers.Dense(10,input_shape=[1],name=\"input_layer\"),\n",
        "    tf.keras.layers.Dense(1,name=\"output_layer\") # input shape depending of your data \n",
        "],name=\"Mode_01\")\n",
        "\n",
        "# 2. Compile the model\n",
        "model.compile (loss= tf.keras.losses.mae,\n",
        "               optimizer = tf.keras.optimizers.SGD(),\n",
        "               metrics=[\"mae\"])"
      ],
      "metadata": {
        "id": "42d_8b2oqhRO"
      },
      "execution_count": 87,
      "outputs": []
    },
    {
      "cell_type": "code",
      "source": [
        "model.summary()"
      ],
      "metadata": {
        "colab": {
          "base_uri": "https://localhost:8080/"
        },
        "id": "DfpyQtKRraL3",
        "outputId": "aa8211d6-6b8f-4754-b95d-a39fddd388b3"
      },
      "execution_count": 90,
      "outputs": [
        {
          "output_type": "stream",
          "name": "stdout",
          "text": [
            "Model: \"Mode_01\"\n",
            "_________________________________________________________________\n",
            " Layer (type)                Output Shape              Param #   \n",
            "=================================================================\n",
            " input_layer (Dense)         (None, 10)                20        \n",
            "                                                                 \n",
            " output_layer (Dense)        (None, 1)                 11        \n",
            "                                                                 \n",
            "=================================================================\n",
            "Total params: 31\n",
            "Trainable params: 31\n",
            "Non-trainable params: 0\n",
            "_________________________________________________________________\n"
          ]
        }
      ]
    },
    {
      "cell_type": "markdown",
      "source": [
        "Calling `summary()` on our model shows us the layers it contains, the output shape and the number of parameters.\n",
        "* **Total params** - total number of parameters in the model.\n",
        "* **Trainable parameters** - these are the parameters (patterns) the model can update as it trains.\n",
        "* **Non-trainable parameters** - these parameters aren't updated during training (this is typical when you bring in the already learned patterns from other models during transfer learning).\n",
        "\n",
        "> 📖 **Resource:** For a more in-depth overview of the trainable parameters within a layer, check out [MIT's introduction to deep learning video](https://youtu.be/njKP3FqW3Sk).\n",
        "\n",
        "> 🛠 **Exercise:** Try playing around with the number of hidden units in the `Dense` layer (e.g. `Dense(2)`, `Dense(3)`). How does this change the Total/Trainable params? Investigate what's causing the change.\n",
        "\n",
        "For now, all you need to think about these parameters is that their learnable patterns in the data.\n",
        "\n",
        "Let's fit our model to the training data."
      ],
      "metadata": {
        "id": "1ses-xrHrsLx"
      }
    },
    {
      "cell_type": "code",
      "source": [
        "# Let's fit our model to the training data\n",
        "model.fit(X_train,y_train,epochs=100,verbose=0)"
      ],
      "metadata": {
        "id": "40Whj25Jtcn6",
        "outputId": "dd2d4548-24fb-465d-cfbc-aaa94a032096",
        "colab": {
          "base_uri": "https://localhost:8080/"
        }
      },
      "execution_count": 89,
      "outputs": [
        {
          "output_type": "execute_result",
          "data": {
            "text/plain": [
              "<keras.callbacks.History at 0x7fe967aeff10>"
            ]
          },
          "metadata": {},
          "execution_count": 89
        }
      ]
    },
    {
      "cell_type": "code",
      "source": [
        "# Call a summary of the model\n",
        "model.summary()"
      ],
      "metadata": {
        "id": "n0JDcX4OuEwA",
        "outputId": "2f4e4527-ebd3-4975-b4d3-39950f0b24f3",
        "colab": {
          "base_uri": "https://localhost:8080/"
        }
      },
      "execution_count": 91,
      "outputs": [
        {
          "output_type": "stream",
          "name": "stdout",
          "text": [
            "Model: \"Mode_01\"\n",
            "_________________________________________________________________\n",
            " Layer (type)                Output Shape              Param #   \n",
            "=================================================================\n",
            " input_layer (Dense)         (None, 10)                20        \n",
            "                                                                 \n",
            " output_layer (Dense)        (None, 1)                 11        \n",
            "                                                                 \n",
            "=================================================================\n",
            "Total params: 31\n",
            "Trainable params: 31\n",
            "Non-trainable params: 0\n",
            "_________________________________________________________________\n"
          ]
        }
      ]
    },
    {
      "cell_type": "markdown",
      "source": [
        "Alongside summary, you can also view a 2D plot of the model using [`plot_model()`](https://www.tensorflow.org/api_docs/python/tf/keras/utils/plot_model)."
      ],
      "metadata": {
        "id": "xBc_2AZ8vGBp"
      }
    },
    {
      "cell_type": "code",
      "source": [
        "from tensorflow.keras.utils import plot_model\n",
        "\n",
        "plot_model(model, show_shapes=True)"
      ],
      "metadata": {
        "id": "OO0TCE6nuaiq",
        "outputId": "977ce106-a50a-44e8-de95-495d2262d753",
        "colab": {
          "base_uri": "https://localhost:8080/",
          "height": 312
        }
      },
      "execution_count": 92,
      "outputs": [
        {
          "output_type": "execute_result",
          "data": {
            "image/png": "[encoded data removed]",
            "text/plain": [
              "<IPython.core.display.Image object>"
            ]
          },
          "metadata": {},
          "execution_count": 92
        }
      ]
    },
    {
      "cell_type": "markdown",
      "source": [
        "## Visualizing the predictions\n",
        "\n",
        "Now we've got a trained model, let's visualize some predictions.\n",
        "\n",
        "To visualize predictions, it's always a good idea to plot them against the ground truth labels.\n",
        "\n",
        "Often you'll see this in the form of `y_test` vs. `y_pred` (ground truth vs. predictions).\n",
        "\n",
        "First, we'll make some predictions on the test data (`X_test`), remember the model has never seen the test data."
      ],
      "metadata": {
        "id": "pt_tmZ-bx0uF"
      }
    },
    {
      "cell_type": "code",
      "source": [
        "# Make some predictions\n",
        "y_pred = model.predict(X_test)\n",
        "y_pred"
      ],
      "metadata": {
        "id": "9LR7tABqvDAT",
        "outputId": "e83e199f-6a76-4733-9310-2dccb380c9d1",
        "colab": {
          "base_uri": "https://localhost:8080/"
        }
      },
      "execution_count": 93,
      "outputs": [
        {
          "output_type": "stream",
          "name": "stdout",
          "text": [
            "1/1 [==============================] - 0s 59ms/step\n"
          ]
        },
        {
          "output_type": "execute_result",
          "data": {
            "text/plain": [
              "array([[ 69.551384],\n",
              "       [ 74.07227 ],\n",
              "       [ 78.59317 ],\n",
              "       [ 83.11407 ],\n",
              "       [ 87.634964],\n",
              "       [ 92.15586 ],\n",
              "       [ 96.67675 ],\n",
              "       [101.19764 ],\n",
              "       [105.718544],\n",
              "       [110.23943 ]], dtype=float32)"
            ]
          },
          "metadata": {},
          "execution_count": 93
        }
      ]
    },
    {
      "cell_type": "code",
      "source": [
        "y_test"
      ],
      "metadata": {
        "id": "OkyIgl3oyBFJ",
        "outputId": "c3182362-32e0-4a12-9691-6ebcaa1190f1",
        "colab": {
          "base_uri": "https://localhost:8080/"
        }
      },
      "execution_count": 94,
      "outputs": [
        {
          "output_type": "execute_result",
          "data": {
            "text/plain": [
              "<tf.Tensor: shape=(10,), dtype=int32, numpy=array([ 70,  74,  78,  82,  86,  90,  94,  98, 102, 106], dtype=int32)>"
            ]
          },
          "metadata": {},
          "execution_count": 94
        }
      ]
    },
    {
      "cell_type": "markdown",
      "source": [
        "Okay, we get a list of numbers but how do these compare to the ground truth labels?\n",
        "\n",
        "Let's build a plotting function to find out.\n",
        "\n",
        "> 🔑 **Note:** If you think you're going to be visualizing something a lot, it's a good idea to functionize it so you can use it later."
      ],
      "metadata": {
        "id": "zk5TNRAdyT50"
      }
    },
    {
      "cell_type": "code",
      "source": [
        "# Let's plot the data\n",
        "def plot_predictions(train_data=X_train,\n",
        "                     train_labels=y_train,\n",
        "                     test_data=X_test,\n",
        "                     test_labels=y_test,\n",
        "                     predictions=y_pred):\n",
        "  \"\"\"\n",
        "  Plots training data, test data and compares predictions.\n",
        "  \"\"\"\n",
        "  plt.figure(figsize=(10, 7))\n",
        "\n",
        "  # Plot training data in blue\n",
        "  plt.scatter(train_data, train_labels, c=\"b\", label=\"Training data\")\n",
        "\n",
        "  # Plot test data in green\n",
        "  plt.scatter(test_data, test_labels, c=\"g\", label=\"Testing data\")\n",
        "\n",
        "  # Plot the predictions in red (predictions were made on the test data)\n",
        "  plt.scatter(test_data, predictions, c=\"r\", label=\"Predictions\")\n",
        "  \n",
        "  # Show the legend\n",
        "  plt.legend();"
      ],
      "metadata": {
        "id": "kM18zCvYyMC5"
      },
      "execution_count": 95,
      "outputs": []
    },
    {
      "cell_type": "code",
      "source": [
        "plot_predictions(train_data=X_train,\n",
        "                 train_labels=y_train,\n",
        "                 test_data=X_test,\n",
        "                 test_labels=y_test,\n",
        "                 predictions=y_preds)"
      ],
      "metadata": {
        "id": "R4DVKUKrzEws",
        "outputId": "9e22fc6a-af1d-4ec7-e9b2-597ead9e773f",
        "colab": {
          "base_uri": "https://localhost:8080/",
          "height": 595
        }
      },
      "execution_count": 98,
      "outputs": [
        {
          "output_type": "display_data",
          "data": {
            "text/plain": [
              "<Figure size 1000x700 with 1 Axes>"
            ],
            "image/png": "[encoded data removed]"
          },
          "metadata": {}
        }
      ]
    },
    {
      "cell_type": "markdown",
      "source": [
        "## Evaluating predictions\n",
        "\n",
        "Alongisde visualizations, evaulation metrics are your alternative best option for evaluating your model.\n",
        "\n",
        "Depending on the problem you're working on, different models have different evaluation metrics. \n",
        "\n",
        "Two of the main metrics used for regression problems are:\n",
        "* **Mean absolute error (MAE)** - the mean difference between each of the predictions.\n",
        "* **Mean squared error (MSE)** - the squared mean difference between of the predictions (use if larger errors are more detrimental than smaller errors).\n",
        "\n",
        "The lower each of these values, the better.\n",
        "\n",
        "You can also use [`model.evaluate()`](https://www.tensorflow.org/api_docs/python/tf/keras/Model#evaluate) which will return the loss of the model as well as any metrics setup during the compile step."
      ],
      "metadata": {
        "id": "Vqbn2yQq0o3u"
      }
    },
    {
      "cell_type": "code",
      "source": [
        "# Evaluate the model on the test\n",
        "model.evaluate (X_test,y_test)"
      ],
      "metadata": {
        "id": "8xT5ws1PzIfZ",
        "outputId": "f68bc566-6789-4909-fabf-3eb03ec0799e",
        "colab": {
          "base_uri": "https://localhost:8080/"
        }
      },
      "execution_count": 99,
      "outputs": [
        {
          "output_type": "stream",
          "name": "stdout",
          "text": [
            "1/1 [==============================] - 0s 203ms/step - loss: 1.9851 - mae: 1.9851\n"
          ]
        },
        {
          "output_type": "execute_result",
          "data": {
            "text/plain": [
              "[1.9851356744766235, 1.9851356744766235]"
            ]
          },
          "metadata": {},
          "execution_count": 99
        }
      ]
    },
    {
      "cell_type": "code",
      "source": [
        "# Calculate MAE\n",
        "mae = tf.metrics.mean_absolute_error(y_true = y_test,\n",
        "                                     y_pred = y_pred)\n",
        "mae"
      ],
      "metadata": {
        "id": "FaOVRk1t2vDK",
        "outputId": "01fc82f8-ef26-4d3b-af93-c60231234141",
        "colab": {
          "base_uri": "https://localhost:8080/"
        }
      },
      "execution_count": 102,
      "outputs": [
        {
          "output_type": "execute_result",
          "data": {
            "text/plain": [
              "<tf.Tensor: shape=(10,), dtype=float32, numpy=\n",
              "array([18.448616 , 14.756636 , 12.162732 , 10.577187 , 10.       ,\n",
              "       10.431172 , 11.8707   , 14.3185835, 17.774836 , 22.239433 ],\n",
              "      dtype=float32)>"
            ]
          },
          "metadata": {},
          "execution_count": 102
        }
      ]
    },
    {
      "cell_type": "code",
      "source": [
        "tf.constant(y_pred)"
      ],
      "metadata": {
        "id": "SZd5q0Vm3adf",
        "outputId": "7768c084-aeb5-4a64-ecf1-aeaf5659cf42",
        "colab": {
          "base_uri": "https://localhost:8080/"
        }
      },
      "execution_count": 105,
      "outputs": [
        {
          "output_type": "execute_result",
          "data": {
            "text/plain": [
              "<tf.Tensor: shape=(10, 1), dtype=float32, numpy=\n",
              "array([[ 69.551384],\n",
              "       [ 74.07227 ],\n",
              "       [ 78.59317 ],\n",
              "       [ 83.11407 ],\n",
              "       [ 87.634964],\n",
              "       [ 92.15586 ],\n",
              "       [ 96.67675 ],\n",
              "       [101.19764 ],\n",
              "       [105.718544],\n",
              "       [110.23943 ]], dtype=float32)>"
            ]
          },
          "metadata": {},
          "execution_count": 105
        }
      ]
    },
    {
      "cell_type": "code",
      "source": [
        "y_test"
      ],
      "metadata": {
        "id": "VJfMwNdR3tov",
        "outputId": "62224c71-884c-4fb1-f860-b45fcc07074a",
        "colab": {
          "base_uri": "https://localhost:8080/"
        }
      },
      "execution_count": 104,
      "outputs": [
        {
          "output_type": "execute_result",
          "data": {
            "text/plain": [
              "<tf.Tensor: shape=(10,), dtype=int32, numpy=array([ 70,  74,  78,  82,  86,  90,  94,  98, 102, 106], dtype=int32)>"
            ]
          },
          "metadata": {},
          "execution_count": 104
        }
      ]
    },
    {
      "cell_type": "code",
      "source": [
        "tf.squeeze(y_pred)"
      ],
      "metadata": {
        "id": "4MTG2BS63uac",
        "outputId": "a7dc9b6f-370d-4114-bddd-fe53351a377c",
        "colab": {
          "base_uri": "https://localhost:8080/"
        }
      },
      "execution_count": 106,
      "outputs": [
        {
          "output_type": "execute_result",
          "data": {
            "text/plain": [
              "<tf.Tensor: shape=(10,), dtype=float32, numpy=\n",
              "array([ 69.551384,  74.07227 ,  78.59317 ,  83.11407 ,  87.634964,\n",
              "        92.15586 ,  96.67675 , 101.19764 , 105.718544, 110.23943 ],\n",
              "      dtype=float32)>"
            ]
          },
          "metadata": {},
          "execution_count": 106
        }
      ]
    },
    {
      "cell_type": "code",
      "source": [
        "# Calculate MAE\n",
        "mae = tf.metrics.mean_absolute_error(y_true = y_test,\n",
        "                                     y_pred = tf.squeeze(y_pred))\n",
        "mae"
      ],
      "metadata": {
        "id": "9TpQ4RjI4E4u",
        "outputId": "387e7933-7ef2-460a-91dd-385c7ff51f89",
        "colab": {
          "base_uri": "https://localhost:8080/"
        }
      },
      "execution_count": 108,
      "outputs": [
        {
          "output_type": "execute_result",
          "data": {
            "text/plain": [
              "<tf.Tensor: shape=(), dtype=float32, numpy=1.9851319>"
            ]
          },
          "metadata": {},
          "execution_count": 108
        }
      ]
    },
    {
      "cell_type": "code",
      "source": [
        "# Calculate MSE\n",
        "mse = tf.metrics.mean_squared_error(y_true= y_test,\n",
        "                                   y_pred= tf.squeeze(y_pred))\n",
        "mse"
      ],
      "metadata": {
        "id": "GyN0zUyW4L2-",
        "outputId": "9ca87f5b-0766-46be-a0ad-fdfbde1a5cf8",
        "colab": {
          "base_uri": "https://localhost:8080/"
        }
      },
      "execution_count": 110,
      "outputs": [
        {
          "output_type": "execute_result",
          "data": {
            "text/plain": [
              "<tf.Tensor: shape=(), dtype=float32, numpy=5.8310575>"
            ]
          },
          "metadata": {},
          "execution_count": 110
        }
      ]
    },
    {
      "cell_type": "code",
      "source": [],
      "metadata": {
        "id": "W9K0brs14qIc"
      },
      "execution_count": null,
      "outputs": []
    }
  ]
}