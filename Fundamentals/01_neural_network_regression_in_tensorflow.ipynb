{
  "nbformat": 4,
  "nbformat_minor": 0,
  "metadata": {
    "colab": {
      "provenance": [],
      "mount_file_id": "https://github.com/simongiando/DeepLearning/blob/main/Fundamentals/01_neural_network_regression_in_tensorflow.ipynb",
      "authorship_tag": "ABX9TyODxzToIBIfk/4JcSy1Drl/",
      "include_colab_link": true
    },
    "kernelspec": {
      "name": "python3",
      "display_name": "Python 3"
    },
    "language_info": {
      "name": "python"
    }
  },
  "cells": [
    {
      "cell_type": "markdown",
      "metadata": {
        "id": "view-in-github",
        "colab_type": "text"
      },
      "source": [
        "<a href=\"https://colab.research.google.com/github/simongiando/deep-learning/blob/main/Fundamentals/01_neural_network_regression_in_tensorflow.ipynb\" target=\"_parent\"><img src=\"https://colab.research.google.com/assets/colab-badge.svg\" alt=\"Open In Colab\"/></a>"
      ]
    },
    {
      "cell_type": "markdown",
      "source": [
        "# 01. Neural Network Regression with TensorFlow\n",
        "\n",
        "There are many definitions for a [regression problem](https://en.wikipedia.org/wiki/Regression_analysis) but in our case, we're going to simplify it to be: predicting a number.\n",
        "\n",
        "For example, you might want to:\n",
        "- Predict the selling price of houses given information about them (such as number of rooms, size, number of bathrooms).\n",
        "- Predict the coordinates of a bounding box of an item in an image.\n",
        "- Predict the cost of medical insurance for an individual given their demographics (age, sex, gender, race).\n",
        "\n",
        "In this notebook, we're going to set the foundations for how you can take a sample of inputs (this is your data), build a neural network to discover patterns in those inputs and then make a prediction (in the form of a number) based on those inputs.\n",
        "\n",
        "## What we're going to cover\n",
        "\n",
        "Specifically, we're going to go through doing the following with TensorFlow:\n",
        "- Architecture of a regression model\n",
        "- Input shapes and output shapes\n",
        "  - `X`: features/data (inputs)\n",
        "  - `y`: labels (outputs)\n",
        "- Creating custom data to view and fit\n",
        "- Steps in modelling\n",
        "  - Creating a model\n",
        "  - Compiling a model\n",
        "    - Defining a loss function\n",
        "    - Setting up an optimizer\n",
        "    - Creating evaluation metrics\n",
        "  - Fitting a model (getting it to find patterns in our data)\n",
        "- Evaluating a model\n",
        "  - Visualizng the model (\"visualize, visualize, visualize\")\n",
        "  - Looking at training curves\n",
        "  - Compare predictions to ground truth (using our evaluation metrics)\n",
        "- Saving a model (so we can use it later)\n",
        "- Loading a model\n",
        "\n"
      ],
      "metadata": {
        "id": "3VDtxHuucNkF"
      }
    },
    {
      "cell_type": "markdown",
      "source": [
        "## Typical architecture of a regresison neural network\n",
        "\n",
        "The word *typical* is on purpose.\n",
        "\n",
        "Why?\n",
        "\n",
        "Because there are many different ways (actually, there's almost an infinite number of ways) to write neural networks.\n",
        "\n",
        "But the following is a generic setup for ingesting a collection of numbers, finding patterns in them and then outputing some kind of target number.\n",
        "\n",
        "Yes, the previous sentence is vague but we'll see this in action shortly.\n",
        "\n",
        "| **Hyperparameter** | **Typical value** |\n",
        "| --- | --- |\n",
        "| Input layer shape | Same shape as number of features (e.g. 3 for # bedrooms, # bathrooms, # car spaces in housing price prediction) |\n",
        "| Hidden layer(s) | Problem specific, minimum = 1, maximum = unlimited |\n",
        "| Neurons per hidden layer | Problem specific, generally 10 to 100 |\n",
        "| Output layer shape | Same shape as desired prediction shape (e.g. 1 for house price) |\n",
        "| Hidden activation | Usually [ReLU](https://www.kaggle.com/dansbecker/rectified-linear-units-relu-in-deep-learning) (rectified linear unit) |\n",
        "| Output activation | None, ReLU, logistic/tanh |\n",
        "| Loss function | [MSE](https://en.wikipedia.org/wiki/Mean_squared_error) (mean square error) or [MAE](https://en.wikipedia.org/wiki/Mean_absolute_error) (mean absolute error)/Huber (combination of MAE/MSE) if outliers |\n",
        "| Optimizer | [SGD](https://www.tensorflow.org/api_docs/python/tf/keras/optimizers/SGD) (stochastic gradient descent), [Adam](https://www.tensorflow.org/api_docs/python/tf/keras/optimizers/Adam) |\n",
        "\n",
        "***Table 1:*** *Typical architecture of a regression network.* ***Source:*** *Adapted from page 293 of [Hands-On Machine Learning with Scikit-Learn, Keras & TensorFlow Book by Aurélien Géron](https://www.oreilly.com/library/view/hands-on-machine-learning/9781492032632/)*\n",
        "\n",
        "Again, if you're new to neural networks and deep learning in general, much of the above table won't make sense. But don't worry, we'll be getting hands-on with all of it soon.\n",
        "\n",
        "> 🔑 **Note:** A **hyperparameter** in machine learning is something a data analyst or developer can set themselves, where as a **parameter** usually describes something a model learns on its own (a value not explicitly set by an analyst)."
      ],
      "metadata": {
        "id": "km7BvDOIdJT-"
      }
    },
    {
      "cell_type": "code",
      "execution_count": 1,
      "metadata": {
        "colab": {
          "base_uri": "https://localhost:8080/"
        },
        "id": "y172HoDCblXx",
        "outputId": "4df800f8-2806-4a8e-c565-8d95a90da8c1"
      },
      "outputs": [
        {
          "output_type": "stream",
          "name": "stdout",
          "text": [
            "2.12.0\n"
          ]
        }
      ],
      "source": [
        "import tensorflow as tf\n",
        "print(tf.__version__) # check the version (should be 2.x+)"
      ]
    },
    {
      "cell_type": "markdown",
      "source": [
        "## Creating data to view and fit\n",
        "\n",
        "Since we're working on a **regression problem** (predicting a number) let's create some linear data (a straight line) to model."
      ],
      "metadata": {
        "id": "3DgPXOFatPA5"
      }
    },
    {
      "cell_type": "markdown",
      "source": [
        "## Creating some data to view and fit"
      ],
      "metadata": {
        "id": "oEnivIB1tUVi"
      }
    },
    {
      "cell_type": "code",
      "source": [
        "import numpy as np\n",
        "import matplotlib.pyplot as plt\n",
        "\n",
        "# Create Features\n",
        "X = np.array([2.0,3.2,7.4,2.3,8.9,9.4,10.4,11.2])\n",
        "\n",
        "# Create labels\n",
        "y = np.array([3.0, 6.0, 9.0, 12.0, 15.0, 18.0, 21.0, 24.0])\n",
        "\n",
        "# Visualize it\n",
        "plt.scatter(X,y)"
      ],
      "metadata": {
        "colab": {
          "base_uri": "https://localhost:8080/",
          "height": 452
        },
        "id": "LbREYMBvuh8j",
        "outputId": "9391f812-dcc5-4e3b-e929-a1c7d29c2372"
      },
      "execution_count": 2,
      "outputs": [
        {
          "output_type": "execute_result",
          "data": {
            "text/plain": [
              "<matplotlib.collections.PathCollection at 0x799cdfe153f0>"
            ]
          },
          "metadata": {},
          "execution_count": 2
        },
        {
          "output_type": "display_data",
          "data": {
            "text/plain": [
              "<Figure size 640x480 with 1 Axes>"
            ],
            "image/png": "[encoded data removed]"
          },
          "metadata": {}
        }
      ]
    },
    {
      "cell_type": "markdown",
      "source": [
        "Before we do any modelling, can you calculate the pattern between `X` and `y`?\n",
        "\n",
        "For example, say I asked you, based on this data what the `y` value would be if `X` was 17.0?\n",
        "\n",
        "Or how about if `X` was -10.0?\n",
        "\n",
        "This kind of pattern discovery is the essence of what we'll be building neural networks to do for us."
      ],
      "metadata": {
        "id": "iFHLM-TJvETp"
      }
    },
    {
      "cell_type": "markdown",
      "source": [
        "## Regression input shapes and output shapes\n",
        "\n",
        "One of the most important concepts when working with neural networks are the input and output shapes.\n",
        "\n",
        "The **input shape** is the shape of your data that goes into the model.\n",
        "\n",
        "The **output shape** is the shape of your data you want to come out of your model.\n",
        "\n",
        "These will differ depending on the problem you're working on.\n",
        "\n",
        "Neural networks accept numbers and output numbers. These numbers are typically represented as tensors (or arrays).\n",
        "\n",
        "Before, we created data using NumPy arrays, but we could do the same with tensors."
      ],
      "metadata": {
        "id": "hLzdc01DvFgA"
      }
    },
    {
      "cell_type": "markdown",
      "source": [
        "## Input and output shapes"
      ],
      "metadata": {
        "id": "RGx0SWQuvIk4"
      }
    },
    {
      "cell_type": "code",
      "source": [
        "y = X+10\n",
        "y"
      ],
      "metadata": {
        "colab": {
          "base_uri": "https://localhost:8080/"
        },
        "id": "N1EitDbGFuUD",
        "outputId": "d2697b32-5fd3-4ef1-9cba-354c98d80db1"
      },
      "execution_count": 6,
      "outputs": [
        {
          "output_type": "execute_result",
          "data": {
            "text/plain": [
              "array([12. , 13.2, 17.4, 12.3, 18.9, 19.4, 20.4, 21.2])"
            ]
          },
          "metadata": {},
          "execution_count": 6
        }
      ]
    },
    {
      "cell_type": "code",
      "source": [
        "# Create a demo tensor for our housing price prediction problem\n",
        "house_info = tf.constant([\"bedroom\",\"bathroom\",\"garage\"])\n",
        "house_price = tf.constant([939700])\n",
        "house_info,house_price"
      ],
      "metadata": {
        "colab": {
          "base_uri": "https://localhost:8080/"
        },
        "id": "XU-qZ4vbve3n",
        "outputId": "6dd61500-86d7-414b-a7e8-bd785649a816"
      },
      "execution_count": 7,
      "outputs": [
        {
          "output_type": "execute_result",
          "data": {
            "text/plain": [
              "(<tf.Tensor: shape=(3,), dtype=string, numpy=array([b'bedroom', b'bathroom', b'garage'], dtype=object)>,\n",
              " <tf.Tensor: shape=(1,), dtype=int32, numpy=array([939700], dtype=int32)>)"
            ]
          },
          "metadata": {},
          "execution_count": 7
        }
      ]
    },
    {
      "cell_type": "code",
      "source": [
        "input_shape = X.shape\n",
        "output_shape = y.shape\n",
        "input_shape, output_shape"
      ],
      "metadata": {
        "colab": {
          "base_uri": "https://localhost:8080/"
        },
        "id": "cpO_kSMyGngs",
        "outputId": "80664830-5ecf-483f-ef98-bc104dd0e8ee"
      },
      "execution_count": 9,
      "outputs": [
        {
          "output_type": "execute_result",
          "data": {
            "text/plain": [
              "((8,), (8,))"
            ]
          },
          "metadata": {},
          "execution_count": 9
        }
      ]
    },
    {
      "cell_type": "code",
      "source": [
        "X[0],y[0]"
      ],
      "metadata": {
        "colab": {
          "base_uri": "https://localhost:8080/"
        },
        "id": "vXSqN2IKwK4B",
        "outputId": "25a2b506-7eea-4de7-aa09-8dd240bc31c4"
      },
      "execution_count": 10,
      "outputs": [
        {
          "output_type": "execute_result",
          "data": {
            "text/plain": [
              "(2.0, 12.0)"
            ]
          },
          "metadata": {},
          "execution_count": 10
        }
      ]
    },
    {
      "cell_type": "code",
      "source": [
        "X[1],y[1]"
      ],
      "metadata": {
        "colab": {
          "base_uri": "https://localhost:8080/"
        },
        "id": "fip67c42wPml",
        "outputId": "b530be22-04f1-47f1-8918-1abafdc0f068"
      },
      "execution_count": 11,
      "outputs": [
        {
          "output_type": "execute_result",
          "data": {
            "text/plain": [
              "(3.2, 13.2)"
            ]
          },
          "metadata": {},
          "execution_count": 11
        }
      ]
    },
    {
      "cell_type": "code",
      "source": [
        "# Take a single example of X\n",
        "input_shape = X[0].shape\n",
        "\n",
        "# Take a single example of y\n",
        "output_shape = y[0].shape\n",
        "\n",
        "# these are both scalars (no shape)\n",
        "input_shape,output_shape"
      ],
      "metadata": {
        "colab": {
          "base_uri": "https://localhost:8080/"
        },
        "id": "qkbUmX9Kv-gv",
        "outputId": "eee8bfd5-43a5-47bf-8464-3e80b85546bb"
      },
      "execution_count": 12,
      "outputs": [
        {
          "output_type": "execute_result",
          "data": {
            "text/plain": [
              "((), ())"
            ]
          },
          "metadata": {},
          "execution_count": 12
        }
      ]
    },
    {
      "cell_type": "markdown",
      "source": [
        "From this it seems our inputs and outputs have no shape?\n",
        "\n",
        "How could that be?\n",
        "\n",
        "It's because no matter what kind of data we pass to our model, it's always going to take as input and return as ouput some kind of tensor.\n",
        "\n",
        "But in our case because of our dataset (only 2 small lists of numbers), we're looking at a special kind of tensor, more specifically a rank 0 tensor or a scalar."
      ],
      "metadata": {
        "id": "fgBwBnxtws8P"
      }
    },
    {
      "cell_type": "code",
      "source": [
        "# Let's take a look at the single examples invidually\n",
        "X[0], y[0]"
      ],
      "metadata": {
        "colab": {
          "base_uri": "https://localhost:8080/"
        },
        "id": "LadVsAjVwYRJ",
        "outputId": "d8fde09e-caad-40a8-9359-a6cd3e6af9db"
      },
      "execution_count": 13,
      "outputs": [
        {
          "output_type": "execute_result",
          "data": {
            "text/plain": [
              "(2.0, 12.0)"
            ]
          },
          "metadata": {},
          "execution_count": 13
        }
      ]
    },
    {
      "cell_type": "code",
      "source": [
        "# Turn our Numpy arrays into tensors\n",
        "X = tf.cast(tf.constant(X),dtype=tf.float32)\n",
        "y = tf.cast(tf.constant(y),dtype=tf.float32)\n",
        "X,y"
      ],
      "metadata": {
        "colab": {
          "base_uri": "https://localhost:8080/"
        },
        "id": "GS3wGOUlxCrt",
        "outputId": "25093ead-4d11-46e8-b65a-20b2dc9501b0"
      },
      "execution_count": 25,
      "outputs": [
        {
          "output_type": "execute_result",
          "data": {
            "text/plain": [
              "(<tf.Tensor: shape=(8,), dtype=float32, numpy=array([ 2. ,  3.2,  7.4,  2.3,  8.9,  9.4, 10.4, 11.2], dtype=float32)>,\n",
              " <tf.Tensor: shape=(8,), dtype=float32, numpy=array([12. , 13.2, 17.4, 12.3, 18.9, 19.4, 20.4, 21.2], dtype=float32)>)"
            ]
          },
          "metadata": {},
          "execution_count": 25
        }
      ]
    },
    {
      "cell_type": "code",
      "source": [
        "input_shape = X[0].shape\n",
        "out_shape = y[0].shape\n",
        "input_shape,out_shape"
      ],
      "metadata": {
        "colab": {
          "base_uri": "https://localhost:8080/"
        },
        "id": "PM1iP9YCxP37",
        "outputId": "84bcc551-1736-4e64-ee6e-b4624c04ad07"
      },
      "execution_count": 15,
      "outputs": [
        {
          "output_type": "execute_result",
          "data": {
            "text/plain": [
              "(TensorShape([]), TensorShape([]))"
            ]
          },
          "metadata": {},
          "execution_count": 15
        }
      ]
    },
    {
      "cell_type": "code",
      "source": [
        "plt.scatter(X,y)"
      ],
      "metadata": {
        "colab": {
          "base_uri": "https://localhost:8080/",
          "height": 447
        },
        "id": "7gGMUD0txXj_",
        "outputId": "ceb3f78d-dbcd-40e0-c821-a32f492fb9c1"
      },
      "execution_count": 16,
      "outputs": [
        {
          "output_type": "execute_result",
          "data": {
            "text/plain": [
              "<matplotlib.collections.PathCollection at 0x799cdfcabcd0>"
            ]
          },
          "metadata": {},
          "execution_count": 16
        },
        {
          "output_type": "display_data",
          "data": {
            "text/plain": [
              "<Figure size 640x480 with 1 Axes>"
            ],
            "image/png": "[encoded data removed]"
          },
          "metadata": {}
        }
      ]
    },
    {
      "cell_type": "markdown",
      "source": [
        "In our case, we're trying to build a model to predict the pattern between `X[0]` equalling `-7.0` and `y[0]` equalling `3.0`.\n",
        "\n",
        "So now we get our answer, we're trying to use 1 `X` value to predict 1 `y` value.\n",
        "\n",
        "You might be thinking, \"this seems pretty complicated for just predicting a straight line...\".\n",
        "\n",
        "And you'd be right.\n",
        "\n",
        "But the concepts we're covering here, the concepts of input and output shapes to a model are fundamental.\n",
        "\n",
        "In fact, they're probably two of the things you'll spend the most time on when you work with neural networks: **making sure your input and outputs are in the correct shape**.\n",
        "\n",
        "If it doesn't make sense now, we'll see plenty more examples later on (soon you'll notice the input and output shapes can be almost anything you can imagine).\n",
        "\n",
        "![example of input and output shapes for a housing price prediction problem](https://raw.githubusercontent.com/mrdbourke/tensorflow-deep-learning/main/images/01-input-and-output-shapes-housing-prices.png)\n",
        "*If you were working on building a machine learning algorithm for predicting housing prices, your inputs may be number of bedrooms, number of bathrooms and number of garages, giving you an input shape of 3 (3 different features). And since you're trying to predict the price of the house, your output shape would be 1.*"
      ],
      "metadata": {
        "id": "ro1jhE7DwxHm"
      }
    },
    {
      "cell_type": "markdown",
      "source": [
        "## Steps in modelling with TensorFlow\n",
        "\n",
        "Now we know what data we have as well as the input and output shapes, let's see how we'd build a neural network to model it.\n",
        "\n",
        "In TensorFlow, there are typically 3 fundamental steps to creating and training a model.\n",
        "\n",
        "1. **Creating a model** - piece together the layers of a neural network yourself (using the [Functional](https://www.tensorflow.org/guide/keras/functional) or [Sequential API](https://www.tensorflow.org/api_docs/python/tf/keras/Sequential)) or import a previously built model (known as transfer learning).\n",
        "2. **Compiling a model** - defining how a models performance should be measured (loss/metrics) as well as defining how it should improve (optimizer).\n",
        "3. **Fitting a model** - letting the model try to find patterns in the data (how does `X` get to `y`).\n",
        "\n",
        "Let's see these in action using the [Keras Sequential API](https://www.tensorflow.org/api_docs/python/tf/keras/Sequential) to build a model for our regression data. And then we'll step through each.\n",
        "\n",
        "> **Note:** If you're using [TensorFlow 2.7.0](https://github.com/tensorflow/tensorflow/releases/tag/v2.7.0)+, the `fit()` function no longer upscales input data to go from `(batch_size, )` to `(batch_size, 1)`. To fix this, you'll need to expand the dimension of input data using `tf.expand_dims(input_data, axis=-1)`.\n",
        ">\n",
        "> In our case, this means instead of using `model.fit(X, y, epochs=5)`, use `model.fit(tf.expand_dims(X, axis=-1), y, epochs=5)`."
      ],
      "metadata": {
        "id": "r86shjPdxgrX"
      }
    },
    {
      "cell_type": "code",
      "source": [
        "print(X.shape)"
      ],
      "metadata": {
        "colab": {
          "base_uri": "https://localhost:8080/"
        },
        "id": "mO2qxJia2NA1",
        "outputId": "66f9fe2b-a008-4498-bffa-27ec4410f971"
      },
      "execution_count": null,
      "outputs": [
        {
          "output_type": "stream",
          "name": "stdout",
          "text": [
            "(8,)\n"
          ]
        }
      ]
    },
    {
      "cell_type": "code",
      "source": [
        "# Expanded dimension\n",
        "print(tf.expand_dims(X,axis=-1).shape)"
      ],
      "metadata": {
        "colab": {
          "base_uri": "https://localhost:8080/"
        },
        "id": "K_FxcEkO2P4U",
        "outputId": "b4f1aa0d-3c57-4e12-c57d-9119945a146b"
      },
      "execution_count": null,
      "outputs": [
        {
          "output_type": "stream",
          "name": "stdout",
          "text": [
            "(8, 1)\n"
          ]
        }
      ]
    },
    {
      "cell_type": "code",
      "source": [
        "# Set random seed\n",
        "tf.random.set_seed(42)\n",
        "\n",
        "# 1. Create a model using the Sequential API\n",
        "model = tf.keras.Sequential([\n",
        "  tf.keras.layers.Dense(1)\n",
        "])\n",
        "\n",
        "# 2. Compile the model\n",
        "model.compile(loss=tf.keras.losses.mae, # mae is short for mean absolute error\n",
        "              optimizer=tf.keras.optimizers.SGD(), # SGD is short for stochastic gradient descent\n",
        "              metrics=[\"mae\"])\n",
        "\n",
        "# 3. Fit the model\n",
        "model.fit(tf.expand_dims(X, axis=-1),y,epochs=5) ## the X is expanded"
      ],
      "metadata": {
        "colab": {
          "base_uri": "https://localhost:8080/"
        },
        "id": "OByTd7gvwl2G",
        "outputId": "6fb5e09e-724b-45cf-8b08-093fce6fd410"
      },
      "execution_count": 27,
      "outputs": [
        {
          "output_type": "stream",
          "name": "stdout",
          "text": [
            "Epoch 1/5\n",
            "1/1 [==============================] - 1s 833ms/step - loss: 24.8993 - mae: 24.8993\n",
            "Epoch 2/5\n",
            "1/1 [==============================] - 0s 39ms/step - loss: 24.4201 - mae: 24.4201\n",
            "Epoch 3/5\n",
            "1/1 [==============================] - 0s 25ms/step - loss: 23.9409 - mae: 23.9409\n",
            "Epoch 4/5\n",
            "1/1 [==============================] - 0s 28ms/step - loss: 23.4616 - mae: 23.4616\n",
            "Epoch 5/5\n",
            "1/1 [==============================] - 0s 27ms/step - loss: 22.9824 - mae: 22.9824\n"
          ]
        },
        {
          "output_type": "execute_result",
          "data": {
            "text/plain": [
              "<keras.callbacks.History at 0x799cd8f62620>"
            ]
          },
          "metadata": {},
          "execution_count": 27
        }
      ]
    },
    {
      "cell_type": "code",
      "source": [
        "# Check X and y\n",
        "X, y"
      ],
      "metadata": {
        "colab": {
          "base_uri": "https://localhost:8080/"
        },
        "id": "ChkyFqfs3ULo",
        "outputId": "4aff4c78-45da-4a0a-f654-90d6cbd2af43"
      },
      "execution_count": 28,
      "outputs": [
        {
          "output_type": "execute_result",
          "data": {
            "text/plain": [
              "(<tf.Tensor: shape=(8,), dtype=float32, numpy=array([ 2. ,  3.2,  7.4,  2.3,  8.9,  9.4, 10.4, 11.2], dtype=float32)>,\n",
              " <tf.Tensor: shape=(8,), dtype=float32, numpy=array([12. , 13.2, 17.4, 12.3, 18.9, 19.4, 20.4, 21.2], dtype=float32)>)"
            ]
          },
          "metadata": {},
          "execution_count": 28
        }
      ]
    },
    {
      "cell_type": "code",
      "source": [
        "# Try and make a prediction using our model\n",
        "y_pred = model.predict([17.2])\n",
        "y_pred"
      ],
      "metadata": {
        "colab": {
          "base_uri": "https://localhost:8080/"
        },
        "id": "qSx-r_jI1gwA",
        "outputId": "bc0acdae-5f09-45e9-e038-928dfa5c7ae0"
      },
      "execution_count": 29,
      "outputs": [
        {
          "output_type": "stream",
          "name": "stdout",
          "text": [
            "1/1 [==============================] - 0s 88ms/step\n"
          ]
        },
        {
          "output_type": "execute_result",
          "data": {
            "text/plain": [
              "array([[-14.270424]], dtype=float32)"
            ]
          },
          "metadata": {},
          "execution_count": 29
        }
      ]
    },
    {
      "cell_type": "code",
      "source": [
        "y_pred +15"
      ],
      "metadata": {
        "colab": {
          "base_uri": "https://localhost:8080/"
        },
        "id": "rUQ3Uz8q265D",
        "outputId": "89347c13-e36e-4948-9385-e0033335fef4"
      },
      "execution_count": 30,
      "outputs": [
        {
          "output_type": "execute_result",
          "data": {
            "text/plain": [
              "array([[0.7295761]], dtype=float32)"
            ]
          },
          "metadata": {},
          "execution_count": 30
        }
      ]
    },
    {
      "cell_type": "markdown",
      "source": [
        "## Improving a model\n",
        "\n",
        "How do you think you'd improve upon our current model?\n",
        "\n",
        "If you guessed by tweaking some of the things we did above, you'd be correct.\n",
        "\n",
        "To improve our model, we alter almost every part of the 3 steps we went through before.\n",
        "\n",
        "1. **Creating a model** - here you might want to add more layers, increase the number of hidden units (also called neurons) within each layer, change the activation functions of each layer.\n",
        "2. **Compiling a model** - you might want to choose optimization function or perhaps change the **learning rate** of the optimization function.\n",
        "3. **Fitting a model** - perhaps you could fit a model for more **epochs** (leave it training for longer) or on more data (give the model more examples to learn from).\n",
        "\n",
        "![various options you can use to improve a neural network model](https://raw.githubusercontent.com/mrdbourke/tensorflow-deep-learning/main/images/02-improving-a-model-from-model-perspective.png)\n",
        "*There are many different ways to potentially improve a neural network. Some of the most common include: increasing the number of layers (making the network deeper), increasing the number of hidden units (making the network wider) and changing the learning rate. Because these values are all human-changeable, they're referred to as [hyperparameters](https://en.wikipedia.org/wiki/Hyperparameter_(machine_learning)) and the practice of trying to find the best hyperparameters is referred to as [hyperparameter tuning](https://en.wikipedia.org/wiki/Hyperparameter_optimization).*\n",
        "\n",
        "Woah. We just introduced a bunch of possible steps. The important thing to remember is how you alter each of these will depend on the problem you're working on.\n",
        "\n",
        "And the good thing is, over the next few problems, we'll get hands-on with all of them.\n",
        "\n",
        "For now, let's keep it simple, all we'll do is train our model for longer (everything else will stay the same)."
      ],
      "metadata": {
        "id": "bj9YYT-J39J3"
      }
    },
    {
      "cell_type": "code",
      "source": [
        "# Rebuild the model\n",
        "# 1. Create the model\n",
        "model = tf.keras.Sequential([\n",
        "  tf.keras.layers.Dense(1)\n",
        "])\n",
        "\n",
        "# 2. Compile the model\n",
        "model.compile(loss=tf.keras.losses.mae,\n",
        "              optimizer=tf.keras.optimizers.SGD(),\n",
        "              metrics=[\"mae\"])\n",
        "\n",
        "# 3. Fit the model\n",
        "model.fit(tf.expand_dims(X, axis=-1),y,epochs=100)"
      ],
      "metadata": {
        "colab": {
          "base_uri": "https://localhost:8080/"
        },
        "id": "A5piCA9H3YU1",
        "outputId": "8a254eec-159d-43ec-ddc8-21774b63e8b0"
      },
      "execution_count": 43,
      "outputs": [
        {
          "output_type": "stream",
          "name": "stdout",
          "text": [
            "Epoch 1/100\n",
            "1/1 [==============================] - 0s 361ms/step - loss: 10.3761 - mae: 10.3761\n",
            "Epoch 2/100\n",
            "1/1 [==============================] - 0s 11ms/step - loss: 9.8969 - mae: 9.8969\n",
            "Epoch 3/100\n",
            "1/1 [==============================] - 0s 12ms/step - loss: 9.4176 - mae: 9.4176\n",
            "Epoch 4/100\n",
            "1/1 [==============================] - 0s 12ms/step - loss: 8.9384 - mae: 8.9384\n",
            "Epoch 5/100\n",
            "1/1 [==============================] - 0s 11ms/step - loss: 8.4592 - mae: 8.4592\n",
            "Epoch 6/100\n",
            "1/1 [==============================] - 0s 10ms/step - loss: 7.9800 - mae: 7.9800\n",
            "Epoch 7/100\n",
            "1/1 [==============================] - 0s 12ms/step - loss: 7.5007 - mae: 7.5007\n",
            "Epoch 8/100\n",
            "1/1 [==============================] - 0s 11ms/step - loss: 7.0215 - mae: 7.0215\n",
            "Epoch 9/100\n",
            "1/1 [==============================] - 0s 9ms/step - loss: 6.5423 - mae: 6.5423\n",
            "Epoch 10/100\n",
            "1/1 [==============================] - 0s 11ms/step - loss: 6.0631 - mae: 6.0631\n",
            "Epoch 11/100\n",
            "1/1 [==============================] - 0s 11ms/step - loss: 5.5838 - mae: 5.5838\n",
            "Epoch 12/100\n",
            "1/1 [==============================] - 0s 12ms/step - loss: 5.1046 - mae: 5.1046\n",
            "Epoch 13/100\n",
            "1/1 [==============================] - 0s 11ms/step - loss: 4.6254 - mae: 4.6254\n",
            "Epoch 14/100\n",
            "1/1 [==============================] - 0s 10ms/step - loss: 4.1462 - mae: 4.1462\n",
            "Epoch 15/100\n",
            "1/1 [==============================] - 0s 10ms/step - loss: 3.7334 - mae: 3.7334\n",
            "Epoch 16/100\n",
            "1/1 [==============================] - 0s 10ms/step - loss: 3.5638 - mae: 3.5638\n",
            "Epoch 17/100\n",
            "1/1 [==============================] - 0s 10ms/step - loss: 3.4941 - mae: 3.4941\n",
            "Epoch 18/100\n",
            "1/1 [==============================] - 0s 10ms/step - loss: 3.4706 - mae: 3.4706\n",
            "Epoch 19/100\n",
            "1/1 [==============================] - 0s 12ms/step - loss: 3.4471 - mae: 3.4471\n",
            "Epoch 20/100\n",
            "1/1 [==============================] - 0s 11ms/step - loss: 3.4235 - mae: 3.4235\n",
            "Epoch 21/100\n",
            "1/1 [==============================] - 0s 11ms/step - loss: 3.4000 - mae: 3.4000\n",
            "Epoch 22/100\n",
            "1/1 [==============================] - 0s 10ms/step - loss: 3.4068 - mae: 3.4068\n",
            "Epoch 23/100\n",
            "1/1 [==============================] - 0s 10ms/step - loss: 3.3981 - mae: 3.3981\n",
            "Epoch 24/100\n",
            "1/1 [==============================] - 0s 12ms/step - loss: 3.4001 - mae: 3.4001\n",
            "Epoch 25/100\n",
            "1/1 [==============================] - 0s 10ms/step - loss: 3.4012 - mae: 3.4012\n",
            "Epoch 26/100\n",
            "1/1 [==============================] - 0s 11ms/step - loss: 3.3925 - mae: 3.3925\n",
            "Epoch 27/100\n",
            "1/1 [==============================] - 0s 9ms/step - loss: 3.4002 - mae: 3.4002\n",
            "Epoch 28/100\n",
            "1/1 [==============================] - 0s 10ms/step - loss: 3.3955 - mae: 3.3955\n",
            "Epoch 29/100\n",
            "1/1 [==============================] - 0s 10ms/step - loss: 3.3884 - mae: 3.3884\n",
            "Epoch 30/100\n",
            "1/1 [==============================] - 0s 10ms/step - loss: 3.3986 - mae: 3.3986\n",
            "Epoch 31/100\n",
            "1/1 [==============================] - 0s 10ms/step - loss: 3.3899 - mae: 3.3899\n",
            "Epoch 32/100\n",
            "1/1 [==============================] - 0s 10ms/step - loss: 3.3885 - mae: 3.3885\n",
            "Epoch 33/100\n",
            "1/1 [==============================] - 0s 10ms/step - loss: 3.3930 - mae: 3.3930\n",
            "Epoch 34/100\n",
            "1/1 [==============================] - 0s 11ms/step - loss: 3.3842 - mae: 3.3842\n",
            "Epoch 35/100\n",
            "1/1 [==============================] - 0s 10ms/step - loss: 3.3886 - mae: 3.3886\n",
            "Epoch 36/100\n",
            "1/1 [==============================] - 0s 10ms/step - loss: 3.3873 - mae: 3.3873\n",
            "Epoch 37/100\n",
            "1/1 [==============================] - 0s 10ms/step - loss: 3.3786 - mae: 3.3786\n",
            "Epoch 38/100\n",
            "1/1 [==============================] - 0s 10ms/step - loss: 3.3887 - mae: 3.3887\n",
            "Epoch 39/100\n",
            "1/1 [==============================] - 0s 11ms/step - loss: 3.3817 - mae: 3.3817\n",
            "Epoch 40/100\n",
            "1/1 [==============================] - 0s 13ms/step - loss: 3.3769 - mae: 3.3769\n",
            "Epoch 41/100\n",
            "1/1 [==============================] - 0s 11ms/step - loss: 3.3847 - mae: 3.3847\n",
            "Epoch 42/100\n",
            "1/1 [==============================] - 0s 12ms/step - loss: 3.3760 - mae: 3.3760\n",
            "Epoch 43/100\n",
            "1/1 [==============================] - 0s 11ms/step - loss: 3.3770 - mae: 3.3770\n",
            "Epoch 44/100\n",
            "1/1 [==============================] - 0s 11ms/step - loss: 3.3791 - mae: 3.3791\n",
            "Epoch 45/100\n",
            "1/1 [==============================] - 0s 10ms/step - loss: 3.3704 - mae: 3.3704\n",
            "Epoch 46/100\n",
            "1/1 [==============================] - 0s 11ms/step - loss: 3.3771 - mae: 3.3771\n",
            "Epoch 47/100\n",
            "1/1 [==============================] - 0s 13ms/step - loss: 3.3734 - mae: 3.3734\n",
            "Epoch 48/100\n",
            "1/1 [==============================] - 0s 10ms/step - loss: 3.3654 - mae: 3.3654\n",
            "Epoch 49/100\n",
            "1/1 [==============================] - 0s 12ms/step - loss: 3.3765 - mae: 3.3765\n",
            "Epoch 50/100\n",
            "1/1 [==============================] - 0s 11ms/step - loss: 3.3678 - mae: 3.3678\n",
            "Epoch 51/100\n",
            "1/1 [==============================] - 0s 11ms/step - loss: 3.3654 - mae: 3.3654\n",
            "Epoch 52/100\n",
            "1/1 [==============================] - 0s 11ms/step - loss: 3.3709 - mae: 3.3709\n",
            "Epoch 53/100\n",
            "1/1 [==============================] - 0s 11ms/step - loss: 3.3621 - mae: 3.3621\n",
            "Epoch 54/100\n",
            "1/1 [==============================] - 0s 10ms/step - loss: 3.3655 - mae: 3.3655\n",
            "Epoch 55/100\n",
            "1/1 [==============================] - 0s 10ms/step - loss: 3.3652 - mae: 3.3652\n",
            "Epoch 56/100\n",
            "1/1 [==============================] - 0s 10ms/step - loss: 3.3565 - mae: 3.3565\n",
            "Epoch 57/100\n",
            "1/1 [==============================] - 0s 10ms/step - loss: 3.3656 - mae: 3.3656\n",
            "Epoch 58/100\n",
            "1/1 [==============================] - 0s 11ms/step - loss: 3.3596 - mae: 3.3596\n",
            "Epoch 59/100\n",
            "1/1 [==============================] - 0s 10ms/step - loss: 3.3539 - mae: 3.3539\n",
            "Epoch 60/100\n",
            "1/1 [==============================] - 0s 10ms/step - loss: 3.3626 - mae: 3.3626\n",
            "Epoch 61/100\n",
            "1/1 [==============================] - 0s 13ms/step - loss: 3.3539 - mae: 3.3539\n",
            "Epoch 62/100\n",
            "1/1 [==============================] - 0s 13ms/step - loss: 3.3539 - mae: 3.3539\n",
            "Epoch 63/100\n",
            "1/1 [==============================] - 0s 11ms/step - loss: 3.3570 - mae: 3.3570\n",
            "Epoch 64/100\n",
            "1/1 [==============================] - 0s 11ms/step - loss: 3.3483 - mae: 3.3483\n",
            "Epoch 65/100\n",
            "1/1 [==============================] - 0s 11ms/step - loss: 3.3540 - mae: 3.3540\n",
            "Epoch 66/100\n",
            "1/1 [==============================] - 0s 11ms/step - loss: 3.3513 - mae: 3.3513\n",
            "Epoch 67/100\n",
            "1/1 [==============================] - 0s 11ms/step - loss: 3.3426 - mae: 3.3426\n",
            "Epoch 68/100\n",
            "1/1 [==============================] - 0s 10ms/step - loss: 3.3541 - mae: 3.3541\n",
            "Epoch 69/100\n",
            "1/1 [==============================] - 0s 11ms/step - loss: 3.3457 - mae: 3.3457\n",
            "Epoch 70/100\n",
            "1/1 [==============================] - 0s 11ms/step - loss: 3.3424 - mae: 3.3424\n",
            "Epoch 71/100\n",
            "1/1 [==============================] - 0s 11ms/step - loss: 3.3488 - mae: 3.3488\n",
            "Epoch 72/100\n",
            "1/1 [==============================] - 0s 10ms/step - loss: 3.3400 - mae: 3.3400\n",
            "Epoch 73/100\n",
            "1/1 [==============================] - 0s 10ms/step - loss: 3.3424 - mae: 3.3424\n",
            "Epoch 74/100\n",
            "1/1 [==============================] - 0s 11ms/step - loss: 3.3431 - mae: 3.3431\n",
            "Epoch 75/100\n",
            "1/1 [==============================] - 0s 11ms/step - loss: 3.3344 - mae: 3.3344\n",
            "Epoch 76/100\n",
            "1/1 [==============================] - 0s 10ms/step - loss: 3.3425 - mae: 3.3425\n",
            "Epoch 77/100\n",
            "1/1 [==============================] - 0s 10ms/step - loss: 3.3375 - mae: 3.3375\n",
            "Epoch 78/100\n",
            "1/1 [==============================] - 0s 10ms/step - loss: 3.3308 - mae: 3.3308\n",
            "Epoch 79/100\n",
            "1/1 [==============================] - 0s 10ms/step - loss: 3.3405 - mae: 3.3405\n",
            "Epoch 80/100\n",
            "1/1 [==============================] - 0s 10ms/step - loss: 3.3318 - mae: 3.3318\n",
            "Epoch 81/100\n",
            "1/1 [==============================] - 0s 10ms/step - loss: 3.3309 - mae: 3.3309\n",
            "Epoch 82/100\n",
            "1/1 [==============================] - 0s 10ms/step - loss: 3.3349 - mae: 3.3349\n",
            "Epoch 83/100\n",
            "1/1 [==============================] - 0s 10ms/step - loss: 3.3262 - mae: 3.3262\n",
            "Epoch 84/100\n",
            "1/1 [==============================] - 0s 11ms/step - loss: 3.3309 - mae: 3.3309\n",
            "Epoch 85/100\n",
            "1/1 [==============================] - 0s 12ms/step - loss: 3.3292 - mae: 3.3292\n",
            "Epoch 86/100\n",
            "1/1 [==============================] - 0s 9ms/step - loss: 3.3205 - mae: 3.3205\n",
            "Epoch 87/100\n",
            "1/1 [==============================] - 0s 10ms/step - loss: 3.3310 - mae: 3.3310\n",
            "Epoch 88/100\n",
            "1/1 [==============================] - 0s 10ms/step - loss: 3.3236 - mae: 3.3236\n",
            "Epoch 89/100\n",
            "1/1 [==============================] - 0s 10ms/step - loss: 3.3193 - mae: 3.3193\n",
            "Epoch 90/100\n",
            "1/1 [==============================] - 0s 10ms/step - loss: 3.3267 - mae: 3.3267\n",
            "Epoch 91/100\n",
            "1/1 [==============================] - 0s 10ms/step - loss: 3.3179 - mae: 3.3179\n",
            "Epoch 92/100\n",
            "1/1 [==============================] - 0s 11ms/step - loss: 3.3194 - mae: 3.3194\n",
            "Epoch 93/100\n",
            "1/1 [==============================] - 0s 12ms/step - loss: 3.3210 - mae: 3.3210\n",
            "Epoch 94/100\n",
            "1/1 [==============================] - 0s 12ms/step - loss: 3.3123 - mae: 3.3123\n",
            "Epoch 95/100\n",
            "1/1 [==============================] - 0s 10ms/step - loss: 3.3194 - mae: 3.3194\n",
            "Epoch 96/100\n",
            "1/1 [==============================] - 0s 11ms/step - loss: 3.3154 - mae: 3.3154\n",
            "Epoch 97/100\n",
            "1/1 [==============================] - 0s 11ms/step - loss: 3.3077 - mae: 3.3077\n",
            "Epoch 98/100\n",
            "1/1 [==============================] - 0s 11ms/step - loss: 3.3184 - mae: 3.3184\n",
            "Epoch 99/100\n",
            "1/1 [==============================] - 0s 10ms/step - loss: 3.3097 - mae: 3.3097\n",
            "Epoch 100/100\n",
            "1/1 [==============================] - 0s 10ms/step - loss: 3.3078 - mae: 3.3078\n"
          ]
        },
        {
          "output_type": "execute_result",
          "data": {
            "text/plain": [
              "<keras.callbacks.History at 0x799cd9979f00>"
            ]
          },
          "metadata": {},
          "execution_count": 43
        }
      ]
    },
    {
      "cell_type": "markdown",
      "source": [
        "You might've noticed the loss value decrease from before (and keep decreasing as the number of epochs gets higher).\n",
        "\n",
        "What do you think this means for when we make a prediction with our model?\n",
        "\n",
        "How about we try predict on 17.0 again?"
      ],
      "metadata": {
        "id": "09YXS1M6bDLo"
      }
    },
    {
      "cell_type": "code",
      "source": [
        "# Remind ourselves of the data\n",
        "X,y"
      ],
      "metadata": {
        "colab": {
          "base_uri": "https://localhost:8080/"
        },
        "id": "6OIRB8WMaDlH",
        "outputId": "07a89fcc-6598-4256-cf64-8de5b474ad7a"
      },
      "execution_count": 44,
      "outputs": [
        {
          "output_type": "execute_result",
          "data": {
            "text/plain": [
              "(<tf.Tensor: shape=(8,), dtype=float32, numpy=array([ 2. ,  3.2,  7.4,  2.3,  8.9,  9.4, 10.4, 11.2], dtype=float32)>,\n",
              " <tf.Tensor: shape=(8,), dtype=float32, numpy=array([12. , 13.2, 17.4, 12.3, 18.9, 19.4, 20.4, 21.2], dtype=float32)>)"
            ]
          },
          "metadata": {},
          "execution_count": 44
        }
      ]
    },
    {
      "cell_type": "code",
      "source": [
        "# Let's see if our model's prediction has imporved\n",
        "model.predict([15])"
      ],
      "metadata": {
        "colab": {
          "base_uri": "https://localhost:8080/"
        },
        "id": "7eiuFvjYbGqX",
        "outputId": "22e87630-019e-402b-b6d4-41b113cfa4e9"
      },
      "execution_count": 45,
      "outputs": [
        {
          "output_type": "stream",
          "name": "stdout",
          "text": [
            "1/1 [==============================] - 0s 75ms/step\n"
          ]
        },
        {
          "output_type": "execute_result",
          "data": {
            "text/plain": [
              "array([[30.87135]], dtype=float32)"
            ]
          },
          "metadata": {},
          "execution_count": 45
        }
      ]
    },
    {
      "cell_type": "code",
      "source": [
        "# Test 1\n",
        "# 1. Build the model\n",
        "model = tf.keras.Sequential ([\n",
        "    tf.keras.layers.Dense(1)\n",
        "])\n",
        "\n",
        "# 2. Compile the model\n",
        "model.compile (loss = tf.keras.losses.mae,\n",
        "               optimizer = tf.keras.optimizers.Adam(learning_rate = 0.0001),\n",
        "               metrics = [\"mae\"])\n",
        "\n",
        "# 3. Fit the model\n",
        "model.fit(tf.expand_dims(X,axis=-1),y,epochs=100)"
      ],
      "metadata": {
        "colab": {
          "base_uri": "https://localhost:8080/"
        },
        "id": "4ApLs2l3PPEt",
        "outputId": "d143b455-8881-4a72-b0fd-ccb70561987f"
      },
      "execution_count": 46,
      "outputs": [
        {
          "output_type": "stream",
          "name": "stdout",
          "text": [
            "Epoch 1/100\n",
            "1/1 [==============================] - 0s 441ms/step - loss: 10.8851 - mae: 10.8851\n",
            "Epoch 2/100\n",
            "1/1 [==============================] - 0s 14ms/step - loss: 10.8843 - mae: 10.8843\n",
            "Epoch 3/100\n",
            "1/1 [==============================] - 0s 11ms/step - loss: 10.8836 - mae: 10.8836\n",
            "Epoch 4/100\n",
            "1/1 [==============================] - 0s 10ms/step - loss: 10.8828 - mae: 10.8828\n",
            "Epoch 5/100\n",
            "1/1 [==============================] - 0s 10ms/step - loss: 10.8820 - mae: 10.8820\n",
            "Epoch 6/100\n",
            "1/1 [==============================] - 0s 11ms/step - loss: 10.8812 - mae: 10.8812\n",
            "Epoch 7/100\n",
            "1/1 [==============================] - 0s 10ms/step - loss: 10.8804 - mae: 10.8804\n",
            "Epoch 8/100\n",
            "1/1 [==============================] - 0s 10ms/step - loss: 10.8796 - mae: 10.8796\n",
            "Epoch 9/100\n",
            "1/1 [==============================] - 0s 10ms/step - loss: 10.8788 - mae: 10.8788\n",
            "Epoch 10/100\n",
            "1/1 [==============================] - 0s 10ms/step - loss: 10.8781 - mae: 10.8781\n",
            "Epoch 11/100\n",
            "1/1 [==============================] - 0s 11ms/step - loss: 10.8773 - mae: 10.8773\n",
            "Epoch 12/100\n",
            "1/1 [==============================] - 0s 11ms/step - loss: 10.8765 - mae: 10.8765\n",
            "Epoch 13/100\n",
            "1/1 [==============================] - 0s 10ms/step - loss: 10.8757 - mae: 10.8757\n",
            "Epoch 14/100\n",
            "1/1 [==============================] - 0s 10ms/step - loss: 10.8749 - mae: 10.8749\n",
            "Epoch 15/100\n",
            "1/1 [==============================] - 0s 10ms/step - loss: 10.8741 - mae: 10.8741\n",
            "Epoch 16/100\n",
            "1/1 [==============================] - 0s 10ms/step - loss: 10.8734 - mae: 10.8734\n",
            "Epoch 17/100\n",
            "1/1 [==============================] - 0s 9ms/step - loss: 10.8726 - mae: 10.8726\n",
            "Epoch 18/100\n",
            "1/1 [==============================] - 0s 10ms/step - loss: 10.8718 - mae: 10.8718\n",
            "Epoch 19/100\n",
            "1/1 [==============================] - 0s 11ms/step - loss: 10.8710 - mae: 10.8710\n",
            "Epoch 20/100\n",
            "1/1 [==============================] - 0s 8ms/step - loss: 10.8702 - mae: 10.8702\n",
            "Epoch 21/100\n",
            "1/1 [==============================] - 0s 14ms/step - loss: 10.8694 - mae: 10.8694\n",
            "Epoch 22/100\n",
            "1/1 [==============================] - 0s 10ms/step - loss: 10.8686 - mae: 10.8686\n",
            "Epoch 23/100\n",
            "1/1 [==============================] - 0s 10ms/step - loss: 10.8679 - mae: 10.8679\n",
            "Epoch 24/100\n",
            "1/1 [==============================] - 0s 12ms/step - loss: 10.8671 - mae: 10.8671\n",
            "Epoch 25/100\n",
            "1/1 [==============================] - 0s 11ms/step - loss: 10.8663 - mae: 10.8663\n",
            "Epoch 26/100\n",
            "1/1 [==============================] - 0s 9ms/step - loss: 10.8655 - mae: 10.8655\n",
            "Epoch 27/100\n",
            "1/1 [==============================] - 0s 9ms/step - loss: 10.8647 - mae: 10.8647\n",
            "Epoch 28/100\n",
            "1/1 [==============================] - 0s 9ms/step - loss: 10.8639 - mae: 10.8639\n",
            "Epoch 29/100\n",
            "1/1 [==============================] - 0s 10ms/step - loss: 10.8631 - mae: 10.8631\n",
            "Epoch 30/100\n",
            "1/1 [==============================] - 0s 10ms/step - loss: 10.8624 - mae: 10.8624\n",
            "Epoch 31/100\n",
            "1/1 [==============================] - 0s 11ms/step - loss: 10.8616 - mae: 10.8616\n",
            "Epoch 32/100\n",
            "1/1 [==============================] - 0s 10ms/step - loss: 10.8608 - mae: 10.8608\n",
            "Epoch 33/100\n",
            "1/1 [==============================] - 0s 10ms/step - loss: 10.8600 - mae: 10.8600\n",
            "Epoch 34/100\n",
            "1/1 [==============================] - 0s 13ms/step - loss: 10.8592 - mae: 10.8592\n",
            "Epoch 35/100\n",
            "1/1 [==============================] - 0s 9ms/step - loss: 10.8584 - mae: 10.8584\n",
            "Epoch 36/100\n",
            "1/1 [==============================] - 0s 10ms/step - loss: 10.8576 - mae: 10.8576\n",
            "Epoch 37/100\n",
            "1/1 [==============================] - 0s 10ms/step - loss: 10.8569 - mae: 10.8569\n",
            "Epoch 38/100\n",
            "1/1 [==============================] - 0s 10ms/step - loss: 10.8561 - mae: 10.8561\n",
            "Epoch 39/100\n",
            "1/1 [==============================] - 0s 12ms/step - loss: 10.8553 - mae: 10.8553\n",
            "Epoch 40/100\n",
            "1/1 [==============================] - 0s 11ms/step - loss: 10.8545 - mae: 10.8545\n",
            "Epoch 41/100\n",
            "1/1 [==============================] - 0s 10ms/step - loss: 10.8537 - mae: 10.8537\n",
            "Epoch 42/100\n",
            "1/1 [==============================] - 0s 10ms/step - loss: 10.8529 - mae: 10.8529\n",
            "Epoch 43/100\n",
            "1/1 [==============================] - 0s 11ms/step - loss: 10.8522 - mae: 10.8522\n",
            "Epoch 44/100\n",
            "1/1 [==============================] - 0s 10ms/step - loss: 10.8514 - mae: 10.8514\n",
            "Epoch 45/100\n",
            "1/1 [==============================] - 0s 10ms/step - loss: 10.8506 - mae: 10.8506\n",
            "Epoch 46/100\n",
            "1/1 [==============================] - 0s 12ms/step - loss: 10.8498 - mae: 10.8498\n",
            "Epoch 47/100\n",
            "1/1 [==============================] - 0s 11ms/step - loss: 10.8490 - mae: 10.8490\n",
            "Epoch 48/100\n",
            "1/1 [==============================] - 0s 10ms/step - loss: 10.8482 - mae: 10.8482\n",
            "Epoch 49/100\n",
            "1/1 [==============================] - 0s 12ms/step - loss: 10.8474 - mae: 10.8474\n",
            "Epoch 50/100\n",
            "1/1 [==============================] - 0s 10ms/step - loss: 10.8467 - mae: 10.8467\n",
            "Epoch 51/100\n",
            "1/1 [==============================] - 0s 10ms/step - loss: 10.8459 - mae: 10.8459\n",
            "Epoch 52/100\n",
            "1/1 [==============================] - 0s 10ms/step - loss: 10.8451 - mae: 10.8451\n",
            "Epoch 53/100\n",
            "1/1 [==============================] - 0s 10ms/step - loss: 10.8443 - mae: 10.8443\n",
            "Epoch 54/100\n",
            "1/1 [==============================] - 0s 10ms/step - loss: 10.8435 - mae: 10.8435\n",
            "Epoch 55/100\n",
            "1/1 [==============================] - 0s 10ms/step - loss: 10.8427 - mae: 10.8427\n",
            "Epoch 56/100\n",
            "1/1 [==============================] - 0s 10ms/step - loss: 10.8419 - mae: 10.8419\n",
            "Epoch 57/100\n",
            "1/1 [==============================] - 0s 10ms/step - loss: 10.8412 - mae: 10.8412\n",
            "Epoch 58/100\n",
            "1/1 [==============================] - 0s 10ms/step - loss: 10.8404 - mae: 10.8404\n",
            "Epoch 59/100\n",
            "1/1 [==============================] - 0s 10ms/step - loss: 10.8396 - mae: 10.8396\n",
            "Epoch 60/100\n",
            "1/1 [==============================] - 0s 11ms/step - loss: 10.8388 - mae: 10.8388\n",
            "Epoch 61/100\n",
            "1/1 [==============================] - 0s 13ms/step - loss: 10.8380 - mae: 10.8380\n",
            "Epoch 62/100\n",
            "1/1 [==============================] - 0s 11ms/step - loss: 10.8372 - mae: 10.8372\n",
            "Epoch 63/100\n",
            "1/1 [==============================] - 0s 10ms/step - loss: 10.8365 - mae: 10.8365\n",
            "Epoch 64/100\n",
            "1/1 [==============================] - 0s 12ms/step - loss: 10.8357 - mae: 10.8357\n",
            "Epoch 65/100\n",
            "1/1 [==============================] - 0s 11ms/step - loss: 10.8349 - mae: 10.8349\n",
            "Epoch 66/100\n",
            "1/1 [==============================] - 0s 12ms/step - loss: 10.8341 - mae: 10.8341\n",
            "Epoch 67/100\n",
            "1/1 [==============================] - 0s 9ms/step - loss: 10.8333 - mae: 10.8333\n",
            "Epoch 68/100\n",
            "1/1 [==============================] - 0s 10ms/step - loss: 10.8325 - mae: 10.8325\n",
            "Epoch 69/100\n",
            "1/1 [==============================] - 0s 10ms/step - loss: 10.8317 - mae: 10.8317\n",
            "Epoch 70/100\n",
            "1/1 [==============================] - 0s 11ms/step - loss: 10.8310 - mae: 10.8310\n",
            "Epoch 71/100\n",
            "1/1 [==============================] - 0s 10ms/step - loss: 10.8302 - mae: 10.8302\n",
            "Epoch 72/100\n",
            "1/1 [==============================] - 0s 11ms/step - loss: 10.8294 - mae: 10.8294\n",
            "Epoch 73/100\n",
            "1/1 [==============================] - 0s 9ms/step - loss: 10.8286 - mae: 10.8286\n",
            "Epoch 74/100\n",
            "1/1 [==============================] - 0s 10ms/step - loss: 10.8278 - mae: 10.8278\n",
            "Epoch 75/100\n",
            "1/1 [==============================] - 0s 9ms/step - loss: 10.8270 - mae: 10.8270\n",
            "Epoch 76/100\n",
            "1/1 [==============================] - 0s 10ms/step - loss: 10.8262 - mae: 10.8262\n",
            "Epoch 77/100\n",
            "1/1 [==============================] - 0s 11ms/step - loss: 10.8255 - mae: 10.8255\n",
            "Epoch 78/100\n",
            "1/1 [==============================] - 0s 10ms/step - loss: 10.8247 - mae: 10.8247\n",
            "Epoch 79/100\n",
            "1/1 [==============================] - 0s 9ms/step - loss: 10.8239 - mae: 10.8239\n",
            "Epoch 80/100\n",
            "1/1 [==============================] - 0s 10ms/step - loss: 10.8231 - mae: 10.8231\n",
            "Epoch 81/100\n",
            "1/1 [==============================] - 0s 10ms/step - loss: 10.8223 - mae: 10.8223\n",
            "Epoch 82/100\n",
            "1/1 [==============================] - 0s 10ms/step - loss: 10.8215 - mae: 10.8215\n",
            "Epoch 83/100\n",
            "1/1 [==============================] - 0s 9ms/step - loss: 10.8207 - mae: 10.8207\n",
            "Epoch 84/100\n",
            "1/1 [==============================] - 0s 10ms/step - loss: 10.8200 - mae: 10.8200\n",
            "Epoch 85/100\n",
            "1/1 [==============================] - 0s 11ms/step - loss: 10.8192 - mae: 10.8192\n",
            "Epoch 86/100\n",
            "1/1 [==============================] - 0s 10ms/step - loss: 10.8184 - mae: 10.8184\n",
            "Epoch 87/100\n",
            "1/1 [==============================] - 0s 11ms/step - loss: 10.8176 - mae: 10.8176\n",
            "Epoch 88/100\n",
            "1/1 [==============================] - 0s 10ms/step - loss: 10.8168 - mae: 10.8168\n",
            "Epoch 89/100\n",
            "1/1 [==============================] - 0s 10ms/step - loss: 10.8160 - mae: 10.8160\n",
            "Epoch 90/100\n",
            "1/1 [==============================] - 0s 10ms/step - loss: 10.8153 - mae: 10.8153\n",
            "Epoch 91/100\n",
            "1/1 [==============================] - 0s 10ms/step - loss: 10.8145 - mae: 10.8145\n",
            "Epoch 92/100\n",
            "1/1 [==============================] - 0s 11ms/step - loss: 10.8137 - mae: 10.8137\n",
            "Epoch 93/100\n",
            "1/1 [==============================] - 0s 11ms/step - loss: 10.8129 - mae: 10.8129\n",
            "Epoch 94/100\n",
            "1/1 [==============================] - 0s 10ms/step - loss: 10.8121 - mae: 10.8121\n",
            "Epoch 95/100\n",
            "1/1 [==============================] - 0s 11ms/step - loss: 10.8113 - mae: 10.8113\n",
            "Epoch 96/100\n",
            "1/1 [==============================] - 0s 11ms/step - loss: 10.8105 - mae: 10.8105\n",
            "Epoch 97/100\n",
            "1/1 [==============================] - 0s 12ms/step - loss: 10.8098 - mae: 10.8098\n",
            "Epoch 98/100\n",
            "1/1 [==============================] - 0s 11ms/step - loss: 10.8090 - mae: 10.8090\n",
            "Epoch 99/100\n",
            "1/1 [==============================] - 0s 10ms/step - loss: 10.8082 - mae: 10.8082\n",
            "Epoch 100/100\n",
            "1/1 [==============================] - 0s 10ms/step - loss: 10.8074 - mae: 10.8074\n"
          ]
        },
        {
          "output_type": "execute_result",
          "data": {
            "text/plain": [
              "<keras.callbacks.History at 0x799cd81daad0>"
            ]
          },
          "metadata": {},
          "execution_count": 46
        }
      ]
    },
    {
      "cell_type": "code",
      "source": [
        "# Test 2\n",
        "# 1. Create the model\n",
        "model = tf.keras.Sequential([\n",
        "    tf.keras.layers.Dense(100,activation=None),\n",
        "    tf.keras.layers.Dense(1)\n",
        "])\n",
        "\n",
        "# 2. Compile the model\n",
        "model.compile(loss=tf.keras.losses.mae,\n",
        "              optimizer=tf.keras.optimizers.Adam(learning_rate=0.0001),\n",
        "              metrics=[\"mae\"])\n",
        "\n",
        "# 3. Fit the model\n",
        "model.fit(tf.expand_dims(X,axis=-1),y,epochs=100)"
      ],
      "metadata": {
        "colab": {
          "base_uri": "https://localhost:8080/"
        },
        "id": "zrJBI5NhbUgX",
        "outputId": "e369a9fb-702b-44db-a3a4-8c3ebdd91650"
      },
      "execution_count": 47,
      "outputs": [
        {
          "output_type": "stream",
          "name": "stdout",
          "text": [
            "Epoch 1/100\n",
            "1/1 [==============================] - 1s 855ms/step - loss: 16.9442 - mae: 16.9442\n",
            "Epoch 2/100\n",
            "1/1 [==============================] - 0s 16ms/step - loss: 16.9261 - mae: 16.9261\n",
            "Epoch 3/100\n",
            "1/1 [==============================] - 0s 17ms/step - loss: 16.9080 - mae: 16.9080\n",
            "Epoch 4/100\n",
            "1/1 [==============================] - 0s 11ms/step - loss: 16.8899 - mae: 16.8899\n",
            "Epoch 5/100\n",
            "1/1 [==============================] - 0s 16ms/step - loss: 16.8718 - mae: 16.8718\n",
            "Epoch 6/100\n",
            "1/1 [==============================] - 0s 15ms/step - loss: 16.8537 - mae: 16.8537\n",
            "Epoch 7/100\n",
            "1/1 [==============================] - 0s 11ms/step - loss: 16.8356 - mae: 16.8356\n",
            "Epoch 8/100\n",
            "1/1 [==============================] - 0s 11ms/step - loss: 16.8175 - mae: 16.8175\n",
            "Epoch 9/100\n",
            "1/1 [==============================] - 0s 13ms/step - loss: 16.7994 - mae: 16.7994\n",
            "Epoch 10/100\n",
            "1/1 [==============================] - 0s 13ms/step - loss: 16.7813 - mae: 16.7813\n",
            "Epoch 11/100\n",
            "1/1 [==============================] - 0s 13ms/step - loss: 16.7632 - mae: 16.7632\n",
            "Epoch 12/100\n",
            "1/1 [==============================] - 0s 13ms/step - loss: 16.7451 - mae: 16.7451\n",
            "Epoch 13/100\n",
            "1/1 [==============================] - 0s 14ms/step - loss: 16.7270 - mae: 16.7270\n",
            "Epoch 14/100\n",
            "1/1 [==============================] - 0s 12ms/step - loss: 16.7089 - mae: 16.7089\n",
            "Epoch 15/100\n",
            "1/1 [==============================] - 0s 13ms/step - loss: 16.6908 - mae: 16.6908\n",
            "Epoch 16/100\n",
            "1/1 [==============================] - 0s 11ms/step - loss: 16.6727 - mae: 16.6727\n",
            "Epoch 17/100\n",
            "1/1 [==============================] - 0s 15ms/step - loss: 16.6546 - mae: 16.6546\n",
            "Epoch 18/100\n",
            "1/1 [==============================] - 0s 13ms/step - loss: 16.6365 - mae: 16.6365\n",
            "Epoch 19/100\n",
            "1/1 [==============================] - 0s 12ms/step - loss: 16.6184 - mae: 16.6184\n",
            "Epoch 20/100\n",
            "1/1 [==============================] - 0s 14ms/step - loss: 16.6002 - mae: 16.6002\n",
            "Epoch 21/100\n",
            "1/1 [==============================] - 0s 12ms/step - loss: 16.5821 - mae: 16.5821\n",
            "Epoch 22/100\n",
            "1/1 [==============================] - 0s 10ms/step - loss: 16.5640 - mae: 16.5640\n",
            "Epoch 23/100\n",
            "1/1 [==============================] - 0s 12ms/step - loss: 16.5459 - mae: 16.5459\n",
            "Epoch 24/100\n",
            "1/1 [==============================] - 0s 15ms/step - loss: 16.5278 - mae: 16.5278\n",
            "Epoch 25/100\n",
            "1/1 [==============================] - 0s 11ms/step - loss: 16.5097 - mae: 16.5097\n",
            "Epoch 26/100\n",
            "1/1 [==============================] - 0s 11ms/step - loss: 16.4915 - mae: 16.4915\n",
            "Epoch 27/100\n",
            "1/1 [==============================] - 0s 10ms/step - loss: 16.4734 - mae: 16.4734\n",
            "Epoch 28/100\n",
            "1/1 [==============================] - 0s 10ms/step - loss: 16.4553 - mae: 16.4553\n",
            "Epoch 29/100\n",
            "1/1 [==============================] - 0s 13ms/step - loss: 16.4371 - mae: 16.4371\n",
            "Epoch 30/100\n",
            "1/1 [==============================] - 0s 12ms/step - loss: 16.4190 - mae: 16.4190\n",
            "Epoch 31/100\n",
            "1/1 [==============================] - 0s 14ms/step - loss: 16.4009 - mae: 16.4009\n",
            "Epoch 32/100\n",
            "1/1 [==============================] - 0s 11ms/step - loss: 16.3827 - mae: 16.3827\n",
            "Epoch 33/100\n",
            "1/1 [==============================] - 0s 10ms/step - loss: 16.3646 - mae: 16.3646\n",
            "Epoch 34/100\n",
            "1/1 [==============================] - 0s 11ms/step - loss: 16.3465 - mae: 16.3465\n",
            "Epoch 35/100\n",
            "1/1 [==============================] - 0s 14ms/step - loss: 16.3283 - mae: 16.3283\n",
            "Epoch 36/100\n",
            "1/1 [==============================] - 0s 11ms/step - loss: 16.3102 - mae: 16.3102\n",
            "Epoch 37/100\n",
            "1/1 [==============================] - 0s 10ms/step - loss: 16.2920 - mae: 16.2920\n",
            "Epoch 38/100\n",
            "1/1 [==============================] - 0s 13ms/step - loss: 16.2739 - mae: 16.2739\n",
            "Epoch 39/100\n",
            "1/1 [==============================] - 0s 12ms/step - loss: 16.2557 - mae: 16.2557\n",
            "Epoch 40/100\n",
            "1/1 [==============================] - 0s 12ms/step - loss: 16.2375 - mae: 16.2375\n",
            "Epoch 41/100\n",
            "1/1 [==============================] - 0s 17ms/step - loss: 16.2194 - mae: 16.2194\n",
            "Epoch 42/100\n",
            "1/1 [==============================] - 0s 11ms/step - loss: 16.2012 - mae: 16.2012\n",
            "Epoch 43/100\n",
            "1/1 [==============================] - 0s 17ms/step - loss: 16.1830 - mae: 16.1830\n",
            "Epoch 44/100\n",
            "1/1 [==============================] - 0s 14ms/step - loss: 16.1649 - mae: 16.1649\n",
            "Epoch 45/100\n",
            "1/1 [==============================] - 0s 15ms/step - loss: 16.1467 - mae: 16.1467\n",
            "Epoch 46/100\n",
            "1/1 [==============================] - 0s 15ms/step - loss: 16.1285 - mae: 16.1285\n",
            "Epoch 47/100\n",
            "1/1 [==============================] - 0s 12ms/step - loss: 16.1103 - mae: 16.1103\n",
            "Epoch 48/100\n",
            "1/1 [==============================] - 0s 13ms/step - loss: 16.0921 - mae: 16.0921\n",
            "Epoch 49/100\n",
            "1/1 [==============================] - 0s 14ms/step - loss: 16.0740 - mae: 16.0740\n",
            "Epoch 50/100\n",
            "1/1 [==============================] - 0s 12ms/step - loss: 16.0558 - mae: 16.0558\n",
            "Epoch 51/100\n",
            "1/1 [==============================] - 0s 13ms/step - loss: 16.0376 - mae: 16.0376\n",
            "Epoch 52/100\n",
            "1/1 [==============================] - 0s 15ms/step - loss: 16.0194 - mae: 16.0194\n",
            "Epoch 53/100\n",
            "1/1 [==============================] - 0s 12ms/step - loss: 16.0012 - mae: 16.0012\n",
            "Epoch 54/100\n",
            "1/1 [==============================] - 0s 11ms/step - loss: 15.9830 - mae: 15.9830\n",
            "Epoch 55/100\n",
            "1/1 [==============================] - 0s 11ms/step - loss: 15.9648 - mae: 15.9648\n",
            "Epoch 56/100\n",
            "1/1 [==============================] - 0s 12ms/step - loss: 15.9465 - mae: 15.9465\n",
            "Epoch 57/100\n",
            "1/1 [==============================] - 0s 14ms/step - loss: 15.9283 - mae: 15.9283\n",
            "Epoch 58/100\n",
            "1/1 [==============================] - 0s 11ms/step - loss: 15.9101 - mae: 15.9101\n",
            "Epoch 59/100\n",
            "1/1 [==============================] - 0s 12ms/step - loss: 15.8919 - mae: 15.8919\n",
            "Epoch 60/100\n",
            "1/1 [==============================] - 0s 12ms/step - loss: 15.8736 - mae: 15.8736\n",
            "Epoch 61/100\n",
            "1/1 [==============================] - 0s 10ms/step - loss: 15.8554 - mae: 15.8554\n",
            "Epoch 62/100\n",
            "1/1 [==============================] - 0s 10ms/step - loss: 15.8372 - mae: 15.8372\n",
            "Epoch 63/100\n",
            "1/1 [==============================] - 0s 10ms/step - loss: 15.8189 - mae: 15.8189\n",
            "Epoch 64/100\n",
            "1/1 [==============================] - 0s 10ms/step - loss: 15.8007 - mae: 15.8007\n",
            "Epoch 65/100\n",
            "1/1 [==============================] - 0s 10ms/step - loss: 15.7824 - mae: 15.7824\n",
            "Epoch 66/100\n",
            "1/1 [==============================] - 0s 11ms/step - loss: 15.7642 - mae: 15.7642\n",
            "Epoch 67/100\n",
            "1/1 [==============================] - 0s 11ms/step - loss: 15.7459 - mae: 15.7459\n",
            "Epoch 68/100\n",
            "1/1 [==============================] - 0s 10ms/step - loss: 15.7276 - mae: 15.7276\n",
            "Epoch 69/100\n",
            "1/1 [==============================] - 0s 10ms/step - loss: 15.7094 - mae: 15.7094\n",
            "Epoch 70/100\n",
            "1/1 [==============================] - 0s 9ms/step - loss: 15.6911 - mae: 15.6911\n",
            "Epoch 71/100\n",
            "1/1 [==============================] - 0s 10ms/step - loss: 15.6728 - mae: 15.6728\n",
            "Epoch 72/100\n",
            "1/1 [==============================] - 0s 10ms/step - loss: 15.6545 - mae: 15.6545\n",
            "Epoch 73/100\n",
            "1/1 [==============================] - 0s 9ms/step - loss: 15.6362 - mae: 15.6362\n",
            "Epoch 74/100\n",
            "1/1 [==============================] - 0s 10ms/step - loss: 15.6179 - mae: 15.6179\n",
            "Epoch 75/100\n",
            "1/1 [==============================] - 0s 10ms/step - loss: 15.5996 - mae: 15.5996\n",
            "Epoch 76/100\n",
            "1/1 [==============================] - 0s 10ms/step - loss: 15.5813 - mae: 15.5813\n",
            "Epoch 77/100\n",
            "1/1 [==============================] - 0s 10ms/step - loss: 15.5630 - mae: 15.5630\n",
            "Epoch 78/100\n",
            "1/1 [==============================] - 0s 10ms/step - loss: 15.5447 - mae: 15.5447\n",
            "Epoch 79/100\n",
            "1/1 [==============================] - 0s 10ms/step - loss: 15.5264 - mae: 15.5264\n",
            "Epoch 80/100\n",
            "1/1 [==============================] - 0s 10ms/step - loss: 15.5080 - mae: 15.5080\n",
            "Epoch 81/100\n",
            "1/1 [==============================] - 0s 10ms/step - loss: 15.4897 - mae: 15.4897\n",
            "Epoch 82/100\n",
            "1/1 [==============================] - 0s 11ms/step - loss: 15.4714 - mae: 15.4714\n",
            "Epoch 83/100\n",
            "1/1 [==============================] - 0s 10ms/step - loss: 15.4530 - mae: 15.4530\n",
            "Epoch 84/100\n",
            "1/1 [==============================] - 0s 10ms/step - loss: 15.4347 - mae: 15.4347\n",
            "Epoch 85/100\n",
            "1/1 [==============================] - 0s 9ms/step - loss: 15.4163 - mae: 15.4163\n",
            "Epoch 86/100\n",
            "1/1 [==============================] - 0s 10ms/step - loss: 15.3980 - mae: 15.3980\n",
            "Epoch 87/100\n",
            "1/1 [==============================] - 0s 11ms/step - loss: 15.3796 - mae: 15.3796\n",
            "Epoch 88/100\n",
            "1/1 [==============================] - 0s 11ms/step - loss: 15.3612 - mae: 15.3612\n",
            "Epoch 89/100\n",
            "1/1 [==============================] - 0s 10ms/step - loss: 15.3429 - mae: 15.3429\n",
            "Epoch 90/100\n",
            "1/1 [==============================] - 0s 10ms/step - loss: 15.3245 - mae: 15.3245\n",
            "Epoch 91/100\n",
            "1/1 [==============================] - 0s 10ms/step - loss: 15.3061 - mae: 15.3061\n",
            "Epoch 92/100\n",
            "1/1 [==============================] - 0s 11ms/step - loss: 15.2877 - mae: 15.2877\n",
            "Epoch 93/100\n",
            "1/1 [==============================] - 0s 15ms/step - loss: 15.2693 - mae: 15.2693\n",
            "Epoch 94/100\n",
            "1/1 [==============================] - 0s 12ms/step - loss: 15.2509 - mae: 15.2509\n",
            "Epoch 95/100\n",
            "1/1 [==============================] - 0s 10ms/step - loss: 15.2325 - mae: 15.2325\n",
            "Epoch 96/100\n",
            "1/1 [==============================] - 0s 10ms/step - loss: 15.2141 - mae: 15.2141\n",
            "Epoch 97/100\n",
            "1/1 [==============================] - 0s 10ms/step - loss: 15.1956 - mae: 15.1956\n",
            "Epoch 98/100\n",
            "1/1 [==============================] - 0s 13ms/step - loss: 15.1772 - mae: 15.1772\n",
            "Epoch 99/100\n",
            "1/1 [==============================] - 0s 13ms/step - loss: 15.1588 - mae: 15.1588\n",
            "Epoch 100/100\n",
            "1/1 [==============================] - 0s 10ms/step - loss: 15.1403 - mae: 15.1403\n"
          ]
        },
        {
          "output_type": "execute_result",
          "data": {
            "text/plain": [
              "<keras.callbacks.History at 0x799cc6f35c00>"
            ]
          },
          "metadata": {},
          "execution_count": 47
        }
      ]
    },
    {
      "cell_type": "code",
      "source": [
        "# Test 3\n",
        "# 1. Create the model\n",
        "model = tf.keras.Sequential([\n",
        "    tf.keras.layers.Dense(50,activation=\"relu\"),\n",
        "    tf.keras.layers.Dense(1)\n",
        "])\n",
        "\n",
        "# 2. Compilse the model\n",
        "model.compile(loss=tf.keras.losses.mae,\n",
        "             optimizer = tf.keras.optimizers.Adam(learning_rate= 0.0001),\n",
        "             metrics=[\"mae\"])\n",
        "\n",
        "# 3. Fit the model\n",
        "model.fit(tf.expand_dims(X,axis=-1),y,epochs=100)"
      ],
      "metadata": {
        "colab": {
          "base_uri": "https://localhost:8080/"
        },
        "id": "66rF5G8TiI2j",
        "outputId": "57d12a79-1bc9-4133-8603-93f9c5f99ddc"
      },
      "execution_count": 48,
      "outputs": [
        {
          "output_type": "stream",
          "name": "stdout",
          "text": [
            "Epoch 1/100\n",
            "1/1 [==============================] - 1s 591ms/step - loss: 15.5032 - mae: 15.5032\n",
            "Epoch 2/100\n",
            "1/1 [==============================] - 0s 12ms/step - loss: 15.4969 - mae: 15.4969\n",
            "Epoch 3/100\n",
            "1/1 [==============================] - 0s 12ms/step - loss: 15.4906 - mae: 15.4906\n",
            "Epoch 4/100\n",
            "1/1 [==============================] - 0s 13ms/step - loss: 15.4844 - mae: 15.4844\n",
            "Epoch 5/100\n",
            "1/1 [==============================] - 0s 11ms/step - loss: 15.4781 - mae: 15.4781\n",
            "Epoch 6/100\n",
            "1/1 [==============================] - 0s 10ms/step - loss: 15.4718 - mae: 15.4718\n",
            "Epoch 7/100\n",
            "1/1 [==============================] - 0s 11ms/step - loss: 15.4655 - mae: 15.4655\n",
            "Epoch 8/100\n",
            "1/1 [==============================] - 0s 16ms/step - loss: 15.4592 - mae: 15.4592\n",
            "Epoch 9/100\n",
            "1/1 [==============================] - 0s 8ms/step - loss: 15.4529 - mae: 15.4529\n",
            "Epoch 10/100\n",
            "1/1 [==============================] - 0s 11ms/step - loss: 15.4466 - mae: 15.4466\n",
            "Epoch 11/100\n",
            "1/1 [==============================] - 0s 10ms/step - loss: 15.4403 - mae: 15.4403\n",
            "Epoch 12/100\n",
            "1/1 [==============================] - 0s 10ms/step - loss: 15.4340 - mae: 15.4340\n",
            "Epoch 13/100\n",
            "1/1 [==============================] - 0s 12ms/step - loss: 15.4277 - mae: 15.4277\n",
            "Epoch 14/100\n",
            "1/1 [==============================] - 0s 12ms/step - loss: 15.4214 - mae: 15.4214\n",
            "Epoch 15/100\n",
            "1/1 [==============================] - 0s 12ms/step - loss: 15.4151 - mae: 15.4151\n",
            "Epoch 16/100\n",
            "1/1 [==============================] - 0s 12ms/step - loss: 15.4088 - mae: 15.4088\n",
            "Epoch 17/100\n",
            "1/1 [==============================] - 0s 11ms/step - loss: 15.4025 - mae: 15.4025\n",
            "Epoch 18/100\n",
            "1/1 [==============================] - 0s 17ms/step - loss: 15.3962 - mae: 15.3962\n",
            "Epoch 19/100\n",
            "1/1 [==============================] - 0s 11ms/step - loss: 15.3899 - mae: 15.3899\n",
            "Epoch 20/100\n",
            "1/1 [==============================] - 0s 10ms/step - loss: 15.3836 - mae: 15.3836\n",
            "Epoch 21/100\n",
            "1/1 [==============================] - 0s 10ms/step - loss: 15.3773 - mae: 15.3773\n",
            "Epoch 22/100\n",
            "1/1 [==============================] - 0s 10ms/step - loss: 15.3710 - mae: 15.3710\n",
            "Epoch 23/100\n",
            "1/1 [==============================] - 0s 9ms/step - loss: 15.3646 - mae: 15.3646\n",
            "Epoch 24/100\n",
            "1/1 [==============================] - 0s 10ms/step - loss: 15.3583 - mae: 15.3583\n",
            "Epoch 25/100\n",
            "1/1 [==============================] - 0s 10ms/step - loss: 15.3520 - mae: 15.3520\n",
            "Epoch 26/100\n",
            "1/1 [==============================] - 0s 10ms/step - loss: 15.3457 - mae: 15.3457\n",
            "Epoch 27/100\n",
            "1/1 [==============================] - 0s 10ms/step - loss: 15.3394 - mae: 15.3394\n",
            "Epoch 28/100\n",
            "1/1 [==============================] - 0s 9ms/step - loss: 15.3331 - mae: 15.3331\n",
            "Epoch 29/100\n",
            "1/1 [==============================] - 0s 10ms/step - loss: 15.3267 - mae: 15.3267\n",
            "Epoch 30/100\n",
            "1/1 [==============================] - 0s 8ms/step - loss: 15.3204 - mae: 15.3204\n",
            "Epoch 31/100\n",
            "1/1 [==============================] - 0s 8ms/step - loss: 15.3141 - mae: 15.3141\n",
            "Epoch 32/100\n",
            "1/1 [==============================] - 0s 10ms/step - loss: 15.3078 - mae: 15.3078\n",
            "Epoch 33/100\n",
            "1/1 [==============================] - 0s 8ms/step - loss: 15.3015 - mae: 15.3015\n",
            "Epoch 34/100\n",
            "1/1 [==============================] - 0s 8ms/step - loss: 15.2951 - mae: 15.2951\n",
            "Epoch 35/100\n",
            "1/1 [==============================] - 0s 9ms/step - loss: 15.2888 - mae: 15.2888\n",
            "Epoch 36/100\n",
            "1/1 [==============================] - 0s 10ms/step - loss: 15.2825 - mae: 15.2825\n",
            "Epoch 37/100\n",
            "1/1 [==============================] - 0s 9ms/step - loss: 15.2761 - mae: 15.2761\n",
            "Epoch 38/100\n",
            "1/1 [==============================] - 0s 10ms/step - loss: 15.2698 - mae: 15.2698\n",
            "Epoch 39/100\n",
            "1/1 [==============================] - 0s 9ms/step - loss: 15.2635 - mae: 15.2635\n",
            "Epoch 40/100\n",
            "1/1 [==============================] - 0s 11ms/step - loss: 15.2571 - mae: 15.2571\n",
            "Epoch 41/100\n",
            "1/1 [==============================] - 0s 14ms/step - loss: 15.2508 - mae: 15.2508\n",
            "Epoch 42/100\n",
            "1/1 [==============================] - 0s 11ms/step - loss: 15.2445 - mae: 15.2445\n",
            "Epoch 43/100\n",
            "1/1 [==============================] - 0s 8ms/step - loss: 15.2381 - mae: 15.2381\n",
            "Epoch 44/100\n",
            "1/1 [==============================] - 0s 14ms/step - loss: 15.2318 - mae: 15.2318\n",
            "Epoch 45/100\n",
            "1/1 [==============================] - 0s 13ms/step - loss: 15.2254 - mae: 15.2254\n",
            "Epoch 46/100\n",
            "1/1 [==============================] - 0s 10ms/step - loss: 15.2191 - mae: 15.2191\n",
            "Epoch 47/100\n",
            "1/1 [==============================] - 0s 10ms/step - loss: 15.2128 - mae: 15.2128\n",
            "Epoch 48/100\n",
            "1/1 [==============================] - 0s 9ms/step - loss: 15.2064 - mae: 15.2064\n",
            "Epoch 49/100\n",
            "1/1 [==============================] - 0s 10ms/step - loss: 15.2001 - mae: 15.2001\n",
            "Epoch 50/100\n",
            "1/1 [==============================] - 0s 11ms/step - loss: 15.1937 - mae: 15.1937\n",
            "Epoch 51/100\n",
            "1/1 [==============================] - 0s 11ms/step - loss: 15.1874 - mae: 15.1874\n",
            "Epoch 52/100\n",
            "1/1 [==============================] - 0s 10ms/step - loss: 15.1810 - mae: 15.1810\n",
            "Epoch 53/100\n",
            "1/1 [==============================] - 0s 10ms/step - loss: 15.1746 - mae: 15.1746\n",
            "Epoch 54/100\n",
            "1/1 [==============================] - 0s 9ms/step - loss: 15.1683 - mae: 15.1683\n",
            "Epoch 55/100\n",
            "1/1 [==============================] - 0s 13ms/step - loss: 15.1619 - mae: 15.1619\n",
            "Epoch 56/100\n",
            "1/1 [==============================] - 0s 9ms/step - loss: 15.1556 - mae: 15.1556\n",
            "Epoch 57/100\n",
            "1/1 [==============================] - 0s 9ms/step - loss: 15.1492 - mae: 15.1492\n",
            "Epoch 58/100\n",
            "1/1 [==============================] - 0s 9ms/step - loss: 15.1428 - mae: 15.1428\n",
            "Epoch 59/100\n",
            "1/1 [==============================] - 0s 9ms/step - loss: 15.1365 - mae: 15.1365\n",
            "Epoch 60/100\n",
            "1/1 [==============================] - 0s 10ms/step - loss: 15.1301 - mae: 15.1301\n",
            "Epoch 61/100\n",
            "1/1 [==============================] - 0s 11ms/step - loss: 15.1237 - mae: 15.1237\n",
            "Epoch 62/100\n",
            "1/1 [==============================] - 0s 12ms/step - loss: 15.1174 - mae: 15.1174\n",
            "Epoch 63/100\n",
            "1/1 [==============================] - 0s 12ms/step - loss: 15.1110 - mae: 15.1110\n",
            "Epoch 64/100\n",
            "1/1 [==============================] - 0s 12ms/step - loss: 15.1046 - mae: 15.1046\n",
            "Epoch 65/100\n",
            "1/1 [==============================] - 0s 12ms/step - loss: 15.0983 - mae: 15.0983\n",
            "Epoch 66/100\n",
            "1/1 [==============================] - 0s 11ms/step - loss: 15.0919 - mae: 15.0919\n",
            "Epoch 67/100\n",
            "1/1 [==============================] - 0s 12ms/step - loss: 15.0855 - mae: 15.0855\n",
            "Epoch 68/100\n",
            "1/1 [==============================] - 0s 11ms/step - loss: 15.0791 - mae: 15.0791\n",
            "Epoch 69/100\n",
            "1/1 [==============================] - 0s 11ms/step - loss: 15.0727 - mae: 15.0727\n",
            "Epoch 70/100\n",
            "1/1 [==============================] - 0s 11ms/step - loss: 15.0664 - mae: 15.0664\n",
            "Epoch 71/100\n",
            "1/1 [==============================] - 0s 11ms/step - loss: 15.0600 - mae: 15.0600\n",
            "Epoch 72/100\n",
            "1/1 [==============================] - 0s 13ms/step - loss: 15.0536 - mae: 15.0536\n",
            "Epoch 73/100\n",
            "1/1 [==============================] - 0s 10ms/step - loss: 15.0472 - mae: 15.0472\n",
            "Epoch 74/100\n",
            "1/1 [==============================] - 0s 10ms/step - loss: 15.0408 - mae: 15.0408\n",
            "Epoch 75/100\n",
            "1/1 [==============================] - 0s 9ms/step - loss: 15.0344 - mae: 15.0344\n",
            "Epoch 76/100\n",
            "1/1 [==============================] - 0s 8ms/step - loss: 15.0280 - mae: 15.0280\n",
            "Epoch 77/100\n",
            "1/1 [==============================] - 0s 12ms/step - loss: 15.0216 - mae: 15.0216\n",
            "Epoch 78/100\n",
            "1/1 [==============================] - 0s 8ms/step - loss: 15.0152 - mae: 15.0152\n",
            "Epoch 79/100\n",
            "1/1 [==============================] - 0s 10ms/step - loss: 15.0088 - mae: 15.0088\n",
            "Epoch 80/100\n",
            "1/1 [==============================] - 0s 10ms/step - loss: 15.0024 - mae: 15.0024\n",
            "Epoch 81/100\n",
            "1/1 [==============================] - 0s 9ms/step - loss: 14.9960 - mae: 14.9960\n",
            "Epoch 82/100\n",
            "1/1 [==============================] - 0s 9ms/step - loss: 14.9896 - mae: 14.9896\n",
            "Epoch 83/100\n",
            "1/1 [==============================] - 0s 9ms/step - loss: 14.9832 - mae: 14.9832\n",
            "Epoch 84/100\n",
            "1/1 [==============================] - 0s 9ms/step - loss: 14.9768 - mae: 14.9768\n",
            "Epoch 85/100\n",
            "1/1 [==============================] - 0s 10ms/step - loss: 14.9704 - mae: 14.9704\n",
            "Epoch 86/100\n",
            "1/1 [==============================] - 0s 15ms/step - loss: 14.9640 - mae: 14.9640\n",
            "Epoch 87/100\n",
            "1/1 [==============================] - 0s 11ms/step - loss: 14.9576 - mae: 14.9576\n",
            "Epoch 88/100\n",
            "1/1 [==============================] - 0s 11ms/step - loss: 14.9511 - mae: 14.9511\n",
            "Epoch 89/100\n",
            "1/1 [==============================] - 0s 11ms/step - loss: 14.9447 - mae: 14.9447\n",
            "Epoch 90/100\n",
            "1/1 [==============================] - 0s 10ms/step - loss: 14.9383 - mae: 14.9383\n",
            "Epoch 91/100\n",
            "1/1 [==============================] - 0s 10ms/step - loss: 14.9319 - mae: 14.9319\n",
            "Epoch 92/100\n",
            "1/1 [==============================] - 0s 11ms/step - loss: 14.9255 - mae: 14.9255\n",
            "Epoch 93/100\n",
            "1/1 [==============================] - 0s 9ms/step - loss: 14.9190 - mae: 14.9190\n",
            "Epoch 94/100\n",
            "1/1 [==============================] - 0s 9ms/step - loss: 14.9126 - mae: 14.9126\n",
            "Epoch 95/100\n",
            "1/1 [==============================] - 0s 10ms/step - loss: 14.9062 - mae: 14.9062\n",
            "Epoch 96/100\n",
            "1/1 [==============================] - 0s 10ms/step - loss: 14.8998 - mae: 14.8998\n",
            "Epoch 97/100\n",
            "1/1 [==============================] - 0s 9ms/step - loss: 14.8933 - mae: 14.8933\n",
            "Epoch 98/100\n",
            "1/1 [==============================] - 0s 9ms/step - loss: 14.8869 - mae: 14.8869\n",
            "Epoch 99/100\n",
            "1/1 [==============================] - 0s 8ms/step - loss: 14.8804 - mae: 14.8804\n",
            "Epoch 100/100\n",
            "1/1 [==============================] - 0s 8ms/step - loss: 14.8740 - mae: 14.8740\n"
          ]
        },
        {
          "output_type": "execute_result",
          "data": {
            "text/plain": [
              "<keras.callbacks.History at 0x799cd9aeacb0>"
            ]
          },
          "metadata": {},
          "execution_count": 48
        }
      ]
    },
    {
      "cell_type": "code",
      "source": [
        "# Test 4\n",
        "# 1. Create the model\n",
        "model = tf.keras.Sequential([\n",
        "    tf.keras.layers.Dense(50,activation=None),\n",
        "    tf.keras.layers.Dense(1)\n",
        "])\n",
        "\n",
        "# 2. Compilse the model\n",
        "model.compile(loss=tf.keras.losses.mae,\n",
        "             optimizer = tf.keras.optimizers.Adam(learning_rate= 0.01),\n",
        "             metrics=[\"mae\"])\n",
        "\n",
        "# 3. Fit the model\n",
        "model.fit(tf.expand_dims(X,axis=-1),y,epochs=100)"
      ],
      "metadata": {
        "colab": {
          "base_uri": "https://localhost:8080/"
        },
        "id": "uUgiPbUejIFM",
        "outputId": "15f6566f-886c-448a-a869-a773fde9799e"
      },
      "execution_count": 49,
      "outputs": [
        {
          "output_type": "stream",
          "name": "stdout",
          "text": [
            "Epoch 1/100\n",
            "1/1 [==============================] - 1s 543ms/step - loss: 18.0480 - mae: 18.0480\n",
            "Epoch 2/100\n",
            "1/1 [==============================] - 0s 10ms/step - loss: 16.7464 - mae: 16.7464\n",
            "Epoch 3/100\n",
            "1/1 [==============================] - 0s 11ms/step - loss: 15.4394 - mae: 15.4394\n",
            "Epoch 4/100\n",
            "1/1 [==============================] - 0s 11ms/step - loss: 14.1212 - mae: 14.1212\n",
            "Epoch 5/100\n",
            "1/1 [==============================] - 0s 13ms/step - loss: 12.7883 - mae: 12.7883\n",
            "Epoch 6/100\n",
            "1/1 [==============================] - 0s 9ms/step - loss: 11.4373 - mae: 11.4373\n",
            "Epoch 7/100\n",
            "1/1 [==============================] - 0s 10ms/step - loss: 10.0651 - mae: 10.0651\n",
            "Epoch 8/100\n",
            "1/1 [==============================] - 0s 10ms/step - loss: 8.6689 - mae: 8.6689\n",
            "Epoch 9/100\n",
            "1/1 [==============================] - 0s 9ms/step - loss: 7.2457 - mae: 7.2457\n",
            "Epoch 10/100\n",
            "1/1 [==============================] - 0s 9ms/step - loss: 5.7923 - mae: 5.7923\n",
            "Epoch 11/100\n",
            "1/1 [==============================] - 0s 9ms/step - loss: 4.3054 - mae: 4.3054\n",
            "Epoch 12/100\n",
            "1/1 [==============================] - 0s 9ms/step - loss: 3.1046 - mae: 3.1046\n",
            "Epoch 13/100\n",
            "1/1 [==============================] - 0s 9ms/step - loss: 3.3155 - mae: 3.3155\n",
            "Epoch 14/100\n",
            "1/1 [==============================] - 0s 10ms/step - loss: 3.9469 - mae: 3.9469\n",
            "Epoch 15/100\n",
            "1/1 [==============================] - 0s 10ms/step - loss: 4.5292 - mae: 4.5292\n",
            "Epoch 16/100\n",
            "1/1 [==============================] - 0s 10ms/step - loss: 4.9053 - mae: 4.9053\n",
            "Epoch 17/100\n",
            "1/1 [==============================] - 0s 11ms/step - loss: 5.1022 - mae: 5.1022\n",
            "Epoch 18/100\n",
            "1/1 [==============================] - 0s 11ms/step - loss: 5.1454 - mae: 5.1454\n",
            "Epoch 19/100\n",
            "1/1 [==============================] - 0s 10ms/step - loss: 5.0584 - mae: 5.0584\n",
            "Epoch 20/100\n",
            "1/1 [==============================] - 0s 11ms/step - loss: 4.8618 - mae: 4.8618\n",
            "Epoch 21/100\n",
            "1/1 [==============================] - 0s 9ms/step - loss: 4.5743 - mae: 4.5743\n",
            "Epoch 22/100\n",
            "1/1 [==============================] - 0s 10ms/step - loss: 4.2122 - mae: 4.2122\n",
            "Epoch 23/100\n",
            "1/1 [==============================] - 0s 7ms/step - loss: 3.7896 - mae: 3.7896\n",
            "Epoch 24/100\n",
            "1/1 [==============================] - 0s 8ms/step - loss: 3.3755 - mae: 3.3755\n",
            "Epoch 25/100\n",
            "1/1 [==============================] - 0s 11ms/step - loss: 3.0809 - mae: 3.0809\n",
            "Epoch 26/100\n",
            "1/1 [==============================] - 0s 9ms/step - loss: 2.8714 - mae: 2.8714\n",
            "Epoch 27/100\n",
            "1/1 [==============================] - 0s 8ms/step - loss: 2.9850 - mae: 2.9850\n",
            "Epoch 28/100\n",
            "1/1 [==============================] - 0s 9ms/step - loss: 3.3018 - mae: 3.3018\n",
            "Epoch 29/100\n",
            "1/1 [==============================] - 0s 9ms/step - loss: 3.5549 - mae: 3.5549\n",
            "Epoch 30/100\n",
            "1/1 [==============================] - 0s 8ms/step - loss: 3.5969 - mae: 3.5969\n",
            "Epoch 31/100\n",
            "1/1 [==============================] - 0s 9ms/step - loss: 3.4578 - mae: 3.4578\n",
            "Epoch 32/100\n",
            "1/1 [==============================] - 0s 11ms/step - loss: 3.1595 - mae: 3.1595\n",
            "Epoch 33/100\n",
            "1/1 [==============================] - 0s 9ms/step - loss: 2.8951 - mae: 2.8951\n",
            "Epoch 34/100\n",
            "1/1 [==============================] - 0s 8ms/step - loss: 2.7744 - mae: 2.7744\n",
            "Epoch 35/100\n",
            "1/1 [==============================] - 0s 10ms/step - loss: 2.7617 - mae: 2.7617\n",
            "Epoch 36/100\n",
            "1/1 [==============================] - 0s 10ms/step - loss: 2.8812 - mae: 2.8812\n",
            "Epoch 37/100\n",
            "1/1 [==============================] - 0s 9ms/step - loss: 2.9563 - mae: 2.9563\n",
            "Epoch 38/100\n",
            "1/1 [==============================] - 0s 10ms/step - loss: 2.9904 - mae: 2.9904\n",
            "Epoch 39/100\n",
            "1/1 [==============================] - 0s 10ms/step - loss: 2.9870 - mae: 2.9870\n",
            "Epoch 40/100\n",
            "1/1 [==============================] - 0s 9ms/step - loss: 2.9493 - mae: 2.9493\n",
            "Epoch 41/100\n",
            "1/1 [==============================] - 0s 9ms/step - loss: 2.8809 - mae: 2.8809\n",
            "Epoch 42/100\n",
            "1/1 [==============================] - 0s 9ms/step - loss: 2.7848 - mae: 2.7848\n",
            "Epoch 43/100\n",
            "1/1 [==============================] - 0s 9ms/step - loss: 2.6643 - mae: 2.6643\n",
            "Epoch 44/100\n",
            "1/1 [==============================] - 0s 8ms/step - loss: 2.5881 - mae: 2.5881\n",
            "Epoch 45/100\n",
            "1/1 [==============================] - 0s 9ms/step - loss: 2.6072 - mae: 2.6072\n",
            "Epoch 46/100\n",
            "1/1 [==============================] - 0s 9ms/step - loss: 2.6420 - mae: 2.6420\n",
            "Epoch 47/100\n",
            "1/1 [==============================] - 0s 10ms/step - loss: 2.6685 - mae: 2.6685\n",
            "Epoch 48/100\n",
            "1/1 [==============================] - 0s 10ms/step - loss: 2.6599 - mae: 2.6599\n",
            "Epoch 49/100\n",
            "1/1 [==============================] - 0s 9ms/step - loss: 2.5982 - mae: 2.5982\n",
            "Epoch 50/100\n",
            "1/1 [==============================] - 0s 10ms/step - loss: 2.5423 - mae: 2.5423\n",
            "Epoch 51/100\n",
            "1/1 [==============================] - 0s 11ms/step - loss: 2.4768 - mae: 2.4768\n",
            "Epoch 52/100\n",
            "1/1 [==============================] - 0s 10ms/step - loss: 2.4277 - mae: 2.4277\n",
            "Epoch 53/100\n",
            "1/1 [==============================] - 0s 10ms/step - loss: 2.4216 - mae: 2.4216\n",
            "Epoch 54/100\n",
            "1/1 [==============================] - 0s 11ms/step - loss: 2.4494 - mae: 2.4494\n",
            "Epoch 55/100\n",
            "1/1 [==============================] - 0s 10ms/step - loss: 2.4475 - mae: 2.4475\n",
            "Epoch 56/100\n",
            "1/1 [==============================] - 0s 10ms/step - loss: 2.4091 - mae: 2.4091\n",
            "Epoch 57/100\n",
            "1/1 [==============================] - 0s 11ms/step - loss: 2.3374 - mae: 2.3374\n",
            "Epoch 58/100\n",
            "1/1 [==============================] - 0s 10ms/step - loss: 2.2967 - mae: 2.2967\n",
            "Epoch 59/100\n",
            "1/1 [==============================] - 0s 10ms/step - loss: 2.2948 - mae: 2.2948\n",
            "Epoch 60/100\n",
            "1/1 [==============================] - 0s 10ms/step - loss: 2.3027 - mae: 2.3027\n",
            "Epoch 61/100\n",
            "1/1 [==============================] - 0s 12ms/step - loss: 2.2934 - mae: 2.2934\n",
            "Epoch 62/100\n",
            "1/1 [==============================] - 0s 11ms/step - loss: 2.2682 - mae: 2.2682\n",
            "Epoch 63/100\n",
            "1/1 [==============================] - 0s 11ms/step - loss: 2.2284 - mae: 2.2284\n",
            "Epoch 64/100\n",
            "1/1 [==============================] - 0s 10ms/step - loss: 2.1749 - mae: 2.1749\n",
            "Epoch 65/100\n",
            "1/1 [==============================] - 0s 9ms/step - loss: 2.1226 - mae: 2.1226\n",
            "Epoch 66/100\n",
            "1/1 [==============================] - 0s 11ms/step - loss: 2.1064 - mae: 2.1064\n",
            "Epoch 67/100\n",
            "1/1 [==============================] - 0s 11ms/step - loss: 2.0931 - mae: 2.0931\n",
            "Epoch 68/100\n",
            "1/1 [==============================] - 0s 10ms/step - loss: 2.0647 - mae: 2.0647\n",
            "Epoch 69/100\n",
            "1/1 [==============================] - 0s 9ms/step - loss: 2.0246 - mae: 2.0246\n",
            "Epoch 70/100\n",
            "1/1 [==============================] - 0s 9ms/step - loss: 1.9881 - mae: 1.9881\n",
            "Epoch 71/100\n",
            "1/1 [==============================] - 0s 9ms/step - loss: 1.9730 - mae: 1.9730\n",
            "Epoch 72/100\n",
            "1/1 [==============================] - 0s 9ms/step - loss: 1.9554 - mae: 1.9554\n",
            "Epoch 73/100\n",
            "1/1 [==============================] - 0s 9ms/step - loss: 1.9199 - mae: 1.9199\n",
            "Epoch 74/100\n",
            "1/1 [==============================] - 0s 9ms/step - loss: 1.8677 - mae: 1.8677\n",
            "Epoch 75/100\n",
            "1/1 [==============================] - 0s 8ms/step - loss: 1.8465 - mae: 1.8465\n",
            "Epoch 76/100\n",
            "1/1 [==============================] - 0s 9ms/step - loss: 1.8341 - mae: 1.8341\n",
            "Epoch 77/100\n",
            "1/1 [==============================] - 0s 8ms/step - loss: 1.8025 - mae: 1.8025\n",
            "Epoch 78/100\n",
            "1/1 [==============================] - 0s 9ms/step - loss: 1.7507 - mae: 1.7507\n",
            "Epoch 79/100\n",
            "1/1 [==============================] - 0s 9ms/step - loss: 1.7087 - mae: 1.7087\n",
            "Epoch 80/100\n",
            "1/1 [==============================] - 0s 9ms/step - loss: 1.6986 - mae: 1.6986\n",
            "Epoch 81/100\n",
            "1/1 [==============================] - 0s 9ms/step - loss: 1.6756 - mae: 1.6756\n",
            "Epoch 82/100\n",
            "1/1 [==============================] - 0s 9ms/step - loss: 1.6323 - mae: 1.6323\n",
            "Epoch 83/100\n",
            "1/1 [==============================] - 0s 9ms/step - loss: 1.5701 - mae: 1.5701\n",
            "Epoch 84/100\n",
            "1/1 [==============================] - 0s 9ms/step - loss: 1.5404 - mae: 1.5404\n",
            "Epoch 85/100\n",
            "1/1 [==============================] - 0s 9ms/step - loss: 1.5434 - mae: 1.5434\n",
            "Epoch 86/100\n",
            "1/1 [==============================] - 0s 10ms/step - loss: 1.5071 - mae: 1.5071\n",
            "Epoch 87/100\n",
            "1/1 [==============================] - 0s 12ms/step - loss: 1.4255 - mae: 1.4255\n",
            "Epoch 88/100\n",
            "1/1 [==============================] - 0s 10ms/step - loss: 1.3759 - mae: 1.3759\n",
            "Epoch 89/100\n",
            "1/1 [==============================] - 0s 10ms/step - loss: 1.3564 - mae: 1.3564\n",
            "Epoch 90/100\n",
            "1/1 [==============================] - 0s 10ms/step - loss: 1.3260 - mae: 1.3260\n",
            "Epoch 91/100\n",
            "1/1 [==============================] - 0s 10ms/step - loss: 1.2726 - mae: 1.2726\n",
            "Epoch 92/100\n",
            "1/1 [==============================] - 0s 12ms/step - loss: 1.2021 - mae: 1.2021\n",
            "Epoch 93/100\n",
            "1/1 [==============================] - 0s 15ms/step - loss: 1.1625 - mae: 1.1625\n",
            "Epoch 94/100\n",
            "1/1 [==============================] - 0s 10ms/step - loss: 1.1235 - mae: 1.1235\n",
            "Epoch 95/100\n",
            "1/1 [==============================] - 0s 11ms/step - loss: 1.0652 - mae: 1.0652\n",
            "Epoch 96/100\n",
            "1/1 [==============================] - 0s 10ms/step - loss: 1.0207 - mae: 1.0207\n",
            "Epoch 97/100\n",
            "1/1 [==============================] - 0s 10ms/step - loss: 0.9712 - mae: 0.9712\n",
            "Epoch 98/100\n",
            "1/1 [==============================] - 0s 10ms/step - loss: 0.9121 - mae: 0.9121\n",
            "Epoch 99/100\n",
            "1/1 [==============================] - 0s 10ms/step - loss: 0.8625 - mae: 0.8625\n",
            "Epoch 100/100\n",
            "1/1 [==============================] - 0s 9ms/step - loss: 0.8158 - mae: 0.8158\n"
          ]
        },
        {
          "output_type": "execute_result",
          "data": {
            "text/plain": [
              "<keras.callbacks.History at 0x799cc6e80400>"
            ]
          },
          "metadata": {},
          "execution_count": 49
        }
      ]
    },
    {
      "cell_type": "code",
      "source": [
        "# Test 5\n",
        "# 1. Build the model\n",
        "model = tf.keras.Sequential([\n",
        "    tf.keras.layers.Dense(100,activation=\"relu\"),\n",
        "    tf.keras.layers.Dense(100,activation=\"relu\"),\n",
        "    tf.keras.layers.Dense(100,activation=\"relu\"),\n",
        "    tf.keras.layers.Dense(1)\n",
        "])\n",
        "\n",
        "# 2. Compile the model\n",
        "model.compile (loss=tf.keras.losses.mae,\n",
        "              optimizer=tf.keras.optimizers.Adam(lr=0.0001),\n",
        "              metrics=\"mae\")\n",
        "\n",
        "# 3. Fit the model\n",
        "model.fit(tf.expand_dims(X,axis=-1),y,epochs=100)"
      ],
      "metadata": {
        "colab": {
          "base_uri": "https://localhost:8080/"
        },
        "id": "hMh3CvoCQJC0",
        "outputId": "ef0ba017-629a-4cec-dc61-8a9bcacd10f7"
      },
      "execution_count": 50,
      "outputs": [
        {
          "output_type": "stream",
          "name": "stderr",
          "text": [
            "WARNING:absl:`lr` is deprecated in Keras optimizer, please use `learning_rate` or use the legacy optimizer, e.g.,tf.keras.optimizers.legacy.Adam.\n"
          ]
        },
        {
          "output_type": "stream",
          "name": "stdout",
          "text": [
            "Epoch 1/100\n",
            "1/1 [==============================] - 1s 890ms/step - loss: 15.8382 - mae: 15.8382\n",
            "Epoch 2/100\n",
            "1/1 [==============================] - 0s 16ms/step - loss: 15.2585 - mae: 15.2585\n",
            "Epoch 3/100\n",
            "1/1 [==============================] - 0s 10ms/step - loss: 14.7036 - mae: 14.7036\n",
            "Epoch 4/100\n",
            "1/1 [==============================] - 0s 10ms/step - loss: 14.1535 - mae: 14.1535\n",
            "Epoch 5/100\n",
            "1/1 [==============================] - 0s 9ms/step - loss: 13.5963 - mae: 13.5963\n",
            "Epoch 6/100\n",
            "1/1 [==============================] - 0s 9ms/step - loss: 13.0216 - mae: 13.0216\n",
            "Epoch 7/100\n",
            "1/1 [==============================] - 0s 10ms/step - loss: 12.4346 - mae: 12.4346\n",
            "Epoch 8/100\n",
            "1/1 [==============================] - 0s 10ms/step - loss: 11.8401 - mae: 11.8401\n",
            "Epoch 9/100\n",
            "1/1 [==============================] - 0s 10ms/step - loss: 11.2143 - mae: 11.2143\n",
            "Epoch 10/100\n",
            "1/1 [==============================] - 0s 9ms/step - loss: 10.5618 - mae: 10.5618\n",
            "Epoch 11/100\n",
            "1/1 [==============================] - 0s 9ms/step - loss: 9.8739 - mae: 9.8739\n",
            "Epoch 12/100\n",
            "1/1 [==============================] - 0s 12ms/step - loss: 9.1480 - mae: 9.1480\n",
            "Epoch 13/100\n",
            "1/1 [==============================] - 0s 13ms/step - loss: 8.3895 - mae: 8.3895\n",
            "Epoch 14/100\n",
            "1/1 [==============================] - 0s 10ms/step - loss: 7.5852 - mae: 7.5852\n",
            "Epoch 15/100\n",
            "1/1 [==============================] - 0s 10ms/step - loss: 6.7226 - mae: 6.7226\n",
            "Epoch 16/100\n",
            "1/1 [==============================] - 0s 10ms/step - loss: 5.7963 - mae: 5.7963\n",
            "Epoch 17/100\n",
            "1/1 [==============================] - 0s 9ms/step - loss: 4.8165 - mae: 4.8165\n",
            "Epoch 18/100\n",
            "1/1 [==============================] - 0s 9ms/step - loss: 3.7765 - mae: 3.7765\n",
            "Epoch 19/100\n",
            "1/1 [==============================] - 0s 11ms/step - loss: 3.3229 - mae: 3.3229\n",
            "Epoch 20/100\n",
            "1/1 [==============================] - 0s 12ms/step - loss: 3.6324 - mae: 3.6324\n",
            "Epoch 21/100\n",
            "1/1 [==============================] - 0s 10ms/step - loss: 4.0601 - mae: 4.0601\n",
            "Epoch 22/100\n",
            "1/1 [==============================] - 0s 10ms/step - loss: 4.5344 - mae: 4.5344\n",
            "Epoch 23/100\n",
            "1/1 [==============================] - 0s 10ms/step - loss: 4.8375 - mae: 4.8375\n",
            "Epoch 24/100\n",
            "1/1 [==============================] - 0s 9ms/step - loss: 4.9864 - mae: 4.9864\n",
            "Epoch 25/100\n",
            "1/1 [==============================] - 0s 10ms/step - loss: 5.0000 - mae: 5.0000\n",
            "Epoch 26/100\n",
            "1/1 [==============================] - 0s 9ms/step - loss: 4.8976 - mae: 4.8976\n",
            "Epoch 27/100\n",
            "1/1 [==============================] - 0s 9ms/step - loss: 4.6980 - mae: 4.6980\n",
            "Epoch 28/100\n",
            "1/1 [==============================] - 0s 9ms/step - loss: 4.4185 - mae: 4.4185\n",
            "Epoch 29/100\n",
            "1/1 [==============================] - 0s 9ms/step - loss: 4.0750 - mae: 4.0750\n",
            "Epoch 30/100\n",
            "1/1 [==============================] - 0s 10ms/step - loss: 3.7873 - mae: 3.7873\n",
            "Epoch 31/100\n",
            "1/1 [==============================] - 0s 10ms/step - loss: 3.5370 - mae: 3.5370\n",
            "Epoch 32/100\n",
            "1/1 [==============================] - 0s 11ms/step - loss: 3.2989 - mae: 3.2989\n",
            "Epoch 33/100\n",
            "1/1 [==============================] - 0s 13ms/step - loss: 3.2953 - mae: 3.2953\n",
            "Epoch 34/100\n",
            "1/1 [==============================] - 0s 11ms/step - loss: 3.3865 - mae: 3.3865\n",
            "Epoch 35/100\n",
            "1/1 [==============================] - 0s 9ms/step - loss: 3.5639 - mae: 3.5639\n",
            "Epoch 36/100\n",
            "1/1 [==============================] - 0s 12ms/step - loss: 3.7045 - mae: 3.7045\n",
            "Epoch 37/100\n",
            "1/1 [==============================] - 0s 10ms/step - loss: 3.7445 - mae: 3.7445\n",
            "Epoch 38/100\n",
            "1/1 [==============================] - 0s 10ms/step - loss: 3.6443 - mae: 3.6443\n",
            "Epoch 39/100\n",
            "1/1 [==============================] - 0s 11ms/step - loss: 3.5351 - mae: 3.5351\n",
            "Epoch 40/100\n",
            "1/1 [==============================] - 0s 10ms/step - loss: 3.3839 - mae: 3.3839\n",
            "Epoch 41/100\n",
            "1/1 [==============================] - 0s 11ms/step - loss: 3.3017 - mae: 3.3017\n",
            "Epoch 42/100\n",
            "1/1 [==============================] - 0s 11ms/step - loss: 3.2245 - mae: 3.2245\n",
            "Epoch 43/100\n",
            "1/1 [==============================] - 0s 18ms/step - loss: 3.2412 - mae: 3.2412\n",
            "Epoch 44/100\n",
            "1/1 [==============================] - 0s 11ms/step - loss: 3.3299 - mae: 3.3299\n",
            "Epoch 45/100\n",
            "1/1 [==============================] - 0s 10ms/step - loss: 3.4071 - mae: 3.4071\n",
            "Epoch 46/100\n",
            "1/1 [==============================] - 0s 10ms/step - loss: 3.4441 - mae: 3.4441\n",
            "Epoch 47/100\n",
            "1/1 [==============================] - 0s 13ms/step - loss: 3.4439 - mae: 3.4439\n",
            "Epoch 48/100\n",
            "1/1 [==============================] - 0s 10ms/step - loss: 3.4101 - mae: 3.4101\n",
            "Epoch 49/100\n",
            "1/1 [==============================] - 0s 10ms/step - loss: 3.3463 - mae: 3.3463\n",
            "Epoch 50/100\n",
            "1/1 [==============================] - 0s 11ms/step - loss: 3.2560 - mae: 3.2560\n",
            "Epoch 51/100\n",
            "1/1 [==============================] - 0s 10ms/step - loss: 3.1930 - mae: 3.1930\n",
            "Epoch 52/100\n",
            "1/1 [==============================] - 0s 11ms/step - loss: 3.1673 - mae: 3.1673\n",
            "Epoch 53/100\n",
            "1/1 [==============================] - 0s 10ms/step - loss: 3.2029 - mae: 3.2029\n",
            "Epoch 54/100\n",
            "1/1 [==============================] - 0s 10ms/step - loss: 3.2259 - mae: 3.2259\n",
            "Epoch 55/100\n",
            "1/1 [==============================] - 0s 10ms/step - loss: 3.2376 - mae: 3.2376\n",
            "Epoch 56/100\n",
            "1/1 [==============================] - 0s 10ms/step - loss: 3.2391 - mae: 3.2391\n",
            "Epoch 57/100\n",
            "1/1 [==============================] - 0s 14ms/step - loss: 3.2313 - mae: 3.2313\n",
            "Epoch 58/100\n",
            "1/1 [==============================] - 0s 12ms/step - loss: 3.2151 - mae: 3.2151\n",
            "Epoch 59/100\n",
            "1/1 [==============================] - 0s 11ms/step - loss: 3.1909 - mae: 3.1909\n",
            "Epoch 60/100\n",
            "1/1 [==============================] - 0s 11ms/step - loss: 3.1594 - mae: 3.1594\n",
            "Epoch 61/100\n",
            "1/1 [==============================] - 0s 11ms/step - loss: 3.1210 - mae: 3.1210\n",
            "Epoch 62/100\n",
            "1/1 [==============================] - 0s 12ms/step - loss: 3.1227 - mae: 3.1227\n",
            "Epoch 63/100\n",
            "1/1 [==============================] - 0s 10ms/step - loss: 3.1319 - mae: 3.1319\n",
            "Epoch 64/100\n",
            "1/1 [==============================] - 0s 11ms/step - loss: 3.1404 - mae: 3.1404\n",
            "Epoch 65/100\n",
            "1/1 [==============================] - 0s 10ms/step - loss: 3.1408 - mae: 3.1408\n",
            "Epoch 66/100\n",
            "1/1 [==============================] - 0s 11ms/step - loss: 3.1200 - mae: 3.1200\n",
            "Epoch 67/100\n",
            "1/1 [==============================] - 0s 11ms/step - loss: 3.1054 - mae: 3.1054\n",
            "Epoch 68/100\n",
            "1/1 [==============================] - 0s 11ms/step - loss: 3.0894 - mae: 3.0894\n",
            "Epoch 69/100\n",
            "1/1 [==============================] - 0s 11ms/step - loss: 3.0722 - mae: 3.0722\n",
            "Epoch 70/100\n",
            "1/1 [==============================] - 0s 12ms/step - loss: 3.0777 - mae: 3.0777\n",
            "Epoch 71/100\n",
            "1/1 [==============================] - 0s 14ms/step - loss: 3.0858 - mae: 3.0858\n",
            "Epoch 72/100\n",
            "1/1 [==============================] - 0s 12ms/step - loss: 3.0825 - mae: 3.0825\n",
            "Epoch 73/100\n",
            "1/1 [==============================] - 0s 12ms/step - loss: 3.0689 - mae: 3.0689\n",
            "Epoch 74/100\n",
            "1/1 [==============================] - 0s 11ms/step - loss: 3.0458 - mae: 3.0458\n",
            "Epoch 75/100\n",
            "1/1 [==============================] - 0s 11ms/step - loss: 3.0402 - mae: 3.0402\n",
            "Epoch 76/100\n",
            "1/1 [==============================] - 0s 10ms/step - loss: 3.0428 - mae: 3.0428\n",
            "Epoch 77/100\n",
            "1/1 [==============================] - 0s 10ms/step - loss: 3.0424 - mae: 3.0424\n",
            "Epoch 78/100\n",
            "1/1 [==============================] - 0s 10ms/step - loss: 3.0391 - mae: 3.0391\n",
            "Epoch 79/100\n",
            "1/1 [==============================] - 0s 15ms/step - loss: 3.0333 - mae: 3.0333\n",
            "Epoch 80/100\n",
            "1/1 [==============================] - 0s 10ms/step - loss: 3.0253 - mae: 3.0253\n",
            "Epoch 81/100\n",
            "1/1 [==============================] - 0s 13ms/step - loss: 3.0151 - mae: 3.0151\n",
            "Epoch 82/100\n",
            "1/1 [==============================] - 0s 11ms/step - loss: 3.0032 - mae: 3.0032\n",
            "Epoch 83/100\n",
            "1/1 [==============================] - 0s 10ms/step - loss: 2.9896 - mae: 2.9896\n",
            "Epoch 84/100\n",
            "1/1 [==============================] - 0s 12ms/step - loss: 2.9830 - mae: 2.9830\n",
            "Epoch 85/100\n",
            "1/1 [==============================] - 0s 13ms/step - loss: 2.9837 - mae: 2.9837\n",
            "Epoch 86/100\n",
            "1/1 [==============================] - 0s 14ms/step - loss: 2.9724 - mae: 2.9724\n",
            "Epoch 87/100\n",
            "1/1 [==============================] - 0s 12ms/step - loss: 2.9620 - mae: 2.9620\n",
            "Epoch 88/100\n",
            "1/1 [==============================] - 0s 11ms/step - loss: 2.9599 - mae: 2.9599\n",
            "Epoch 89/100\n",
            "1/1 [==============================] - 0s 10ms/step - loss: 2.9552 - mae: 2.9552\n",
            "Epoch 90/100\n",
            "1/1 [==============================] - 0s 11ms/step - loss: 2.9480 - mae: 2.9480\n",
            "Epoch 91/100\n",
            "1/1 [==============================] - 0s 10ms/step - loss: 2.9387 - mae: 2.9387\n",
            "Epoch 92/100\n",
            "1/1 [==============================] - 0s 13ms/step - loss: 2.9275 - mae: 2.9275\n",
            "Epoch 93/100\n",
            "1/1 [==============================] - 0s 10ms/step - loss: 2.9346 - mae: 2.9346\n",
            "Epoch 94/100\n",
            "1/1 [==============================] - 0s 10ms/step - loss: 2.9301 - mae: 2.9301\n",
            "Epoch 95/100\n",
            "1/1 [==============================] - 0s 11ms/step - loss: 2.9134 - mae: 2.9134\n",
            "Epoch 96/100\n",
            "1/1 [==============================] - 0s 11ms/step - loss: 2.9082 - mae: 2.9082\n",
            "Epoch 97/100\n",
            "1/1 [==============================] - 0s 10ms/step - loss: 2.9078 - mae: 2.9078\n",
            "Epoch 98/100\n",
            "1/1 [==============================] - 0s 10ms/step - loss: 2.9046 - mae: 2.9046\n",
            "Epoch 99/100\n",
            "1/1 [==============================] - 0s 9ms/step - loss: 2.8988 - mae: 2.8988\n",
            "Epoch 100/100\n",
            "1/1 [==============================] - 0s 10ms/step - loss: 2.8907 - mae: 2.8907\n"
          ]
        },
        {
          "output_type": "execute_result",
          "data": {
            "text/plain": [
              "<keras.callbacks.History at 0x799cc6b25b70>"
            ]
          },
          "metadata": {},
          "execution_count": 50
        }
      ]
    },
    {
      "cell_type": "code",
      "source": [
        "model.predict([17.0])"
      ],
      "metadata": {
        "colab": {
          "base_uri": "https://localhost:8080/"
        },
        "id": "3jhOsp22RFlY",
        "outputId": "69f0b3ba-e38a-4f4d-be19-f3e12f659909"
      },
      "execution_count": 51,
      "outputs": [
        {
          "output_type": "stream",
          "name": "stdout",
          "text": [
            "1/1 [==============================] - 0s 404ms/step\n"
          ]
        },
        {
          "output_type": "execute_result",
          "data": {
            "text/plain": [
              "array([[33.98318]], dtype=float32)"
            ]
          },
          "metadata": {},
          "execution_count": 51
        }
      ]
    },
    {
      "cell_type": "markdown",
      "source": [
        "## Evaluating a model\n",
        "\n",
        "A typical workflow you'll go through when building neural networks is:\n",
        "\n",
        "```\n",
        "Build a model -> evaluate it -> build (tweak) a model -> evaulate it -> build (tweak) a model -> evaluate it...\n",
        "```\n",
        "\n",
        "The tweaking comes from maybe not building a model from scratch but adjusting an existing one.\n",
        "\n",
        "### Visualize, visualize, visualize\n",
        "\n",
        "When it comes to evaluation, you'll want to remember the words: \"visualize, visualize, visualize.\"\n",
        "\n",
        "This is because you're probably better looking at something (doing) than you are thinking about something.\n",
        "\n",
        "It's a good idea to visualize:\n",
        "* **The data** - what data are you working with? What does it look like?\n",
        "* **The model itself** - what does the architecture look like? What are the different shapes?\n",
        "* **The training of a model** - how does a model perform while it learns?\n",
        "* **The predictions of a model** - how do the predictions of a model line up against the ground truth (the original labels)?\n",
        "\n",
        "Let's start by visualizing the model.\n",
        "\n",
        "But first, we'll create a little bit of a bigger dataset and a new model we can use (it'll be the same as before, but the more practice the better).\n"
      ],
      "metadata": {
        "id": "FEvAJDxMjjKv"
      }
    },
    {
      "cell_type": "code",
      "source": [
        "# Make a bigger dataset\n",
        "X = tf.range(-100,100,4)\n",
        "X"
      ],
      "metadata": {
        "colab": {
          "base_uri": "https://localhost:8080/"
        },
        "id": "cIcwRdBYjTbB",
        "outputId": "519683b4-47a3-461a-de39-ba0b91aecc76"
      },
      "execution_count": 56,
      "outputs": [
        {
          "output_type": "execute_result",
          "data": {
            "text/plain": [
              "<tf.Tensor: shape=(50,), dtype=int32, numpy=\n",
              "array([-100,  -96,  -92,  -88,  -84,  -80,  -76,  -72,  -68,  -64,  -60,\n",
              "        -56,  -52,  -48,  -44,  -40,  -36,  -32,  -28,  -24,  -20,  -16,\n",
              "        -12,   -8,   -4,    0,    4,    8,   12,   16,   20,   24,   28,\n",
              "         32,   36,   40,   44,   48,   52,   56,   60,   64,   68,   72,\n",
              "         76,   80,   84,   88,   92,   96], dtype=int32)>"
            ]
          },
          "metadata": {},
          "execution_count": 56
        }
      ]
    },
    {
      "cell_type": "code",
      "source": [
        "# Make labels for the dataset\n",
        "y = X + 10\n",
        "y"
      ],
      "metadata": {
        "colab": {
          "base_uri": "https://localhost:8080/"
        },
        "id": "pIzXiZHrlU75",
        "outputId": "7d009589-8cb5-4070-daa8-89f4dcee5f5a"
      },
      "execution_count": 57,
      "outputs": [
        {
          "output_type": "execute_result",
          "data": {
            "text/plain": [
              "<tf.Tensor: shape=(50,), dtype=int32, numpy=\n",
              "array([-90, -86, -82, -78, -74, -70, -66, -62, -58, -54, -50, -46, -42,\n",
              "       -38, -34, -30, -26, -22, -18, -14, -10,  -6,  -2,   2,   6,  10,\n",
              "        14,  18,  22,  26,  30,  34,  38,  42,  46,  50,  54,  58,  62,\n",
              "        66,  70,  74,  78,  82,  86,  90,  94,  98, 102, 106], dtype=int32)>"
            ]
          },
          "metadata": {},
          "execution_count": 57
        }
      ]
    },
    {
      "cell_type": "code",
      "source": [
        "# Visualize the data\n",
        "import matplotlib.pyplot as plt\n",
        "\n",
        "plt.scatter(X,y)"
      ],
      "metadata": {
        "colab": {
          "base_uri": "https://localhost:8080/",
          "height": 447
        },
        "id": "gMfsDA2gllfg",
        "outputId": "3220332a-5188-4482-d76c-66cdc36fa086"
      },
      "execution_count": 58,
      "outputs": [
        {
          "output_type": "execute_result",
          "data": {
            "text/plain": [
              "<matplotlib.collections.PathCollection at 0x799cd93cfb80>"
            ]
          },
          "metadata": {},
          "execution_count": 58
        },
        {
          "output_type": "display_data",
          "data": {
            "text/plain": [
              "<Figure size 640x480 with 1 Axes>"
            ],
            "image/png": "[encoded data removed]"
          },
          "metadata": {}
        }
      ]
    },
    {
      "cell_type": "markdown",
      "source": [
        "## Split data into training/test set\n",
        "\n",
        "One of the other most common and important steps in a machine learning project is creating a training and test set (and when required, a validation set).\n",
        "\n",
        "Each set serves a specific purpose:\n",
        "* **Training set** - the model learns from this data, which is typically 70-80% of the total data available (like the course materials you study during the semester).\n",
        "* **Validation set** - the model gets tuned on this data, which is typically 10-15% of the total data available (like the practice exam you take before the final exam).\n",
        "* **Test set** - the model gets evaluated on this data to test what it has learned, it's typically 10-15% of the total data available (like the final exam you take at the end of the semester).\n",
        "\n",
        "For now, we'll just use a training and test set, this means we'll have a dataset for our model to learn on as well as be evaluated on.\n",
        "\n",
        "We can create them by splitting our `X` and `y` arrays.\n",
        "\n",
        "> 🔑 **Note:** When dealing with real-world data, this step is typically done right at the start of a project (the test set should always be kept separate from all other data). We want our model to learn on training data and then evaluate it on test data to get an indication of how well it **generalizes** to unseen examples."
      ],
      "metadata": {
        "id": "k5oGnKpamH2t"
      }
    },
    {
      "cell_type": "code",
      "source": [
        "# Split into 3 sets\n",
        "len(X)"
      ],
      "metadata": {
        "colab": {
          "base_uri": "https://localhost:8080/"
        },
        "id": "jYBIpgRTluZY",
        "outputId": "4ef1ccfd-ae2c-4914-e752-d0cb0c36b23d"
      },
      "execution_count": 59,
      "outputs": [
        {
          "output_type": "execute_result",
          "data": {
            "text/plain": [
              "50"
            ]
          },
          "metadata": {},
          "execution_count": 59
        }
      ]
    },
    {
      "cell_type": "code",
      "source": [
        "# Split the data into train and test sets\n",
        "X_train = X[:40] # First 40 are training smaples (80% of the data)\n",
        "y_train = y[:40]\n",
        "\n",
        "X_test = X[40:] # last 10 are testing samaples (20% of the data)\n",
        "y_test = y[40:]\n",
        "\n",
        "len(X_train),len(X_test),len(y_train),len(y_test)"
      ],
      "metadata": {
        "colab": {
          "base_uri": "https://localhost:8080/"
        },
        "id": "yN2mz7QrnQLv",
        "outputId": "77ab65f4-931b-40f3-c559-553d6b277a07"
      },
      "execution_count": 62,
      "outputs": [
        {
          "output_type": "execute_result",
          "data": {
            "text/plain": [
              "(40, 10, 40, 10)"
            ]
          },
          "metadata": {},
          "execution_count": 62
        }
      ]
    },
    {
      "cell_type": "code",
      "source": [
        "# Visualizing the data\n",
        "plt.figure(figsize=(9,5))\n",
        "\n",
        "# plot the training data\n",
        "plt.scatter(X_train,y_train,c='blue',label='Training Data')\n",
        "\n",
        "# Plot the testing data\n",
        "plt.scatter(X_test,y_test,c='green',label='Testing Data')\n",
        "\n",
        "# Show the legend\n",
        "plt.legend()"
      ],
      "metadata": {
        "colab": {
          "base_uri": "https://localhost:8080/",
          "height": 406
        },
        "id": "7WF-CCq3oCP4",
        "outputId": "150af248-cfaf-4605-d1b9-699357944623"
      },
      "execution_count": 66,
      "outputs": [
        {
          "output_type": "execute_result",
          "data": {
            "text/plain": [
              "<matplotlib.legend.Legend at 0x799cbf86aad0>"
            ]
          },
          "metadata": {},
          "execution_count": 66
        },
        {
          "output_type": "display_data",
          "data": {
            "text/plain": [
              "<Figure size 900x500 with 1 Axes>"
            ],
            "image/png": "[encoded data removed]"
          },
          "metadata": {}
        }
      ]
    },
    {
      "cell_type": "markdown",
      "source": [
        "With this graph in mind, what we'll be trying to do is build a model which learns the pattern in the blue dots (`X_train`) to draw the green dots (`X_test`).\n",
        "\n",
        "Time to build a model. We'll make the exact same one from before (the one we trained for longer)."
      ],
      "metadata": {
        "id": "W85Ce7mOpPYV"
      }
    },
    {
      "cell_type": "code",
      "source": [
        "# Let's have a look at how to build a neural network for our data\n",
        "# 1. Create a model\n",
        "model = tf.keras.Sequential([\n",
        "    tf.keras.layers.Dense(1)\n",
        "])\n",
        "\n",
        "# 2. Compile the model\n",
        "model.compile(loss=tf.keras.losses.mae,\n",
        "              optimizer=tf.keras.optimizers.SGD(),\n",
        "              metrics=['mae'])\n",
        "\n",
        "# # 3. Fit the model\n",
        "# model.fit(X_train,y_train,epochs=100)"
      ],
      "metadata": {
        "id": "EYrcG5ugouWf"
      },
      "execution_count": 70,
      "outputs": []
    },
    {
      "cell_type": "code",
      "source": [
        "model.summary()"
      ],
      "metadata": {
        "colab": {
          "base_uri": "https://localhost:8080/",
          "height": 321
        },
        "id": "rZpMmbEgqbl3",
        "outputId": "e2efe8f2-ef20-42c6-fb23-85a4222ddca1"
      },
      "execution_count": 71,
      "outputs": [
        {
          "output_type": "error",
          "ename": "ValueError",
          "evalue": "ignored",
          "traceback": [
            "\u001b[0;31m---------------------------------------------------------------------------\u001b[0m",
            "\u001b[0;31mValueError\u001b[0m                                Traceback (most recent call last)",
            "\u001b[0;32m<ipython-input-71-5f15418b3570>\u001b[0m in \u001b[0;36m<cell line: 1>\u001b[0;34m()\u001b[0m\n\u001b[0;32m----> 1\u001b[0;31m \u001b[0mmodel\u001b[0m\u001b[0;34m.\u001b[0m\u001b[0msummary\u001b[0m\u001b[0;34m(\u001b[0m\u001b[0;34m)\u001b[0m\u001b[0;34m\u001b[0m\u001b[0;34m\u001b[0m\u001b[0m\n\u001b[0m",
            "\u001b[0;32m/usr/local/lib/python3.10/dist-packages/keras/engine/training.py\u001b[0m in \u001b[0;36msummary\u001b[0;34m(self, line_length, positions, print_fn, expand_nested, show_trainable, layer_range)\u001b[0m\n\u001b[1;32m   3227\u001b[0m         \"\"\"\n\u001b[1;32m   3228\u001b[0m         \u001b[0;32mif\u001b[0m \u001b[0;32mnot\u001b[0m \u001b[0mself\u001b[0m\u001b[0;34m.\u001b[0m\u001b[0mbuilt\u001b[0m\u001b[0;34m:\u001b[0m\u001b[0;34m\u001b[0m\u001b[0;34m\u001b[0m\u001b[0m\n\u001b[0;32m-> 3229\u001b[0;31m             raise ValueError(\n\u001b[0m\u001b[1;32m   3230\u001b[0m                 \u001b[0;34m\"This model has not yet been built. \"\u001b[0m\u001b[0;34m\u001b[0m\u001b[0;34m\u001b[0m\u001b[0m\n\u001b[1;32m   3231\u001b[0m                 \u001b[0;34m\"Build the model first by calling `build()` or by calling \"\u001b[0m\u001b[0;34m\u001b[0m\u001b[0;34m\u001b[0m\u001b[0m\n",
            "\u001b[0;31mValueError\u001b[0m: This model has not yet been built. Build the model first by calling `build()` or by calling the model on a batch of data."
          ]
        }
      ]
    },
    {
      "cell_type": "code",
      "source": [
        "# Let's create amodel which builds automatically by defining the input_shape in the first layer\n",
        "tf.random.set_seed(42)\n",
        "\n",
        "# 1. Create the model\n",
        "model = tf.keras.Sequential([\n",
        "    tf.keras.layers.Dense(100,activation=\"relu\",input_shape=[1],name=\"input_layers\"),# input shape depending of your data\n",
        "    tf.keras.layers.Dense(100,activation=\"relu\"),\n",
        "    tf.keras.layers.Dense(100,activation=\"relu\"),\n",
        "    tf.keras.layers.Dense(100,activation=\"relu\"),\n",
        "    tf.keras.layers.Dense(1,name=\"ouput_layer\")\n",
        "],name=\"Model_1\")\n",
        "\n",
        "# 2. Compile the model\n",
        "model.compile (loss=tf.keras.losses.mae,\n",
        "              optimizer=tf.keras.optimizers.Adam(lr=0.0001),\n",
        "              metrics=\"mae\")"
      ],
      "metadata": {
        "colab": {
          "base_uri": "https://localhost:8080/"
        },
        "id": "KchJoLLmU_J-",
        "outputId": "01f9a3a6-34d3-48a2-f22d-927bf9f34884"
      },
      "execution_count": 130,
      "outputs": [
        {
          "output_type": "stream",
          "name": "stderr",
          "text": [
            "WARNING:absl:`lr` is deprecated in Keras optimizer, please use `learning_rate` or use the legacy optimizer, e.g.,tf.keras.optimizers.legacy.Adam.\n"
          ]
        }
      ]
    },
    {
      "cell_type": "code",
      "source": [
        "model.summary()"
      ],
      "metadata": {
        "colab": {
          "base_uri": "https://localhost:8080/"
        },
        "id": "DfpyQtKRraL3",
        "outputId": "0db30d56-87f3-472b-ae8a-30589b5e243c"
      },
      "execution_count": 131,
      "outputs": [
        {
          "output_type": "stream",
          "name": "stdout",
          "text": [
            "Model: \"Model_1\"\n",
            "_________________________________________________________________\n",
            " Layer (type)                Output Shape              Param #   \n",
            "=================================================================\n",
            " input_layers (Dense)        (None, 100)               200       \n",
            "                                                                 \n",
            " dense_60 (Dense)            (None, 100)               10100     \n",
            "                                                                 \n",
            " dense_61 (Dense)            (None, 100)               10100     \n",
            "                                                                 \n",
            " dense_62 (Dense)            (None, 100)               10100     \n",
            "                                                                 \n",
            " ouput_layer (Dense)         (None, 1)                 101       \n",
            "                                                                 \n",
            "=================================================================\n",
            "Total params: 30,601\n",
            "Trainable params: 30,601\n",
            "Non-trainable params: 0\n",
            "_________________________________________________________________\n"
          ]
        }
      ]
    },
    {
      "cell_type": "markdown",
      "source": [
        "Calling `summary()` on our model shows us the layers it contains, the output shape and the number of parameters.\n",
        "* **Total params** - total number of parameters in the model.\n",
        "* **Trainable parameters** - these are the parameters (patterns) the model can update as it trains.\n",
        "* **Non-trainable parameters** - these parameters aren't updated during training (this is typical when you bring in the already learned patterns from other models during transfer learning).\n",
        "\n",
        "> 📖 **Resource:** For a more in-depth overview of the trainable parameters within a layer, check out [MIT's introduction to deep learning video](https://youtu.be/njKP3FqW3Sk).\n",
        "\n",
        "> 🛠 **Exercise:** Try playing around with the number of hidden units in the `Dense` layer (e.g. `Dense(2)`, `Dense(3)`). How does this change the Total/Trainable params? Investigate what's causing the change.\n",
        "\n",
        "For now, all you need to think about these parameters is that their learnable patterns in the data.\n",
        "\n",
        "Let's fit our model to the training data."
      ],
      "metadata": {
        "id": "1ses-xrHrsLx"
      }
    },
    {
      "cell_type": "code",
      "source": [
        "# Let's fit our model to the training data\n",
        "model.fit(X_train,y_train,epochs=100,verbose=0)"
      ],
      "metadata": {
        "colab": {
          "base_uri": "https://localhost:8080/"
        },
        "id": "40Whj25Jtcn6",
        "outputId": "552e3529-f8db-4fac-94c5-cb928eefe112"
      },
      "execution_count": 132,
      "outputs": [
        {
          "output_type": "execute_result",
          "data": {
            "text/plain": [
              "<keras.callbacks.History at 0x799cc7ed4940>"
            ]
          },
          "metadata": {},
          "execution_count": 132
        }
      ]
    },
    {
      "cell_type": "code",
      "source": [
        "# Call a summary of the model\n",
        "model.summary()"
      ],
      "metadata": {
        "colab": {
          "base_uri": "https://localhost:8080/"
        },
        "id": "n0JDcX4OuEwA",
        "outputId": "7a1b77b9-712c-4a19-81b4-3ecfe5252a5f"
      },
      "execution_count": 133,
      "outputs": [
        {
          "output_type": "stream",
          "name": "stdout",
          "text": [
            "Model: \"Model_1\"\n",
            "_________________________________________________________________\n",
            " Layer (type)                Output Shape              Param #   \n",
            "=================================================================\n",
            " input_layers (Dense)        (None, 100)               200       \n",
            "                                                                 \n",
            " dense_60 (Dense)            (None, 100)               10100     \n",
            "                                                                 \n",
            " dense_61 (Dense)            (None, 100)               10100     \n",
            "                                                                 \n",
            " dense_62 (Dense)            (None, 100)               10100     \n",
            "                                                                 \n",
            " ouput_layer (Dense)         (None, 1)                 101       \n",
            "                                                                 \n",
            "=================================================================\n",
            "Total params: 30,601\n",
            "Trainable params: 30,601\n",
            "Non-trainable params: 0\n",
            "_________________________________________________________________\n"
          ]
        }
      ]
    },
    {
      "cell_type": "markdown",
      "source": [
        "Alongside summary, you can also view a 2D plot of the model using [`plot_model()`](https://www.tensorflow.org/api_docs/python/tf/keras/utils/plot_model)."
      ],
      "metadata": {
        "id": "xBc_2AZ8vGBp"
      }
    },
    {
      "cell_type": "code",
      "source": [
        "from tensorflow.keras.utils import plot_model\n",
        "\n",
        "plot_model(model=model,show_shapes=True)"
      ],
      "metadata": {
        "colab": {
          "base_uri": "https://localhost:8080/",
          "height": 644
        },
        "id": "tujaJamRXk6H",
        "outputId": "d0466cbc-3f2b-4d71-d06e-f0dfe000eea0"
      },
      "execution_count": 134,
      "outputs": [
        {
          "output_type": "execute_result",
          "data": {
            "image/png": "[encoded data removed]",
            "text/plain": [
              "<IPython.core.display.Image object>"
            ]
          },
          "metadata": {},
          "execution_count": 134
        }
      ]
    },
    {
      "cell_type": "markdown",
      "source": [
        "## Visualizing the predictions\n",
        "\n",
        "Now we've got a trained model, let's visualize some predictions.\n",
        "\n",
        "To visualize predictions, it's always a good idea to plot them against the ground truth labels.\n",
        "\n",
        "Often you'll see this in the form of `y_test` vs. `y_pred` (ground truth vs. predictions).\n",
        "\n",
        "First, we'll make some predictions on the test data (`X_test`), remember the model has never seen the test data."
      ],
      "metadata": {
        "id": "pt_tmZ-bx0uF"
      }
    },
    {
      "cell_type": "code",
      "source": [
        "# Make some predictions\n",
        "y_preds = model.predict(X_test)\n",
        "y_preds"
      ],
      "metadata": {
        "colab": {
          "base_uri": "https://localhost:8080/"
        },
        "id": "9LR7tABqvDAT",
        "outputId": "9ff3c619-c69f-42a5-d0d4-9bb87937040f"
      },
      "execution_count": 135,
      "outputs": [
        {
          "output_type": "stream",
          "name": "stdout",
          "text": [
            "1/1 [==============================] - 0s 70ms/step\n"
          ]
        },
        {
          "output_type": "execute_result",
          "data": {
            "text/plain": [
              "array([[ 72.921295],\n",
              "       [ 77.56669 ],\n",
              "       [ 82.2121  ],\n",
              "       [ 86.85844 ],\n",
              "       [ 91.50579 ],\n",
              "       [ 96.154945],\n",
              "       [100.805435],\n",
              "       [105.45592 ],\n",
              "       [110.1064  ],\n",
              "       [114.75689 ]], dtype=float32)"
            ]
          },
          "metadata": {},
          "execution_count": 135
        }
      ]
    },
    {
      "cell_type": "code",
      "source": [
        "y_test"
      ],
      "metadata": {
        "colab": {
          "base_uri": "https://localhost:8080/"
        },
        "id": "OkyIgl3oyBFJ",
        "outputId": "b1f763a9-2190-4f10-c65b-1872d7f97b8b"
      },
      "execution_count": 136,
      "outputs": [
        {
          "output_type": "execute_result",
          "data": {
            "text/plain": [
              "<tf.Tensor: shape=(10,), dtype=int32, numpy=array([ 70,  74,  78,  82,  86,  90,  94,  98, 102, 106], dtype=int32)>"
            ]
          },
          "metadata": {},
          "execution_count": 136
        }
      ]
    },
    {
      "cell_type": "markdown",
      "source": [
        "Okay, we get a list of numbers but how do these compare to the ground truth labels?\n",
        "\n",
        "Let's build a plotting function to find out.\n",
        "\n",
        "> 🔑 **Note:** If you think you're going to be visualizing something a lot, it's a good idea to functionize it so you can use it later."
      ],
      "metadata": {
        "id": "zk5TNRAdyT50"
      }
    },
    {
      "cell_type": "code",
      "source": [
        "# Let's plot the data\n",
        "def plot_predictions(train_data=X_train,\n",
        "                     train_labels=y_train,\n",
        "                     test_data=X_test,\n",
        "                     test_labels=y_test,\n",
        "                     predictions=y_pred):\n",
        "  \"\"\"\n",
        "  Plots training data, test data and compares predictions.\n",
        "  \"\"\"\n",
        "  plt.figure(figsize=(10, 7))\n",
        "\n",
        "  # Plot training data in blue\n",
        "  plt.scatter(train_data, train_labels, c=\"b\", label=\"Training data\")\n",
        "\n",
        "  # Plot test data in green\n",
        "  plt.scatter(test_data, test_labels, c=\"g\", label=\"Testing data\")\n",
        "\n",
        "  # Plot the predictions in red (predictions were made on the test data)\n",
        "  plt.scatter(test_data, predictions, c=\"r\", label=\"Predictions\")\n",
        "\n",
        "  # Show the legend\n",
        "  plt.legend();"
      ],
      "metadata": {
        "id": "kM18zCvYyMC5"
      },
      "execution_count": 137,
      "outputs": []
    },
    {
      "cell_type": "code",
      "source": [
        "plot_predictions(train_data=X_train,\n",
        "                 train_labels=y_train,\n",
        "                 test_data=X_test,\n",
        "                 test_labels=y_test,\n",
        "                 predictions=y_preds)"
      ],
      "metadata": {
        "colab": {
          "base_uri": "https://localhost:8080/",
          "height": 471
        },
        "id": "R4DVKUKrzEws",
        "outputId": "0eb12346-f616-4e3c-95f4-0c8b9f33a49f"
      },
      "execution_count": 138,
      "outputs": [
        {
          "output_type": "display_data",
          "data": {
            "text/plain": [
              "<Figure size 1000x700 with 1 Axes>"
            ],
            "image/png": "[encoded data removed]"
          },
          "metadata": {}
        }
      ]
    },
    {
      "cell_type": "markdown",
      "source": [
        "## Evaluating predictions\n",
        "\n",
        "Alongisde visualizations, evaulation metrics are your alternative best option for evaluating your model.\n",
        "\n",
        "Depending on the problem you're working on, different models have different evaluation metrics.\n",
        "\n",
        "Two of the main metrics used for regression problems are:\n",
        "* **Mean absolute error (MAE)** - the mean difference between each of the predictions.\n",
        "* **Mean squared error (MSE)** - the squared mean difference between of the predictions (use if larger errors are more detrimental than smaller errors).\n",
        "\n",
        "The lower each of these values, the better.\n",
        "\n",
        "You can also use [`model.evaluate()`](https://www.tensorflow.org/api_docs/python/tf/keras/Model#evaluate) which will return the loss of the model as well as any metrics setup during the compile step."
      ],
      "metadata": {
        "id": "Vqbn2yQq0o3u"
      }
    },
    {
      "cell_type": "code",
      "source": [
        "# Evaluate the model on the test\n",
        "model.evaluate (X_test,y_test)"
      ],
      "metadata": {
        "colab": {
          "base_uri": "https://localhost:8080/"
        },
        "id": "8xT5ws1PzIfZ",
        "outputId": "fc9188eb-f0c6-489d-d522-8eec211ae875"
      },
      "execution_count": 145,
      "outputs": [
        {
          "output_type": "stream",
          "name": "stdout",
          "text": [
            "1/1 [==============================] - 0s 39ms/step - loss: 5.8344 - mae: 5.8344\n"
          ]
        },
        {
          "output_type": "execute_result",
          "data": {
            "text/plain": [
              "[5.8343915939331055, 5.8343915939331055]"
            ]
          },
          "metadata": {},
          "execution_count": 145
        }
      ]
    },
    {
      "cell_type": "code",
      "source": [
        "# Calculate MAE\n",
        "mae = tf.metrics.mean_absolute_error(y_true = y_test,\n",
        "                                     y_pred = y_pred)\n",
        "mae"
      ],
      "metadata": {
        "colab": {
          "base_uri": "https://localhost:8080/"
        },
        "id": "FaOVRk1t2vDK",
        "outputId": "c7108c2c-8e88-4335-9d9f-422b01994c3f"
      },
      "execution_count": 146,
      "outputs": [
        {
          "output_type": "execute_result",
          "data": {
            "text/plain": [
              "<tf.Tensor: shape=(10,), dtype=float32, numpy=\n",
              "array([13.645144 , 11.2519045, 10.03686  , 10.152234 , 11.4826565,\n",
              "       13.991264 , 17.678064 , 22.543037 , 27.48851  , 32.433983 ],\n",
              "      dtype=float32)>"
            ]
          },
          "metadata": {},
          "execution_count": 146
        }
      ]
    },
    {
      "cell_type": "code",
      "source": [
        "tf.constant(y_pred)"
      ],
      "metadata": {
        "colab": {
          "base_uri": "https://localhost:8080/"
        },
        "id": "SZd5q0Vm3adf",
        "outputId": "17626bb5-a87b-4f02-9502-d0e3475a7463"
      },
      "execution_count": 147,
      "outputs": [
        {
          "output_type": "execute_result",
          "data": {
            "text/plain": [
              "<tf.Tensor: shape=(10, 1), dtype=float32, numpy=\n",
              "array([[ 75.92476],\n",
              "       [ 80.87024],\n",
              "       [ 85.8157 ],\n",
              "       [ 90.76117],\n",
              "       [ 95.70664],\n",
              "       [100.65211],\n",
              "       [105.59758],\n",
              "       [110.54304],\n",
              "       [115.48851],\n",
              "       [120.43398]], dtype=float32)>"
            ]
          },
          "metadata": {},
          "execution_count": 147
        }
      ]
    },
    {
      "cell_type": "code",
      "source": [
        "y_test"
      ],
      "metadata": {
        "colab": {
          "base_uri": "https://localhost:8080/"
        },
        "id": "VJfMwNdR3tov",
        "outputId": "60d1c0dd-e51f-41df-f3a9-025ace693543"
      },
      "execution_count": 148,
      "outputs": [
        {
          "output_type": "execute_result",
          "data": {
            "text/plain": [
              "<tf.Tensor: shape=(10,), dtype=int32, numpy=array([ 70,  74,  78,  82,  86,  90,  94,  98, 102, 106], dtype=int32)>"
            ]
          },
          "metadata": {},
          "execution_count": 148
        }
      ]
    },
    {
      "cell_type": "code",
      "source": [
        "tf.squeeze(y_pred)"
      ],
      "metadata": {
        "colab": {
          "base_uri": "https://localhost:8080/"
        },
        "id": "4MTG2BS63uac",
        "outputId": "3ad720be-ac2b-40a5-93fe-2c0f53a089b6"
      },
      "execution_count": 149,
      "outputs": [
        {
          "output_type": "execute_result",
          "data": {
            "text/plain": [
              "<tf.Tensor: shape=(10,), dtype=float32, numpy=\n",
              "array([ 75.92476,  80.87024,  85.8157 ,  90.76117,  95.70664, 100.65211,\n",
              "       105.59758, 110.54304, 115.48851, 120.43398], dtype=float32)>"
            ]
          },
          "metadata": {},
          "execution_count": 149
        }
      ]
    },
    {
      "cell_type": "code",
      "source": [
        "# Calculate MAE\n",
        "mae = tf.metrics.mean_absolute_error(y_true = y_test,\n",
        "                                     y_pred = tf.squeeze(y_pred))\n",
        "mae"
      ],
      "metadata": {
        "colab": {
          "base_uri": "https://localhost:8080/"
        },
        "id": "9TpQ4RjI4E4u",
        "outputId": "4843ca0a-9277-496e-caf5-d3df83c9db41"
      },
      "execution_count": 150,
      "outputs": [
        {
          "output_type": "execute_result",
          "data": {
            "text/plain": [
              "<tf.Tensor: shape=(), dtype=float32, numpy=10.179373>"
            ]
          },
          "metadata": {},
          "execution_count": 150
        }
      ]
    },
    {
      "cell_type": "code",
      "source": [
        "# Calculate MSE\n",
        "mse = tf.metrics.mean_squared_error(y_true= y_test,\n",
        "                                   y_pred= tf.squeeze(y_pred))\n",
        "mse"
      ],
      "metadata": {
        "colab": {
          "base_uri": "https://localhost:8080/"
        },
        "id": "GyN0zUyW4L2-",
        "outputId": "bfaf3fef-e5c0-49a2-9d44-bed69de51b35"
      },
      "execution_count": 151,
      "outputs": [
        {
          "output_type": "execute_result",
          "data": {
            "text/plain": [
              "<tf.Tensor: shape=(), dtype=float32, numpy=110.994385>"
            ]
          },
          "metadata": {},
          "execution_count": 151
        }
      ]
    },
    {
      "cell_type": "code",
      "source": [
        "# Make some functions to reuse MAE and MSE\n",
        "def mae (y_true,y_pred):\n",
        "  return tf.metrics.mean_absolute_error(y_true=y_true,\n",
        "                                        y_pred=y_pred)\n",
        "def mse (y_true,y_pred):\n",
        "  return tf.metrics.mean_squared_error(y_true=y_true,\n",
        "                                        y_pred=y_pred)"
      ],
      "metadata": {
        "id": "W9K0brs14qIc"
      },
      "execution_count": 158,
      "outputs": []
    },
    {
      "cell_type": "markdown",
      "source": [
        "### Running experiments to improve the model\n",
        "```\n",
        "Build a model -> fit it -> evaluate it -> tweak it -> fit it -> evaluate it -> tweak it -> fit it -> evaluate it....\n",
        "\n",
        "1. Get more data - get more examples for your model to train on (more opportunities to learn patterns or relationships between features and labels).\n",
        "2. Make your model larger (using a more complex model)- this might come in the form of more layers or more hidden units in each layer.\n",
        "3. Train for longer - give your model more more of a chance to find patterns in the data.\n",
        "\n",
        "Let's do 3 modelling experiments:\n",
        "1. `model_1` - same as the original model, 1 layer, trained for 100 epochs\n",
        "2. `model_2` - 2 layers, trained for 100 epochs\n",
        "3. `model_3` - 2 layers, trained for 500 epochs"
      ],
      "metadata": {
        "id": "6FW5fN2Y5q3j"
      }
    },
    {
      "cell_type": "markdown",
      "source": [
        "**Build** `model_1`"
      ],
      "metadata": {
        "id": "0J2laCpL6ylm"
      }
    },
    {
      "cell_type": "code",
      "source": [
        "X_train, y_train"
      ],
      "metadata": {
        "id": "Via9x7PP5VLd",
        "outputId": "4aec499e-16c7-42e8-e1a6-521f54876c57",
        "colab": {
          "base_uri": "https://localhost:8080/"
        }
      },
      "execution_count": 153,
      "outputs": [
        {
          "output_type": "execute_result",
          "data": {
            "text/plain": [
              "(<tf.Tensor: shape=(40,), dtype=int32, numpy=\n",
              " array([-100,  -96,  -92,  -88,  -84,  -80,  -76,  -72,  -68,  -64,  -60,\n",
              "         -56,  -52,  -48,  -44,  -40,  -36,  -32,  -28,  -24,  -20,  -16,\n",
              "         -12,   -8,   -4,    0,    4,    8,   12,   16,   20,   24,   28,\n",
              "          32,   36,   40,   44,   48,   52,   56], dtype=int32)>,\n",
              " <tf.Tensor: shape=(40,), dtype=int32, numpy=\n",
              " array([-90, -86, -82, -78, -74, -70, -66, -62, -58, -54, -50, -46, -42,\n",
              "        -38, -34, -30, -26, -22, -18, -14, -10,  -6,  -2,   2,   6,  10,\n",
              "         14,  18,  22,  26,  30,  34,  38,  42,  46,  50,  54,  58,  62,\n",
              "         66], dtype=int32)>)"
            ]
          },
          "metadata": {},
          "execution_count": 153
        }
      ]
    },
    {
      "cell_type": "code",
      "source": [
        "# Set random seed\n",
        "tf.random.set_seed(42)\n",
        "\n",
        "# Replicate original model\n",
        "model_1 = tf.keras.Sequential([\n",
        "  tf.keras.layers.Dense(1,input_shape=[1])\n",
        "],name=\"Model_1\")\n",
        "\n",
        "# Compile the model\n",
        "model_1.compile(loss=tf.keras.losses.mae,\n",
        "                optimizer=tf.keras.optimizers.SGD(),\n",
        "                metrics=['mae'])\n",
        "\n",
        "# Fit the model\n",
        "history = model_1.fit(tf.expand_dims(X_train, axis=-1), y_train, epochs=100)"
      ],
      "metadata": {
        "id": "dXYBBSbP6u81",
        "outputId": "555519bc-6606-4a36-b060-12bdd48e4dc1",
        "colab": {
          "base_uri": "https://localhost:8080/"
        }
      },
      "execution_count": 160,
      "outputs": [
        {
          "output_type": "stream",
          "name": "stdout",
          "text": [
            "Epoch 1/100\n",
            "2/2 [==============================] - 0s 10ms/step - loss: 110.6846 - mae: 110.6846\n",
            "Epoch 2/100\n",
            "2/2 [==============================] - 0s 6ms/step - loss: 75.2292 - mae: 75.2292\n",
            "Epoch 3/100\n",
            "2/2 [==============================] - 0s 7ms/step - loss: 37.6619 - mae: 37.6619\n",
            "Epoch 4/100\n",
            "2/2 [==============================] - 0s 6ms/step - loss: 8.1754 - mae: 8.1754\n",
            "Epoch 5/100\n",
            "2/2 [==============================] - 0s 7ms/step - loss: 10.7192 - mae: 10.7192\n",
            "Epoch 6/100\n",
            "2/2 [==============================] - 0s 6ms/step - loss: 9.9206 - mae: 9.9206\n",
            "Epoch 7/100\n",
            "2/2 [==============================] - 0s 6ms/step - loss: 8.9848 - mae: 8.9848\n",
            "Epoch 8/100\n",
            "2/2 [==============================] - 0s 7ms/step - loss: 9.1109 - mae: 9.1109\n",
            "Epoch 9/100\n",
            "2/2 [==============================] - 0s 7ms/step - loss: 19.7270 - mae: 19.7270\n",
            "Epoch 10/100\n",
            "2/2 [==============================] - 0s 6ms/step - loss: 10.6804 - mae: 10.6804\n",
            "Epoch 11/100\n",
            "2/2 [==============================] - 0s 6ms/step - loss: 8.6386 - mae: 8.6386\n",
            "Epoch 12/100\n",
            "2/2 [==============================] - 0s 6ms/step - loss: 11.1946 - mae: 11.1946\n",
            "Epoch 13/100\n",
            "2/2 [==============================] - 0s 7ms/step - loss: 12.1435 - mae: 12.1435\n",
            "Epoch 14/100\n",
            "2/2 [==============================] - 0s 7ms/step - loss: 14.1314 - mae: 14.1314\n",
            "Epoch 15/100\n",
            "2/2 [==============================] - 0s 6ms/step - loss: 11.5334 - mae: 11.5334\n",
            "Epoch 16/100\n",
            "2/2 [==============================] - 0s 12ms/step - loss: 8.5416 - mae: 8.5416\n",
            "Epoch 17/100\n",
            "2/2 [==============================] - 0s 7ms/step - loss: 13.6027 - mae: 13.6027\n",
            "Epoch 18/100\n",
            "2/2 [==============================] - 0s 6ms/step - loss: 11.4140 - mae: 11.4140\n",
            "Epoch 19/100\n",
            "2/2 [==============================] - 0s 6ms/step - loss: 18.0409 - mae: 18.0409\n",
            "Epoch 20/100\n",
            "2/2 [==============================] - 0s 6ms/step - loss: 15.1747 - mae: 15.1747\n",
            "Epoch 21/100\n",
            "2/2 [==============================] - 0s 7ms/step - loss: 11.1347 - mae: 11.1347\n",
            "Epoch 22/100\n",
            "2/2 [==============================] - 0s 6ms/step - loss: 8.2649 - mae: 8.2649\n",
            "Epoch 23/100\n",
            "2/2 [==============================] - 0s 6ms/step - loss: 9.4925 - mae: 9.4925\n",
            "Epoch 24/100\n",
            "2/2 [==============================] - 0s 7ms/step - loss: 7.7160 - mae: 7.7160\n",
            "Epoch 25/100\n",
            "2/2 [==============================] - 0s 7ms/step - loss: 13.0725 - mae: 13.0725\n",
            "Epoch 26/100\n",
            "2/2 [==============================] - 0s 6ms/step - loss: 16.5446 - mae: 16.5446\n",
            "Epoch 27/100\n",
            "2/2 [==============================] - 0s 6ms/step - loss: 13.2749 - mae: 13.2749\n",
            "Epoch 28/100\n",
            "2/2 [==============================] - 0s 7ms/step - loss: 14.3888 - mae: 14.3888\n",
            "Epoch 29/100\n",
            "2/2 [==============================] - 0s 7ms/step - loss: 10.1297 - mae: 10.1297\n",
            "Epoch 30/100\n",
            "2/2 [==============================] - 0s 7ms/step - loss: 16.5184 - mae: 16.5184\n",
            "Epoch 31/100\n",
            "2/2 [==============================] - 0s 6ms/step - loss: 23.5097 - mae: 23.5097\n",
            "Epoch 32/100\n",
            "2/2 [==============================] - 0s 6ms/step - loss: 7.4018 - mae: 7.4018\n",
            "Epoch 33/100\n",
            "2/2 [==============================] - 0s 6ms/step - loss: 9.8429 - mae: 9.8429\n",
            "Epoch 34/100\n",
            "2/2 [==============================] - 0s 6ms/step - loss: 12.3021 - mae: 12.3021\n",
            "Epoch 35/100\n",
            "2/2 [==============================] - 0s 6ms/step - loss: 11.1808 - mae: 11.1808\n",
            "Epoch 36/100\n",
            "2/2 [==============================] - 0s 8ms/step - loss: 13.3892 - mae: 13.3892\n",
            "Epoch 37/100\n",
            "2/2 [==============================] - 0s 7ms/step - loss: 9.4913 - mae: 9.4913\n",
            "Epoch 38/100\n",
            "2/2 [==============================] - 0s 7ms/step - loss: 10.1475 - mae: 10.1475\n",
            "Epoch 39/100\n",
            "2/2 [==============================] - 0s 8ms/step - loss: 10.2328 - mae: 10.2328\n",
            "Epoch 40/100\n",
            "2/2 [==============================] - 0s 7ms/step - loss: 10.9715 - mae: 10.9715\n",
            "Epoch 41/100\n",
            "2/2 [==============================] - 0s 6ms/step - loss: 7.9621 - mae: 7.9621\n",
            "Epoch 42/100\n",
            "2/2 [==============================] - 0s 6ms/step - loss: 10.1038 - mae: 10.1038\n",
            "Epoch 43/100\n",
            "2/2 [==============================] - 0s 6ms/step - loss: 8.7252 - mae: 8.7252\n",
            "Epoch 44/100\n",
            "2/2 [==============================] - 0s 6ms/step - loss: 12.1929 - mae: 12.1929\n",
            "Epoch 45/100\n",
            "2/2 [==============================] - 0s 6ms/step - loss: 13.8597 - mae: 13.8597\n",
            "Epoch 46/100\n",
            "2/2 [==============================] - 0s 6ms/step - loss: 8.5263 - mae: 8.5263\n",
            "Epoch 47/100\n",
            "2/2 [==============================] - 0s 6ms/step - loss: 9.1474 - mae: 9.1474\n",
            "Epoch 48/100\n",
            "2/2 [==============================] - 0s 6ms/step - loss: 10.6260 - mae: 10.6260\n",
            "Epoch 49/100\n",
            "2/2 [==============================] - 0s 7ms/step - loss: 7.7654 - mae: 7.7654\n",
            "Epoch 50/100\n",
            "2/2 [==============================] - 0s 9ms/step - loss: 9.5486 - mae: 9.5486\n",
            "Epoch 51/100\n",
            "2/2 [==============================] - 0s 7ms/step - loss: 9.1849 - mae: 9.1849\n",
            "Epoch 52/100\n",
            "2/2 [==============================] - 0s 6ms/step - loss: 16.3213 - mae: 16.3213\n",
            "Epoch 53/100\n",
            "2/2 [==============================] - 0s 7ms/step - loss: 14.1767 - mae: 14.1767\n",
            "Epoch 54/100\n",
            "2/2 [==============================] - 0s 6ms/step - loss: 21.1991 - mae: 21.1991\n",
            "Epoch 55/100\n",
            "2/2 [==============================] - 0s 6ms/step - loss: 16.3657 - mae: 16.3657\n",
            "Epoch 56/100\n",
            "2/2 [==============================] - 0s 8ms/step - loss: 10.0422 - mae: 10.0422\n",
            "Epoch 57/100\n",
            "2/2 [==============================] - 0s 7ms/step - loss: 9.9715 - mae: 9.9715\n",
            "Epoch 58/100\n",
            "2/2 [==============================] - 0s 8ms/step - loss: 9.2359 - mae: 9.2359\n",
            "Epoch 59/100\n",
            "2/2 [==============================] - 0s 6ms/step - loss: 8.4345 - mae: 8.4345\n",
            "Epoch 60/100\n",
            "2/2 [==============================] - 0s 7ms/step - loss: 9.5054 - mae: 9.5054\n",
            "Epoch 61/100\n",
            "2/2 [==============================] - 0s 7ms/step - loss: 11.4383 - mae: 11.4383\n",
            "Epoch 62/100\n",
            "2/2 [==============================] - 0s 7ms/step - loss: 11.7518 - mae: 11.7518\n",
            "Epoch 63/100\n",
            "2/2 [==============================] - 0s 7ms/step - loss: 7.1072 - mae: 7.1072\n",
            "Epoch 64/100\n",
            "2/2 [==============================] - 0s 8ms/step - loss: 17.0266 - mae: 17.0266\n",
            "Epoch 65/100\n",
            "2/2 [==============================] - 0s 7ms/step - loss: 12.5143 - mae: 12.5143\n",
            "Epoch 66/100\n",
            "2/2 [==============================] - 0s 7ms/step - loss: 13.0804 - mae: 13.0804\n",
            "Epoch 67/100\n",
            "2/2 [==============================] - 0s 7ms/step - loss: 8.1062 - mae: 8.1062\n",
            "Epoch 68/100\n",
            "2/2 [==============================] - 0s 7ms/step - loss: 10.2405 - mae: 10.2405\n",
            "Epoch 69/100\n",
            "2/2 [==============================] - 0s 6ms/step - loss: 12.4287 - mae: 12.4287\n",
            "Epoch 70/100\n",
            "2/2 [==============================] - 0s 6ms/step - loss: 9.0674 - mae: 9.0674\n",
            "Epoch 71/100\n",
            "2/2 [==============================] - 0s 6ms/step - loss: 10.0506 - mae: 10.0506\n",
            "Epoch 72/100\n",
            "2/2 [==============================] - 0s 6ms/step - loss: 10.0689 - mae: 10.0689\n",
            "Epoch 73/100\n",
            "2/2 [==============================] - 0s 6ms/step - loss: 12.6108 - mae: 12.6108\n",
            "Epoch 74/100\n",
            "2/2 [==============================] - 0s 7ms/step - loss: 10.4484 - mae: 10.4484\n",
            "Epoch 75/100\n",
            "2/2 [==============================] - 0s 6ms/step - loss: 9.7368 - mae: 9.7368\n",
            "Epoch 76/100\n",
            "2/2 [==============================] - 0s 7ms/step - loss: 11.2338 - mae: 11.2338\n",
            "Epoch 77/100\n",
            "2/2 [==============================] - 0s 7ms/step - loss: 8.3778 - mae: 8.3778\n",
            "Epoch 78/100\n",
            "2/2 [==============================] - 0s 6ms/step - loss: 9.1303 - mae: 9.1303\n",
            "Epoch 79/100\n",
            "2/2 [==============================] - 0s 7ms/step - loss: 19.5767 - mae: 19.5767\n",
            "Epoch 80/100\n",
            "2/2 [==============================] - 0s 7ms/step - loss: 14.8712 - mae: 14.8712\n",
            "Epoch 81/100\n",
            "2/2 [==============================] - 0s 6ms/step - loss: 9.0749 - mae: 9.0749\n",
            "Epoch 82/100\n",
            "2/2 [==============================] - 0s 6ms/step - loss: 13.0074 - mae: 13.0074\n",
            "Epoch 83/100\n",
            "2/2 [==============================] - 0s 6ms/step - loss: 7.9381 - mae: 7.9381\n",
            "Epoch 84/100\n",
            "2/2 [==============================] - 0s 6ms/step - loss: 7.7304 - mae: 7.7304\n",
            "Epoch 85/100\n",
            "2/2 [==============================] - 0s 6ms/step - loss: 10.0875 - mae: 10.0875\n",
            "Epoch 86/100\n",
            "2/2 [==============================] - 0s 6ms/step - loss: 9.2900 - mae: 9.2900\n",
            "Epoch 87/100\n",
            "2/2 [==============================] - 0s 6ms/step - loss: 12.0750 - mae: 12.0750\n",
            "Epoch 88/100\n",
            "2/2 [==============================] - 0s 7ms/step - loss: 10.6974 - mae: 10.6974\n",
            "Epoch 89/100\n",
            "2/2 [==============================] - 0s 6ms/step - loss: 7.3026 - mae: 7.3026\n",
            "Epoch 90/100\n",
            "2/2 [==============================] - 0s 6ms/step - loss: 12.8402 - mae: 12.8402\n",
            "Epoch 91/100\n",
            "2/2 [==============================] - 0s 9ms/step - loss: 7.5174 - mae: 7.5174\n",
            "Epoch 92/100\n",
            "2/2 [==============================] - 0s 7ms/step - loss: 6.7857 - mae: 6.7857\n",
            "Epoch 93/100\n",
            "2/2 [==============================] - 0s 7ms/step - loss: 11.9908 - mae: 11.9908\n",
            "Epoch 94/100\n",
            "2/2 [==============================] - 0s 6ms/step - loss: 8.9223 - mae: 8.9223\n",
            "Epoch 95/100\n",
            "2/2 [==============================] - 0s 7ms/step - loss: 7.7614 - mae: 7.7614\n",
            "Epoch 96/100\n",
            "2/2 [==============================] - 0s 7ms/step - loss: 6.7859 - mae: 6.7859\n",
            "Epoch 97/100\n",
            "2/2 [==============================] - 0s 6ms/step - loss: 8.6762 - mae: 8.6762\n",
            "Epoch 98/100\n",
            "2/2 [==============================] - 0s 7ms/step - loss: 9.4193 - mae: 9.4193\n",
            "Epoch 99/100\n",
            "2/2 [==============================] - 0s 7ms/step - loss: 9.1557 - mae: 9.1557\n",
            "Epoch 100/100\n",
            "2/2 [==============================] - 0s 6ms/step - loss: 10.5101 - mae: 10.5101\n"
          ]
        },
        {
          "output_type": "execute_result",
          "data": {
            "text/plain": [
              "<keras.callbacks.History at 0x799cd9979a50>"
            ]
          },
          "metadata": {},
          "execution_count": 160
        }
      ]
    },
    {
      "cell_type": "code",
      "source": [
        "model_history = pd.DataFrame(history.history)\n",
        "model_history['epoch'] = history.epoch\n",
        "\n",
        "fig, ax = plt.subplots(1, figsize=(8,6))\n",
        "num_epochs = model_history.shape[0]\n",
        "\n",
        "ax.plot(np.arange(0, num_epochs), model_history[\"mae\"],\n",
        "        label=\"Training MAE\")\n",
        "ax.legend()\n",
        "\n",
        "plt.tight_layout()\n",
        "plt.show()"
      ],
      "metadata": {
        "colab": {
          "base_uri": "https://localhost:8080/",
          "height": 508
        },
        "id": "-eH9zt58mmt-",
        "outputId": "87cdb9f5-ce11-4134-a620-892ad54af321"
      },
      "execution_count": 205,
      "outputs": [
        {
          "output_type": "display_data",
          "data": {
            "text/plain": [
              "<Figure size 800x600 with 1 Axes>"
            ],
            "image/png": "[encoded data removed]"
          },
          "metadata": {}
        }
      ]
    },
    {
      "cell_type": "code",
      "source": [
        "# Make and plot predictions for model_1\n",
        "y_preds_1 = model_1.predict(X_test)\n",
        "plot_predictions(predictions=y_preds_1)"
      ],
      "metadata": {
        "id": "fs7YobPl7TCO",
        "outputId": "65350ca2-21e2-4f1d-9a52-15383defd295",
        "colab": {
          "base_uri": "https://localhost:8080/",
          "height": 488
        }
      },
      "execution_count": 156,
      "outputs": [
        {
          "output_type": "stream",
          "name": "stdout",
          "text": [
            "1/1 [==============================] - 0s 49ms/step\n"
          ]
        },
        {
          "output_type": "display_data",
          "data": {
            "text/plain": [
              "<Figure size 1000x700 with 1 Axes>"
            ],
            "image/png": "[encoded data removed]"
          },
          "metadata": {}
        }
      ]
    },
    {
      "cell_type": "code",
      "source": [
        "# Calculate model_1 metrics\n",
        "mae_1 = mae(y_test, y_preds_1.squeeze()).numpy()\n",
        "mse_1 = mse(y_test, y_preds_1.squeeze()).numpy()\n",
        "mae_1, mse_1"
      ],
      "metadata": {
        "id": "i1lJHOOb8ER8",
        "outputId": "a22a14d1-7768-43c2-a1db-cfbd8c1d9411",
        "colab": {
          "base_uri": "https://localhost:8080/"
        }
      },
      "execution_count": 159,
      "outputs": [
        {
          "output_type": "execute_result",
          "data": {
            "text/plain": [
              "(8.549457, 79.575485)"
            ]
          },
          "metadata": {},
          "execution_count": 159
        }
      ]
    },
    {
      "cell_type": "markdown",
      "source": [
        "**Build `model_2`**\n",
        "\n",
        "This time we'll add an extra dense layer (so now our model will have 2 layers) whilst keeping everything else the same."
      ],
      "metadata": {
        "id": "Cx4YoDr08LIp"
      }
    },
    {
      "cell_type": "code",
      "source": [
        "tf.random.set_seed(42)\n",
        "\n",
        "# 1. Create the model\n",
        "model_2 = tf.keras.Sequential([\n",
        "    tf.keras.layers.Dense(100,activation=\"relu\",input_shape=[1],name=\"input_layers\"),# input shape depending of your data\n",
        "    tf.keras.layers.Dense(1,name=\"ouput_layer\")\n",
        "],name=\"Model_2\")\n",
        "\n",
        "# 2. Compile the model\n",
        "model_2.compile(loss=tf.keras.losses.mae,\n",
        "              optimizer=tf.keras.optimizers.Adam(lr=0.0001),\n",
        "              metrics=\"mae\")\n",
        "\n",
        "# Fit the model\n",
        "history= model_2.fit(tf.expand_dims(X_train, axis=-1), y_train, epochs=100)"
      ],
      "metadata": {
        "id": "4cotvLeU8HAU",
        "colab": {
          "base_uri": "https://localhost:8080/"
        },
        "outputId": "5a6bafce-24f7-4ff2-e26d-54859669fc27"
      },
      "execution_count": 203,
      "outputs": [
        {
          "output_type": "stream",
          "name": "stderr",
          "text": [
            "WARNING:absl:`lr` is deprecated in Keras optimizer, please use `learning_rate` or use the legacy optimizer, e.g.,tf.keras.optimizers.legacy.Adam.\n"
          ]
        },
        {
          "output_type": "stream",
          "name": "stdout",
          "text": [
            "Epoch 1/100\n",
            "2/2 [==============================] - 1s 15ms/step - loss: 43.8469 - mae: 43.8469\n",
            "Epoch 2/100\n",
            "2/2 [==============================] - 0s 8ms/step - loss: 42.7319 - mae: 42.7319\n",
            "Epoch 3/100\n",
            "2/2 [==============================] - 0s 9ms/step - loss: 41.6805 - mae: 41.6805\n",
            "Epoch 4/100\n",
            "2/2 [==============================] - 0s 8ms/step - loss: 40.5977 - mae: 40.5977\n",
            "Epoch 5/100\n",
            "2/2 [==============================] - 0s 8ms/step - loss: 39.5399 - mae: 39.5399\n",
            "Epoch 6/100\n",
            "2/2 [==============================] - 0s 10ms/step - loss: 38.4650 - mae: 38.4650\n",
            "Epoch 7/100\n",
            "2/2 [==============================] - 0s 9ms/step - loss: 37.3879 - mae: 37.3879\n",
            "Epoch 8/100\n",
            "2/2 [==============================] - 0s 10ms/step - loss: 36.2565 - mae: 36.2565\n",
            "Epoch 9/100\n",
            "2/2 [==============================] - 0s 10ms/step - loss: 35.2179 - mae: 35.2179\n",
            "Epoch 10/100\n",
            "2/2 [==============================] - 0s 9ms/step - loss: 34.1600 - mae: 34.1600\n",
            "Epoch 11/100\n",
            "2/2 [==============================] - 0s 10ms/step - loss: 33.0276 - mae: 33.0276\n",
            "Epoch 12/100\n",
            "2/2 [==============================] - 0s 15ms/step - loss: 31.9943 - mae: 31.9943\n",
            "Epoch 13/100\n",
            "2/2 [==============================] - 0s 10ms/step - loss: 30.8758 - mae: 30.8758\n",
            "Epoch 14/100\n",
            "2/2 [==============================] - 0s 11ms/step - loss: 29.8085 - mae: 29.8085\n",
            "Epoch 15/100\n",
            "2/2 [==============================] - 0s 13ms/step - loss: 28.7318 - mae: 28.7318\n",
            "Epoch 16/100\n",
            "2/2 [==============================] - 0s 11ms/step - loss: 27.5899 - mae: 27.5899\n",
            "Epoch 17/100\n",
            "2/2 [==============================] - 0s 9ms/step - loss: 26.4817 - mae: 26.4817\n",
            "Epoch 18/100\n",
            "2/2 [==============================] - 0s 9ms/step - loss: 25.3611 - mae: 25.3611\n",
            "Epoch 19/100\n",
            "2/2 [==============================] - 0s 11ms/step - loss: 24.3006 - mae: 24.3006\n",
            "Epoch 20/100\n",
            "2/2 [==============================] - 0s 11ms/step - loss: 23.1664 - mae: 23.1664\n",
            "Epoch 21/100\n",
            "2/2 [==============================] - 0s 9ms/step - loss: 22.0680 - mae: 22.0680\n",
            "Epoch 22/100\n",
            "2/2 [==============================] - 0s 9ms/step - loss: 21.0210 - mae: 21.0210\n",
            "Epoch 23/100\n",
            "2/2 [==============================] - 0s 12ms/step - loss: 19.9317 - mae: 19.9317\n",
            "Epoch 24/100\n",
            "2/2 [==============================] - 0s 10ms/step - loss: 18.8373 - mae: 18.8373\n",
            "Epoch 25/100\n",
            "2/2 [==============================] - 0s 10ms/step - loss: 17.7449 - mae: 17.7449\n",
            "Epoch 26/100\n",
            "2/2 [==============================] - 0s 9ms/step - loss: 16.7146 - mae: 16.7146\n",
            "Epoch 27/100\n",
            "2/2 [==============================] - 0s 10ms/step - loss: 15.6396 - mae: 15.6396\n",
            "Epoch 28/100\n",
            "2/2 [==============================] - 0s 9ms/step - loss: 14.6710 - mae: 14.6710\n",
            "Epoch 29/100\n",
            "2/2 [==============================] - 0s 9ms/step - loss: 13.5607 - mae: 13.5607\n",
            "Epoch 30/100\n",
            "2/2 [==============================] - 0s 12ms/step - loss: 12.5820 - mae: 12.5820\n",
            "Epoch 31/100\n",
            "2/2 [==============================] - 0s 13ms/step - loss: 11.8701 - mae: 11.8701\n",
            "Epoch 32/100\n",
            "2/2 [==============================] - 0s 12ms/step - loss: 11.0547 - mae: 11.0547\n",
            "Epoch 33/100\n",
            "2/2 [==============================] - 0s 11ms/step - loss: 10.4421 - mae: 10.4421\n",
            "Epoch 34/100\n",
            "2/2 [==============================] - 0s 11ms/step - loss: 10.1933 - mae: 10.1933\n",
            "Epoch 35/100\n",
            "2/2 [==============================] - 0s 9ms/step - loss: 10.1364 - mae: 10.1364\n",
            "Epoch 36/100\n",
            "2/2 [==============================] - 0s 7ms/step - loss: 10.0671 - mae: 10.0671\n",
            "Epoch 37/100\n",
            "2/2 [==============================] - 0s 8ms/step - loss: 9.9415 - mae: 9.9415\n",
            "Epoch 38/100\n",
            "2/2 [==============================] - 0s 8ms/step - loss: 9.6165 - mae: 9.6165\n",
            "Epoch 39/100\n",
            "2/2 [==============================] - 0s 7ms/step - loss: 9.1759 - mae: 9.1759\n",
            "Epoch 40/100\n",
            "2/2 [==============================] - 0s 9ms/step - loss: 8.7924 - mae: 8.7924\n",
            "Epoch 41/100\n",
            "2/2 [==============================] - 0s 9ms/step - loss: 8.4241 - mae: 8.4241\n",
            "Epoch 42/100\n",
            "2/2 [==============================] - 0s 8ms/step - loss: 8.1879 - mae: 8.1879\n",
            "Epoch 43/100\n",
            "2/2 [==============================] - 0s 11ms/step - loss: 7.9444 - mae: 7.9444\n",
            "Epoch 44/100\n",
            "2/2 [==============================] - 0s 8ms/step - loss: 7.6770 - mae: 7.6770\n",
            "Epoch 45/100\n",
            "2/2 [==============================] - 0s 9ms/step - loss: 7.4132 - mae: 7.4132\n",
            "Epoch 46/100\n",
            "2/2 [==============================] - 0s 9ms/step - loss: 7.1649 - mae: 7.1649\n",
            "Epoch 47/100\n",
            "2/2 [==============================] - 0s 8ms/step - loss: 6.8628 - mae: 6.8628\n",
            "Epoch 48/100\n",
            "2/2 [==============================] - 0s 9ms/step - loss: 6.5520 - mae: 6.5520\n",
            "Epoch 49/100\n",
            "2/2 [==============================] - 0s 8ms/step - loss: 6.2612 - mae: 6.2612\n",
            "Epoch 50/100\n",
            "2/2 [==============================] - 0s 9ms/step - loss: 5.9023 - mae: 5.9023\n",
            "Epoch 51/100\n",
            "2/2 [==============================] - 0s 10ms/step - loss: 5.5785 - mae: 5.5785\n",
            "Epoch 52/100\n",
            "2/2 [==============================] - 0s 9ms/step - loss: 5.2778 - mae: 5.2778\n",
            "Epoch 53/100\n",
            "2/2 [==============================] - 0s 9ms/step - loss: 4.9208 - mae: 4.9208\n",
            "Epoch 54/100\n",
            "2/2 [==============================] - 0s 9ms/step - loss: 4.5835 - mae: 4.5835\n",
            "Epoch 55/100\n",
            "2/2 [==============================] - 0s 9ms/step - loss: 4.2630 - mae: 4.2630\n",
            "Epoch 56/100\n",
            "2/2 [==============================] - 0s 8ms/step - loss: 4.1031 - mae: 4.1031\n",
            "Epoch 57/100\n",
            "2/2 [==============================] - 0s 9ms/step - loss: 4.0602 - mae: 4.0602\n",
            "Epoch 58/100\n",
            "2/2 [==============================] - 0s 8ms/step - loss: 4.0738 - mae: 4.0738\n",
            "Epoch 59/100\n",
            "2/2 [==============================] - 0s 8ms/step - loss: 4.1250 - mae: 4.1250\n",
            "Epoch 60/100\n",
            "2/2 [==============================] - 0s 8ms/step - loss: 4.1666 - mae: 4.1666\n",
            "Epoch 61/100\n",
            "2/2 [==============================] - 0s 8ms/step - loss: 4.1823 - mae: 4.1823\n",
            "Epoch 62/100\n",
            "2/2 [==============================] - 0s 11ms/step - loss: 4.1803 - mae: 4.1803\n",
            "Epoch 63/100\n",
            "2/2 [==============================] - 0s 10ms/step - loss: 4.1667 - mae: 4.1667\n",
            "Epoch 64/100\n",
            "2/2 [==============================] - 0s 8ms/step - loss: 4.1782 - mae: 4.1782\n",
            "Epoch 65/100\n",
            "2/2 [==============================] - 0s 9ms/step - loss: 4.1759 - mae: 4.1759\n",
            "Epoch 66/100\n",
            "2/2 [==============================] - 0s 11ms/step - loss: 4.1590 - mae: 4.1590\n",
            "Epoch 67/100\n",
            "2/2 [==============================] - 0s 12ms/step - loss: 4.1354 - mae: 4.1354\n",
            "Epoch 68/100\n",
            "2/2 [==============================] - 0s 9ms/step - loss: 4.1121 - mae: 4.1121\n",
            "Epoch 69/100\n",
            "2/2 [==============================] - 0s 8ms/step - loss: 4.0939 - mae: 4.0939\n",
            "Epoch 70/100\n",
            "2/2 [==============================] - 0s 8ms/step - loss: 4.0535 - mae: 4.0535\n",
            "Epoch 71/100\n",
            "2/2 [==============================] - 0s 11ms/step - loss: 4.0341 - mae: 4.0341\n",
            "Epoch 72/100\n",
            "2/2 [==============================] - 0s 10ms/step - loss: 4.0329 - mae: 4.0329\n",
            "Epoch 73/100\n",
            "2/2 [==============================] - 0s 12ms/step - loss: 4.0146 - mae: 4.0146\n",
            "Epoch 74/100\n",
            "2/2 [==============================] - 0s 9ms/step - loss: 4.0036 - mae: 4.0036\n",
            "Epoch 75/100\n",
            "2/2 [==============================] - 0s 8ms/step - loss: 3.9813 - mae: 3.9813\n",
            "Epoch 76/100\n",
            "2/2 [==============================] - 0s 8ms/step - loss: 3.9912 - mae: 3.9912\n",
            "Epoch 77/100\n",
            "2/2 [==============================] - 0s 8ms/step - loss: 3.9806 - mae: 3.9806\n",
            "Epoch 78/100\n",
            "2/2 [==============================] - 0s 13ms/step - loss: 4.0423 - mae: 4.0423\n",
            "Epoch 79/100\n",
            "2/2 [==============================] - 0s 12ms/step - loss: 4.0557 - mae: 4.0557\n",
            "Epoch 80/100\n",
            "2/2 [==============================] - 0s 13ms/step - loss: 4.0705 - mae: 4.0705\n",
            "Epoch 81/100\n",
            "2/2 [==============================] - 0s 11ms/step - loss: 4.0696 - mae: 4.0696\n",
            "Epoch 82/100\n",
            "2/2 [==============================] - 0s 12ms/step - loss: 4.0405 - mae: 4.0405\n",
            "Epoch 83/100\n",
            "2/2 [==============================] - 0s 11ms/step - loss: 4.0039 - mae: 4.0039\n",
            "Epoch 84/100\n",
            "2/2 [==============================] - 0s 16ms/step - loss: 3.9702 - mae: 3.9702\n",
            "Epoch 85/100\n",
            "2/2 [==============================] - 0s 12ms/step - loss: 3.9369 - mae: 3.9369\n",
            "Epoch 86/100\n",
            "2/2 [==============================] - 0s 9ms/step - loss: 3.9235 - mae: 3.9235\n",
            "Epoch 87/100\n",
            "2/2 [==============================] - 0s 9ms/step - loss: 3.9203 - mae: 3.9203\n",
            "Epoch 88/100\n",
            "2/2 [==============================] - 0s 13ms/step - loss: 3.9646 - mae: 3.9646\n",
            "Epoch 89/100\n",
            "2/2 [==============================] - 0s 10ms/step - loss: 4.0304 - mae: 4.0304\n",
            "Epoch 90/100\n",
            "2/2 [==============================] - 0s 10ms/step - loss: 4.0729 - mae: 4.0729\n",
            "Epoch 91/100\n",
            "2/2 [==============================] - 0s 12ms/step - loss: 4.0554 - mae: 4.0554\n",
            "Epoch 92/100\n",
            "2/2 [==============================] - 0s 9ms/step - loss: 3.9807 - mae: 3.9807\n",
            "Epoch 93/100\n",
            "2/2 [==============================] - 0s 8ms/step - loss: 3.9429 - mae: 3.9429\n",
            "Epoch 94/100\n",
            "2/2 [==============================] - 0s 7ms/step - loss: 3.9299 - mae: 3.9299\n",
            "Epoch 95/100\n",
            "2/2 [==============================] - 0s 7ms/step - loss: 3.9288 - mae: 3.9288\n",
            "Epoch 96/100\n",
            "2/2 [==============================] - 0s 8ms/step - loss: 3.9608 - mae: 3.9608\n",
            "Epoch 97/100\n",
            "2/2 [==============================] - 0s 8ms/step - loss: 3.9487 - mae: 3.9487\n",
            "Epoch 98/100\n",
            "2/2 [==============================] - 0s 13ms/step - loss: 3.9304 - mae: 3.9304\n",
            "Epoch 99/100\n",
            "2/2 [==============================] - 0s 10ms/step - loss: 3.9093 - mae: 3.9093\n",
            "Epoch 100/100\n",
            "2/2 [==============================] - 0s 10ms/step - loss: 3.8810 - mae: 3.8810\n"
          ]
        }
      ]
    },
    {
      "cell_type": "code",
      "source": [
        "model_history = pd.DataFrame(history.history)\n",
        "model_history['epoch'] = history.epoch\n",
        "\n",
        "fig, ax = plt.subplots(1, figsize=(8,6))\n",
        "num_epochs = model_history.shape[0]\n",
        "\n",
        "ax.plot(np.arange(0, num_epochs), model_history[\"mae\"],\n",
        "        label=\"Training MAE\")\n",
        "ax.legend()\n",
        "\n",
        "plt.tight_layout()\n",
        "plt.show()"
      ],
      "metadata": {
        "colab": {
          "base_uri": "https://localhost:8080/",
          "height": 508
        },
        "id": "S7BL5ZOHmbH3",
        "outputId": "2f53bcd9-aae2-42d2-ff3b-6195ecd14dc4"
      },
      "execution_count": 204,
      "outputs": [
        {
          "output_type": "display_data",
          "data": {
            "text/plain": [
              "<Figure size 800x600 with 1 Axes>"
            ],
            "image/png": "[encoded data removed]"
          },
          "metadata": {}
        }
      ]
    },
    {
      "cell_type": "code",
      "source": [
        "y_preds_2 = model_2.predict(X_test)\n",
        "plot_predictions(predictions=y_preds_2)"
      ],
      "metadata": {
        "colab": {
          "base_uri": "https://localhost:8080/",
          "height": 488
        },
        "id": "yjZOVUXNf5YI",
        "outputId": "43dc88d2-1bf1-4486-f464-4b597eb4fa62"
      },
      "execution_count": 178,
      "outputs": [
        {
          "output_type": "stream",
          "name": "stdout",
          "text": [
            "1/1 [==============================] - 0s 59ms/step\n"
          ]
        },
        {
          "output_type": "display_data",
          "data": {
            "text/plain": [
              "<Figure size 1000x700 with 1 Axes>"
            ],
            "image/png": "[encoded data removed]"
          },
          "metadata": {}
        }
      ]
    },
    {
      "cell_type": "code",
      "source": [
        "# Calculate model_2 metrics\n",
        "mae_2 = mae(y_test, y_preds_2.squeeze()).numpy()\n",
        "mse_2 = mse(y_test, y_preds_2.squeeze()).numpy()\n",
        "mae_2, mse_2"
      ],
      "metadata": {
        "colab": {
          "base_uri": "https://localhost:8080/"
        },
        "id": "OOoqns-1hbqw",
        "outputId": "f052dbc2-3537-4913-bc3f-21f8ae242628"
      },
      "execution_count": 175,
      "outputs": [
        {
          "output_type": "execute_result",
          "data": {
            "text/plain": [
              "(7.4652123, 61.44002)"
            ]
          },
          "metadata": {},
          "execution_count": 175
        }
      ]
    },
    {
      "cell_type": "markdown",
      "source": [
        "**Build `model_3`**\n",
        "\n",
        "This time we'll add an extra dense layer (so now our model will have 2 layers) whilst keeping everything else the same."
      ],
      "metadata": {
        "id": "EnFWE9nigU8t"
      }
    },
    {
      "cell_type": "code",
      "source": [
        "tf.random.set_seed(42)\n",
        "\n",
        "# 1. Create the model\n",
        "model_3 = tf.keras.Sequential([\n",
        "    tf.keras.layers.Dense(100,activation=\"relu\",input_shape=[1],name=\"input_layers\"),# input shape depending of your data\n",
        "    tf.keras.layers.Dense(1,name=\"ouput_layer\")\n",
        "],name=\"Model_3\")\n",
        "\n",
        "# Compile the model\n",
        "model_3.compile(loss= tf.keras.losses.mae,\n",
        "                optimizer=tf.keras.optimizers.Adam(lr=0.0001),\n",
        "                metrics=[\"mae\"])\n",
        "# Fit the model\n",
        "history = model_3.fit(tf.expand_dims(X_train, axis=-1), y_train, epochs=500)"
      ],
      "metadata": {
        "colab": {
          "base_uri": "https://localhost:8080/"
        },
        "id": "nDgvdhqngWxH",
        "outputId": "210a2b03-06c7-40d5-fca9-a033850519be"
      },
      "execution_count": 199,
      "outputs": [
        {
          "output_type": "stream",
          "name": "stderr",
          "text": [
            "WARNING:absl:`lr` is deprecated in Keras optimizer, please use `learning_rate` or use the legacy optimizer, e.g.,tf.keras.optimizers.legacy.Adam.\n"
          ]
        },
        {
          "output_type": "stream",
          "name": "stdout",
          "text": [
            "Epoch 1/500\n",
            "2/2 [==============================] - 1s 19ms/step - loss: 44.8874 - mae: 44.8874\n",
            "Epoch 2/500\n",
            "2/2 [==============================] - 0s 9ms/step - loss: 43.7758 - mae: 43.7758\n",
            "Epoch 3/500\n",
            "2/2 [==============================] - 0s 8ms/step - loss: 42.7282 - mae: 42.7282\n",
            "Epoch 4/500\n",
            "2/2 [==============================] - 0s 9ms/step - loss: 41.6560 - mae: 41.6560\n",
            "Epoch 5/500\n",
            "2/2 [==============================] - 0s 8ms/step - loss: 40.6148 - mae: 40.6148\n",
            "Epoch 6/500\n",
            "2/2 [==============================] - 0s 10ms/step - loss: 39.5661 - mae: 39.5661\n",
            "Epoch 7/500\n",
            "2/2 [==============================] - 0s 9ms/step - loss: 38.5181 - mae: 38.5181\n",
            "Epoch 8/500\n",
            "2/2 [==============================] - 0s 7ms/step - loss: 37.4247 - mae: 37.4247\n",
            "Epoch 9/500\n",
            "2/2 [==============================] - 0s 8ms/step - loss: 36.4207 - mae: 36.4207\n",
            "Epoch 10/500\n",
            "2/2 [==============================] - 0s 8ms/step - loss: 35.4070 - mae: 35.4070\n",
            "Epoch 11/500\n",
            "2/2 [==============================] - 0s 9ms/step - loss: 34.3097 - mae: 34.3097\n",
            "Epoch 12/500\n",
            "2/2 [==============================] - 0s 8ms/step - loss: 33.2964 - mae: 33.2964\n",
            "Epoch 13/500\n",
            "2/2 [==============================] - 0s 9ms/step - loss: 32.2203 - mae: 32.2203\n",
            "Epoch 14/500\n",
            "2/2 [==============================] - 0s 10ms/step - loss: 31.1947 - mae: 31.1947\n",
            "Epoch 15/500\n",
            "2/2 [==============================] - 0s 9ms/step - loss: 30.1758 - mae: 30.1758\n",
            "Epoch 16/500\n",
            "2/2 [==============================] - 0s 8ms/step - loss: 29.1059 - mae: 29.1059\n",
            "Epoch 17/500\n",
            "2/2 [==============================] - 0s 7ms/step - loss: 28.0638 - mae: 28.0638\n",
            "Epoch 18/500\n",
            "2/2 [==============================] - 0s 7ms/step - loss: 27.0172 - mae: 27.0172\n",
            "Epoch 19/500\n",
            "2/2 [==============================] - 0s 8ms/step - loss: 26.0011 - mae: 26.0011\n",
            "Epoch 20/500\n",
            "2/2 [==============================] - 0s 8ms/step - loss: 24.9391 - mae: 24.9391\n",
            "Epoch 21/500\n",
            "2/2 [==============================] - 0s 10ms/step - loss: 23.8995 - mae: 23.8995\n",
            "Epoch 22/500\n",
            "2/2 [==============================] - 0s 8ms/step - loss: 22.8794 - mae: 22.8794\n",
            "Epoch 23/500\n",
            "2/2 [==============================] - 0s 8ms/step - loss: 21.8517 - mae: 21.8517\n",
            "Epoch 24/500\n",
            "2/2 [==============================] - 0s 7ms/step - loss: 20.8020 - mae: 20.8020\n",
            "Epoch 25/500\n",
            "2/2 [==============================] - 0s 7ms/step - loss: 19.7523 - mae: 19.7523\n",
            "Epoch 26/500\n",
            "2/2 [==============================] - 0s 8ms/step - loss: 18.7339 - mae: 18.7339\n",
            "Epoch 27/500\n",
            "2/2 [==============================] - 0s 8ms/step - loss: 17.6596 - mae: 17.6596\n",
            "Epoch 28/500\n",
            "2/2 [==============================] - 0s 9ms/step - loss: 16.6530 - mae: 16.6530\n",
            "Epoch 29/500\n",
            "2/2 [==============================] - 0s 7ms/step - loss: 15.5032 - mae: 15.5032\n",
            "Epoch 30/500\n",
            "2/2 [==============================] - 0s 12ms/step - loss: 14.4077 - mae: 14.4077\n",
            "Epoch 31/500\n",
            "2/2 [==============================] - 0s 9ms/step - loss: 13.4540 - mae: 13.4540\n",
            "Epoch 32/500\n",
            "2/2 [==============================] - 0s 8ms/step - loss: 12.3693 - mae: 12.3693\n",
            "Epoch 33/500\n",
            "2/2 [==============================] - 0s 8ms/step - loss: 11.3134 - mae: 11.3134\n",
            "Epoch 34/500\n",
            "2/2 [==============================] - 0s 9ms/step - loss: 10.3995 - mae: 10.3995\n",
            "Epoch 35/500\n",
            "2/2 [==============================] - 0s 11ms/step - loss: 9.4108 - mae: 9.4108\n",
            "Epoch 36/500\n",
            "2/2 [==============================] - 0s 8ms/step - loss: 8.5626 - mae: 8.5626\n",
            "Epoch 37/500\n",
            "2/2 [==============================] - 0s 8ms/step - loss: 7.7366 - mae: 7.7366\n",
            "Epoch 38/500\n",
            "2/2 [==============================] - 0s 9ms/step - loss: 7.0388 - mae: 7.0388\n",
            "Epoch 39/500\n",
            "2/2 [==============================] - 0s 9ms/step - loss: 6.4967 - mae: 6.4967\n",
            "Epoch 40/500\n",
            "2/2 [==============================] - 0s 8ms/step - loss: 6.0438 - mae: 6.0438\n",
            "Epoch 41/500\n",
            "2/2 [==============================] - 0s 8ms/step - loss: 5.8228 - mae: 5.8228\n",
            "Epoch 42/500\n",
            "2/2 [==============================] - 0s 8ms/step - loss: 5.7461 - mae: 5.7461\n",
            "Epoch 43/500\n",
            "2/2 [==============================] - 0s 6ms/step - loss: 5.5987 - mae: 5.5987\n",
            "Epoch 44/500\n",
            "2/2 [==============================] - 0s 7ms/step - loss: 5.2998 - mae: 5.2998\n",
            "Epoch 45/500\n",
            "2/2 [==============================] - 0s 10ms/step - loss: 4.8377 - mae: 4.8377\n",
            "Epoch 46/500\n",
            "2/2 [==============================] - 0s 8ms/step - loss: 4.4199 - mae: 4.4199\n",
            "Epoch 47/500\n",
            "2/2 [==============================] - 0s 8ms/step - loss: 4.1854 - mae: 4.1854\n",
            "Epoch 48/500\n",
            "2/2 [==============================] - 0s 8ms/step - loss: 4.1415 - mae: 4.1415\n",
            "Epoch 49/500\n",
            "2/2 [==============================] - 0s 6ms/step - loss: 4.1902 - mae: 4.1902\n",
            "Epoch 50/500\n",
            "2/2 [==============================] - 0s 7ms/step - loss: 4.2997 - mae: 4.2997\n",
            "Epoch 51/500\n",
            "2/2 [==============================] - 0s 8ms/step - loss: 4.4153 - mae: 4.4153\n",
            "Epoch 52/500\n",
            "2/2 [==============================] - 0s 8ms/step - loss: 4.4653 - mae: 4.4653\n",
            "Epoch 53/500\n",
            "2/2 [==============================] - 0s 8ms/step - loss: 4.4904 - mae: 4.4904\n",
            "Epoch 54/500\n",
            "2/2 [==============================] - 0s 10ms/step - loss: 4.4642 - mae: 4.4642\n",
            "Epoch 55/500\n",
            "2/2 [==============================] - 0s 8ms/step - loss: 4.4018 - mae: 4.4018\n",
            "Epoch 56/500\n",
            "2/2 [==============================] - 0s 9ms/step - loss: 4.3168 - mae: 4.3168\n",
            "Epoch 57/500\n",
            "2/2 [==============================] - 0s 7ms/step - loss: 4.2619 - mae: 4.2619\n",
            "Epoch 58/500\n",
            "2/2 [==============================] - 0s 9ms/step - loss: 4.2085 - mae: 4.2085\n",
            "Epoch 59/500\n",
            "2/2 [==============================] - 0s 8ms/step - loss: 4.2201 - mae: 4.2201\n",
            "Epoch 60/500\n",
            "2/2 [==============================] - 0s 10ms/step - loss: 4.2034 - mae: 4.2034\n",
            "Epoch 61/500\n",
            "2/2 [==============================] - 0s 9ms/step - loss: 4.2123 - mae: 4.2123\n",
            "Epoch 62/500\n",
            "2/2 [==============================] - 0s 7ms/step - loss: 4.1812 - mae: 4.1812\n",
            "Epoch 63/500\n",
            "2/2 [==============================] - 0s 7ms/step - loss: 4.1444 - mae: 4.1444\n",
            "Epoch 64/500\n",
            "2/2 [==============================] - 0s 7ms/step - loss: 4.1191 - mae: 4.1191\n",
            "Epoch 65/500\n",
            "2/2 [==============================] - 0s 7ms/step - loss: 4.0939 - mae: 4.0939\n",
            "Epoch 66/500\n",
            "2/2 [==============================] - 0s 8ms/step - loss: 4.0741 - mae: 4.0741\n",
            "Epoch 67/500\n",
            "2/2 [==============================] - 0s 8ms/step - loss: 4.0783 - mae: 4.0783\n",
            "Epoch 68/500\n",
            "2/2 [==============================] - 0s 8ms/step - loss: 4.0769 - mae: 4.0769\n",
            "Epoch 69/500\n",
            "2/2 [==============================] - 0s 10ms/step - loss: 4.0690 - mae: 4.0690\n",
            "Epoch 70/500\n",
            "2/2 [==============================] - 0s 10ms/step - loss: 4.0581 - mae: 4.0581\n",
            "Epoch 71/500\n",
            "2/2 [==============================] - 0s 7ms/step - loss: 4.0560 - mae: 4.0560\n",
            "Epoch 72/500\n",
            "2/2 [==============================] - 0s 8ms/step - loss: 4.0474 - mae: 4.0474\n",
            "Epoch 73/500\n",
            "2/2 [==============================] - 0s 9ms/step - loss: 4.0441 - mae: 4.0441\n",
            "Epoch 74/500\n",
            "2/2 [==============================] - 0s 7ms/step - loss: 4.0354 - mae: 4.0354\n",
            "Epoch 75/500\n",
            "2/2 [==============================] - 0s 7ms/step - loss: 4.0259 - mae: 4.0259\n",
            "Epoch 76/500\n",
            "2/2 [==============================] - 0s 13ms/step - loss: 4.0328 - mae: 4.0328\n",
            "Epoch 77/500\n",
            "2/2 [==============================] - 0s 7ms/step - loss: 4.0303 - mae: 4.0303\n",
            "Epoch 78/500\n",
            "2/2 [==============================] - 0s 10ms/step - loss: 4.0617 - mae: 4.0617\n",
            "Epoch 79/500\n",
            "2/2 [==============================] - 0s 10ms/step - loss: 4.0620 - mae: 4.0620\n",
            "Epoch 80/500\n",
            "2/2 [==============================] - 0s 11ms/step - loss: 4.0650 - mae: 4.0650\n",
            "Epoch 81/500\n",
            "2/2 [==============================] - 0s 10ms/step - loss: 4.0680 - mae: 4.0680\n",
            "Epoch 82/500\n",
            "2/2 [==============================] - 0s 8ms/step - loss: 4.0500 - mae: 4.0500\n",
            "Epoch 83/500\n",
            "2/2 [==============================] - 0s 8ms/step - loss: 4.0334 - mae: 4.0334\n",
            "Epoch 84/500\n",
            "2/2 [==============================] - 0s 7ms/step - loss: 4.0119 - mae: 4.0119\n",
            "Epoch 85/500\n",
            "2/2 [==============================] - 0s 7ms/step - loss: 3.9840 - mae: 3.9840\n",
            "Epoch 86/500\n",
            "2/2 [==============================] - 0s 11ms/step - loss: 3.9857 - mae: 3.9857\n",
            "Epoch 87/500\n",
            "2/2 [==============================] - 0s 8ms/step - loss: 3.9636 - mae: 3.9636\n",
            "Epoch 88/500\n",
            "2/2 [==============================] - 0s 9ms/step - loss: 3.9671 - mae: 3.9671\n",
            "Epoch 89/500\n",
            "2/2 [==============================] - 0s 9ms/step - loss: 4.0034 - mae: 4.0034\n",
            "Epoch 90/500\n",
            "2/2 [==============================] - 0s 9ms/step - loss: 4.0489 - mae: 4.0489\n",
            "Epoch 91/500\n",
            "2/2 [==============================] - 0s 12ms/step - loss: 4.0486 - mae: 4.0486\n",
            "Epoch 92/500\n",
            "2/2 [==============================] - 0s 10ms/step - loss: 4.0092 - mae: 4.0092\n",
            "Epoch 93/500\n",
            "2/2 [==============================] - 0s 10ms/step - loss: 3.9797 - mae: 3.9797\n",
            "Epoch 94/500\n",
            "2/2 [==============================] - 0s 10ms/step - loss: 3.9550 - mae: 3.9550\n",
            "Epoch 95/500\n",
            "2/2 [==============================] - 0s 9ms/step - loss: 3.9387 - mae: 3.9387\n",
            "Epoch 96/500\n",
            "2/2 [==============================] - 0s 7ms/step - loss: 3.9676 - mae: 3.9676\n",
            "Epoch 97/500\n",
            "2/2 [==============================] - 0s 8ms/step - loss: 3.9587 - mae: 3.9587\n",
            "Epoch 98/500\n",
            "2/2 [==============================] - 0s 8ms/step - loss: 3.9519 - mae: 3.9519\n",
            "Epoch 99/500\n",
            "2/2 [==============================] - 0s 7ms/step - loss: 3.9431 - mae: 3.9431\n",
            "Epoch 100/500\n",
            "2/2 [==============================] - 0s 8ms/step - loss: 3.9223 - mae: 3.9223\n",
            "Epoch 101/500\n",
            "2/2 [==============================] - 0s 8ms/step - loss: 3.9101 - mae: 3.9101\n",
            "Epoch 102/500\n",
            "2/2 [==============================] - 0s 8ms/step - loss: 3.9072 - mae: 3.9072\n",
            "Epoch 103/500\n",
            "2/2 [==============================] - 0s 8ms/step - loss: 3.9071 - mae: 3.9071\n",
            "Epoch 104/500\n",
            "2/2 [==============================] - 0s 8ms/step - loss: 3.9053 - mae: 3.9053\n",
            "Epoch 105/500\n",
            "2/2 [==============================] - 0s 8ms/step - loss: 3.9110 - mae: 3.9110\n",
            "Epoch 106/500\n",
            "2/2 [==============================] - 0s 12ms/step - loss: 3.9188 - mae: 3.9188\n",
            "Epoch 107/500\n",
            "2/2 [==============================] - 0s 10ms/step - loss: 3.9286 - mae: 3.9286\n",
            "Epoch 108/500\n",
            "2/2 [==============================] - 0s 11ms/step - loss: 3.9344 - mae: 3.9344\n",
            "Epoch 109/500\n",
            "2/2 [==============================] - 0s 8ms/step - loss: 3.9060 - mae: 3.9060\n",
            "Epoch 110/500\n",
            "2/2 [==============================] - 0s 11ms/step - loss: 3.8778 - mae: 3.8778\n",
            "Epoch 111/500\n",
            "2/2 [==============================] - 0s 8ms/step - loss: 3.8634 - mae: 3.8634\n",
            "Epoch 112/500\n",
            "2/2 [==============================] - 0s 12ms/step - loss: 3.8578 - mae: 3.8578\n",
            "Epoch 113/500\n",
            "2/2 [==============================] - 0s 12ms/step - loss: 3.8758 - mae: 3.8758\n",
            "Epoch 114/500\n",
            "2/2 [==============================] - 0s 8ms/step - loss: 3.8616 - mae: 3.8616\n",
            "Epoch 115/500\n",
            "2/2 [==============================] - 0s 7ms/step - loss: 3.8446 - mae: 3.8446\n",
            "Epoch 116/500\n",
            "2/2 [==============================] - 0s 7ms/step - loss: 3.8392 - mae: 3.8392\n",
            "Epoch 117/500\n",
            "2/2 [==============================] - 0s 7ms/step - loss: 3.8324 - mae: 3.8324\n",
            "Epoch 118/500\n",
            "2/2 [==============================] - 0s 10ms/step - loss: 3.8238 - mae: 3.8238\n",
            "Epoch 119/500\n",
            "2/2 [==============================] - 0s 10ms/step - loss: 3.8166 - mae: 3.8166\n",
            "Epoch 120/500\n",
            "2/2 [==============================] - 0s 9ms/step - loss: 3.8118 - mae: 3.8118\n",
            "Epoch 121/500\n",
            "2/2 [==============================] - 0s 9ms/step - loss: 3.8054 - mae: 3.8054\n",
            "Epoch 122/500\n",
            "2/2 [==============================] - 0s 9ms/step - loss: 3.8028 - mae: 3.8028\n",
            "Epoch 123/500\n",
            "2/2 [==============================] - 0s 8ms/step - loss: 3.8244 - mae: 3.8244\n",
            "Epoch 124/500\n",
            "2/2 [==============================] - 0s 11ms/step - loss: 3.8569 - mae: 3.8569\n",
            "Epoch 125/500\n",
            "2/2 [==============================] - 0s 13ms/step - loss: 3.8478 - mae: 3.8478\n",
            "Epoch 126/500\n",
            "2/2 [==============================] - 0s 11ms/step - loss: 3.8138 - mae: 3.8138\n",
            "Epoch 127/500\n",
            "2/2 [==============================] - 0s 10ms/step - loss: 3.7768 - mae: 3.7768\n",
            "Epoch 128/500\n",
            "2/2 [==============================] - 0s 11ms/step - loss: 3.7805 - mae: 3.7805\n",
            "Epoch 129/500\n",
            "2/2 [==============================] - 0s 8ms/step - loss: 3.7774 - mae: 3.7774\n",
            "Epoch 130/500\n",
            "2/2 [==============================] - 0s 8ms/step - loss: 3.8068 - mae: 3.8068\n",
            "Epoch 131/500\n",
            "2/2 [==============================] - 0s 7ms/step - loss: 3.7976 - mae: 3.7976\n",
            "Epoch 132/500\n",
            "2/2 [==============================] - 0s 7ms/step - loss: 3.7863 - mae: 3.7863\n",
            "Epoch 133/500\n",
            "2/2 [==============================] - 0s 15ms/step - loss: 3.7646 - mae: 3.7646\n",
            "Epoch 134/500\n",
            "2/2 [==============================] - 0s 7ms/step - loss: 3.7589 - mae: 3.7589\n",
            "Epoch 135/500\n",
            "2/2 [==============================] - 0s 11ms/step - loss: 3.7442 - mae: 3.7442\n",
            "Epoch 136/500\n",
            "2/2 [==============================] - 0s 8ms/step - loss: 3.7302 - mae: 3.7302\n",
            "Epoch 137/500\n",
            "2/2 [==============================] - 0s 7ms/step - loss: 3.7233 - mae: 3.7233\n",
            "Epoch 138/500\n",
            "2/2 [==============================] - 0s 7ms/step - loss: 3.7365 - mae: 3.7365\n",
            "Epoch 139/500\n",
            "2/2 [==============================] - 0s 8ms/step - loss: 3.7384 - mae: 3.7384\n",
            "Epoch 140/500\n",
            "2/2 [==============================] - 0s 8ms/step - loss: 3.7420 - mae: 3.7420\n",
            "Epoch 141/500\n",
            "2/2 [==============================] - 0s 8ms/step - loss: 3.7421 - mae: 3.7421\n",
            "Epoch 142/500\n",
            "2/2 [==============================] - 0s 8ms/step - loss: 3.7544 - mae: 3.7544\n",
            "Epoch 143/500\n",
            "2/2 [==============================] - 0s 10ms/step - loss: 3.7388 - mae: 3.7388\n",
            "Epoch 144/500\n",
            "2/2 [==============================] - 0s 11ms/step - loss: 3.7080 - mae: 3.7080\n",
            "Epoch 145/500\n",
            "2/2 [==============================] - 0s 8ms/step - loss: 3.7198 - mae: 3.7198\n",
            "Epoch 146/500\n",
            "2/2 [==============================] - 0s 7ms/step - loss: 3.7151 - mae: 3.7151\n",
            "Epoch 147/500\n",
            "2/2 [==============================] - 0s 7ms/step - loss: 3.7253 - mae: 3.7253\n",
            "Epoch 148/500\n",
            "2/2 [==============================] - 0s 11ms/step - loss: 3.7313 - mae: 3.7313\n",
            "Epoch 149/500\n",
            "2/2 [==============================] - 0s 11ms/step - loss: 3.7283 - mae: 3.7283\n",
            "Epoch 150/500\n",
            "2/2 [==============================] - 0s 8ms/step - loss: 3.7234 - mae: 3.7234\n",
            "Epoch 151/500\n",
            "2/2 [==============================] - 0s 8ms/step - loss: 3.7224 - mae: 3.7224\n",
            "Epoch 152/500\n",
            "2/2 [==============================] - 0s 8ms/step - loss: 3.7086 - mae: 3.7086\n",
            "Epoch 153/500\n",
            "2/2 [==============================] - 0s 8ms/step - loss: 3.6909 - mae: 3.6909\n",
            "Epoch 154/500\n",
            "2/2 [==============================] - 0s 10ms/step - loss: 3.6582 - mae: 3.6582\n",
            "Epoch 155/500\n",
            "2/2 [==============================] - 0s 8ms/step - loss: 3.6407 - mae: 3.6407\n",
            "Epoch 156/500\n",
            "2/2 [==============================] - 0s 6ms/step - loss: 3.6254 - mae: 3.6254\n",
            "Epoch 157/500\n",
            "2/2 [==============================] - 0s 7ms/step - loss: 3.6341 - mae: 3.6341\n",
            "Epoch 158/500\n",
            "2/2 [==============================] - 0s 7ms/step - loss: 3.6326 - mae: 3.6326\n",
            "Epoch 159/500\n",
            "2/2 [==============================] - 0s 11ms/step - loss: 3.6465 - mae: 3.6465\n",
            "Epoch 160/500\n",
            "2/2 [==============================] - 0s 13ms/step - loss: 3.6406 - mae: 3.6406\n",
            "Epoch 161/500\n",
            "2/2 [==============================] - 0s 8ms/step - loss: 3.6423 - mae: 3.6423\n",
            "Epoch 162/500\n",
            "2/2 [==============================] - 0s 8ms/step - loss: 3.6156 - mae: 3.6156\n",
            "Epoch 163/500\n",
            "2/2 [==============================] - 0s 8ms/step - loss: 3.6006 - mae: 3.6006\n",
            "Epoch 164/500\n",
            "2/2 [==============================] - 0s 8ms/step - loss: 3.5899 - mae: 3.5899\n",
            "Epoch 165/500\n",
            "2/2 [==============================] - 0s 8ms/step - loss: 3.5778 - mae: 3.5778\n",
            "Epoch 166/500\n",
            "2/2 [==============================] - 0s 8ms/step - loss: 3.5816 - mae: 3.5816\n",
            "Epoch 167/500\n",
            "2/2 [==============================] - 0s 8ms/step - loss: 3.5733 - mae: 3.5733\n",
            "Epoch 168/500\n",
            "2/2 [==============================] - 0s 8ms/step - loss: 3.5795 - mae: 3.5795\n",
            "Epoch 169/500\n",
            "2/2 [==============================] - 0s 13ms/step - loss: 3.5966 - mae: 3.5966\n",
            "Epoch 170/500\n",
            "2/2 [==============================] - 0s 11ms/step - loss: 3.5954 - mae: 3.5954\n",
            "Epoch 171/500\n",
            "2/2 [==============================] - 0s 8ms/step - loss: 3.5889 - mae: 3.5889\n",
            "Epoch 172/500\n",
            "2/2 [==============================] - 0s 9ms/step - loss: 3.5679 - mae: 3.5679\n",
            "Epoch 173/500\n",
            "2/2 [==============================] - 0s 8ms/step - loss: 3.5587 - mae: 3.5587\n",
            "Epoch 174/500\n",
            "2/2 [==============================] - 0s 7ms/step - loss: 3.5494 - mae: 3.5494\n",
            "Epoch 175/500\n",
            "2/2 [==============================] - 0s 9ms/step - loss: 3.5324 - mae: 3.5324\n",
            "Epoch 176/500\n",
            "2/2 [==============================] - 0s 8ms/step - loss: 3.5209 - mae: 3.5209\n",
            "Epoch 177/500\n",
            "2/2 [==============================] - 0s 7ms/step - loss: 3.5351 - mae: 3.5351\n",
            "Epoch 178/500\n",
            "2/2 [==============================] - 0s 7ms/step - loss: 3.5414 - mae: 3.5414\n",
            "Epoch 179/500\n",
            "2/2 [==============================] - 0s 6ms/step - loss: 3.5493 - mae: 3.5493\n",
            "Epoch 180/500\n",
            "2/2 [==============================] - 0s 7ms/step - loss: 3.5526 - mae: 3.5526\n",
            "Epoch 181/500\n",
            "2/2 [==============================] - 0s 6ms/step - loss: 3.5351 - mae: 3.5351\n",
            "Epoch 182/500\n",
            "2/2 [==============================] - 0s 7ms/step - loss: 3.5001 - mae: 3.5001\n",
            "Epoch 183/500\n",
            "2/2 [==============================] - 0s 6ms/step - loss: 3.4781 - mae: 3.4781\n",
            "Epoch 184/500\n",
            "2/2 [==============================] - 0s 6ms/step - loss: 3.4881 - mae: 3.4881\n",
            "Epoch 185/500\n",
            "2/2 [==============================] - 0s 7ms/step - loss: 3.5062 - mae: 3.5062\n",
            "Epoch 186/500\n",
            "2/2 [==============================] - 0s 7ms/step - loss: 3.5510 - mae: 3.5510\n",
            "Epoch 187/500\n",
            "2/2 [==============================] - 0s 6ms/step - loss: 3.5890 - mae: 3.5890\n",
            "Epoch 188/500\n",
            "2/2 [==============================] - 0s 7ms/step - loss: 3.6017 - mae: 3.6017\n",
            "Epoch 189/500\n",
            "2/2 [==============================] - 0s 7ms/step - loss: 3.6021 - mae: 3.6021\n",
            "Epoch 190/500\n",
            "2/2 [==============================] - 0s 7ms/step - loss: 3.5738 - mae: 3.5738\n",
            "Epoch 191/500\n",
            "2/2 [==============================] - 0s 7ms/step - loss: 3.5407 - mae: 3.5407\n",
            "Epoch 192/500\n",
            "2/2 [==============================] - 0s 7ms/step - loss: 3.5303 - mae: 3.5303\n",
            "Epoch 193/500\n",
            "2/2 [==============================] - 0s 6ms/step - loss: 3.5425 - mae: 3.5425\n",
            "Epoch 194/500\n",
            "2/2 [==============================] - 0s 8ms/step - loss: 3.5278 - mae: 3.5278\n",
            "Epoch 195/500\n",
            "2/2 [==============================] - 0s 8ms/step - loss: 3.5086 - mae: 3.5086\n",
            "Epoch 196/500\n",
            "2/2 [==============================] - 0s 6ms/step - loss: 3.4791 - mae: 3.4791\n",
            "Epoch 197/500\n",
            "2/2 [==============================] - 0s 7ms/step - loss: 3.4439 - mae: 3.4439\n",
            "Epoch 198/500\n",
            "2/2 [==============================] - 0s 6ms/step - loss: 3.4140 - mae: 3.4140\n",
            "Epoch 199/500\n",
            "2/2 [==============================] - 0s 7ms/step - loss: 3.3935 - mae: 3.3935\n",
            "Epoch 200/500\n",
            "2/2 [==============================] - 0s 8ms/step - loss: 3.4046 - mae: 3.4046\n",
            "Epoch 201/500\n",
            "2/2 [==============================] - 0s 7ms/step - loss: 3.3947 - mae: 3.3947\n",
            "Epoch 202/500\n",
            "2/2 [==============================] - 0s 8ms/step - loss: 3.3870 - mae: 3.3870\n",
            "Epoch 203/500\n",
            "2/2 [==============================] - 0s 7ms/step - loss: 3.3875 - mae: 3.3875\n",
            "Epoch 204/500\n",
            "2/2 [==============================] - 0s 8ms/step - loss: 3.3941 - mae: 3.3941\n",
            "Epoch 205/500\n",
            "2/2 [==============================] - 0s 9ms/step - loss: 3.4141 - mae: 3.4141\n",
            "Epoch 206/500\n",
            "2/2 [==============================] - 0s 7ms/step - loss: 3.4014 - mae: 3.4014\n",
            "Epoch 207/500\n",
            "2/2 [==============================] - 0s 8ms/step - loss: 3.3804 - mae: 3.3804\n",
            "Epoch 208/500\n",
            "2/2 [==============================] - 0s 7ms/step - loss: 3.3580 - mae: 3.3580\n",
            "Epoch 209/500\n",
            "2/2 [==============================] - 0s 7ms/step - loss: 3.3385 - mae: 3.3385\n",
            "Epoch 210/500\n",
            "2/2 [==============================] - 0s 9ms/step - loss: 3.3247 - mae: 3.3247\n",
            "Epoch 211/500\n",
            "2/2 [==============================] - 0s 9ms/step - loss: 3.3295 - mae: 3.3295\n",
            "Epoch 212/500\n",
            "2/2 [==============================] - 0s 9ms/step - loss: 3.3208 - mae: 3.3208\n",
            "Epoch 213/500\n",
            "2/2 [==============================] - 0s 12ms/step - loss: 3.3251 - mae: 3.3251\n",
            "Epoch 214/500\n",
            "2/2 [==============================] - 0s 11ms/step - loss: 3.3390 - mae: 3.3390\n",
            "Epoch 215/500\n",
            "2/2 [==============================] - 0s 8ms/step - loss: 3.3324 - mae: 3.3324\n",
            "Epoch 216/500\n",
            "2/2 [==============================] - 0s 7ms/step - loss: 3.3259 - mae: 3.3259\n",
            "Epoch 217/500\n",
            "2/2 [==============================] - 0s 11ms/step - loss: 3.3126 - mae: 3.3126\n",
            "Epoch 218/500\n",
            "2/2 [==============================] - 0s 8ms/step - loss: 3.3127 - mae: 3.3127\n",
            "Epoch 219/500\n",
            "2/2 [==============================] - 0s 7ms/step - loss: 3.3197 - mae: 3.3197\n",
            "Epoch 220/500\n",
            "2/2 [==============================] - 0s 7ms/step - loss: 3.3861 - mae: 3.3861\n",
            "Epoch 221/500\n",
            "2/2 [==============================] - 0s 7ms/step - loss: 3.3385 - mae: 3.3385\n",
            "Epoch 222/500\n",
            "2/2 [==============================] - 0s 7ms/step - loss: 3.3128 - mae: 3.3128\n",
            "Epoch 223/500\n",
            "2/2 [==============================] - 0s 7ms/step - loss: 3.2674 - mae: 3.2674\n",
            "Epoch 224/500\n",
            "2/2 [==============================] - 0s 7ms/step - loss: 3.2407 - mae: 3.2407\n",
            "Epoch 225/500\n",
            "2/2 [==============================] - 0s 7ms/step - loss: 3.2394 - mae: 3.2394\n",
            "Epoch 226/500\n",
            "2/2 [==============================] - 0s 7ms/step - loss: 3.2457 - mae: 3.2457\n",
            "Epoch 227/500\n",
            "2/2 [==============================] - 0s 7ms/step - loss: 3.2426 - mae: 3.2426\n",
            "Epoch 228/500\n",
            "2/2 [==============================] - 0s 7ms/step - loss: 3.2412 - mae: 3.2412\n",
            "Epoch 229/500\n",
            "2/2 [==============================] - 0s 7ms/step - loss: 3.2300 - mae: 3.2300\n",
            "Epoch 230/500\n",
            "2/2 [==============================] - 0s 12ms/step - loss: 3.2127 - mae: 3.2127\n",
            "Epoch 231/500\n",
            "2/2 [==============================] - 0s 12ms/step - loss: 3.2009 - mae: 3.2009\n",
            "Epoch 232/500\n",
            "2/2 [==============================] - 0s 9ms/step - loss: 3.1931 - mae: 3.1931\n",
            "Epoch 233/500\n",
            "2/2 [==============================] - 0s 7ms/step - loss: 3.1714 - mae: 3.1714\n",
            "Epoch 234/500\n",
            "2/2 [==============================] - 0s 7ms/step - loss: 3.1688 - mae: 3.1688\n",
            "Epoch 235/500\n",
            "2/2 [==============================] - 0s 12ms/step - loss: 3.1701 - mae: 3.1701\n",
            "Epoch 236/500\n",
            "2/2 [==============================] - 0s 12ms/step - loss: 3.1710 - mae: 3.1710\n",
            "Epoch 237/500\n",
            "2/2 [==============================] - 0s 9ms/step - loss: 3.1591 - mae: 3.1591\n",
            "Epoch 238/500\n",
            "2/2 [==============================] - 0s 8ms/step - loss: 3.1492 - mae: 3.1492\n",
            "Epoch 239/500\n",
            "2/2 [==============================] - 0s 8ms/step - loss: 3.1348 - mae: 3.1348\n",
            "Epoch 240/500\n",
            "2/2 [==============================] - 0s 7ms/step - loss: 3.1326 - mae: 3.1326\n",
            "Epoch 241/500\n",
            "2/2 [==============================] - 0s 10ms/step - loss: 3.1226 - mae: 3.1226\n",
            "Epoch 242/500\n",
            "2/2 [==============================] - 0s 7ms/step - loss: 3.1201 - mae: 3.1201\n",
            "Epoch 243/500\n",
            "2/2 [==============================] - 0s 7ms/step - loss: 3.1175 - mae: 3.1175\n",
            "Epoch 244/500\n",
            "2/2 [==============================] - 0s 7ms/step - loss: 3.1169 - mae: 3.1169\n",
            "Epoch 245/500\n",
            "2/2 [==============================] - 0s 7ms/step - loss: 3.1044 - mae: 3.1044\n",
            "Epoch 246/500\n",
            "2/2 [==============================] - 0s 9ms/step - loss: 3.0922 - mae: 3.0922\n",
            "Epoch 247/500\n",
            "2/2 [==============================] - 0s 7ms/step - loss: 3.1092 - mae: 3.1092\n",
            "Epoch 248/500\n",
            "2/2 [==============================] - 0s 7ms/step - loss: 3.1403 - mae: 3.1403\n",
            "Epoch 249/500\n",
            "2/2 [==============================] - 0s 7ms/step - loss: 3.1435 - mae: 3.1435\n",
            "Epoch 250/500\n",
            "2/2 [==============================] - 0s 7ms/step - loss: 3.1197 - mae: 3.1197\n",
            "Epoch 251/500\n",
            "2/2 [==============================] - 0s 7ms/step - loss: 3.0736 - mae: 3.0736\n",
            "Epoch 252/500\n",
            "2/2 [==============================] - 0s 8ms/step - loss: 3.0540 - mae: 3.0540\n",
            "Epoch 253/500\n",
            "2/2 [==============================] - 0s 7ms/step - loss: 3.0401 - mae: 3.0401\n",
            "Epoch 254/500\n",
            "2/2 [==============================] - 0s 7ms/step - loss: 3.0844 - mae: 3.0844\n",
            "Epoch 255/500\n",
            "2/2 [==============================] - 0s 8ms/step - loss: 3.0987 - mae: 3.0987\n",
            "Epoch 256/500\n",
            "2/2 [==============================] - 0s 8ms/step - loss: 3.0690 - mae: 3.0690\n",
            "Epoch 257/500\n",
            "2/2 [==============================] - 0s 7ms/step - loss: 3.0336 - mae: 3.0336\n",
            "Epoch 258/500\n",
            "2/2 [==============================] - 0s 10ms/step - loss: 3.0435 - mae: 3.0435\n",
            "Epoch 259/500\n",
            "2/2 [==============================] - 0s 9ms/step - loss: 3.0452 - mae: 3.0452\n",
            "Epoch 260/500\n",
            "2/2 [==============================] - 0s 8ms/step - loss: 3.0327 - mae: 3.0327\n",
            "Epoch 261/500\n",
            "2/2 [==============================] - 0s 7ms/step - loss: 2.9885 - mae: 2.9885\n",
            "Epoch 262/500\n",
            "2/2 [==============================] - 0s 7ms/step - loss: 2.9803 - mae: 2.9803\n",
            "Epoch 263/500\n",
            "2/2 [==============================] - 0s 7ms/step - loss: 2.9952 - mae: 2.9952\n",
            "Epoch 264/500\n",
            "2/2 [==============================] - 0s 7ms/step - loss: 3.0178 - mae: 3.0178\n",
            "Epoch 265/500\n",
            "2/2 [==============================] - 0s 8ms/step - loss: 3.0224 - mae: 3.0224\n",
            "Epoch 266/500\n",
            "2/2 [==============================] - 0s 10ms/step - loss: 3.0060 - mae: 3.0060\n",
            "Epoch 267/500\n",
            "2/2 [==============================] - 0s 8ms/step - loss: 2.9855 - mae: 2.9855\n",
            "Epoch 268/500\n",
            "2/2 [==============================] - 0s 8ms/step - loss: 2.9605 - mae: 2.9605\n",
            "Epoch 269/500\n",
            "2/2 [==============================] - 0s 9ms/step - loss: 2.9362 - mae: 2.9362\n",
            "Epoch 270/500\n",
            "2/2 [==============================] - 0s 8ms/step - loss: 2.9171 - mae: 2.9171\n",
            "Epoch 271/500\n",
            "2/2 [==============================] - 0s 11ms/step - loss: 2.9150 - mae: 2.9150\n",
            "Epoch 272/500\n",
            "2/2 [==============================] - 0s 11ms/step - loss: 2.9080 - mae: 2.9080\n",
            "Epoch 273/500\n",
            "2/2 [==============================] - 0s 8ms/step - loss: 2.9038 - mae: 2.9038\n",
            "Epoch 274/500\n",
            "2/2 [==============================] - 0s 7ms/step - loss: 2.8923 - mae: 2.8923\n",
            "Epoch 275/500\n",
            "2/2 [==============================] - 0s 11ms/step - loss: 2.8853 - mae: 2.8853\n",
            "Epoch 276/500\n",
            "2/2 [==============================] - 0s 8ms/step - loss: 2.8978 - mae: 2.8978\n",
            "Epoch 277/500\n",
            "2/2 [==============================] - 0s 11ms/step - loss: 2.8692 - mae: 2.8692\n",
            "Epoch 278/500\n",
            "2/2 [==============================] - 0s 8ms/step - loss: 2.8414 - mae: 2.8414\n",
            "Epoch 279/500\n",
            "2/2 [==============================] - 0s 12ms/step - loss: 2.8329 - mae: 2.8329\n",
            "Epoch 280/500\n",
            "2/2 [==============================] - 0s 8ms/step - loss: 2.8262 - mae: 2.8262\n",
            "Epoch 281/500\n",
            "2/2 [==============================] - 0s 8ms/step - loss: 2.8226 - mae: 2.8226\n",
            "Epoch 282/500\n",
            "2/2 [==============================] - 0s 8ms/step - loss: 2.8119 - mae: 2.8119\n",
            "Epoch 283/500\n",
            "2/2 [==============================] - 0s 8ms/step - loss: 2.8100 - mae: 2.8100\n",
            "Epoch 284/500\n",
            "2/2 [==============================] - 0s 8ms/step - loss: 2.7926 - mae: 2.7926\n",
            "Epoch 285/500\n",
            "2/2 [==============================] - 0s 10ms/step - loss: 2.7884 - mae: 2.7884\n",
            "Epoch 286/500\n",
            "2/2 [==============================] - 0s 7ms/step - loss: 2.7677 - mae: 2.7677\n",
            "Epoch 287/500\n",
            "2/2 [==============================] - 0s 8ms/step - loss: 2.7587 - mae: 2.7587\n",
            "Epoch 288/500\n",
            "2/2 [==============================] - 0s 7ms/step - loss: 2.7630 - mae: 2.7630\n",
            "Epoch 289/500\n",
            "2/2 [==============================] - 0s 7ms/step - loss: 2.7658 - mae: 2.7658\n",
            "Epoch 290/500\n",
            "2/2 [==============================] - 0s 7ms/step - loss: 2.7474 - mae: 2.7474\n",
            "Epoch 291/500\n",
            "2/2 [==============================] - 0s 11ms/step - loss: 2.7348 - mae: 2.7348\n",
            "Epoch 292/500\n",
            "2/2 [==============================] - 0s 8ms/step - loss: 2.6998 - mae: 2.6998\n",
            "Epoch 293/500\n",
            "2/2 [==============================] - 0s 9ms/step - loss: 2.6868 - mae: 2.6868\n",
            "Epoch 294/500\n",
            "2/2 [==============================] - 0s 9ms/step - loss: 2.7056 - mae: 2.7056\n",
            "Epoch 295/500\n",
            "2/2 [==============================] - 0s 9ms/step - loss: 2.6915 - mae: 2.6915\n",
            "Epoch 296/500\n",
            "2/2 [==============================] - 0s 9ms/step - loss: 2.6673 - mae: 2.6673\n",
            "Epoch 297/500\n",
            "2/2 [==============================] - 0s 9ms/step - loss: 2.6986 - mae: 2.6986\n",
            "Epoch 298/500\n",
            "2/2 [==============================] - 0s 8ms/step - loss: 2.6984 - mae: 2.6984\n",
            "Epoch 299/500\n",
            "2/2 [==============================] - 0s 7ms/step - loss: 2.6799 - mae: 2.6799\n",
            "Epoch 300/500\n",
            "2/2 [==============================] - 0s 8ms/step - loss: 2.6413 - mae: 2.6413\n",
            "Epoch 301/500\n",
            "2/2 [==============================] - 0s 8ms/step - loss: 2.6043 - mae: 2.6043\n",
            "Epoch 302/500\n",
            "2/2 [==============================] - 0s 8ms/step - loss: 2.5919 - mae: 2.5919\n",
            "Epoch 303/500\n",
            "2/2 [==============================] - 0s 11ms/step - loss: 2.5780 - mae: 2.5780\n",
            "Epoch 304/500\n",
            "2/2 [==============================] - 0s 9ms/step - loss: 2.5911 - mae: 2.5911\n",
            "Epoch 305/500\n",
            "2/2 [==============================] - 0s 8ms/step - loss: 2.5856 - mae: 2.5856\n",
            "Epoch 306/500\n",
            "2/2 [==============================] - 0s 10ms/step - loss: 2.5630 - mae: 2.5630\n",
            "Epoch 307/500\n",
            "2/2 [==============================] - 0s 10ms/step - loss: 2.5468 - mae: 2.5468\n",
            "Epoch 308/500\n",
            "2/2 [==============================] - 0s 8ms/step - loss: 2.5255 - mae: 2.5255\n",
            "Epoch 309/500\n",
            "2/2 [==============================] - 0s 12ms/step - loss: 2.5199 - mae: 2.5199\n",
            "Epoch 310/500\n",
            "2/2 [==============================] - 0s 8ms/step - loss: 2.5266 - mae: 2.5266\n",
            "Epoch 311/500\n",
            "2/2 [==============================] - 0s 11ms/step - loss: 2.5219 - mae: 2.5219\n",
            "Epoch 312/500\n",
            "2/2 [==============================] - 0s 9ms/step - loss: 2.4990 - mae: 2.4990\n",
            "Epoch 313/500\n",
            "2/2 [==============================] - 0s 8ms/step - loss: 2.4983 - mae: 2.4983\n",
            "Epoch 314/500\n",
            "2/2 [==============================] - 0s 7ms/step - loss: 2.4895 - mae: 2.4895\n",
            "Epoch 315/500\n",
            "2/2 [==============================] - 0s 6ms/step - loss: 2.4843 - mae: 2.4843\n",
            "Epoch 316/500\n",
            "2/2 [==============================] - 0s 10ms/step - loss: 2.4650 - mae: 2.4650\n",
            "Epoch 317/500\n",
            "2/2 [==============================] - 0s 7ms/step - loss: 2.4462 - mae: 2.4462\n",
            "Epoch 318/500\n",
            "2/2 [==============================] - 0s 12ms/step - loss: 2.4531 - mae: 2.4531\n",
            "Epoch 319/500\n",
            "2/2 [==============================] - 0s 12ms/step - loss: 2.4353 - mae: 2.4353\n",
            "Epoch 320/500\n",
            "2/2 [==============================] - 0s 7ms/step - loss: 2.3981 - mae: 2.3981\n",
            "Epoch 321/500\n",
            "2/2 [==============================] - 0s 10ms/step - loss: 2.3914 - mae: 2.3914\n",
            "Epoch 322/500\n",
            "2/2 [==============================] - 0s 9ms/step - loss: 2.3860 - mae: 2.3860\n",
            "Epoch 323/500\n",
            "2/2 [==============================] - 0s 10ms/step - loss: 2.3693 - mae: 2.3693\n",
            "Epoch 324/500\n",
            "2/2 [==============================] - 0s 9ms/step - loss: 2.3580 - mae: 2.3580\n",
            "Epoch 325/500\n",
            "2/2 [==============================] - 0s 8ms/step - loss: 2.3452 - mae: 2.3452\n",
            "Epoch 326/500\n",
            "2/2 [==============================] - 0s 8ms/step - loss: 2.3319 - mae: 2.3319\n",
            "Epoch 327/500\n",
            "2/2 [==============================] - 0s 7ms/step - loss: 2.3155 - mae: 2.3155\n",
            "Epoch 328/500\n",
            "2/2 [==============================] - 0s 7ms/step - loss: 2.2985 - mae: 2.2985\n",
            "Epoch 329/500\n",
            "2/2 [==============================] - 0s 7ms/step - loss: 2.2829 - mae: 2.2829\n",
            "Epoch 330/500\n",
            "2/2 [==============================] - 0s 7ms/step - loss: 2.2668 - mae: 2.2668\n",
            "Epoch 331/500\n",
            "2/2 [==============================] - 0s 7ms/step - loss: 2.2531 - mae: 2.2531\n",
            "Epoch 332/500\n",
            "2/2 [==============================] - 0s 7ms/step - loss: 2.2368 - mae: 2.2368\n",
            "Epoch 333/500\n",
            "2/2 [==============================] - 0s 11ms/step - loss: 2.2183 - mae: 2.2183\n",
            "Epoch 334/500\n",
            "2/2 [==============================] - 0s 7ms/step - loss: 2.2102 - mae: 2.2102\n",
            "Epoch 335/500\n",
            "2/2 [==============================] - 0s 9ms/step - loss: 2.2008 - mae: 2.2008\n",
            "Epoch 336/500\n",
            "2/2 [==============================] - 0s 8ms/step - loss: 2.2016 - mae: 2.2016\n",
            "Epoch 337/500\n",
            "2/2 [==============================] - 0s 9ms/step - loss: 2.1785 - mae: 2.1785\n",
            "Epoch 338/500\n",
            "2/2 [==============================] - 0s 8ms/step - loss: 2.1559 - mae: 2.1559\n",
            "Epoch 339/500\n",
            "2/2 [==============================] - 0s 8ms/step - loss: 2.1462 - mae: 2.1462\n",
            "Epoch 340/500\n",
            "2/2 [==============================] - 0s 8ms/step - loss: 2.1400 - mae: 2.1400\n",
            "Epoch 341/500\n",
            "2/2 [==============================] - 0s 8ms/step - loss: 2.1203 - mae: 2.1203\n",
            "Epoch 342/500\n",
            "2/2 [==============================] - 0s 9ms/step - loss: 2.1105 - mae: 2.1105\n",
            "Epoch 343/500\n",
            "2/2 [==============================] - 0s 8ms/step - loss: 2.1015 - mae: 2.1015\n",
            "Epoch 344/500\n",
            "2/2 [==============================] - 0s 8ms/step - loss: 2.0781 - mae: 2.0781\n",
            "Epoch 345/500\n",
            "2/2 [==============================] - 0s 8ms/step - loss: 2.0807 - mae: 2.0807\n",
            "Epoch 346/500\n",
            "2/2 [==============================] - 0s 7ms/step - loss: 2.1159 - mae: 2.1159\n",
            "Epoch 347/500\n",
            "2/2 [==============================] - 0s 8ms/step - loss: 2.0921 - mae: 2.0921\n",
            "Epoch 348/500\n",
            "2/2 [==============================] - 0s 8ms/step - loss: 2.0450 - mae: 2.0450\n",
            "Epoch 349/500\n",
            "2/2 [==============================] - 0s 8ms/step - loss: 2.0203 - mae: 2.0203\n",
            "Epoch 350/500\n",
            "2/2 [==============================] - 0s 8ms/step - loss: 2.0386 - mae: 2.0386\n",
            "Epoch 351/500\n",
            "2/2 [==============================] - 0s 8ms/step - loss: 2.0479 - mae: 2.0479\n",
            "Epoch 352/500\n",
            "2/2 [==============================] - 0s 8ms/step - loss: 2.0271 - mae: 2.0271\n",
            "Epoch 353/500\n",
            "2/2 [==============================] - 0s 8ms/step - loss: 1.9691 - mae: 1.9691\n",
            "Epoch 354/500\n",
            "2/2 [==============================] - 0s 8ms/step - loss: 1.9747 - mae: 1.9747\n",
            "Epoch 355/500\n",
            "2/2 [==============================] - 0s 11ms/step - loss: 1.9518 - mae: 1.9518\n",
            "Epoch 356/500\n",
            "2/2 [==============================] - 0s 9ms/step - loss: 1.9406 - mae: 1.9406\n",
            "Epoch 357/500\n",
            "2/2 [==============================] - 0s 8ms/step - loss: 1.9137 - mae: 1.9137\n",
            "Epoch 358/500\n",
            "2/2 [==============================] - 0s 8ms/step - loss: 1.8850 - mae: 1.8850\n",
            "Epoch 359/500\n",
            "2/2 [==============================] - 0s 7ms/step - loss: 1.8736 - mae: 1.8736\n",
            "Epoch 360/500\n",
            "2/2 [==============================] - 0s 7ms/step - loss: 1.8544 - mae: 1.8544\n",
            "Epoch 361/500\n",
            "2/2 [==============================] - 0s 10ms/step - loss: 1.8539 - mae: 1.8539\n",
            "Epoch 362/500\n",
            "2/2 [==============================] - 0s 10ms/step - loss: 1.8485 - mae: 1.8485\n",
            "Epoch 363/500\n",
            "2/2 [==============================] - 0s 7ms/step - loss: 1.8411 - mae: 1.8411\n",
            "Epoch 364/500\n",
            "2/2 [==============================] - 0s 7ms/step - loss: 1.8195 - mae: 1.8195\n",
            "Epoch 365/500\n",
            "2/2 [==============================] - 0s 7ms/step - loss: 1.7907 - mae: 1.7907\n",
            "Epoch 366/500\n",
            "2/2 [==============================] - 0s 6ms/step - loss: 1.7767 - mae: 1.7767\n",
            "Epoch 367/500\n",
            "2/2 [==============================] - 0s 8ms/step - loss: 1.7563 - mae: 1.7563\n",
            "Epoch 368/500\n",
            "2/2 [==============================] - 0s 9ms/step - loss: 1.7293 - mae: 1.7293\n",
            "Epoch 369/500\n",
            "2/2 [==============================] - 0s 9ms/step - loss: 1.7100 - mae: 1.7100\n",
            "Epoch 370/500\n",
            "2/2 [==============================] - 0s 7ms/step - loss: 1.7039 - mae: 1.7039\n",
            "Epoch 371/500\n",
            "2/2 [==============================] - 0s 10ms/step - loss: 1.6915 - mae: 1.6915\n",
            "Epoch 372/500\n",
            "2/2 [==============================] - 0s 11ms/step - loss: 1.6683 - mae: 1.6683\n",
            "Epoch 373/500\n",
            "2/2 [==============================] - 0s 10ms/step - loss: 1.6607 - mae: 1.6607\n",
            "Epoch 374/500\n",
            "2/2 [==============================] - 0s 9ms/step - loss: 1.6318 - mae: 1.6318\n",
            "Epoch 375/500\n",
            "2/2 [==============================] - 0s 8ms/step - loss: 1.6155 - mae: 1.6155\n",
            "Epoch 376/500\n",
            "2/2 [==============================] - 0s 8ms/step - loss: 1.6142 - mae: 1.6142\n",
            "Epoch 377/500\n",
            "2/2 [==============================] - 0s 7ms/step - loss: 1.6040 - mae: 1.6040\n",
            "Epoch 378/500\n",
            "2/2 [==============================] - 0s 7ms/step - loss: 1.5909 - mae: 1.5909\n",
            "Epoch 379/500\n",
            "2/2 [==============================] - 0s 7ms/step - loss: 1.5575 - mae: 1.5575\n",
            "Epoch 380/500\n",
            "2/2 [==============================] - 0s 6ms/step - loss: 1.5162 - mae: 1.5162\n",
            "Epoch 381/500\n",
            "2/2 [==============================] - 0s 7ms/step - loss: 1.6141 - mae: 1.6141\n",
            "Epoch 382/500\n",
            "2/2 [==============================] - 0s 9ms/step - loss: 1.5115 - mae: 1.5115\n",
            "Epoch 383/500\n",
            "2/2 [==============================] - 0s 7ms/step - loss: 1.5078 - mae: 1.5078\n",
            "Epoch 384/500\n",
            "2/2 [==============================] - 0s 7ms/step - loss: 1.6048 - mae: 1.6048\n",
            "Epoch 385/500\n",
            "2/2 [==============================] - 0s 7ms/step - loss: 1.6606 - mae: 1.6606\n",
            "Epoch 386/500\n",
            "2/2 [==============================] - 0s 7ms/step - loss: 1.5456 - mae: 1.5456\n",
            "Epoch 387/500\n",
            "2/2 [==============================] - 0s 7ms/step - loss: 1.4273 - mae: 1.4273\n",
            "Epoch 388/500\n",
            "2/2 [==============================] - 0s 8ms/step - loss: 1.4915 - mae: 1.4915\n",
            "Epoch 389/500\n",
            "2/2 [==============================] - 0s 8ms/step - loss: 1.3657 - mae: 1.3657\n",
            "Epoch 390/500\n",
            "2/2 [==============================] - 0s 10ms/step - loss: 1.4473 - mae: 1.4473\n",
            "Epoch 391/500\n",
            "2/2 [==============================] - 0s 11ms/step - loss: 1.6564 - mae: 1.6564\n",
            "Epoch 392/500\n",
            "2/2 [==============================] - 0s 7ms/step - loss: 1.5795 - mae: 1.5795\n",
            "Epoch 393/500\n",
            "2/2 [==============================] - 0s 12ms/step - loss: 1.3385 - mae: 1.3385\n",
            "Epoch 394/500\n",
            "2/2 [==============================] - 0s 10ms/step - loss: 1.4739 - mae: 1.4739\n",
            "Epoch 395/500\n",
            "2/2 [==============================] - 0s 9ms/step - loss: 1.4944 - mae: 1.4944\n",
            "Epoch 396/500\n",
            "2/2 [==============================] - 0s 10ms/step - loss: 1.2892 - mae: 1.2892\n",
            "Epoch 397/500\n",
            "2/2 [==============================] - 0s 7ms/step - loss: 1.5360 - mae: 1.5360\n",
            "Epoch 398/500\n",
            "2/2 [==============================] - 0s 10ms/step - loss: 1.5963 - mae: 1.5963\n",
            "Epoch 399/500\n",
            "2/2 [==============================] - 0s 8ms/step - loss: 1.3946 - mae: 1.3946\n",
            "Epoch 400/500\n",
            "2/2 [==============================] - 0s 6ms/step - loss: 1.2521 - mae: 1.2521\n",
            "Epoch 401/500\n",
            "2/2 [==============================] - 0s 6ms/step - loss: 1.3731 - mae: 1.3731\n",
            "Epoch 402/500\n",
            "2/2 [==============================] - 0s 7ms/step - loss: 1.2162 - mae: 1.2162\n",
            "Epoch 403/500\n",
            "2/2 [==============================] - 0s 9ms/step - loss: 1.2612 - mae: 1.2612\n",
            "Epoch 404/500\n",
            "2/2 [==============================] - 0s 6ms/step - loss: 1.2702 - mae: 1.2702\n",
            "Epoch 405/500\n",
            "2/2 [==============================] - 0s 8ms/step - loss: 1.1795 - mae: 1.1795\n",
            "Epoch 406/500\n",
            "2/2 [==============================] - 0s 8ms/step - loss: 1.1941 - mae: 1.1941\n",
            "Epoch 407/500\n",
            "2/2 [==============================] - 0s 10ms/step - loss: 1.1722 - mae: 1.1722\n",
            "Epoch 408/500\n",
            "2/2 [==============================] - 0s 7ms/step - loss: 1.0802 - mae: 1.0802\n",
            "Epoch 409/500\n",
            "2/2 [==============================] - 0s 7ms/step - loss: 1.0802 - mae: 1.0802\n",
            "Epoch 410/500\n",
            "2/2 [==============================] - 0s 7ms/step - loss: 1.1240 - mae: 1.1240\n",
            "Epoch 411/500\n",
            "2/2 [==============================] - 0s 12ms/step - loss: 1.0835 - mae: 1.0835\n",
            "Epoch 412/500\n",
            "2/2 [==============================] - 0s 12ms/step - loss: 1.0218 - mae: 1.0218\n",
            "Epoch 413/500\n",
            "2/2 [==============================] - 0s 10ms/step - loss: 1.0045 - mae: 1.0045\n",
            "Epoch 414/500\n",
            "2/2 [==============================] - 0s 9ms/step - loss: 0.9939 - mae: 0.9939\n",
            "Epoch 415/500\n",
            "2/2 [==============================] - 0s 9ms/step - loss: 1.0601 - mae: 1.0601\n",
            "Epoch 416/500\n",
            "2/2 [==============================] - 0s 8ms/step - loss: 0.9643 - mae: 0.9643\n",
            "Epoch 417/500\n",
            "2/2 [==============================] - 0s 8ms/step - loss: 0.9678 - mae: 0.9678\n",
            "Epoch 418/500\n",
            "2/2 [==============================] - 0s 11ms/step - loss: 1.0057 - mae: 1.0057\n",
            "Epoch 419/500\n",
            "2/2 [==============================] - 0s 9ms/step - loss: 0.9685 - mae: 0.9685\n",
            "Epoch 420/500\n",
            "2/2 [==============================] - 0s 11ms/step - loss: 1.0209 - mae: 1.0209\n",
            "Epoch 421/500\n",
            "2/2 [==============================] - 0s 9ms/step - loss: 0.9076 - mae: 0.9076\n",
            "Epoch 422/500\n",
            "2/2 [==============================] - 0s 9ms/step - loss: 0.8781 - mae: 0.8781\n",
            "Epoch 423/500\n",
            "2/2 [==============================] - 0s 12ms/step - loss: 0.8503 - mae: 0.8503\n",
            "Epoch 424/500\n",
            "2/2 [==============================] - 0s 10ms/step - loss: 0.8084 - mae: 0.8084\n",
            "Epoch 425/500\n",
            "2/2 [==============================] - 0s 9ms/step - loss: 0.7880 - mae: 0.7880\n",
            "Epoch 426/500\n",
            "2/2 [==============================] - 0s 10ms/step - loss: 0.7648 - mae: 0.7648\n",
            "Epoch 427/500\n",
            "2/2 [==============================] - 0s 7ms/step - loss: 0.7510 - mae: 0.7510\n",
            "Epoch 428/500\n",
            "2/2 [==============================] - 0s 8ms/step - loss: 0.7407 - mae: 0.7407\n",
            "Epoch 429/500\n",
            "2/2 [==============================] - 0s 8ms/step - loss: 0.7578 - mae: 0.7578\n",
            "Epoch 430/500\n",
            "2/2 [==============================] - 0s 7ms/step - loss: 0.7306 - mae: 0.7306\n",
            "Epoch 431/500\n",
            "2/2 [==============================] - 0s 9ms/step - loss: 0.6670 - mae: 0.6670\n",
            "Epoch 432/500\n",
            "2/2 [==============================] - 0s 7ms/step - loss: 0.6758 - mae: 0.6758\n",
            "Epoch 433/500\n",
            "2/2 [==============================] - 0s 7ms/step - loss: 0.6705 - mae: 0.6705\n",
            "Epoch 434/500\n",
            "2/2 [==============================] - 0s 9ms/step - loss: 0.6150 - mae: 0.6150\n",
            "Epoch 435/500\n",
            "2/2 [==============================] - 0s 8ms/step - loss: 0.6307 - mae: 0.6307\n",
            "Epoch 436/500\n",
            "2/2 [==============================] - 0s 9ms/step - loss: 0.5947 - mae: 0.5947\n",
            "Epoch 437/500\n",
            "2/2 [==============================] - 0s 8ms/step - loss: 0.6812 - mae: 0.6812\n",
            "Epoch 438/500\n",
            "2/2 [==============================] - 0s 9ms/step - loss: 0.6412 - mae: 0.6412\n",
            "Epoch 439/500\n",
            "2/2 [==============================] - 0s 9ms/step - loss: 0.6024 - mae: 0.6024\n",
            "Epoch 440/500\n",
            "2/2 [==============================] - 0s 11ms/step - loss: 0.5214 - mae: 0.5214\n",
            "Epoch 441/500\n",
            "2/2 [==============================] - 0s 10ms/step - loss: 0.4937 - mae: 0.4937\n",
            "Epoch 442/500\n",
            "2/2 [==============================] - 0s 10ms/step - loss: 0.4659 - mae: 0.4659\n",
            "Epoch 443/500\n",
            "2/2 [==============================] - 0s 8ms/step - loss: 0.4478 - mae: 0.4478\n",
            "Epoch 444/500\n",
            "2/2 [==============================] - 0s 11ms/step - loss: 0.4222 - mae: 0.4222\n",
            "Epoch 445/500\n",
            "2/2 [==============================] - 0s 11ms/step - loss: 0.4129 - mae: 0.4129\n",
            "Epoch 446/500\n",
            "2/2 [==============================] - 0s 14ms/step - loss: 0.3941 - mae: 0.3941\n",
            "Epoch 447/500\n",
            "2/2 [==============================] - 0s 7ms/step - loss: 0.3690 - mae: 0.3690\n",
            "Epoch 448/500\n",
            "2/2 [==============================] - 0s 8ms/step - loss: 0.3484 - mae: 0.3484\n",
            "Epoch 449/500\n",
            "2/2 [==============================] - 0s 7ms/step - loss: 0.4035 - mae: 0.4035\n",
            "Epoch 450/500\n",
            "2/2 [==============================] - 0s 9ms/step - loss: 0.3433 - mae: 0.3433\n",
            "Epoch 451/500\n",
            "2/2 [==============================] - 0s 9ms/step - loss: 0.3673 - mae: 0.3673\n",
            "Epoch 452/500\n",
            "2/2 [==============================] - 0s 8ms/step - loss: 0.2997 - mae: 0.2997\n",
            "Epoch 453/500\n",
            "2/2 [==============================] - 0s 10ms/step - loss: 0.3264 - mae: 0.3264\n",
            "Epoch 454/500\n",
            "2/2 [==============================] - 0s 9ms/step - loss: 0.2692 - mae: 0.2692\n",
            "Epoch 455/500\n",
            "2/2 [==============================] - 0s 8ms/step - loss: 0.3203 - mae: 0.3203\n",
            "Epoch 456/500\n",
            "2/2 [==============================] - 0s 8ms/step - loss: 0.2616 - mae: 0.2616\n",
            "Epoch 457/500\n",
            "2/2 [==============================] - 0s 9ms/step - loss: 0.2671 - mae: 0.2671\n",
            "Epoch 458/500\n",
            "2/2 [==============================] - 0s 10ms/step - loss: 0.2749 - mae: 0.2749\n",
            "Epoch 459/500\n",
            "2/2 [==============================] - 0s 8ms/step - loss: 0.1827 - mae: 0.1827\n",
            "Epoch 460/500\n",
            "2/2 [==============================] - 0s 7ms/step - loss: 0.2209 - mae: 0.2209\n",
            "Epoch 461/500\n",
            "2/2 [==============================] - 0s 9ms/step - loss: 0.1646 - mae: 0.1646\n",
            "Epoch 462/500\n",
            "2/2 [==============================] - 0s 7ms/step - loss: 0.2269 - mae: 0.2269\n",
            "Epoch 463/500\n",
            "2/2 [==============================] - 0s 7ms/step - loss: 0.2094 - mae: 0.2094\n",
            "Epoch 464/500\n",
            "2/2 [==============================] - 0s 7ms/step - loss: 0.2096 - mae: 0.2096\n",
            "Epoch 465/500\n",
            "2/2 [==============================] - 0s 7ms/step - loss: 0.3973 - mae: 0.3973\n",
            "Epoch 466/500\n",
            "2/2 [==============================] - 0s 7ms/step - loss: 0.2354 - mae: 0.2354\n",
            "Epoch 467/500\n",
            "2/2 [==============================] - 0s 7ms/step - loss: 0.3463 - mae: 0.3463\n",
            "Epoch 468/500\n",
            "2/2 [==============================] - 0s 7ms/step - loss: 0.1232 - mae: 0.1232\n",
            "Epoch 469/500\n",
            "2/2 [==============================] - 0s 8ms/step - loss: 0.2524 - mae: 0.2524\n",
            "Epoch 470/500\n",
            "2/2 [==============================] - 0s 7ms/step - loss: 0.2159 - mae: 0.2159\n",
            "Epoch 471/500\n",
            "2/2 [==============================] - 0s 9ms/step - loss: 0.2659 - mae: 0.2659\n",
            "Epoch 472/500\n",
            "2/2 [==============================] - 0s 7ms/step - loss: 0.2681 - mae: 0.2681\n",
            "Epoch 473/500\n",
            "2/2 [==============================] - 0s 9ms/step - loss: 0.2537 - mae: 0.2537\n",
            "Epoch 474/500\n",
            "2/2 [==============================] - 0s 7ms/step - loss: 0.3348 - mae: 0.3348\n",
            "Epoch 475/500\n",
            "2/2 [==============================] - 0s 9ms/step - loss: 0.4821 - mae: 0.4821\n",
            "Epoch 476/500\n",
            "2/2 [==============================] - 0s 7ms/step - loss: 0.1670 - mae: 0.1670\n",
            "Epoch 477/500\n",
            "2/2 [==============================] - 0s 7ms/step - loss: 0.1249 - mae: 0.1249\n",
            "Epoch 478/500\n",
            "2/2 [==============================] - 0s 10ms/step - loss: 0.2164 - mae: 0.2164\n",
            "Epoch 479/500\n",
            "2/2 [==============================] - 0s 10ms/step - loss: 0.2454 - mae: 0.2454\n",
            "Epoch 480/500\n",
            "2/2 [==============================] - 0s 10ms/step - loss: 0.1693 - mae: 0.1693\n",
            "Epoch 481/500\n",
            "2/2 [==============================] - 0s 8ms/step - loss: 0.3861 - mae: 0.3861\n",
            "Epoch 482/500\n",
            "2/2 [==============================] - 0s 8ms/step - loss: 0.1788 - mae: 0.1788\n",
            "Epoch 483/500\n",
            "2/2 [==============================] - 0s 8ms/step - loss: 0.3865 - mae: 0.3865\n",
            "Epoch 484/500\n",
            "2/2 [==============================] - 0s 8ms/step - loss: 0.2387 - mae: 0.2387\n",
            "Epoch 485/500\n",
            "2/2 [==============================] - 0s 7ms/step - loss: 0.3617 - mae: 0.3617\n",
            "Epoch 486/500\n",
            "2/2 [==============================] - 0s 7ms/step - loss: 0.2590 - mae: 0.2590\n",
            "Epoch 487/500\n",
            "2/2 [==============================] - 0s 8ms/step - loss: 0.3510 - mae: 0.3510\n",
            "Epoch 488/500\n",
            "2/2 [==============================] - 0s 7ms/step - loss: 0.3128 - mae: 0.3128\n",
            "Epoch 489/500\n",
            "2/2 [==============================] - 0s 8ms/step - loss: 0.2172 - mae: 0.2172\n",
            "Epoch 490/500\n",
            "2/2 [==============================] - 0s 8ms/step - loss: 0.1837 - mae: 0.1837\n",
            "Epoch 491/500\n",
            "2/2 [==============================] - 0s 9ms/step - loss: 0.0984 - mae: 0.0984\n",
            "Epoch 492/500\n",
            "2/2 [==============================] - 0s 7ms/step - loss: 0.1442 - mae: 0.1442\n",
            "Epoch 493/500\n",
            "2/2 [==============================] - 0s 8ms/step - loss: 0.1607 - mae: 0.1607\n",
            "Epoch 494/500\n",
            "2/2 [==============================] - 0s 8ms/step - loss: 0.1245 - mae: 0.1245\n",
            "Epoch 495/500\n",
            "2/2 [==============================] - 0s 9ms/step - loss: 0.3737 - mae: 0.3737\n",
            "Epoch 496/500\n",
            "2/2 [==============================] - 0s 7ms/step - loss: 0.2510 - mae: 0.2510\n",
            "Epoch 497/500\n",
            "2/2 [==============================] - 0s 9ms/step - loss: 0.3416 - mae: 0.3416\n",
            "Epoch 498/500\n",
            "2/2 [==============================] - 0s 7ms/step - loss: 0.2995 - mae: 0.2995\n",
            "Epoch 499/500\n",
            "2/2 [==============================] - 0s 10ms/step - loss: 0.1773 - mae: 0.1773\n",
            "Epoch 500/500\n",
            "2/2 [==============================] - 0s 10ms/step - loss: 0.2867 - mae: 0.2867\n"
          ]
        }
      ]
    },
    {
      "cell_type": "code",
      "source": [
        "model_history = pd.DataFrame(history.history)\n",
        "model_history['epoch'] = history.epoch\n",
        "\n",
        "fig, ax = plt.subplots(1, figsize=(8,6))\n",
        "num_epochs = model_history.shape[0]\n",
        "\n",
        "ax.plot(np.arange(0, num_epochs), model_history[\"mae\"],\n",
        "        label=\"Training MAE\")\n",
        "ax.legend()\n",
        "\n",
        "plt.tight_layout()\n",
        "plt.show()"
      ],
      "metadata": {
        "colab": {
          "base_uri": "https://localhost:8080/",
          "height": 508
        },
        "id": "u0liOGecmB3n",
        "outputId": "767a5902-7e58-4b81-95bf-4a458f0f67b0"
      },
      "execution_count": 202,
      "outputs": [
        {
          "output_type": "display_data",
          "data": {
            "text/plain": [
              "<Figure size 800x600 with 1 Axes>"
            ],
            "image/png": "[encoded data removed]"
          },
          "metadata": {}
        }
      ]
    },
    {
      "cell_type": "code",
      "source": [
        "y_preds_3 = model_3.predict(X_test)\n",
        "plot_predictions(predictions=y_preds_3)"
      ],
      "metadata": {
        "colab": {
          "base_uri": "https://localhost:8080/",
          "height": 636
        },
        "id": "qrhTKVOthMAh",
        "outputId": "201d0dd3-9c18-489c-99a3-53fa084a3863"
      },
      "execution_count": 180,
      "outputs": [
        {
          "output_type": "stream",
          "name": "stdout",
          "text": [
            "1/1 [==============================] - 0s 61ms/step\n"
          ]
        },
        {
          "output_type": "display_data",
          "data": {
            "text/plain": [
              "<Figure size 1000x700 with 1 Axes>"
            ],
            "image/png": "[encoded data removed]"
          },
          "metadata": {}
        }
      ]
    },
    {
      "cell_type": "code",
      "source": [
        "# Calculate model_1 metrics\n",
        "mae_3 = mae(y_test, y_preds_3.squeeze()).numpy()\n",
        "mse_3 = mse(y_test, y_preds_3.squeeze()).numpy()\n",
        "mae_3, mse_3"
      ],
      "metadata": {
        "colab": {
          "base_uri": "https://localhost:8080/"
        },
        "id": "_Kw-XYqXhg9s",
        "outputId": "03ce3654-aad6-4cb9-eaa3-d0317af1528c"
      },
      "execution_count": 181,
      "outputs": [
        {
          "output_type": "execute_result",
          "data": {
            "text/plain": [
              "(0.17697906, 0.05297954)"
            ]
          },
          "metadata": {},
          "execution_count": 181
        }
      ]
    },
    {
      "cell_type": "code",
      "source": [
        "print(\"Model 1 Summary:\",mae_1, mse_1)\n",
        "print(\"Model 2 Summary:\",mae_2, mse_2)\n",
        "print(\"Model 3 Summary:\",mae_3, mse_3)"
      ],
      "metadata": {
        "colab": {
          "base_uri": "https://localhost:8080/"
        },
        "id": "pHWmKQz7h_Gs",
        "outputId": "9bf68d3f-7631-4ce9-e95a-125953d0b791"
      },
      "execution_count": 183,
      "outputs": [
        {
          "output_type": "stream",
          "name": "stdout",
          "text": [
            "Model 1 Summary: 8.549457 79.575485\n",
            "Model 2 Summary: 7.4652123 61.44002\n",
            "Model 3 Summary: 0.17697906 0.05297954\n"
          ]
        }
      ]
    },
    {
      "cell_type": "code",
      "source": [
        "# Compare all the models\n",
        "import pandas as pd\n",
        "\n",
        "model_results = [[\"model_1\",mae_1,mse_1],\n",
        "                 [\"model_2\",mae_2,mse_2],\n",
        "                 [\"model_3\",mae_3,mse_3]]\n",
        "\n",
        "all_results = pd.DataFrame(model_results,columns=[\"model\",\"MAE\",\"MSE\"])\n",
        "all_results"
      ],
      "metadata": {
        "colab": {
          "base_uri": "https://localhost:8080/",
          "height": 143
        },
        "id": "ESk-kr0zir9m",
        "outputId": "25d20c08-339d-4302-9adb-b42f67c4a45a"
      },
      "execution_count": 196,
      "outputs": [
        {
          "output_type": "execute_result",
          "data": {
            "text/plain": [
              "     model       MAE        MSE\n",
              "0  model_1  8.549457  79.575485\n",
              "1  model_2  7.465212  61.440022\n",
              "2  model_3  0.176979   0.052980"
            ],
            "text/html": [
              "\n",
              "\n",
              "  <div id=\"df-c02d0747-8017-442c-be13-67341c6c06e8\">\n",
              "    <div class=\"colab-df-container\">\n",
              "      <div>\n",
              "<style scoped>\n",
              "    .dataframe tbody tr th:only-of-type {\n",
              "        vertical-align: middle;\n",
              "    }\n",
              "\n",
              "    .dataframe tbody tr th {\n",
              "        vertical-align: top;\n",
              "    }\n",
              "\n",
              "    .dataframe thead th {\n",
              "        text-align: right;\n",
              "    }\n",
              "</style>\n",
              "<table border=\"1\" class=\"dataframe\">\n",
              "  <thead>\n",
              "    <tr style=\"text-align: right;\">\n",
              "      <th></th>\n",
              "      <th>model</th>\n",
              "      <th>MAE</th>\n",
              "      <th>MSE</th>\n",
              "    </tr>\n",
              "  </thead>\n",
              "  <tbody>\n",
              "    <tr>\n",
              "      <th>0</th>\n",
              "      <td>model_1</td>\n",
              "      <td>8.549457</td>\n",
              "      <td>79.575485</td>\n",
              "    </tr>\n",
              "    <tr>\n",
              "      <th>1</th>\n",
              "      <td>model_2</td>\n",
              "      <td>7.465212</td>\n",
              "      <td>61.440022</td>\n",
              "    </tr>\n",
              "    <tr>\n",
              "      <th>2</th>\n",
              "      <td>model_3</td>\n",
              "      <td>0.176979</td>\n",
              "      <td>0.052980</td>\n",
              "    </tr>\n",
              "  </tbody>\n",
              "</table>\n",
              "</div>\n",
              "      <button class=\"colab-df-convert\" onclick=\"convertToInteractive('df-c02d0747-8017-442c-be13-67341c6c06e8')\"\n",
              "              title=\"Convert this dataframe to an interactive table.\"\n",
              "              style=\"display:none;\">\n",
              "\n",
              "  <svg xmlns=\"http://www.w3.org/2000/svg\" height=\"24px\"viewBox=\"0 0 24 24\"\n",
              "       width=\"24px\">\n",
              "    <path d=\"M0 0h24v24H0V0z\" fill=\"none\"/>\n",
              "    <path d=\"M18.56 5.44l.94 2.06.94-2.06 2.06-.94-2.06-.94-.94-2.06-.94 2.06-2.06.94zm-11 1L8.5 8.5l.94-2.06 2.06-.94-2.06-.94L8.5 2.5l-.94 2.06-2.06.94zm10 10l.94 2.06.94-2.06 2.06-.94-2.06-.94-.94-2.06-.94 2.06-2.06.94z\"/><path d=\"M17.41 7.96l-1.37-1.37c-.4-.4-.92-.59-1.43-.59-.52 0-1.04.2-1.43.59L10.3 9.45l-7.72 7.72c-.78.78-.78 2.05 0 2.83L4 21.41c.39.39.9.59 1.41.59.51 0 1.02-.2 1.41-.59l7.78-7.78 2.81-2.81c.8-.78.8-2.07 0-2.86zM5.41 20L4 18.59l7.72-7.72 1.47 1.35L5.41 20z\"/>\n",
              "  </svg>\n",
              "      </button>\n",
              "\n",
              "\n",
              "\n",
              "    <div id=\"df-66041d24-ea87-403f-a16b-393a1736f9e7\">\n",
              "      <button class=\"colab-df-quickchart\" onclick=\"quickchart('df-66041d24-ea87-403f-a16b-393a1736f9e7')\"\n",
              "              title=\"Suggest charts.\"\n",
              "              style=\"display:none;\">\n",
              "\n",
              "<svg xmlns=\"http://www.w3.org/2000/svg\" height=\"24px\"viewBox=\"0 0 24 24\"\n",
              "     width=\"24px\">\n",
              "    <g>\n",
              "        <path d=\"M19 3H5c-1.1 0-2 .9-2 2v14c0 1.1.9 2 2 2h14c1.1 0 2-.9 2-2V5c0-1.1-.9-2-2-2zM9 17H7v-7h2v7zm4 0h-2V7h2v10zm4 0h-2v-4h2v4z\"/>\n",
              "    </g>\n",
              "</svg>\n",
              "      </button>\n",
              "    </div>\n",
              "\n",
              "<style>\n",
              "  .colab-df-quickchart {\n",
              "    background-color: #E8F0FE;\n",
              "    border: none;\n",
              "    border-radius: 50%;\n",
              "    cursor: pointer;\n",
              "    display: none;\n",
              "    fill: #1967D2;\n",
              "    height: 32px;\n",
              "    padding: 0 0 0 0;\n",
              "    width: 32px;\n",
              "  }\n",
              "\n",
              "  .colab-df-quickchart:hover {\n",
              "    background-color: #E2EBFA;\n",
              "    box-shadow: 0px 1px 2px rgba(60, 64, 67, 0.3), 0px 1px 3px 1px rgba(60, 64, 67, 0.15);\n",
              "    fill: #174EA6;\n",
              "  }\n",
              "\n",
              "  [theme=dark] .colab-df-quickchart {\n",
              "    background-color: #3B4455;\n",
              "    fill: #D2E3FC;\n",
              "  }\n",
              "\n",
              "  [theme=dark] .colab-df-quickchart:hover {\n",
              "    background-color: #434B5C;\n",
              "    box-shadow: 0px 1px 3px 1px rgba(0, 0, 0, 0.15);\n",
              "    filter: drop-shadow(0px 1px 2px rgba(0, 0, 0, 0.3));\n",
              "    fill: #FFFFFF;\n",
              "  }\n",
              "</style>\n",
              "\n",
              "    <script>\n",
              "      async function quickchart(key) {\n",
              "        const containerElement = document.querySelector('#' + key);\n",
              "        const charts = await google.colab.kernel.invokeFunction(\n",
              "            'suggestCharts', [key], {});\n",
              "      }\n",
              "    </script>\n",
              "\n",
              "      <script>\n",
              "\n",
              "function displayQuickchartButton(domScope) {\n",
              "  let quickchartButtonEl =\n",
              "    domScope.querySelector('#df-66041d24-ea87-403f-a16b-393a1736f9e7 button.colab-df-quickchart');\n",
              "  quickchartButtonEl.style.display =\n",
              "    google.colab.kernel.accessAllowed ? 'block' : 'none';\n",
              "}\n",
              "\n",
              "        displayQuickchartButton(document);\n",
              "      </script>\n",
              "      <style>\n",
              "    .colab-df-container {\n",
              "      display:flex;\n",
              "      flex-wrap:wrap;\n",
              "      gap: 12px;\n",
              "    }\n",
              "\n",
              "    .colab-df-convert {\n",
              "      background-color: #E8F0FE;\n",
              "      border: none;\n",
              "      border-radius: 50%;\n",
              "      cursor: pointer;\n",
              "      display: none;\n",
              "      fill: #1967D2;\n",
              "      height: 32px;\n",
              "      padding: 0 0 0 0;\n",
              "      width: 32px;\n",
              "    }\n",
              "\n",
              "    .colab-df-convert:hover {\n",
              "      background-color: #E2EBFA;\n",
              "      box-shadow: 0px 1px 2px rgba(60, 64, 67, 0.3), 0px 1px 3px 1px rgba(60, 64, 67, 0.15);\n",
              "      fill: #174EA6;\n",
              "    }\n",
              "\n",
              "    [theme=dark] .colab-df-convert {\n",
              "      background-color: #3B4455;\n",
              "      fill: #D2E3FC;\n",
              "    }\n",
              "\n",
              "    [theme=dark] .colab-df-convert:hover {\n",
              "      background-color: #434B5C;\n",
              "      box-shadow: 0px 1px 3px 1px rgba(0, 0, 0, 0.15);\n",
              "      filter: drop-shadow(0px 1px 2px rgba(0, 0, 0, 0.3));\n",
              "      fill: #FFFFFF;\n",
              "    }\n",
              "  </style>\n",
              "\n",
              "      <script>\n",
              "        const buttonEl =\n",
              "          document.querySelector('#df-c02d0747-8017-442c-be13-67341c6c06e8 button.colab-df-convert');\n",
              "        buttonEl.style.display =\n",
              "          google.colab.kernel.accessAllowed ? 'block' : 'none';\n",
              "\n",
              "        async function convertToInteractive(key) {\n",
              "          const element = document.querySelector('#df-c02d0747-8017-442c-be13-67341c6c06e8');\n",
              "          const dataTable =\n",
              "            await google.colab.kernel.invokeFunction('convertToInteractive',\n",
              "                                                     [key], {});\n",
              "          if (!dataTable) return;\n",
              "\n",
              "          const docLinkHtml = 'Like what you see? Visit the ' +\n",
              "            '<a target=\"_blank\" href=https://colab.research.google.com/notebooks/data_table.ipynb>data table notebook</a>'\n",
              "            + ' to learn more about interactive tables.';\n",
              "          element.innerHTML = '';\n",
              "          dataTable['output_type'] = 'display_data';\n",
              "          await google.colab.output.renderOutput(dataTable, element);\n",
              "          const docLink = document.createElement('div');\n",
              "          docLink.innerHTML = docLinkHtml;\n",
              "          element.appendChild(docLink);\n",
              "        }\n",
              "      </script>\n",
              "    </div>\n",
              "  </div>\n"
            ]
          },
          "metadata": {},
          "execution_count": 196
        }
      ]
    },
    {
      "cell_type": "code",
      "source": [
        "model_2.summary()"
      ],
      "metadata": {
        "colab": {
          "base_uri": "https://localhost:8080/"
        },
        "id": "s-nMXo9Nj7Lf",
        "outputId": "6d3d1dcf-8035-4368-91cd-0a0ee7db4a10"
      },
      "execution_count": 198,
      "outputs": [
        {
          "output_type": "stream",
          "name": "stdout",
          "text": [
            "Model: \"Model_2\"\n",
            "_________________________________________________________________\n",
            " Layer (type)                Output Shape              Param #   \n",
            "=================================================================\n",
            " input_layers (Dense)        (None, 100)               200       \n",
            "                                                                 \n",
            " ouput_layer (Dense)         (None, 1)                 101       \n",
            "                                                                 \n",
            "=================================================================\n",
            "Total params: 301\n",
            "Trainable params: 301\n",
            "Non-trainable params: 0\n",
            "_________________________________________________________________\n"
          ]
        }
      ]
    },
    {
      "cell_type": "markdown",
      "source": [
        "## Tracking your experiments\n",
        "\n",
        "One really good habbit in machine learning modelling is to track the results of your experiments.\n",
        "\n",
        "And when doing so, it can be tedious if you're running lots of experiments\n",
        "\n",
        "📖 ** Resource:** As you build more models, you'll want to look into using:\n",
        "\n",
        "* TensorBoard a component of the TensorFlow library to help track modelling experiments (we'll see this one later).\n",
        "* Weights  Biases - a tool for tracking all of kinds of machine learning experiments (plugs straight into TensorBoard)"
      ],
      "metadata": {
        "id": "Ao3VUEfBkl42"
      }
    },
    {
      "cell_type": "markdown",
      "source": [
        "## Saving our model\n",
        "\n",
        "Saving our models allow allow us to use them outside of Google Colaab (or wherever they were trained) such as in a web application or mobile app\n",
        "\n",
        "There are two main formats we can save our model\n",
        "1. The SavedModel format\n",
        "2. The HDF5 format"
      ],
      "metadata": {
        "id": "QRgko-BolWaH"
      }
    },
    {
      "cell_type": "code",
      "source": [
        "# Saving our model as saved model\n",
        "model_3.save(\"Best_model_SavedModel_format\")"
      ],
      "metadata": {
        "colab": {
          "base_uri": "https://localhost:8080/"
        },
        "id": "RrS2VkXpkjUH",
        "outputId": "347ff492-0718-420e-d308-69936f0c8be3"
      },
      "execution_count": 206,
      "outputs": [
        {
          "output_type": "stream",
          "name": "stderr",
          "text": [
            "WARNING:absl:Found untraced functions such as _update_step_xla while saving (showing 1 of 1). These functions will not be directly callable after loading.\n"
          ]
        }
      ]
    },
    {
      "cell_type": "code",
      "source": [
        "# Saving our model as HDF model\n",
        "model_3.save(\"Best_model_HDF_format.h5\")"
      ],
      "metadata": {
        "id": "S_CXvvF0nqfH"
      },
      "execution_count": 208,
      "outputs": []
    },
    {
      "cell_type": "markdown",
      "source": [
        "## Loading with a saved model"
      ],
      "metadata": {
        "id": "EAFFkQpPoeFu"
      }
    },
    {
      "cell_type": "code",
      "source": [
        "## Load in the SavedModel format model\n",
        "loaded_savedModel_format = tf.keras.models.load_model(\"/content/Best_model_SavedModel_format\")\n",
        "loaded_savedModel_format.summary()"
      ],
      "metadata": {
        "colab": {
          "base_uri": "https://localhost:8080/"
        },
        "id": "T-v1dUbMoc9D",
        "outputId": "34d064a7-e2be-45d9-8ec3-91d3814ca8c8"
      },
      "execution_count": 210,
      "outputs": [
        {
          "output_type": "stream",
          "name": "stdout",
          "text": [
            "Model: \"Model_3\"\n",
            "_________________________________________________________________\n",
            " Layer (type)                Output Shape              Param #   \n",
            "=================================================================\n",
            " input_layers (Dense)        (None, 100)               200       \n",
            "                                                                 \n",
            " ouput_layer (Dense)         (None, 1)                 101       \n",
            "                                                                 \n",
            "=================================================================\n",
            "Total params: 301\n",
            "Trainable params: 301\n",
            "Non-trainable params: 0\n",
            "_________________________________________________________________\n"
          ]
        }
      ]
    },
    {
      "cell_type": "code",
      "source": [
        "# Compare two models whether they will have the same predictions\n",
        "model_3_preds = model_3.predict(X_test)\n",
        "loaded_savedModel_format_preds = loaded_savedModel_format.predict(X_test)\n",
        "model_3_preds == loaded_savedModel_format_preds"
      ],
      "metadata": {
        "colab": {
          "base_uri": "https://localhost:8080/"
        },
        "id": "oJm1Flx4pCqX",
        "outputId": "51ac62f2-ced3-4592-bd73-d22947a0bd53"
      },
      "execution_count": 211,
      "outputs": [
        {
          "output_type": "stream",
          "name": "stdout",
          "text": [
            "1/1 [==============================] - 0s 76ms/step\n",
            "1/1 [==============================] - 0s 63ms/step\n"
          ]
        },
        {
          "output_type": "execute_result",
          "data": {
            "text/plain": [
              "array([[ True],\n",
              "       [ True],\n",
              "       [ True],\n",
              "       [ True],\n",
              "       [ True],\n",
              "       [ True],\n",
              "       [ True],\n",
              "       [ True],\n",
              "       [ True],\n",
              "       [ True]])"
            ]
          },
          "metadata": {},
          "execution_count": 211
        }
      ]
    },
    {
      "cell_type": "code",
      "source": [
        "# Load in the model using the H5 format\n",
        "loaded_h5_model = tf.keras.models.load_model(\"/content/Best_model_SavedModel_format.h5\")\n",
        "loaded_h5_model.summary()"
      ],
      "metadata": {
        "colab": {
          "base_uri": "https://localhost:8080/"
        },
        "id": "MEQITtr4p6_u",
        "outputId": "23a0f6a9-cd68-4474-c218-8352a7e8e1e4"
      },
      "execution_count": 212,
      "outputs": [
        {
          "output_type": "stream",
          "name": "stdout",
          "text": [
            "Model: \"Model_3\"\n",
            "_________________________________________________________________\n",
            " Layer (type)                Output Shape              Param #   \n",
            "=================================================================\n",
            " input_layers (Dense)        (None, 100)               200       \n",
            "                                                                 \n",
            " ouput_layer (Dense)         (None, 1)                 101       \n",
            "                                                                 \n",
            "=================================================================\n",
            "Total params: 301\n",
            "Trainable params: 301\n",
            "Non-trainable params: 0\n",
            "_________________________________________________________________\n"
          ]
        }
      ]
    },
    {
      "cell_type": "code",
      "source": [
        "# Compare two models whether they will have the same predictions\n",
        "model_3_preds = model_3.predict(X_test)\n",
        "loaded_h5_model_preds = loaded_h5_model.predict(X_test)\n",
        "model_3_preds == loaded_h5_model_preds"
      ],
      "metadata": {
        "colab": {
          "base_uri": "https://localhost:8080/"
        },
        "id": "TQfPdSFtqH_p",
        "outputId": "d58ef1a3-b835-4691-9e52-35e7ea24f372"
      },
      "execution_count": 214,
      "outputs": [
        {
          "output_type": "stream",
          "name": "stdout",
          "text": [
            "1/1 [==============================] - 0s 40ms/step\n",
            "1/1 [==============================] - 0s 102ms/step\n"
          ]
        },
        {
          "output_type": "execute_result",
          "data": {
            "text/plain": [
              "array([[ True],\n",
              "       [ True],\n",
              "       [ True],\n",
              "       [ True],\n",
              "       [ True],\n",
              "       [ True],\n",
              "       [ True],\n",
              "       [ True],\n",
              "       [ True],\n",
              "       [ True]])"
            ]
          },
          "metadata": {},
          "execution_count": 214
        }
      ]
    },
    {
      "cell_type": "markdown",
      "source": [
        "## Download a model (or any other file) from Google Colab\n",
        "\n",
        "1. You can go to the \"files\" tab and right clik and click download\n",
        "2. You can save it to Google Drive by connecting Google Drive and copying it"
      ],
      "metadata": {
        "id": "GdEs-gtqqnn3"
      }
    },
    {
      "cell_type": "code",
      "source": [
        "# Download a file from Google Colab\n",
        "from google.colab import files\n",
        "files.download (\"/content/Best_model_SavedModel_format.h5\")"
      ],
      "metadata": {
        "id": "3ZFV-n61qnVw",
        "outputId": "d1c01393-c996-48cb-aee1-b4723a29daf1",
        "colab": {
          "base_uri": "https://localhost:8080/",
          "height": 17
        }
      },
      "execution_count": 216,
      "outputs": [
        {
          "output_type": "display_data",
          "data": {
            "text/plain": [
              "<IPython.core.display.Javascript object>"
            ],
            "application/javascript": [
              "\n",
              "    async function download(id, filename, size) {\n",
              "      if (!google.colab.kernel.accessAllowed) {\n",
              "        return;\n",
              "      }\n",
              "      const div = document.createElement('div');\n",
              "      const label = document.createElement('label');\n",
              "      label.textContent = `Downloading \"${filename}\": `;\n",
              "      div.appendChild(label);\n",
              "      const progress = document.createElement('progress');\n",
              "      progress.max = size;\n",
              "      div.appendChild(progress);\n",
              "      document.body.appendChild(div);\n",
              "\n",
              "      const buffers = [];\n",
              "      let downloaded = 0;\n",
              "\n",
              "      const channel = await google.colab.kernel.comms.open(id);\n",
              "      // Send a message to notify the kernel that we're ready.\n",
              "      channel.send({})\n",
              "\n",
              "      for await (const message of channel.messages) {\n",
              "        // Send a message to notify the kernel that we're ready.\n",
              "        channel.send({})\n",
              "        if (message.buffers) {\n",
              "          for (const buffer of message.buffers) {\n",
              "            buffers.push(buffer);\n",
              "            downloaded += buffer.byteLength;\n",
              "            progress.value = downloaded;\n",
              "          }\n",
              "        }\n",
              "      }\n",
              "      const blob = new Blob(buffers, {type: 'application/binary'});\n",
              "      const a = document.createElement('a');\n",
              "      a.href = window.URL.createObjectURL(blob);\n",
              "      a.download = filename;\n",
              "      div.appendChild(a);\n",
              "      a.click();\n",
              "      div.remove();\n",
              "    }\n",
              "  "
            ]
          },
          "metadata": {}
        },
        {
          "output_type": "display_data",
          "data": {
            "text/plain": [
              "<IPython.core.display.Javascript object>"
            ],
            "application/javascript": [
              "download(\"download_d69e5292-0e91-4448-81b4-174f6d209bed\", \"Best_model_SavedModel_format.h5\", 28248)"
            ]
          },
          "metadata": {}
        }
      ]
    },
    {
      "cell_type": "code",
      "source": [
        "# Save file to Gdrive\n",
        "!cp /content/Best_model_SavedModel_format.h5 /content/drive/MyDrive/Others"
      ],
      "metadata": {
        "id": "JVOwQXrgrjNl"
      },
      "execution_count": 217,
      "outputs": []
    },
    {
      "cell_type": "code",
      "source": [
        "!ls /content/drive/MyDrive/Others"
      ],
      "metadata": {
        "id": "w62uC2xgrvBi",
        "outputId": "6a693f4f-1892-4f50-ea57-772d69b09b22",
        "colab": {
          "base_uri": "https://localhost:8080/"
        }
      },
      "execution_count": 218,
      "outputs": [
        {
          "output_type": "stream",
          "name": "stdout",
          "text": [
            " 4.mp4\t\t\t\t   KTP.pdf\n",
            " 5.mp4\t\t\t\t   NPWP.pdf\n",
            " Best_model_SavedModel_format.h5   Pencapaian.JPG\n",
            " CIMG1975.JPG\t\t\t  'RK Mentee 2021_mixdown.wav'\n",
            " Final.m4a\t\t\t  'RK Mentee.mp4'\n",
            " Gaji.pdf\t\t\t  'SK GIS.pdf'\n",
            "'Getting started.pdf'\t\t  'SURAT PERJANJIAN PINJAMAN UANG.doc'\n",
            " Ijazah.pdf\t\t\t  'SURAT PERJANJIAN PINJAMAN UANG.docx'\n",
            " IMG_5018.JPG\t\t\t  'SURAT PERJANJIAN PINJAMAN UANG.gdoc'\n",
            " IMG_5019.JPG\t\t\t  'Surat Referensi Kerja.pdf'\n",
            " IMG_5020.JPG\t\t\t   Transkrip.pdf\n",
            " IMG_5021.JPG\t\t\t   warrior_samurai_hd_samurai.jpg\n",
            " IMG_5023.JPG\n"
          ]
        }
      ]
    }
  ]
}