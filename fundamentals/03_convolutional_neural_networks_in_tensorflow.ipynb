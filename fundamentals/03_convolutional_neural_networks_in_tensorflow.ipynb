{
  "nbformat": 4,
  "nbformat_minor": 0,
  "metadata": {
    "colab": {
      "provenance": [],
      "authorship_tag": "ABX9TyNiH7CRIl+xpd3Yc/H++h6e",
      "include_colab_link": true
    },
    "kernelspec": {
      "name": "python3",
      "display_name": "Python 3"
    },
    "language_info": {
      "name": "python"
    }
  },
  "cells": [
    {
      "cell_type": "markdown",
      "metadata": {
        "id": "view-in-github",
        "colab_type": "text"
      },
      "source": [
        "<a href=\"https://colab.research.google.com/github/simongiando/deep-learning/blob/main/fundamentals/03_convolutional_neural_networks_in_tensorflow.ipynb\" target=\"_parent\"><img src=\"https://colab.research.google.com/assets/colab-badge.svg\" alt=\"Open In Colab\"/></a>"
      ]
    },
    {
      "cell_type": "markdown",
      "source": [
        "# 03. Convolutional Neural Networks and Computer Vision with TensorFlow\n",
        "\n",
        "So far we've covered the basics of TensorFlow and built a handful of models to work across different problems.\n",
        "\n",
        "Now we're going to get specific and see how a special kind of neural network, [convolutional neural networks (CNNs)](https://en.wikipedia.org/wiki/Convolutional_neural_network) can be used for computer vision (detecting patterns in visual data).\n",
        "\n",
        "> 🔑 **Note:** In deep learning, many different kinds of model architectures can be used for different problems. For example, you could use a convolutional neural network for making predictions on image data and/or text data. However, in practice some architectures typically work better than others.\n",
        "\n",
        "For example, you might want to:\n",
        "* Classify whether a picture of food contains pizza 🍕 or steak 🥩 (we're going to do this)\n",
        "* Detect whether or not an object appears in an image (e.g. did a specific car pass through a security camera?)\n",
        "\n",
        "In this notebook, we're going to follow the TensorFlow modelling workflow we've been following so far whilst learning about how to build and use CNNs.\n",
        "\n",
        "## What we're going to cover\n",
        "\n",
        "Specifically, we're going to go through the follow with TensorFlow:\n",
        "\n",
        "- Getting a dataset to work with\n",
        "- Architecture of a convolutional neural network\n",
        "- A quick end-to-end example (what we're working towards)\n",
        "- Steps in modelling for binary image classification with CNNs\n",
        "  - Becoming one with the data\n",
        "  - Preparing data for modelling\n",
        "  - Creating a CNN model (starting with a baseline)\n",
        "  - Fitting a model (getting it to find patterns in our data)\n",
        "  - Evaluating a model\n",
        "  - Improving a model\n",
        "  - Making a prediction with a trained model\n",
        "- Steps in modelling for multi-class image classification with CNNs\n",
        " - Same as above (but this time with a different dataset)\n",
        "\n",
        "## How you can use this notebook\n",
        "\n",
        "You can read through the descriptions and the code (it should all run, except for the cells which error on purpose), but there's a better option.\n",
        "\n",
        "Write all of the code yourself.\n",
        "\n",
        "Yes. I'm serious. Create a new notebook, and rewrite each line by yourself. Investigate it, see if you can break it, why does it break?\n",
        "\n",
        "You don't have to write the text descriptions but writing the code yourself is a great way to get hands-on experience.\n",
        "\n",
        "Don't worry if you make mistakes, we all do. The way to get better and make less mistakes is to **write more code**."
      ],
      "metadata": {
        "id": "sqT0vQyWhHzN"
      }
    },
    {
      "cell_type": "code",
      "execution_count": null,
      "metadata": {
        "id": "Y53wqsqOhGDv"
      },
      "outputs": [],
      "source": []
    }
  ]
}